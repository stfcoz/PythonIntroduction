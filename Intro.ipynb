{
 "cells": [
  {
   "cell_type": "markdown",
   "id": "0b72986f",
   "metadata": {},
   "source": [
    "# Introduction to Python"
   ]
  },
  {
   "cell_type": "markdown",
   "id": "b166045e",
   "metadata": {},
   "source": [
    "Welcome to RAL's introductory course on Python, a coding language used by amateurs and experts alike across all fields of physics.  We'll guide you through the fundamentals of Python and some of its basic functions with some simple exercises.  If you're feeling confident, several challenges can be found at the end of this notebook."
   ]
  },
  {
   "cell_type": "markdown",
   "id": "7a825f31",
   "metadata": {},
   "source": [
    "## 1. Getting started"
   ]
  },
  {
   "cell_type": "markdown",
   "id": "0803e346",
   "metadata": {},
   "source": [
    "### 1.1 Code cells"
   ]
  },
  {
   "cell_type": "markdown",
   "id": "925e05e6",
   "metadata": {},
   "source": [
    "We can't do much coding if we can't type anywhere!  Below this paragraph is a *code cell*, where Python code can be entered.  It's currently occupied by a small line of code, but you can see the result of running this code by holding the *shift* key on your keyboard and pressing *enter*."
   ]
  },
  {
   "cell_type": "code",
   "execution_count": 87,
   "id": "86209404",
   "metadata": {},
   "outputs": [
    {
     "name": "stdout",
     "output_type": "stream",
     "text": [
      "Welcome to Python!\n"
     ]
    }
   ],
   "source": [
    "print(\"Welcome to Python!\")"
   ]
  },
  {
   "cell_type": "markdown",
   "id": "adf86b5a",
   "metadata": {},
   "source": [
    "Congratulations - you've just executed your first Python instruction!  Now run the below code cells."
   ]
  },
  {
   "cell_type": "code",
   "execution_count": 88,
   "id": "7cf8f8b1",
   "metadata": {},
   "outputs": [],
   "source": [
    "a = 3"
   ]
  },
  {
   "cell_type": "code",
   "execution_count": 89,
   "id": "3aec6209",
   "metadata": {},
   "outputs": [],
   "source": [
    "b = 2*a"
   ]
  },
  {
   "cell_type": "code",
   "execution_count": 90,
   "id": "58e8646d",
   "metadata": {},
   "outputs": [
    {
     "name": "stdout",
     "output_type": "stream",
     "text": [
      "6\n"
     ]
    }
   ],
   "source": [
    "print(b)"
   ]
  },
  {
   "cell_type": "code",
   "execution_count": 91,
   "id": "7422949f",
   "metadata": {},
   "outputs": [
    {
     "data": {
      "text/plain": [
       "int"
      ]
     },
     "execution_count": 91,
     "metadata": {},
     "output_type": "execute_result"
    }
   ],
   "source": [
    "type(b)"
   ]
  },
  {
   "cell_type": "code",
   "execution_count": 92,
   "id": "f59d73d4",
   "metadata": {},
   "outputs": [
    {
     "data": {
      "text/plain": [
       "18"
      ]
     },
     "execution_count": 92,
     "metadata": {},
     "output_type": "execute_result"
    }
   ],
   "source": [
    "a*b"
   ]
  },
  {
   "cell_type": "code",
   "execution_count": 93,
   "id": "5c3142f2",
   "metadata": {},
   "outputs": [],
   "source": [
    "b = 'beep'"
   ]
  },
  {
   "cell_type": "code",
   "execution_count": 94,
   "id": "4bb1186a",
   "metadata": {},
   "outputs": [
    {
     "data": {
      "text/plain": [
       "str"
      ]
     },
     "execution_count": 94,
     "metadata": {},
     "output_type": "execute_result"
    }
   ],
   "source": [
    "type(b)"
   ]
  },
  {
   "cell_type": "markdown",
   "id": "e442a956",
   "metadata": {},
   "source": [
    "What we have done is define two variables *a* and *b* and determined what data type they both are.  Let's discuss data types further."
   ]
  },
  {
   "cell_type": "markdown",
   "id": "d05aceee",
   "metadata": {},
   "source": [
    "### 1.2 Data types & operators"
   ]
  },
  {
   "cell_type": "markdown",
   "id": "9846509f",
   "metadata": {},
   "source": [
    "### 1.2.1 Numerical data types"
   ]
  },
  {
   "cell_type": "markdown",
   "id": "ab60b652",
   "metadata": {},
   "source": [
    "There are several different data types used in Python, each with their own properties and affiliations.  Let's start with *integer variables*, otherwise known as *integers* or *ints*.  Like the integers in mathematics, they are positive or negative whole numbers. Below are some integer variables."
   ]
  },
  {
   "cell_type": "code",
   "execution_count": 95,
   "id": "47a3c3e0",
   "metadata": {},
   "outputs": [],
   "source": [
    "1 + 1\n",
    "a = 4"
   ]
  },
  {
   "cell_type": "markdown",
   "id": "0b2f60ab",
   "metadata": {},
   "source": [
    "*Floating-point numbers* or *floats* are real numbers with floating point representation; that is, decimal points.  You may see the character *e* or *E* appear within a float to designate orders of magnitude.  Below are some floats."
   ]
  },
  {
   "cell_type": "code",
   "execution_count": 96,
   "id": "454506b5",
   "metadata": {},
   "outputs": [],
   "source": [
    "b = 2.1\n",
    "c = 4E-7"
   ]
  },
  {
   "cell_type": "markdown",
   "id": "9580ea3e",
   "metadata": {},
   "source": [
    "*Complex numbers* are numbers that contain a real component and an imaginary component - in mathematics, an imaginary number is a multiple of the number *i*, which is the square root of -1 and is not seen in the macroscopic world you're used to.  Below are some complex numbers, with their real and imaginary values obtained separately.  Note that *j* rather than *i* is used to represent the imaginary number *i*."
   ]
  },
  {
   "cell_type": "code",
   "execution_count": 97,
   "id": "1fc8e6bc",
   "metadata": {},
   "outputs": [
    {
     "name": "stdout",
     "output_type": "stream",
     "text": [
      "1.5\n",
      "0.5\n"
     ]
    }
   ],
   "source": [
    "d = 1.5 + 0.5j\n",
    "print(d.real)\n",
    "print(d.imag)"
   ]
  },
  {
   "cell_type": "markdown",
   "id": "143530be",
   "metadata": {},
   "source": [
    "*Booleans* are not really numbers or groups of numbers at all.  They can either be *True* or *False* and are denoted by the class *bool* when we determine their type.  An example of a boolean is below."
   ]
  },
  {
   "cell_type": "code",
   "execution_count": 98,
   "id": "12aa420d",
   "metadata": {},
   "outputs": [
    {
     "name": "stdout",
     "output_type": "stream",
     "text": [
      "True\n"
     ]
    },
    {
     "data": {
      "text/plain": [
       "bool"
      ]
     },
     "execution_count": 98,
     "metadata": {},
     "output_type": "execute_result"
    }
   ],
   "source": [
    "test = (4 < 7)\n",
    "print(test)\n",
    "type(test)"
   ]
  },
  {
   "cell_type": "markdown",
   "id": "02e996be",
   "metadata": {},
   "source": [
    "### Sequenced data types"
   ]
  },
  {
   "cell_type": "markdown",
   "id": "85dda6d2",
   "metadata": {},
   "source": [
    "A *string* is a collection of one or more unicode characters between two ' or \" marks, or even '''.  In fact, there is no character data type in Python; a character would simply be a string of length 1.  Examples of strings are below."
   ]
  },
  {
   "cell_type": "code",
   "execution_count": 99,
   "id": "2c0d5d35",
   "metadata": {},
   "outputs": [
    {
     "data": {
      "text/plain": [
       "'Welcome to Python!'"
      ]
     },
     "execution_count": 99,
     "metadata": {},
     "output_type": "execute_result"
    }
   ],
   "source": [
    "'Beep'\n",
    "\"Welcome to Python!\""
   ]
  },
  {
   "cell_type": "markdown",
   "id": "b7630fb3",
   "metadata": {},
   "source": [
    "*Lists* are similar to strings, except the items in a list do not need to be of the same type. They are created by placing the sequence of characters between two square brackets.  Examples of lists are below."
   ]
  },
  {
   "cell_type": "code",
   "execution_count": 100,
   "id": "f152a4dc",
   "metadata": {},
   "outputs": [],
   "source": [
    "[] # This is an empty list\n",
    "L = [1,2,3,4,5]"
   ]
  },
  {
   "cell_type": "markdown",
   "id": "d682f212",
   "metadata": {},
   "source": [
    "You may have noticed that the words after the dash didn't interfere with our code.  This is because writing anything after a dash means it is essentially ignored by Python.  This is very useful for annotating your code."
   ]
  },
  {
   "cell_type": "markdown",
   "id": "9fe18152",
   "metadata": {},
   "source": [
    "A useful skill is to be able to access elements of a list, as well as 'slicing' the list between two elements.  See how this is done below."
   ]
  },
  {
   "cell_type": "code",
   "execution_count": 103,
   "id": "8b334d44",
   "metadata": {},
   "outputs": [
    {
     "name": "stdout",
     "output_type": "stream",
     "text": [
      "1\n",
      "2\n",
      "[3, 4]\n",
      "[4, 5]\n"
     ]
    }
   ],
   "source": [
    "print(L[0])\n",
    "print(L[1])\n",
    "print(L[2:4])\n",
    "print(L[3:])"
   ]
  },
  {
   "cell_type": "markdown",
   "id": "1b8df76b",
   "metadata": {},
   "source": [
    "*Tuples* are similar to lists, though the only difference is that they are immutable, meaning they cannot be changed after they are created.  An example of a tuple is below."
   ]
  },
  {
   "cell_type": "code",
   "execution_count": 106,
   "id": "b323343f",
   "metadata": {},
   "outputs": [
    {
     "name": "stdout",
     "output_type": "stream",
     "text": [
      "1\n",
      "Surprise!\n"
     ]
    }
   ],
   "source": [
    "t = 1, 2, 3, 'Surprise!'\n",
    "print(t[0])\n",
    "print(t[3])"
   ]
  },
  {
   "cell_type": "markdown",
   "id": "284ca0ff",
   "metadata": {},
   "source": [
    "### Operators"
   ]
  },
  {
   "cell_type": "code",
   "execution_count": null,
   "id": "f37f75b2",
   "metadata": {},
   "outputs": [],
   "source": []
  }
 ],
 "metadata": {
  "kernelspec": {
   "display_name": "Python 3 (ipykernel)",
   "language": "python",
   "name": "python3"
  },
  "language_info": {
   "codemirror_mode": {
    "name": "ipython",
    "version": 3
   },
   "file_extension": ".py",
   "mimetype": "text/x-python",
   "name": "python",
   "nbconvert_exporter": "python",
   "pygments_lexer": "ipython3",
   "version": "3.7.6"
  }
 },
 "nbformat": 4,
 "nbformat_minor": 5
}
