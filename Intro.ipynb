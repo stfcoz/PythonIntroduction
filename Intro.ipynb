{
 "cells": [
  {
   "cell_type": "markdown",
   "id": "0b72986f",
   "metadata": {},
   "source": [
    "# Introduction to Python <a name=\"0.\"></a>"
   ]
  },
  {
   "cell_type": "markdown",
   "id": "b166045e",
   "metadata": {},
   "source": [
    "Welcome to RAL's introductory course on Python, a coding language used by amateurs and experts alike across all fields of physics.  We'll guide you through the fundamentals of Python and some of its basic functions with some simple exercises."
   ]
  },
  {
   "cell_type": "markdown",
   "id": "def0ff15",
   "metadata": {},
   "source": [
    "Contents:\n",
    "- [**Getting started**](#1.)\n",
    "  - [What is Python?](#1.1)\n",
    "  - [Jupyter notebooks](#1.2)\n",
    "  - [Code cells](#1.3)\n",
    "- [Data types](#2.1)\n",
    "  - [Numerical data types](#2.1.1)\n",
    "  - [Sequenced data types](#2.1.2)\n",
    "  - [Booleans](#2.1.3)\n",
    "- [Operators](#2.2)\n",
    "  - [Arithmetic operators](#2.2.1)\n",
    "  - [Comparison operators](#2.2.2)\n",
    "- [Basic expressions](#2.3)\n",
    "- [Control structures](#2.4)\n",
    "  - [`while` loops](#2.4.1)\n",
    "  - [`for` loops](#2.4.2)\n",
    "- [`if`, `else` and `elif` conditions](#2.5)\n",
    "  - [`if` condition](#2.5.1)\n",
    "  - [`if else` condition](#2.5.2)\n",
    "  - [Ladders and `elif` conditions](#2.5.3)\n",
    "- [User-defined functions](#2.6)\n",
    "- [Generators](#2.7)\n",
    "- [Common error types](#2.8)\n",
    "- [Aside: LaTeX script](#3.)\n",
    "- [Where to next?](#4.)"
   ]
  },
  {
   "cell_type": "markdown",
   "id": "7a825f31",
   "metadata": {},
   "source": [
    "# 1. Getting started <a name=\"1.\"></a>"
   ]
  },
  {
   "cell_type": "markdown",
   "id": "6e9f3248",
   "metadata": {},
   "source": [
    "## 1.1 What is Python? <a name=\"1.1\"></a>\n",
    "\n",
    "<hr style=\"border:2px solid gray\">"
   ]
  },
  {
   "cell_type": "markdown",
   "id": "73ce73a9",
   "metadata": {},
   "source": [
    "A few things before we get going:\n",
    "- Words in ***bold italic*** are words we are defining for the first time\n",
    "- Words in *italic* are important so have been highlighted to stand out\n",
    "- Words in `this script` relate to Python code"
   ]
  },
  {
   "cell_type": "markdown",
   "id": "ae018d50",
   "metadata": {},
   "source": [
    "So, about ***Python***.  It's an example of what we call a *scripting language*, a way of writing that tells a computer what to do.  What sets it apart from other languages is that it uses actual grammatical words, making it much easier to use for people with little experience in programming.\n",
    "\n",
    "<hr style=\"border:2px solid gray\">"
   ]
  },
  {
   "cell_type": "markdown",
   "id": "25ab2ee4",
   "metadata": {},
   "source": [
    "## 1.2 Jupyter notbooks <a name=\"1.2\"></a>\n",
    "\n",
    "<hr style=\"border:2px solid gray\">"
   ]
  },
  {
   "cell_type": "markdown",
   "id": "9af3466d",
   "metadata": {},
   "source": [
    "You are currently using a ***Jupyter notebook***.  It's a way of combining regular text - the sort you might find in a Word document - with Python code with the use of ***cells***, where each cell type interprets text in a different way."
   ]
  },
  {
   "cell_type": "markdown",
   "id": "a1bf8228",
   "metadata": {},
   "source": [
    "For instance, the text in this cell renders as, well, text.  This is because the cell here is a ***markdown cell***, which inteprets text as the written text you would normally type directly into a Word document."
   ]
  },
  {
   "cell_type": "markdown",
   "id": "51a71660",
   "metadata": {},
   "source": [
    "Jupyter notebooks support many coding languages, but the one we'll be looking at today is Python.\n",
    "\n",
    "<hr style=\"border:2px solid gray\">"
   ]
  },
  {
   "cell_type": "markdown",
   "id": "3b857540",
   "metadata": {},
   "source": [
    "## 1.3 Code cells <a name=\"1.3\"></a>\n",
    "\n",
    "<hr style=\"border:2px solid gray\">"
   ]
  },
  {
   "cell_type": "markdown",
   "id": "925e05e6",
   "metadata": {},
   "source": [
    "We can't do much coding if we can't type anywhere!  Below this paragraph is a ***code cell***, where Python code can be entered.  It's currently occupied by a small line of code, but you can see the result of running this code by holding the *shift* key on your keyboard and pressing *enter*."
   ]
  },
  {
   "cell_type": "code",
   "execution_count": null,
   "id": "86209404",
   "metadata": {},
   "outputs": [],
   "source": [
    "print(\"Welcome to Python!\")"
   ]
  },
  {
   "cell_type": "markdown",
   "id": "adf86b5a",
   "metadata": {},
   "source": [
    "Congratulations - you've just executed your first Python instruction!  Now run the below code cells."
   ]
  },
  {
   "cell_type": "code",
   "execution_count": null,
   "id": "7cf8f8b1",
   "metadata": {},
   "outputs": [],
   "source": [
    "a = 3"
   ]
  },
  {
   "cell_type": "code",
   "execution_count": null,
   "id": "3aec6209",
   "metadata": {},
   "outputs": [],
   "source": [
    "b = 2*a"
   ]
  },
  {
   "cell_type": "code",
   "execution_count": null,
   "id": "58e8646d",
   "metadata": {},
   "outputs": [],
   "source": [
    "print(b)"
   ]
  },
  {
   "cell_type": "code",
   "execution_count": null,
   "id": "7422949f",
   "metadata": {},
   "outputs": [],
   "source": [
    "type(b)"
   ]
  },
  {
   "cell_type": "code",
   "execution_count": null,
   "id": "f59d73d4",
   "metadata": {},
   "outputs": [],
   "source": [
    "a*b"
   ]
  },
  {
   "cell_type": "code",
   "execution_count": null,
   "id": "5c3142f2",
   "metadata": {},
   "outputs": [],
   "source": [
    "b = 'beep'"
   ]
  },
  {
   "cell_type": "code",
   "execution_count": null,
   "id": "4bb1186a",
   "metadata": {},
   "outputs": [],
   "source": [
    "type(b)"
   ]
  },
  {
   "cell_type": "markdown",
   "id": "e442a956",
   "metadata": {},
   "source": [
    "What we have done is define two ***variables*** - `a` and `b` - and determined what data type they both are.  Let's discuss data types further."
   ]
  },
  {
   "cell_type": "markdown",
   "id": "0d99b878",
   "metadata": {},
   "source": [
    "A handy thing about Jupyter notebooks is that code is 'remembered' between cells.  This is actually the case when using Python in general, but that is because most Python ***interfaces*** are just one big code cell, whereas a Jupyter notebook splits up the cell with text in markdown cells."
   ]
  },
  {
   "cell_type": "markdown",
   "id": "000eef9c",
   "metadata": {},
   "source": [
    "Each cell can be ***run*** individually, or you can run every cell at once.  We *wouldn't recommend this*, though, as it takes much longer and may cause issues with the code.  Though assigned variables are remembered between cells, this doesn't mean that you can use a particular name for a variable only once - you can ***reassign*** variables whenever you want."
   ]
  },
  {
   "cell_type": "markdown",
   "id": "833cf0ef",
   "metadata": {},
   "source": [
    "In Jupyter notebooks, cells are run separately, which means that if you restart your notebook - and clear the ***output*** of every code cell - you'll need to re-run any cells that others may depend on.  We recommend going from the top of this notebook to where you last were.\n",
    "\n",
    "[Return to contents](#0.)\n",
    "\n",
    "<hr style=\"border:2px solid gray\">"
   ]
  },
  {
   "cell_type": "markdown",
   "id": "d05aceee",
   "metadata": {},
   "source": [
    "## 2.1 Data types <a name=\"2.1\"></a>"
   ]
  },
  {
   "cell_type": "markdown",
   "id": "9846509f",
   "metadata": {},
   "source": [
    "### 2.1.1 Numerical data types <a name=\"2.1.1\"></a>\n",
    "\n",
    "<hr style=\"border:2px solid gray\">"
   ]
  },
  {
   "cell_type": "markdown",
   "id": "ab60b652",
   "metadata": {},
   "source": [
    "There are several different data types used in Python, each with their own properties and affiliations.  Let's start with ***integer variables***, otherwise known as ***integers*** or ***ints***.  Like the integers in mathematics, they are positive or negative whole numbers. Below are some integer variables."
   ]
  },
  {
   "cell_type": "code",
   "execution_count": null,
   "id": "47a3c3e0",
   "metadata": {},
   "outputs": [],
   "source": [
    "1 + 1\n",
    "a = 4"
   ]
  },
  {
   "cell_type": "markdown",
   "id": "0b2f60ab",
   "metadata": {},
   "source": [
    "***Floating-point numbers*** or ***floats*** are real numbers with floating point representation; that is, decimal points.  You may see the character `e` or `E` appear within a float to designate orders of magnitude.  Below are some floats."
   ]
  },
  {
   "cell_type": "code",
   "execution_count": null,
   "id": "454506b5",
   "metadata": {},
   "outputs": [],
   "source": [
    "b = 2.1\n",
    "c = 4E-7"
   ]
  },
  {
   "cell_type": "markdown",
   "id": "515512ce",
   "metadata": {},
   "source": [
    "[Return to contents](#0.)\n",
    "\n",
    "<hr style=\"border:2px solid gray\">"
   ]
  },
  {
   "cell_type": "markdown",
   "id": "02e996be",
   "metadata": {},
   "source": [
    "### 2.1.2 Sequenced data types <a name=\"2.1.2\"></a>\n",
    "\n",
    "<hr style=\"border:2px solid gray\">"
   ]
  },
  {
   "cell_type": "markdown",
   "id": "85dda6d2",
   "metadata": {},
   "source": [
    "A ***string*** is a collection of one or more unicode characters between two `'` or `\"` marks, or even `'''`.  In fact, there is no character data type in Python; a character would simply be a string of length 1.  Examples of strings are below."
   ]
  },
  {
   "cell_type": "code",
   "execution_count": null,
   "id": "2c0d5d35",
   "metadata": {},
   "outputs": [],
   "source": [
    "'Beep'\n",
    "\"Welcome to Python!\""
   ]
  },
  {
   "cell_type": "markdown",
   "id": "06612551",
   "metadata": {},
   "source": [
    "Run the cell below, type your name into the input box and see what happens:"
   ]
  },
  {
   "cell_type": "code",
   "execution_count": null,
   "id": "0c7aa0e4",
   "metadata": {},
   "outputs": [],
   "source": [
    "name = input()\n",
    "print(\"Hello, \" + name + \"!\")"
   ]
  },
  {
   "cell_type": "markdown",
   "id": "ee1f3a7f",
   "metadata": {},
   "source": [
    "This is an example of string addition or ***concatenation***."
   ]
  },
  {
   "cell_type": "markdown",
   "id": "b7630fb3",
   "metadata": {},
   "source": [
    "***Lists*** are similar to strings, except the items in a list do not need to be of the same type. They are created by placing the sequence of characters between two square brackets.  Examples of lists are below."
   ]
  },
  {
   "cell_type": "code",
   "execution_count": null,
   "id": "f152a4dc",
   "metadata": {},
   "outputs": [],
   "source": [
    "[] # This is an empty list\n",
    "L = [1,'2',3,'Four',5]"
   ]
  },
  {
   "cell_type": "markdown",
   "id": "d682f212",
   "metadata": {},
   "source": [
    "You may have noticed that the words after the hashtag didn't interfere with our code.  This is because writing anything after a hashtag means it is essentially ignored by Python.  This is very useful for annotating your code."
   ]
  },
  {
   "cell_type": "markdown",
   "id": "9fe18152",
   "metadata": {},
   "source": [
    "A useful skill is to be able to access elements of a list, as well as 'slicing' the list between two elements.  See how this is done below."
   ]
  },
  {
   "cell_type": "code",
   "execution_count": null,
   "id": "8b334d44",
   "metadata": {},
   "outputs": [],
   "source": [
    "L = [1,2,3,4,5]\n",
    "print(L[0])\n",
    "print(L[1])\n",
    "print(L[2:4])\n",
    "print(L[3:])"
   ]
  },
  {
   "cell_type": "markdown",
   "id": "d837d14d",
   "metadata": {},
   "source": [
    "The full notation goes `list[start:stop:step]` where `step` indicates how many indices are 'jumped' over; a default step is 1, which you will get by not specifying a step value.  For example:"
   ]
  },
  {
   "cell_type": "code",
   "execution_count": null,
   "id": "8e717ae9",
   "metadata": {},
   "outputs": [],
   "source": [
    "L = [1,2,3,4,5,6,7,8,9,10]\n",
    "print(L[0:9:2])"
   ]
  },
  {
   "cell_type": "markdown",
   "id": "78bb5b1c",
   "metadata": {},
   "source": [
    "It's important to remember that the '$0^{th}$' element of our list is the first item rather than the *1st*.  It may seem a little confusing, but you'll get used to it."
   ]
  },
  {
   "cell_type": "markdown",
   "id": "267b88e1",
   "metadata": {},
   "source": [
    "Appending (adding) to a list is a useful skill, and quite easy.  See below."
   ]
  },
  {
   "cell_type": "code",
   "execution_count": null,
   "id": "c92cddcd",
   "metadata": {},
   "outputs": [],
   "source": [
    "L = ['One', 'Two', 'Three']\n",
    "L.append('Four')\n",
    "print(L)"
   ]
  },
  {
   "cell_type": "markdown",
   "id": "2ae8f75f",
   "metadata": {},
   "source": [
    "The *length* - that is, the number of datapoints - of a list can be found with the `len` function."
   ]
  },
  {
   "cell_type": "code",
   "execution_count": null,
   "id": "3de51486",
   "metadata": {},
   "outputs": [],
   "source": [
    "fib = [1,1,2,3,5,8,13,21,34,55,89]\n",
    "print(len(fib))"
   ]
  },
  {
   "cell_type": "markdown",
   "id": "1b8df76b",
   "metadata": {},
   "source": [
    "***Tuples*** are similar to lists, though the only difference is that they are ***immutable***, meaning they cannot be changed after they are created.  An example of a tuple is below."
   ]
  },
  {
   "cell_type": "code",
   "execution_count": null,
   "id": "b323343f",
   "metadata": {},
   "outputs": [],
   "source": [
    "t = 1, 2, 3, 'Bazinga!'\n",
    "print(t[0])\n",
    "print(t[3])"
   ]
  },
  {
   "cell_type": "markdown",
   "id": "1725d839",
   "metadata": {},
   "source": [
    "So tuples are immutable - how can we change them?  The below method won't work:"
   ]
  },
  {
   "cell_type": "code",
   "execution_count": null,
   "id": "2b5905b6",
   "metadata": {},
   "outputs": [],
   "source": [
    "a = (\"red\", \"blue\", \"green\")\n",
    "a[1] = \"white\"\n",
    "\n",
    "print(a)"
   ]
  },
  {
   "cell_type": "markdown",
   "id": "e9acad48",
   "metadata": {},
   "source": [
    "It doesn't seem to work, hence the `TypeError` output.  However, there is a workaround.  You can change a tuple into a list, make your changes, then convert back into a tuple.  See below."
   ]
  },
  {
   "cell_type": "code",
   "execution_count": null,
   "id": "e0645563",
   "metadata": {},
   "outputs": [],
   "source": [
    "a = (\"red\", \"blue\", \"green\")\n",
    "b = list(a)\n",
    "b[1] = \"white\"\n",
    "a = tuple(b)\n",
    "\n",
    "print(a)"
   ]
  },
  {
   "cell_type": "markdown",
   "id": "c86ccd5c",
   "metadata": {},
   "source": [
    "[Return to contents](#0.)\n",
    "\n",
    "<hr style=\"border:2px solid gray\">"
   ]
  },
  {
   "cell_type": "markdown",
   "id": "9ca6525c",
   "metadata": {},
   "source": [
    "### 2.1.3 Booleans <a name=\"2.1.3\"></a>\n",
    "\n",
    "<hr style=\"border:2px solid gray\">"
   ]
  },
  {
   "cell_type": "markdown",
   "id": "864add5e",
   "metadata": {},
   "source": [
    "***Booleans*** are not really numbers or groups of numbers at all.  They can either be `True` or `False` and are denoted by the class `bool` when we determine their type.  Their use is generally seen in ***control structures***, which we'll address later.  An example of a boolean is below."
   ]
  },
  {
   "cell_type": "code",
   "execution_count": null,
   "id": "4a3fec9d",
   "metadata": {},
   "outputs": [],
   "source": [
    "test = (4 < 7)\n",
    "print(test)\n",
    "type(test)"
   ]
  },
  {
   "cell_type": "markdown",
   "id": "a17d0d45",
   "metadata": {},
   "source": [
    "If you're confused by how these data types are classified, **Figure 1** should help."
   ]
  },
  {
   "cell_type": "markdown",
   "id": "8af29a5e",
   "metadata": {},
   "source": [
    "<CENTER><img src=\"data_types.jpg\" style=\"width:100%\"></CENTER>"
   ]
  },
  {
   "cell_type": "markdown",
   "id": "2a90e612",
   "metadata": {},
   "source": [
    "[Return to contents](#0.)\n",
    "\n",
    "<hr style=\"border:2px solid gray\">"
   ]
  },
  {
   "cell_type": "markdown",
   "id": "ecdc893c",
   "metadata": {},
   "source": [
    "## 2.2 Operators<a name=\"2.2\"></a>"
   ]
  },
  {
   "cell_type": "markdown",
   "id": "284ca0ff",
   "metadata": {},
   "source": [
    "### 2.2.1 Arithmetic operators <a name=\"2.2.1\"></a>\n",
    "\n",
    "<hr style=\"border:2px solid gray\">"
   ]
  },
  {
   "cell_type": "markdown",
   "id": "6e98ff4d",
   "metadata": {},
   "source": [
    "In the expression *a + b*, *a* and *b* are called ***operands*** and *+* is called an ***operator***.  In short, it changes the operands in some way.  There are many types of operators in Python but some of them can be a little confusing.  Because of this, we'll just cover the arithmetic and comparison operators as you'll be using them all the time.  See the table below for examples of ***arithmetic operators***."
   ]
  },
  {
   "cell_type": "markdown",
   "id": "46346b24",
   "metadata": {},
   "source": [
    "| Operator | Description                                                                    | Example        |\n",
    "|:--------:|:------------------------------------------------------------------------------:|:--------------:|\n",
    "| +        | Addition - adds operands on either side of the operator                        | `2 + 2 = 4`    |\n",
    "| -        | Subtraction - subtracts right-hand operand from-left hand operand              | `5 - 2 = 3`    |\n",
    "| *        | Multiplication - multiplies values on either side of operator                  | `3*3 = 9`      |\n",
    "| /        | Division - divides left-hand operand by right-hand operand                     | `22 / 8 = 2.75`|\n",
    "| **       | Exponent - raises left-hand operand to the power of right-hand operand         | `2**3 = 8`     |\n",
    "| %        | Modulo - divides left-hand operand by right-hand operand and returns remainder | `13 % 3 = 1`   |\n",
    "| //       | Floor division - same as with the division operator, but with decimals removed | `22 // 8 = 2`  |"
   ]
  },
  {
   "cell_type": "markdown",
   "id": "38efc5ea",
   "metadata": {},
   "source": [
    "Below are a few examples - run them and see what happens!"
   ]
  },
  {
   "cell_type": "code",
   "execution_count": null,
   "id": "58d11602",
   "metadata": {},
   "outputs": [],
   "source": [
    "a = 3\n",
    "b = 5\n",
    "c = 18.0\n",
    "\n",
    "print(a+b)\n",
    "print(a*c)\n",
    "print(c%b)"
   ]
  },
  {
   "cell_type": "markdown",
   "id": "0eeec440",
   "metadata": {},
   "source": [
    "<hr style=\"border:2px solid gray\">"
   ]
  },
  {
   "cell_type": "markdown",
   "id": "76837899",
   "metadata": {},
   "source": [
    "### 2.2.2 Comparison operators <a name=\"2.2.2\"></a>\n",
    "\n",
    "<hr style=\"border:2px solid gray\">"
   ]
  },
  {
   "cell_type": "markdown",
   "id": "430d591f",
   "metadata": {},
   "source": [
    "***Comparison operators*** are more case-specific than arithmetic operators, but they are still handy to know.  We'll likely encounter them later in this course. See the table below."
   ]
  },
  {
   "cell_type": "markdown",
   "id": "72d8351c",
   "metadata": {},
   "source": [
    "|Operator|Description                                                                          |\n",
    "|:-:     |:-:|\n",
    "|==      |Equal to - compares both operands, returns `True` if they are equal                  |\n",
    "|!=      |Not equal to - compares both operands, returns `True` if they are not equal          |\n",
    "|<>      |Alternative form of the *not equal to* operator                                      |\n",
    "|>       |Greater than - returns `True` if left-hand operand is greater than right-hand operand|\n",
    "|<       |Less than - returns `True` if left-hand operand is less than right-hand operand      |\n",
    "|>=      |Greater than or equal to - returns `True` if left-hand operand is greater than or equal to right-hand operand       |\n",
    "|<=      |Less than or equal to - returns `True` if left-hand operand is less than or equal to right-hand operand       |"
   ]
  },
  {
   "cell_type": "markdown",
   "id": "3722253d",
   "metadata": {},
   "source": [
    "There is one ***assignment operator*** that we really ought to cover - the *equality operator* `=`.  In short, it assigns a value from a right-hand operad to a left-hand operand.  For instance, in the expression `a = 4`, we have assigned a value of 4 to the left-hand operand `a`.\n",
    "\n",
    "[Return to contents](#0.)\n",
    "\n",
    "<hr style=\"border:2px solid gray\">"
   ]
  },
  {
   "cell_type": "markdown",
   "id": "c4bcc439",
   "metadata": {},
   "source": [
    "## 2.3 Basic expressions <a name=\"2.3\"></a>\n",
    "\n",
    "<hr style=\"border:2px solid gray\">"
   ]
  },
  {
   "cell_type": "markdown",
   "id": "7766741d",
   "metadata": {},
   "source": [
    "Before we get into writing any expressions, we should address how we can get the bits and pieces we need.  A ***function*** is a block of code that only ***runs*** (does things) when it is ***called*** (written down).  They are basically machines - you put in ***variables*** and it gives an ***output*** that may itself be a variable.  You can write a function, but this may be tedious, so programmers will often import ***modules*** which are ***libraries*** containing multiple functions."
   ]
  },
  {
   "cell_type": "markdown",
   "id": "adf23c72",
   "metadata": {},
   "source": [
    "Let's look at a simple example.  The `math` module contains a simple function `sqrt` that gives the square root of an ***input*** variable.  We can thus write a basic ***expression*** to determine the square root of an input variable."
   ]
  },
  {
   "cell_type": "code",
   "execution_count": null,
   "id": "b10d18d8",
   "metadata": {},
   "outputs": [],
   "source": [
    "import math       # This imports the math module\n",
    "q = math.sqrt(19) # We use the equality assignment operator to assign the resulting value of math.sqrt(19) to the operand q\n",
    "print(q)          # Just writing 'q' won't actually give a result; we must instead print it"
   ]
  },
  {
   "cell_type": "markdown",
   "id": "1dd966ae",
   "metadata": {},
   "source": [
    "**Example:** A ball is dropped from a tower of height *h* which is built on level ground. The ball has zero initial velocity and accelerates downwards under gravity. *Write a program that asks the user to enter the height of the tower in metres and the time interval* t *in seconds, then prints on the screen the height of the ball from the ground at time* t *after it is dropped*. Ignore air resistance."
   ]
  },
  {
   "cell_type": "markdown",
   "id": "93bcfc49",
   "metadata": {},
   "source": [
    "As we know, the `print` function displays an output. We can provide an input location using the `input` function; this way, we don't have to keep editing our code itself to simply change a variable.  However, this will require the `float` function, which is used to return a `float` from an `integer` or a `string`.  Using a number would simply remove all decimal values, giving an incorrect result, whilst a string is a sequenced variable type and simply could not be processed by the various functions we shall be using."
   ]
  },
  {
   "cell_type": "markdown",
   "id": "282483ce",
   "metadata": {},
   "source": [
    "The distance from the ground is given by $d = h - \\frac{1}{2}gt^2$  where $g = 9.81 m s^{-2}$ is the acceleration due to gravity. We can express this using the `round` function, rounded to two decimal places within the bracket. As for how the answer is displayed, we can combine the actual calculation with the `round` function within the `print` function.  As you can see, the actual mathematical operation here is simple - it's the inputs and outputs that are somewhat complicated.  The full code is below."
   ]
  },
  {
   "cell_type": "code",
   "execution_count": null,
   "id": "68b132fb",
   "metadata": {},
   "outputs": [],
   "source": [
    "import math\n",
    "h=float(input(\"Enter height: \"))\n",
    "t=float(input(\"Enter time interval: \"))\n",
    "print(f\"Height after time interval of {t} s is {round(h-(0.5*9.81*(t**2)), 3)} m\")"
   ]
  },
  {
   "cell_type": "markdown",
   "id": "7fa5a627",
   "metadata": {},
   "source": [
    "This is a great example of why you should keep track of any brackets used in your expression.  Here, the `()` bracket indicates where you should put input variables; functions can be ***nested***, meaning they can be put inside other functions - just see the `float(input())` part.  As for the `{}` brackets, they are used within the `print` function to indicate that `h` and `t` are variables rather than just letters.  Finally, the comma used within the `round` function is because the `round` function takes two input variables or *arguments* - the value we intend to round, and the number of decimal places which we intend to round to.  For instance, `round(5.76543, 2) = 5.77`.\n",
    "\n",
    "[Return to contents](#0.)\n",
    "\n",
    "<hr style=\"border:2px solid gray\">"
   ]
  },
  {
   "cell_type": "markdown",
   "id": "83735fb5",
   "metadata": {},
   "source": [
    "## 2.4 Control structures <a name=\"2.4\"></a>"
   ]
  },
  {
   "cell_type": "markdown",
   "id": "9dd95c63",
   "metadata": {},
   "source": [
    "We've been able to carry out or ***execute*** a block of code for an input.  However, this would be an incredibly slow method if we wanted to execute this code for multiple inputs - we'd need to do this manually, potentially thousands of times.  It would therefore be useful if we could execute our block of code repeatedly for multiple inputs.  This is the idea behind ***control structures***, which are often referred to as ***loops***."
   ]
  },
  {
   "cell_type": "markdown",
   "id": "0b83e559",
   "metadata": {},
   "source": [
    "### 2.4.1 `while` loops <a name=\"2.4.1\"></a>\n",
    "\n",
    "<hr style=\"border:2px solid gray\">"
   ]
  },
  {
   "cell_type": "markdown",
   "id": "7cc131e3",
   "metadata": {},
   "source": [
    "A ***while*** loop will execute a block of code repeatedly until a given condition is satisfied.  When this condition becomes false, the line immediately after the loop in the program will be executed."
   ]
  },
  {
   "cell_type": "markdown",
   "id": "4d5e6288",
   "metadata": {},
   "source": [
    "Let's look at the below *while* loop."
   ]
  },
  {
   "cell_type": "code",
   "execution_count": null,
   "id": "43284254",
   "metadata": {},
   "outputs": [],
   "source": [
    "count = 0\n",
    "while (count < 3):    \n",
    "    count = count + 1\n",
    "    print(\"Count is {} as expected\".format(count))"
   ]
  },
  {
   "cell_type": "markdown",
   "id": "1ef2d8b5",
   "metadata": {},
   "source": [
    "In effect, we have made a variable called `count` that is equal to zero, and with each iteration of our `while` loop we have added 1 to the prior value of `count`.  The `while` loop will repeatedly run as long as the value of `count` is less than 3.  As soon as it becomes equal to or greater than than 3, the loop stops running."
   ]
  },
  {
   "cell_type": "markdown",
   "id": "3b18ead2",
   "metadata": {},
   "source": [
    "We can combine `while` loops with an ***else*** statement that will come into effect.  For the above case, what our `while` loop did after `count` reached a value of three was execute the code immediately after itself.  However, there was no code following the `while` loop, so there was no further output.  Inserting an `else` statement will change this - see below:"
   ]
  },
  {
   "cell_type": "code",
   "execution_count": null,
   "id": "127a0385",
   "metadata": {},
   "outputs": [],
   "source": [
    "count = 0\n",
    "while (count < 3):    \n",
    "    count = count + 1\n",
    "    print(\"As expected\")\n",
    "else:\n",
    "    print(\"I'm sorry, Dave\")"
   ]
  },
  {
   "cell_type": "markdown",
   "id": "38222293",
   "metadata": {},
   "source": [
    "**Figure 2** should explain how a `while` loop works in more detail."
   ]
  },
  {
   "attachments": {},
   "cell_type": "markdown",
   "id": "3a57e204",
   "metadata": {},
   "source": [
    "<CENTER><img src=\"while_loop.jpg\" style=\"width:30%\"></CENTER>\n",
    "\n",
    "**Figure 2:** A `while` loop.  The *condition* will have two responses to an *input*: `True` and `False`; it is essentially an operation that returns a *boolean*.  If the condition is `True`, the code embedded within a `while` loop will be executed, and this will be the case for consecutive inputs - hence the use of `while`.  However, as soon as the condition becomes `False`, the loop essentially 'breaks' and is no longer run through."
   ]
  },
  {
   "cell_type": "markdown",
   "id": "8ec8fb09",
   "metadata": {},
   "source": [
    "[Return to contents](#0.)\n",
    "\n",
    "<hr style=\"border:2px solid gray\">"
   ]
  },
  {
   "cell_type": "markdown",
   "id": "7b4235a1",
   "metadata": {},
   "source": [
    "### 2.4.2 `for` loops <a name=\"2.4.2\"></a>\n",
    "\n",
    "<hr style=\"border:2px solid gray\">"
   ]
  },
  {
   "cell_type": "markdown",
   "id": "04be41d3",
   "metadata": {},
   "source": [
    "A ***for*** loop will run through a sequenced data type and perform an action that is repeated across the entire sequence.  It's essentially a `while` loop, but without the `True` and `False` conditions, so it will run through variables regardless of their properties.  See below."
   ]
  },
  {
   "cell_type": "code",
   "execution_count": null,
   "id": "b9af0f7c",
   "metadata": {},
   "outputs": [],
   "source": [
    "for i in [1,2,3,4,5]:\n",
    "    print(i)"
   ]
  },
  {
   "cell_type": "markdown",
   "id": "faa525c1",
   "metadata": {},
   "source": [
    "A useful statement to include in `for` loops is the ***break*** statement, which terminates the loop containing it if a condition for breaking is met.  There's no further iteration, the loop just ends.  See below."
   ]
  },
  {
   "cell_type": "code",
   "execution_count": null,
   "id": "9e0952fe",
   "metadata": {},
   "outputs": [],
   "source": [
    "for val in \"hitchhiker\":\n",
    "    if val == \"k\":\n",
    "        break\n",
    "    print(val)\n",
    "\n",
    "print(\"DON'T PANIC\")"
   ]
  },
  {
   "cell_type": "markdown",
   "id": "ff7f7537",
   "metadata": {},
   "source": [
    "This is an example of a ***nested*** loop, where a control structure is nested within another."
   ]
  },
  {
   "cell_type": "markdown",
   "id": "f1f56a9e",
   "metadata": {},
   "source": [
    "**Figure 3** should help explain what a `break` statement does."
   ]
  },
  {
   "attachments": {},
   "cell_type": "markdown",
   "id": "1a139d1f",
   "metadata": {},
   "source": [
    "<CENTER><img src=\"break_flowchart.webp\" style=\"width:40%\"></CENTER>\n",
    "\n",
    "**Figure 3:** A `for` loop with a `break` statement.  For every variable passed through the `for` loop, the `break` statement will be automatically run, which means the `for` loop will break after a single run.  `for` loops will therefore often include another condition, such as an `if` condition like in the above loop."
   ]
  },
  {
   "cell_type": "markdown",
   "id": "76c15c8f",
   "metadata": {},
   "source": [
    "The `break` statement is useful only if you're willing to stop iterating after the `break` condition is met.  However, you're more likely to simply want to ignore any values for which a `break` statement is met and iterate beyond these.  The `continue` statement is more useful here - when the `continue` condition is met, it skips the rest of the code inside a loop for the current iteration only.  See below."
   ]
  },
  {
   "cell_type": "code",
   "execution_count": null,
   "id": "a3519815",
   "metadata": {},
   "outputs": [],
   "source": [
    "for val in \"hitchhiker\":\n",
    "    if val == \"i\":\n",
    "        continue\n",
    "    if val == \"e\":\n",
    "        continue\n",
    "    print(val)\n",
    "\n",
    "print(\"DON'T PANIC\")"
   ]
  },
  {
   "cell_type": "markdown",
   "id": "1d583e0c",
   "metadata": {},
   "source": [
    "**Figure 4** should enlighten you."
   ]
  },
  {
   "attachments": {},
   "cell_type": "markdown",
   "id": "322a9aec",
   "metadata": {},
   "source": [
    "<CENTER><img src=\"continue_flowchart.webp\" style=\"width:40%\"></CENTER>\n",
    "\n",
    "**Figure 4:** A `for` loop with a `continue` statement.  For every variable passed through the `for` loop, the `continue` statement simply 'shifts' the loop onto the next variable.  This does mean that any embedded code below the `continue` statement will simply be ignored, so a condition will often be used."
   ]
  },
  {
   "cell_type": "markdown",
   "id": "451510fd",
   "metadata": {},
   "source": [
    "[Return to contents](#0.)\n",
    "\n",
    "<hr style=\"border:2px solid gray\">"
   ]
  },
  {
   "cell_type": "markdown",
   "id": "5a64c117",
   "metadata": {},
   "source": [
    "## 2.5 `if`, `else` and `elif` conditions <a name=\"2.5\"></a>"
   ]
  },
  {
   "cell_type": "markdown",
   "id": "a8aa7e5a",
   "metadata": {},
   "source": [
    "### 2.5.1 `if` condition <a name=\"2.5.1\"></a>\n",
    "\n",
    "<hr style=\"border:2px solid gray\">"
   ]
  },
  {
   "cell_type": "markdown",
   "id": "821be9a9",
   "metadata": {},
   "source": [
    "An ***if*** condition is a simple decision-making condition; it decides whether or not a certain statement or block of statements will be executed.  Indentation (empty space before the beginning of a line) is important here, as only indented statements will be identified as being within a control structure.  In the case below, the value for *i* was chosen to be 10 and was therefore not greater than 15.  This meant the `if` condition gave no result, meaning the only result was the `print` command that would run regardless of conditions."
   ]
  },
  {
   "cell_type": "code",
   "execution_count": null,
   "id": "fdadfe29",
   "metadata": {},
   "outputs": [],
   "source": [
    "i = 10\n",
    " \n",
    "if (i > 15):\n",
    "    print(\"10 is less than 15\")\n",
    "print(\"This is an if condition\")"
   ]
  },
  {
   "cell_type": "markdown",
   "id": "aeff5d94",
   "metadata": {},
   "source": [
    "**Figure 5** should explain how the above case works."
   ]
  },
  {
   "attachments": {},
   "cell_type": "markdown",
   "id": "ea749c5c",
   "metadata": {},
   "source": [
    "<CENTER><img src=\"if-statement.jpg\" style=\"width:30%\"></CENTER>\n",
    "\n",
    "**Figure 5:** An `if` condition.  If the output of a variable is `True`, then the code 'body' of the `if` condition is run.  If the output is `False`, then the `if` statement is essentially ignored and any code below the `if` condition is run."
   ]
  },
  {
   "cell_type": "markdown",
   "id": "22a13e98",
   "metadata": {},
   "source": [
    "[Return to contents](#0.)\n",
    "\n",
    "<hr style=\"border:2px solid gray\">"
   ]
  },
  {
   "cell_type": "markdown",
   "id": "90378dec",
   "metadata": {},
   "source": [
    "### 2.5.2 `if else` condition <a name=\"2.5.2\"></a>\n",
    "\n",
    "<hr style=\"border:2px solid gray\">"
   ]
  },
  {
   "cell_type": "markdown",
   "id": "1608796a",
   "metadata": {},
   "source": [
    "If we want to do something else when the output of our `if` condition is `False` for a certain input, we can use an `else` statement; the use of an `else` statement after an `if` condition is known as an ***if else*** condition."
   ]
  },
  {
   "cell_type": "code",
   "execution_count": null,
   "id": "60caf2ea",
   "metadata": {},
   "outputs": [],
   "source": [
    "a = float(input(\"Enter a value for a: \", ))\n",
    "b = 200\n",
    "if b > a:\n",
    "  print(\"b is greater than a\")\n",
    "else:\n",
    "    print(\"a is greater than b\")"
   ]
  },
  {
   "cell_type": "markdown",
   "id": "1752b245",
   "metadata": {},
   "source": [
    "See the **Figure 6** below.  It's similar to the prior figure, just with an extra intermediate step."
   ]
  },
  {
   "attachments": {},
   "cell_type": "markdown",
   "id": "65847bb7",
   "metadata": {},
   "source": [
    "<CENTER><img src=\"if-else.jpg\" style=\"width:30%\"></CENTER>\n",
    "\n",
    "**Figure 6:** An `if else` condition.  It behaves in a similar way to an `if` condition, but now any inputs that give a `False` output are instead passed through the body of the `else` statement."
   ]
  },
  {
   "cell_type": "markdown",
   "id": "69ec8a04",
   "metadata": {},
   "source": [
    "We can also nest `if` conditions and `else` statements, though this can start to get a little complicated."
   ]
  },
  {
   "cell_type": "code",
   "execution_count": null,
   "id": "ab7e0d55",
   "metadata": {},
   "outputs": [],
   "source": [
    "i = 10\n",
    "if (i == 10): # First if statement\n",
    "    if (i < 15):\n",
    "        print(\"i is smaller than 15\")\n",
    "    # Nested if statement - will only be executed if the above statement is true\n",
    "    if (i < 12):\n",
    "        print(\"i is also smaller than 12\")\n",
    "    else:\n",
    "        print(\"i is greater than 15\")"
   ]
  },
  {
   "cell_type": "markdown",
   "id": "606a775a",
   "metadata": {},
   "source": [
    "See **Figure 7** below if you need a little more visualisation."
   ]
  },
  {
   "attachments": {},
   "cell_type": "markdown",
   "id": "e3f8f445",
   "metadata": {},
   "source": [
    "<CENTER><img src=\"Nested_if.jpg\" style=\"width:60%\"></CENTER>\n",
    "\n",
    "**Figure 7:** A nested `if else` condition.  There are essentially three different 'routes' - '`if`', '`if if`' and '`if else`' - with corresponding 'paths' that have different effects on an input variable."
   ]
  },
  {
   "cell_type": "markdown",
   "id": "54fbd4b3",
   "metadata": {},
   "source": [
    "[Return to contents](#0.)\n",
    "\n",
    "<hr style=\"border:2px solid gray\">"
   ]
  },
  {
   "cell_type": "markdown",
   "id": "1c2815f4",
   "metadata": {},
   "source": [
    "### 2.5.3 Ladders and `elif` conditions <a name=\"2.5.3\"></a>\n",
    "\n",
    "<hr style=\"border:2px solid gray\">"
   ]
  },
  {
   "cell_type": "markdown",
   "id": "98374626",
   "metadata": {},
   "source": [
    "Nesting is useful for the construction of `if else elif` 'ladders'.  See **Figure 8** below."
   ]
  },
  {
   "attachments": {},
   "cell_type": "markdown",
   "id": "50c142c6",
   "metadata": {},
   "source": [
    "<CENTER><img src=\"if-elseif-ladder.jpg\" style=\"width:70%\"></CENTER>\n",
    "\n",
    "**Figure 8:** An `if else elif` 'ladder'.  There are also multiple 'routes', though the `if` condition, `elif` conditions and `else` statement are all nested to the same degree."
   ]
  },
  {
   "cell_type": "markdown",
   "id": "de7e59e1",
   "metadata": {},
   "source": [
    "Let's look at an example:"
   ]
  },
  {
   "cell_type": "code",
   "execution_count": null,
   "id": "ee1785c3",
   "metadata": {},
   "outputs": [],
   "source": [
    "i = 20\n",
    "if (i == 10):\n",
    "    print(\"i is 10\")\n",
    "elif (i == 15):\n",
    "    print(\"i is 15\")\n",
    "elif (i == 20):\n",
    "    print(\"i is 20\")\n",
    "else:\n",
    "    print(\"i is not present\")"
   ]
  },
  {
   "cell_type": "markdown",
   "id": "190ddad6",
   "metadata": {},
   "source": [
    "Here, the ***elif*** condition is short for ***else if***.  If the output of the `if` condition is false, the conditions for the next `elif` condition are checked and so on.  If every input is false, the `else` statement is activated.  In effect, `elif` automatically 'passes on' the sequence to the next condition or statement.\n",
    "\n",
    "[Return to contents](#0.)\n",
    "\n",
    "<hr style=\"border:2px solid gray\">"
   ]
  },
  {
   "cell_type": "markdown",
   "id": "ffa07bfb",
   "metadata": {},
   "source": [
    "## 2.6 User-defined functions <a name=\"2.6\"></a>\n",
    "\n",
    "<hr style=\"border:2px solid gray\">"
   ]
  },
  {
   "cell_type": "markdown",
   "id": "66e77743",
   "metadata": {},
   "source": [
    "Think back to the code used in the example shown in Section 1.3.  If we wanted to do that for multiple sets of variables, a `for` loop wouldn't work - the data wouldn't be in the right form.  We'd have to manually rewrite it over and over again for each set, which would be incredibly time-consuming.  A better way would be to have the same block of statements repeat itself, with the 'trigger' being a specified change in variables.  ***User-defined functions*** are best suited to this."
   ]
  },
  {
   "cell_type": "markdown",
   "id": "6e02a682",
   "metadata": {},
   "source": [
    "The syntax and layout of a user-defined function or ***UDF*** is as follows:"
   ]
  },
  {
   "cell_type": "code",
   "execution_count": null,
   "id": "638d886d",
   "metadata": {},
   "outputs": [],
   "source": [
    "# def function_name(argument1, argument2, ...):\n",
    "      # statement_1\n",
    "      # statement_2\n",
    "      # ..."
   ]
  },
  {
   "cell_type": "markdown",
   "id": "102e69c7",
   "metadata": {},
   "source": [
    "If we want our UDF to run for a particular group of arguments, we need to call it with those arguments.  For example:"
   ]
  },
  {
   "cell_type": "code",
   "execution_count": null,
   "id": "0fc5959b",
   "metadata": {},
   "outputs": [],
   "source": [
    "def avg(x, y):\n",
    "    print(\"The average of\",x,\"and\",y, \"is\",(x+y)/2)\n",
    "avg(3, 4)"
   ]
  },
  {
   "cell_type": "markdown",
   "id": "493655ce",
   "metadata": {},
   "source": [
    "We can also call a UDF when nested within a different line of code:"
   ]
  },
  {
   "cell_type": "code",
   "execution_count": null,
   "id": "69dcac63",
   "metadata": {},
   "outputs": [],
   "source": [
    "def nsquare(x,y):\n",
    "    return (x*x + 2*x*y + y*y)\n",
    "print(\"The square of the sum of 2 and 3 is\", nsquare(2,3))"
   ]
  },
  {
   "cell_type": "markdown",
   "id": "01a37a00",
   "metadata": {},
   "source": [
    "We can also nest control structures and statements within a UDF:"
   ]
  },
  {
   "cell_type": "code",
   "execution_count": null,
   "id": "5343aa44",
   "metadata": {},
   "outputs": [],
   "source": [
    "def Sum(*numbers):\n",
    "     s = 0\n",
    "     for n in numbers:\n",
    "           s += n\n",
    "     return s\n",
    "\n",
    "print(Sum(1,2,3,4))"
   ]
  },
  {
   "cell_type": "markdown",
   "id": "72f69107",
   "metadata": {},
   "source": [
    "You won't always be working with code that you've written.  If you're presented with a huge and complicated UDF, you will probably end up confused.  It's therefore a good idea to include some form of explanation: a ***docstring***.  A docstring will be included between the `def` line and the first statement.  They can also contain multiple lines, as shown below:"
   ]
  },
  {
   "cell_type": "code",
   "execution_count": null,
   "id": "9f97e6d6",
   "metadata": {},
   "outputs": [],
   "source": [
    "def avg(x, y):\n",
    "    '''\n",
    "    Calculate and Print Average of two Numbers.\n",
    "    Created on 25/05/2022\n",
    "    '''\n",
    "    print(\"The average of \",x,\" and \",y, \" is \",(x+y)/2)\n",
    "\n",
    "print(avg.__doc__)"
   ]
  },
  {
   "cell_type": "markdown",
   "id": "2c29fc6d",
   "metadata": {},
   "source": [
    "There may come a time when you're using several UDFs at once, which means their advantage of requiring less code to run multiple statements becomes somewhat redundant.  We can use a ***class*** to resolve this. In Python, an ***object*** is a collection of variables and functions - a ***class*** is simply a way of storing and utilising the code that an *object* is made of.  Simply put, we can 'store' multiple UDFs in a class."
   ]
  },
  {
   "cell_type": "markdown",
   "id": "b740e09b",
   "metadata": {},
   "source": [
    "Classes have a similar layout to UDFs, though with an additional layer of indentation.  As such, it's particularly important to remember to keep track of the indentation within both the class and any UDFs it contains."
   ]
  },
  {
   "cell_type": "code",
   "execution_count": null,
   "id": "752241d2",
   "metadata": {},
   "outputs": [],
   "source": [
    "# class [class_name]:\n",
    "    \n",
    "    # def function_name(argument1, argument2, ...):\n",
    "      # statement_1\n",
    "      # statement_2\n",
    "      # ...\n",
    "    \n",
    "    # variable_1\n",
    "    # variable_2"
   ]
  },
  {
   "cell_type": "markdown",
   "id": "4de41ef3",
   "metadata": {},
   "source": [
    "If you find the idea of classes confusing, **Figure 9** may help."
   ]
  },
  {
   "attachments": {},
   "cell_type": "markdown",
   "id": "d1800ffb",
   "metadata": {},
   "source": [
    "<CENTER><img src=\"class_expl.png\" style=\"width:80%\"></CENTER>\n",
    "\n",
    "**Figure 9:** Explanation of the structure and inner workings of a class.  The *objects* within this class are the properties mentioned here, such as `breed` and `age`.  These are the equivalents of `variable_1` and `variable_2` in the class above.  As for the *functions*, these are the methods, such as `eat()` and `sleep()`, which are equivalent to `function_name` in the class above."
   ]
  },
  {
   "cell_type": "markdown",
   "id": "0b7b57ee",
   "metadata": {},
   "source": [
    "We should explain what a ***generator*** is.  A generator is a type of an ***iterator*** - an object that processes an item from a selection, moves on to the next, and so on.  However, generators do not store their values in memory, instead storing the last value they generated.\n",
    "\n",
    "See what happens if you try to run the cell below."
   ]
  },
  {
   "cell_type": "code",
   "execution_count": null,
   "id": "26504f11",
   "metadata": {},
   "outputs": [],
   "source": [
    "a = range(1,6)\n",
    "print(a)"
   ]
  },
  {
   "cell_type": "markdown",
   "id": "70455b03",
   "metadata": {},
   "source": [
    "We'd expect to get something like `1,2,3,4,5`, but we simply get the `range` function with its inputs.  This is because of the lack of memory in generators.  In order to get what we're after, we must iterate over the `range` function."
   ]
  },
  {
   "cell_type": "code",
   "execution_count": null,
   "id": "5a7416f6",
   "metadata": {},
   "outputs": [],
   "source": [
    "for i in range(1, 6):\n",
    "    print(i)"
   ]
  },
  {
   "cell_type": "markdown",
   "id": "935a551d",
   "metadata": {},
   "source": [
    "[Return to contents](#0.)\n",
    "\n",
    "<hr style=\"border:2px solid gray\">"
   ]
  },
  {
   "cell_type": "markdown",
   "id": "434730be",
   "metadata": {},
   "source": [
    "## 2.7 Generators <a name=\"2.7\"></a>"
   ]
  },
  {
   "cell_type": "markdown",
   "id": "7eb79841",
   "metadata": {},
   "source": [
    "Recall the below `for` loop:"
   ]
  },
  {
   "cell_type": "code",
   "execution_count": null,
   "id": "9a143649",
   "metadata": {},
   "outputs": [],
   "source": [
    "for i in [1,2,3,4,5]:\n",
    "    print(i)"
   ]
  },
  {
   "cell_type": "markdown",
   "id": "2759af67",
   "metadata": {},
   "source": [
    "This method would become inefficient and tedious for a large number of elements, so it would be handy to replace the list `[1,2,3,4,5]` with some function that generates this list for us.  The `range()` function is a prime example.  It takes arguments `start` (default 0),`stop`(stop value not included) and `step` (default 1).  Using `range(1,5)` would print $1-4$ as required but would ignore $5$, so we must go over by $1$ digit."
   ]
  },
  {
   "cell_type": "code",
   "execution_count": null,
   "id": "69e9e81d",
   "metadata": {},
   "outputs": [],
   "source": [
    "for i in range(1,6):\n",
    "    print(i)"
   ]
  },
  {
   "cell_type": "markdown",
   "id": "b934136d",
   "metadata": {},
   "source": [
    "The `range()` function is an example of a ***generator***, which is similar to a list.  A generator is an example of a *lazy iterator*, an object that can be looped over a list.  Where generators differ from lists is that they do not store their contents in memory, which can make them much more efficient for running through a large number of datapoints.  If a file is too large and you are not using a generator where suitable, you can run into a `MemoryError` where your computer's memory is fully occupied running over the `for` loop."
   ]
  },
  {
   "cell_type": "markdown",
   "id": "18043f56",
   "metadata": {},
   "source": [
    "The `yield` statement is an alternative to the `print()` function.  However, we can't simply replace `print()` with `yield` - we must call `yield` from within a UDF, making the UDF a *generation function*.  Let's look at another example."
   ]
  },
  {
   "cell_type": "code",
   "execution_count": null,
   "id": "eec1fcf6",
   "metadata": {},
   "outputs": [],
   "source": [
    "def squareval(N):\n",
    "    for i in range(1,N+1):\n",
    "        yield i*i"
   ]
  },
  {
   "cell_type": "markdown",
   "id": "99579551",
   "metadata": {},
   "source": [
    "Now let's see what happens if we call our function with a particular value."
   ]
  },
  {
   "cell_type": "code",
   "execution_count": null,
   "id": "6e97d689",
   "metadata": {},
   "outputs": [],
   "source": [
    "ls = squareval(10)"
   ]
  },
  {
   "cell_type": "markdown",
   "id": "9eaeb440",
   "metadata": {},
   "source": [
    "We now know that we indeed have a generator object, but it's not exactly useful - it's basically a list, but where none of the objects are returned as they are not stored in memory.  However, they are retrievable, and accessing them requires a very simple `for` loop."
   ]
  },
  {
   "cell_type": "code",
   "execution_count": null,
   "id": "226df25b",
   "metadata": {},
   "outputs": [],
   "source": [
    "for n in ls:\n",
    "    print(n)"
   ]
  },
  {
   "cell_type": "markdown",
   "id": "0ca5dafe",
   "metadata": {},
   "source": [
    "It is handy to know whether your generators are working as expected.  Consider the below function."
   ]
  },
  {
   "cell_type": "code",
   "execution_count": null,
   "id": "cfc4c4a5",
   "metadata": {},
   "outputs": [],
   "source": [
    "def infinity():\n",
    "    num = 0\n",
    "    while True:\n",
    "        yield num\n",
    "        num += 1"
   ]
  },
  {
   "cell_type": "markdown",
   "id": "3aa5dee8",
   "metadata": {},
   "source": [
    "We can ensure that it is working as expected by using the `next()` function.  Let's see what happens if we run `next()` once on our `infinity()` UDF."
   ]
  },
  {
   "cell_type": "code",
   "execution_count": null,
   "id": "2132ebfa",
   "metadata": {},
   "outputs": [],
   "source": [
    "present = infinity()\n",
    "next(present)"
   ]
  },
  {
   "cell_type": "markdown",
   "id": "bb452394",
   "metadata": {},
   "source": [
    "And again:"
   ]
  },
  {
   "cell_type": "code",
   "execution_count": null,
   "id": "a4fa8081",
   "metadata": {},
   "outputs": [],
   "source": [
    "next(present)"
   ]
  },
  {
   "cell_type": "markdown",
   "id": "223ee07e",
   "metadata": {},
   "source": [
    "And again!"
   ]
  },
  {
   "cell_type": "code",
   "execution_count": null,
   "id": "2df72acd",
   "metadata": {},
   "outputs": [],
   "source": [
    "next(present)"
   ]
  },
  {
   "cell_type": "markdown",
   "id": "f2f6d63d",
   "metadata": {},
   "source": [
    "`next()` will manually iterate over your generator function - it's like printing $1$ element at a time."
   ]
  },
  {
   "cell_type": "markdown",
   "id": "018e913d",
   "metadata": {},
   "source": [
    "[Return to contents](#0.)\n",
    "\n",
    "<hr style=\"border:2px solid gray\">"
   ]
  },
  {
   "cell_type": "markdown",
   "id": "c36d219c",
   "metadata": {},
   "source": [
    "## 2.8 Common error types <a name=\"2.8\"></a>\n",
    "\n",
    "<hr style=\"border:2px solid gray\">"
   ]
  },
  {
   "cell_type": "markdown",
   "id": "7a5a1814",
   "metadata": {},
   "source": [
    "Your code won't always go right.  In fact, it'll be wrong most of the time - but for a definite reason.  Python won't be able to diagnose any problems with your code, but it can give you the sort of error."
   ]
  },
  {
   "cell_type": "markdown",
   "id": "e2983871",
   "metadata": {},
   "source": [
    "***Syntax errors*** are the most basic type of error - this means you've typed something incorrectly and Python doesn't understand it. This is often the result of missing or extra brackets or quotation marks.  Run the code cell below to see an example."
   ]
  },
  {
   "cell_type": "code",
   "execution_count": null,
   "id": "1bcccc42",
   "metadata": {},
   "outputs": [],
   "source": [
    "i = 10\n",
    "\n",
    "if (i > 15) print(\"10 is less than 15\")\n",
    "print(\"This is an if statement\")"
   ]
  },
  {
   "cell_type": "markdown",
   "id": "945322de",
   "metadata": {},
   "source": [
    "You'll see an arrow pointing at the `print` function - this is where Python thinks the error occurred.  It's not entirely correct - the problem is the lack of a `:` and an indented space below the `if` condition - but Python will generally be correct about the line, at least.  Be aware that there may not always be a specified line of code."
   ]
  },
  {
   "cell_type": "markdown",
   "id": "e74a3298",
   "metadata": {},
   "source": [
    "***Name errors*** occur when a referenced name is not defined.  These are often caused by mispells of a named object, or by only defining an object in a condition, loop or function then using it elsewhere.  See below."
   ]
  },
  {
   "cell_type": "code",
   "execution_count": null,
   "id": "bfc1d06c",
   "metadata": {},
   "outputs": [],
   "source": [
    "def sum(*numbers):\n",
    "     s = 0\n",
    "     for n in numbers:\n",
    "           s += n\n",
    "     return s\n",
    "\n",
    "print(sun(1,2,3,4))"
   ]
  },
  {
   "cell_type": "markdown",
   "id": "71052ac0",
   "metadata": {},
   "source": [
    "Here, we've actually typed `sun` instead of the UDF `sum`, so Python thinks our typo is an undefined object."
   ]
  },
  {
   "cell_type": "markdown",
   "id": "ab850413",
   "metadata": {},
   "source": [
    "***Type errors*** are often the result of mixing data types.  See below."
   ]
  },
  {
   "cell_type": "code",
   "execution_count": null,
   "id": "dc484618",
   "metadata": {},
   "outputs": [],
   "source": [
    "'1' + 2"
   ]
  },
  {
   "cell_type": "markdown",
   "id": "f8ead752",
   "metadata": {},
   "source": [
    "***Indentation errors*** occur when an indentation (made by pressing *tab* on your keyboard) is expected - such as in control structures or UDFs - but not present.  See below."
   ]
  },
  {
   "cell_type": "code",
   "execution_count": null,
   "id": "136a5770",
   "metadata": {},
   "outputs": [],
   "source": [
    "for i in range(1,24):\n",
    "print(i)\n",
    "if i == 8:\n",
    "break"
   ]
  },
  {
   "cell_type": "markdown",
   "id": "cd8bd03e",
   "metadata": {},
   "source": [
    "You can also get an indentation error if you've included an additional tab for a single line within a control structure or UDF, but not if you've indented the entire structure by an additional degree."
   ]
  },
  {
   "cell_type": "markdown",
   "id": "dc71edd0",
   "metadata": {},
   "source": [
    "***Zero division errors*** are caused by, well, dividing by zero - you can't actually do this in mathematics as it gives an undefined result.  See below."
   ]
  },
  {
   "cell_type": "code",
   "execution_count": null,
   "id": "bb4b3da1",
   "metadata": {},
   "outputs": [],
   "source": [
    "1/0"
   ]
  },
  {
   "cell_type": "markdown",
   "id": "3cf3757f",
   "metadata": {},
   "source": [
    "One error type that sticks out from the rest is ***logical errors*** as they won't throw up an error message.  This is because they aren't technically incorrect!  Rather, they'll be correct in terms of syntax, indentation and definition, and they'll at least do *something*, but they won't do what you're after.  See below."
   ]
  },
  {
   "cell_type": "code",
   "execution_count": null,
   "id": "17c49660",
   "metadata": {},
   "outputs": [],
   "source": [
    "x = 4\n",
    "y = 5\n",
    "\n",
    "z = x+y/2\n",
    "print('The average of the two numbers you have entered is:',z)"
   ]
  },
  {
   "cell_type": "markdown",
   "id": "9fd1deab",
   "metadata": {},
   "source": [
    "You'd expect the result to be 4.5 as this is the average of 4 and 5, but you instead get an output value of 6.5.  This is because the average `z` hasn't been written correctly.  Instead of $\\frac{x+y}{2}$, we have $x + \\frac{y}{2}$, which is clearly incorrect.\n",
    "\n",
    "[Return to contents](#0.)\n",
    "\n",
    "<hr style=\"border:2px solid gray\">"
   ]
  },
  {
   "cell_type": "markdown",
   "id": "a60d9781",
   "metadata": {},
   "source": [
    "## 3. Aside: LaTeX script <a name=\"3.\"></a>\n",
    "\n",
    "<hr style=\"border:2px solid gray\">"
   ]
  },
  {
   "cell_type": "markdown",
   "id": "ad55b687",
   "metadata": {},
   "source": [
    "Python is frequently used in mathematical modelling and the representation of data.  This generally involves writing a lot of mathematical expressions, which can become rather trying with the number of symbols and mathematical structures you'll be using.\n",
    "\n",
    "*LaTeX* is one way around this.  It's used to produce scientific papers and has a lot of functionality in rendering complicated mathematical expressions as a result.  Though we aren't working in a *LaTeX* environment, we can use *LaTeX* script in a Python environment - including this Jupyter notebook - quite easily by simply sandwiching any *LaTeX* script between two `$` signs.  This applies to both code cells and markdown cells.\n",
    "\n",
    "Below is a table of various symbols you may find useful alongside the *LaTeX* script used to render them."
   ]
  },
  {
   "cell_type": "markdown",
   "id": "daaaf5e1",
   "metadata": {},
   "source": [
    "<td><td>\n",
    "\n",
    "| Symbol            | *LaTeX* script  |\n",
    "|:-----------------:|:---------------:|\n",
    "| $\\Delta$          | \\Delta          |\n",
    "| $\\pi$             | \\pi             |\n",
    "| $\\sigma$          | \\sigma          |\n",
    "| $\\hbar$           | \\hbar           |\n",
    "| $\\nabla$          | \\nabla          |\n",
    "| $\\leq$            | \\leq            |\n",
    "| $\\geq$            | \\geq            |\n",
    "| $\\approx$         | \\approx         |\n",
    "| $\\equiv$          | \\equiv          |\n",
    "| $\\neq$            | \\neq            |\n",
    "| $\\times$          | \\times          |\n",
    "\n",
    "<td><td>\n",
    "\n",
    "| Symbol            | *LaTeX* script  |\n",
    "|:-----------------:|:---------------:|\n",
    "| $\\div$            | \\div            |\n",
    "| $\\pm$             | \\pm             |\n",
    "| $\\bullet$         | \\bullet         |\n",
    "| $\\rightarrow$     | \\rightarrow     |\n",
    "| $\\longrightarrow$ | \\longrightarrow |\n",
    "| $\\Rightarrow$     | \\Rightarrow     |\n",
    "| $\\infty$          | \\infty          |\n",
    "| $\\langle$         | \\langle         |\n",
    "| $\\lbrace$         | \\lbrace         |\n",
    "| $\\vert$           | \\vert           |\n",
    "| $\\Vert$           | \\Vert           |\n",
    "\n",
    "<td><td>"
   ]
  },
  {
   "cell_type": "markdown",
   "id": "c0b615a8",
   "metadata": {},
   "source": [
    "If you think your symbols are getting a little close, use `\\;` to generate a space, which renders as $a\\;b$.\n",
    "\n",
    "We can also apply *accents* to symbols as shown below.  Note that the brackets used here are curly brackets like `{}`."
   ]
  },
  {
   "cell_type": "markdown",
   "id": "2dbea9c1",
   "metadata": {},
   "source": [
    "| Accent                | *LaTeX* script      |\n",
    "|:---------------------:|:-------------------:|\n",
    "| $\\bar{x}$             | \\bar{x}             |\n",
    "| $\\dot{x}$             | \\dot{x}             |\n",
    "| $\\ddot{x}$            | \\ddot{x}            |\n",
    "| $\\hat{x}$             | \\hat{x}             |\n",
    "| $\\vec{x}$             | \\vec{x}             |\n",
    "| $\\tilde{x}$           | \\tilde{x}           |\n",
    "| $\\overrightarrow{AB}$ | \\overrightarrow{AB} |\n",
    "| $x^{y}$               | x^{y}               |\n",
    "| $x_{z}$               | x_{z}               |\n",
    "| $x^{y}_{z}$           | x^{y}_{z}           |"
   ]
  },
  {
   "cell_type": "markdown",
   "id": "ad69c3c8",
   "metadata": {},
   "source": [
    "We can also make rather large expressions in *LaTeX* - see below."
   ]
  },
  {
   "cell_type": "markdown",
   "id": "eb0544e9",
   "metadata": {},
   "source": [
    "| Expression                     | *LaTeX* script             |\n",
    "|:------------------------------:|:--------------------------:|\n",
    "| $$\\frac{a+b}{c-d}$$            | \\frac{a+b}{c-d}            |\n",
    "| $$\\left(\\frac{a}{b}\\right)$$   | \\left(\\frac{a}{b}\\right)   |\n",
    "| $$\\sqrt{a+b-c}$$               | \\sqrt{a+b-c}               |\n",
    "| $$\\sum\\limits_{i=1}^{n}i^{2}$$ | \\sum\\limits_{i=1}^{n}i^{2} |\n",
    "| $$\\int\\limits_{a}^{b}f(x)dx$$  | \\int\\limits_{a}^{b}f(x)dx  |\n",
    "\n",
    "[Return to contents](#0.)\n",
    "\n",
    "<hr style=\"border:2px solid gray\">"
   ]
  },
  {
   "cell_type": "markdown",
   "id": "c18ed8f2",
   "metadata": {},
   "source": [
    "# 4. Where to next? <a name=\"4.\"></a>"
   ]
  },
  {
   "cell_type": "markdown",
   "id": "00296963",
   "metadata": {},
   "source": [
    "If you're ready to test your newly-acquired skills with Python, check out the [challenges](IntroChallenges.ipynb) we've prepared for you.  There are also [solutions](IntroChallenges.ipynb) available for when you're ready to check your answers.  If you're ready to learn some more, there is a [notebook](Data.ipynb) on data processing with Python ready and waiting."
   ]
  },
  {
   "cell_type": "markdown",
   "id": "364ce63b",
   "metadata": {},
   "source": [
    "<hr style=\"border:2px solid gray\">"
   ]
  }
 ],
 "metadata": {
  "kernelspec": {
   "display_name": "Python 3 (ipykernel)",
   "language": "python",
   "name": "python3"
  },
  "language_info": {
   "codemirror_mode": {
    "name": "ipython",
    "version": 3
   },
   "file_extension": ".py",
   "mimetype": "text/x-python",
   "name": "python",
   "nbconvert_exporter": "python",
   "pygments_lexer": "ipython3",
   "version": "3.7.6"
  }
 },
 "nbformat": 4,
 "nbformat_minor": 5
}
