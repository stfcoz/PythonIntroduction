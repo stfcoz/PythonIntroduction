{
 "cells": [
  {
   "cell_type": "markdown",
   "id": "da6f1a08",
   "metadata": {},
   "source": [
    "# Solutions to the data manipulation challenges"
   ]
  },
  {
   "cell_type": "markdown",
   "id": "5ab048dd",
   "metadata": {},
   "source": [
    "Contents:\n",
    "- [Solutions - Easy](#1.)\n",
    "  - [E1 solution - Part 1](#1.1.1)\n",
    "  - [E1 solution - Part 2](#1.1.2)\n",
    "  - [E1 solution - Part 3](#1.1.3)\n",
    "  - [E2 solution](#1.2)\n",
    "- [Solutions - Medium](#2.)\n",
    "  - [M1 solution](#2.1)\n",
    "  - [M2 solution](#2.2)\n",
    "  - [M3 solution - Part 1](#2.3.1)\n",
    "  - [M3 solution - Part 2](#2.3.2)\n",
    "  - [M3 solution - Part 3](#2.3.3)\n",
    "- [Solutions - Hard](#3.)\n",
    "  - [H1 solution - Part 1](#3.1.1)\n",
    "  - [H1 solution - Part 2](#3.1.2)\n",
    "  - [H1 solution - Part 3](#3.1.3)"
   ]
  },
  {
   "cell_type": "markdown",
   "id": "f2956b76",
   "metadata": {},
   "source": [
    "# 1. Solutions - Easy <a name=\"1.\"></a>"
   ]
  },
  {
   "cell_type": "markdown",
   "id": "d9283077",
   "metadata": {},
   "source": [
    "### 1.1.1 E1 solution - Part 1 <a name=\"1.1.1\"></a>"
   ]
  },
  {
   "cell_type": "markdown",
   "id": "dddf50e0",
   "metadata": {},
   "source": [
    "As we want this to work with multiple inputs for the vertices, we need to use floats and inputs. We can do this by assigning each vertex with the *float(input())* command then inputting each vertex into an array. We shall call this array vertices. Next we make a UDF to give the area of the triangle using these vertices with the formula provided. Finally, we call the UDF at the end to run it.\n",
    "\n",
    "First of all, the float inputs:"
   ]
  },
  {
   "cell_type": "code",
   "execution_count": null,
   "id": "275717e9",
   "metadata": {},
   "outputs": [],
   "source": [
    "x1=float(input(\"x1:\"))\n",
    "y1=float(input(\"y1:\"))\n",
    "x2=float(input(\"x2:\"))\n",
    "y2=float(input(\"y2:\"))\n",
    "x3=float(input(\"x3:\"))\n",
    "y3=float(input(\"y3:\"))"
   ]
  },
  {
   "cell_type": "markdown",
   "id": "6d132498",
   "metadata": {},
   "source": [
    "Now we can build our array of the vertices above.  However, naming it *vertices* or something relatively long would be inefficient and time-consuming as we will need to constantly write out the name of this array.  As such, we shall simply name our array `v`."
   ]
  },
  {
   "cell_type": "code",
   "execution_count": null,
   "id": "38b1d710",
   "metadata": {},
   "outputs": [],
   "source": [
    "import numpy as np\n",
    "\n",
    "v=np.array([x1, y1, x2, y2, x3, y3])"
   ]
  },
  {
   "cell_type": "markdown",
   "id": "68e2903f",
   "metadata": {},
   "source": [
    "Now we shall write our UDF.  It will directly give us our result, so we should include a `print` function and text in string form so we don't just get an unmarked value as the output.  We also need to call it at the end."
   ]
  },
  {
   "cell_type": "code",
   "execution_count": null,
   "id": "0a511d5c",
   "metadata": {},
   "outputs": [],
   "source": [
    "def area(v):\n",
    "    print(f\"Area of triangle = {((v[2]*v[5])-(v[4]*v[3])-(v[0]*v[5])+(v[4]*v[1])+(v[0]*v[3])-(v[2]*v[1]))/2} units\")\n",
    "area(v)"
   ]
  },
  {
   "cell_type": "markdown",
   "id": "8c115cb9",
   "metadata": {},
   "source": [
    "Putting it all together:"
   ]
  },
  {
   "cell_type": "code",
   "execution_count": null,
   "id": "85436ea0",
   "metadata": {},
   "outputs": [],
   "source": [
    "import numpy as np\n",
    "\n",
    "x1=float(input(\"x1: \"))\n",
    "y1=float(input(\"y1: \"))\n",
    "x2=float(input(\"x2: \"))\n",
    "y2=float(input(\"y2: \"))\n",
    "x3=float(input(\"x3: \"))\n",
    "y3=float(input(\"y3: \"))\n",
    "\n",
    "v=np.array([x1,y1,x2,y2,x3,y3])\n",
    "\n",
    "def area(v):\n",
    "    print(f\"Area of triangle is {((v[2]*v[5])-(v[4]*v[3])-(v[0]*v[5])+(v[4]*v[1])+(v[0]*v[3])-(v[2]*v[1]))/2} units\")\n",
    "area(v)"
   ]
  },
  {
   "cell_type": "markdown",
   "id": "50401f59",
   "metadata": {},
   "source": [
    "### 1.1.2 E1 solution - Part 2 <a name=\"1.1.2\"></a>"
   ]
  },
  {
   "cell_type": "markdown",
   "id": "436e015e",
   "metadata": {},
   "source": [
    "The example triangle with coordinates $(0, 0), (1, 0), (0, 2)$ is actually a very good test case, as it will be a right-angled triangle.  This means its area will be given by $A = \\frac{1}{2} l_1 l_2$ where $l_1$ and $l_2$ are the two sides adjacent to the hypoteneuse.  In this case, the area will be 1 unit - which matches what we get from running our function with these values used for the vertices!"
   ]
  },
  {
   "cell_type": "markdown",
   "id": "2b20666d",
   "metadata": {},
   "source": [
    "### 1.1.3 E1 solution - Part 3 <a name=\"1.1.3\"></a>"
   ]
  },
  {
   "cell_type": "markdown",
   "id": "c033d101",
   "metadata": {},
   "source": [
    "Our function - with an example docstring included - is below.  A docstring should at least include the arguments accepted by a UDF and a brief overview of its purpose."
   ]
  },
  {
   "cell_type": "code",
   "execution_count": null,
   "id": "730e6eaa",
   "metadata": {},
   "outputs": [],
   "source": [
    "def area(v):\n",
    "    '''\n",
    "    The arguments of the function are the vertices, given by (x1,y1), (x2,y2) and (x3,y3).\n",
    "    The function will return the area of a triangle defined by these vertices\n",
    "    '''\n",
    "    print(f\"Area of triangle = {((v[2]*v[5])-(v[4]*v[3])-(v[0]*v[5])+(v[4]*v[1])+(v[0]*v[3])-(v[2]*v[1]))/2} units\")"
   ]
  },
  {
   "cell_type": "markdown",
   "id": "078b81bd",
   "metadata": {},
   "source": [
    "## 1.2 E2 solution <a name=\"2.1\"></a>"
   ]
  },
  {
   "cell_type": "markdown",
   "id": "4eb096ce",
   "metadata": {},
   "source": [
    "The first step is to generate data for our parametric variable $t$.  `linspace` would be the best option as it generates evenly spaced datapoints."
   ]
  },
  {
   "cell_type": "code",
   "execution_count": null,
   "id": "d36c0ae2",
   "metadata": {},
   "outputs": [],
   "source": [
    "t = np.linspace(-5,5,1000)"
   ]
  },
  {
   "cell_type": "markdown",
   "id": "f7940941",
   "metadata": {},
   "source": [
    "Now we write these parametric equations in a form that Python will recognise."
   ]
  },
  {
   "cell_type": "code",
   "execution_count": null,
   "id": "5216458a",
   "metadata": {},
   "outputs": [],
   "source": [
    "x1 = np.sin(t)*(math.e**(np.cos(t)) - 2*np.cos(4*t) + np.sin(t/12)**5)\n",
    "y1 = np.cos(t)*(math.e**(np.cos(t)) - 2*np.cos(4*t) + np.sin(t/12)**5)\n",
    "\n",
    "x2 = (t/2)*np.cos(t)\n",
    "y2 = -(t/2)*np.sin(t)"
   ]
  },
  {
   "cell_type": "markdown",
   "id": "de4d6bc4",
   "metadata": {},
   "source": [
    "Let's generate basic plots for both of these and see what we get."
   ]
  },
  {
   "cell_type": "code",
   "execution_count": null,
   "id": "e146eb13",
   "metadata": {},
   "outputs": [],
   "source": [
    "plt.plot(x1,y1)\n",
    "plt.show()\n",
    "\n",
    "plt.plot(x2,y2)\n",
    "plt.show()"
   ]
  },
  {
   "cell_type": "markdown",
   "id": "f1bec99c",
   "metadata": {},
   "source": [
    "There's definitely a problem using these values of $t$ for the Fermat spiral - it isn't actually making a spiral!  We can identify two problems:\n",
    "- The numerical difference between the upper and lower bounds is not enough for an obvious curve\n",
    "- We have two curves that curl in different directions\n",
    "\n",
    "Therefore, we must set the lower bound of our $t$ data to $0$ and increase the upper bound - perhaps $50$ will do?"
   ]
  },
  {
   "cell_type": "code",
   "execution_count": null,
   "id": "a04a93c1",
   "metadata": {},
   "outputs": [],
   "source": [
    "t = np.linspace(0,50,1000)\n",
    "\n",
    "x1 = np.sin(t)*(math.e**(np.cos(t)) - 2*np.cos(4*t) + np.sin(t/12)**5)\n",
    "y1 = np.cos(t)*(math.e**(np.cos(t)) - 2*np.cos(4*t) + np.sin(t/12)**5)\n",
    "\n",
    "x2 = (t/2)*np.cos(t)\n",
    "y2 = -(t/2)*np.sin(t)\n",
    "\n",
    "plt.plot(x1,y1)\n",
    "plt.show()\n",
    "\n",
    "plt.plot(x2,y2)\n",
    "plt.show()"
   ]
  },
  {
   "cell_type": "markdown",
   "id": "895733b0",
   "metadata": {},
   "source": [
    "The Fermat Spiral is looking good, but now the Butterfly is all messed up!  The best approach would be to use two different $t$ datasets for each plot."
   ]
  },
  {
   "cell_type": "code",
   "execution_count": null,
   "id": "6c66fe47",
   "metadata": {},
   "outputs": [],
   "source": [
    "t1 = np.linspace(-5,5,1000)\n",
    "t2 = np.linspace(0,50,1000)\n",
    "\n",
    "x1 = np.sin(t1)*(math.e**(np.cos(t1)) - 2*np.cos(4*t1) + np.sin(t1/12)**5)\n",
    "y1 = np.cos(t1)*(math.e**(np.cos(t1)) - 2*np.cos(4*t1) + np.sin(t1/12)**5)\n",
    "\n",
    "x2 = (t2/2)*np.cos(t2)\n",
    "y2 = -(t2/2)*np.sin(t2)\n",
    "\n",
    "plt.plot(x1,y1)\n",
    "plt.show()\n",
    "\n",
    "plt.plot(x2,y2)\n",
    "plt.show()"
   ]
  },
  {
   "cell_type": "markdown",
   "id": "4a24666b",
   "metadata": {},
   "source": [
    "Much better!  However, these plots would be meaningless to a random observer.  We'll need to label and title both of them."
   ]
  },
  {
   "cell_type": "code",
   "execution_count": null,
   "id": "cf140fb4",
   "metadata": {},
   "outputs": [],
   "source": [
    "plt.plot(x1,y1, 'g')\n",
    "plt.title('Plot of a Butterfly Curve')\n",
    "plt.xlabel('x')\n",
    "plt.ylabel('y')\n",
    "plt.show()\n",
    "\n",
    "plt.plot(x2,y2, 'b')\n",
    "plt.title('Plot of a Fermat Spiral')\n",
    "plt.xlabel('x')\n",
    "plt.ylabel('y')\n",
    "plt.show()"
   ]
  },
  {
   "cell_type": "markdown",
   "id": "6e6a1b94",
   "metadata": {},
   "source": [
    "Putting it all together:"
   ]
  },
  {
   "cell_type": "code",
   "execution_count": null,
   "id": "5cbb3d80",
   "metadata": {},
   "outputs": [],
   "source": [
    "import numpy as np\n",
    "import matplotlib.pyplot as plt\n",
    "import math\n",
    "\n",
    "t1 = np.linspace(-5,5,1000)\n",
    "t2 = np.linspace(0,50,1000)\n",
    "\n",
    "x1 = np.sin(t1)*(math.e**(np.cos(t1)) - 2*np.cos(4*t1) + np.sin(t1/12)**5)\n",
    "y1 = np.cos(t1)*(math.e**(np.cos(t1)) - 2*np.cos(4*t1) + np.sin(t1/12)**5)\n",
    "\n",
    "x2 = (t2/2)*np.cos(t2)\n",
    "y2 = -(t2/2)*np.sin(t2)\n",
    "\n",
    "plt.plot(x1,y1, 'g')\n",
    "plt.title('Plot of a Butterfly Curve')\n",
    "plt.xlabel('x')\n",
    "plt.ylabel('y')\n",
    "plt.show()\n",
    "\n",
    "plt.plot(x2,y2, 'b')\n",
    "plt.title('Plot of a Fermat Spiral')\n",
    "plt.xlabel('x')\n",
    "plt.ylabel('y')\n",
    "plt.show()"
   ]
  },
  {
   "cell_type": "markdown",
   "id": "d5a57161",
   "metadata": {},
   "source": [
    "# 2. Solutions - Medium <a name=\"2.\"></a>"
   ]
  },
  {
   "cell_type": "markdown",
   "id": "9d94d596",
   "metadata": {},
   "source": [
    "## 2.1 M1 solution <a name=\"2.1\"></a>"
   ]
  },
  {
   "cell_type": "code",
   "execution_count": null,
   "id": "66773acd",
   "metadata": {},
   "outputs": [],
   "source": []
  },
  {
   "cell_type": "markdown",
   "id": "59351192",
   "metadata": {},
   "source": [
    "## 2.2 M2 solution <a name=\"2.2\"></a>"
   ]
  },
  {
   "cell_type": "code",
   "execution_count": null,
   "id": "2ce0a79b",
   "metadata": {},
   "outputs": [],
   "source": []
  },
  {
   "cell_type": "markdown",
   "id": "66bd4337",
   "metadata": {},
   "source": [
    "### 2.3.1 M3 solution - Part 1 <a name=\"2.1.1\"></a>"
   ]
  },
  {
   "cell_type": "code",
   "execution_count": null,
   "id": "504e3e8b",
   "metadata": {},
   "outputs": [],
   "source": []
  },
  {
   "cell_type": "markdown",
   "id": "49c5234e",
   "metadata": {},
   "source": [
    "### 2.3.2 M3 solution - Part 2 <a name=\"2.1.2\"></a>"
   ]
  },
  {
   "cell_type": "code",
   "execution_count": null,
   "id": "824d608b",
   "metadata": {},
   "outputs": [],
   "source": []
  },
  {
   "cell_type": "markdown",
   "id": "b25b0165",
   "metadata": {},
   "source": [
    "### 2.3.3 M3 solution - Part 3 <a name=\"2.1.3\"></a>"
   ]
  },
  {
   "cell_type": "code",
   "execution_count": null,
   "id": "8eb519bd",
   "metadata": {},
   "outputs": [],
   "source": []
  },
  {
   "cell_type": "markdown",
   "id": "58558498",
   "metadata": {},
   "source": [
    "# 3. Solutions - Hard <a name=\"3.\"></a>"
   ]
  },
  {
   "cell_type": "markdown",
   "id": "651f9e78",
   "metadata": {},
   "source": [
    "### 3.1.1 H1 solution - Part 1 <a name=\"3.1.1\"></a>"
   ]
  },
  {
   "cell_type": "code",
   "execution_count": null,
   "id": "a66c943a",
   "metadata": {},
   "outputs": [],
   "source": []
  },
  {
   "cell_type": "markdown",
   "id": "bf21b0b5",
   "metadata": {},
   "source": [
    "### 3.1.2 H1 solution - Part 2 <a name=\"3.1.2\"></a>"
   ]
  },
  {
   "cell_type": "code",
   "execution_count": null,
   "id": "a578e43d",
   "metadata": {},
   "outputs": [],
   "source": []
  },
  {
   "cell_type": "markdown",
   "id": "bbab8601",
   "metadata": {},
   "source": [
    "### 3.1.1 H1 solution - Part 3 <a name=\"3.1.3\"></a>"
   ]
  },
  {
   "cell_type": "code",
   "execution_count": null,
   "id": "c1b3ac5e",
   "metadata": {},
   "outputs": [],
   "source": []
  }
 ],
 "metadata": {
  "kernelspec": {
   "display_name": "Python 3 (ipykernel)",
   "language": "python",
   "name": "python3"
  },
  "language_info": {
   "codemirror_mode": {
    "name": "ipython",
    "version": 3
   },
   "file_extension": ".py",
   "mimetype": "text/x-python",
   "name": "python",
   "nbconvert_exporter": "python",
   "pygments_lexer": "ipython3",
   "version": "3.7.6"
  }
 },
 "nbformat": 4,
 "nbformat_minor": 5
}
