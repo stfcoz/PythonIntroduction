{
 "cells": [
  {
   "cell_type": "markdown",
   "id": "060dbf95",
   "metadata": {},
   "source": [
    "# Solutions to the data manipulation challenges"
   ]
  },
  {
   "cell_type": "markdown",
   "id": "9bd37b36",
   "metadata": {},
   "source": [
    "Contents:\n",
    "- [Solutions - Easy](#1.)\n",
    "  - [E1 solution - Part 1](#1.1.1)\n",
    "  - [E1 solution - Part 2](#1.1.2)\n",
    "  - [E1 solution - Part 3](#1.1.3)\n",
    "  - [E2 solution](#1.2)\n",
    "- [Solutions - Medium](#2.)\n",
    "  - [M1 solution](#2.1)\n",
    "  - [M2 solution](#2.2)\n",
    "  - [M3 solution - Part 1](#2.3.1)\n",
    "  - [M3 solution - Part 2](#2.3.2)\n",
    "  - [M3 solution - Part 3](#2.3.3)\n",
    "- [Solutions - Hard](#3.)\n",
    "  - [H1 solution - Part 1](#3.1.1)\n",
    "  - [H1 solution - Part 2](#3.1.2)\n",
    "  - [H1 solution - Part 3](#3.1.3)"
   ]
  },
  {
   "cell_type": "markdown",
   "id": "372a2383",
   "metadata": {},
   "source": [
    "# 1. Solutions - Easy <a name=\"1.\"></a>"
   ]
  },
  {
   "cell_type": "markdown",
   "id": "f294aec2",
   "metadata": {},
   "source": [
    "### 1.1.1 E1 solution - Part 1 <a name=\"1.1.1\"></a>"
   ]
  },
  {
   "cell_type": "markdown",
   "id": "8631138c",
   "metadata": {},
   "source": [
    "As we want this to work with multiple inputs for the vertices, we need to use floats and inputs. We can do this by assigning each vertex with the *float(input())* command then inputting each vertex into an array. We shall call this array vertices. Next we make a UDF to give the area of the triangle using these vertices with the formula provided. Finally, we call the UDF at the end to run it.\n",
    "\n",
    "First of all, the float inputs:"
   ]
  },
  {
   "cell_type": "code",
   "execution_count": null,
   "id": "779e7c08",
   "metadata": {},
   "outputs": [],
   "source": [
    "x1=float(input(\"x1:\"))\n",
    "y1=float(input(\"y1:\"))\n",
    "x2=float(input(\"x2:\"))\n",
    "y2=float(input(\"y2:\"))\n",
    "x3=float(input(\"x3:\"))\n",
    "y3=float(input(\"y3:\"))"
   ]
  },
  {
   "cell_type": "markdown",
   "id": "90bd5c33",
   "metadata": {},
   "source": [
    "Now we can build our array of the vertices above.  However, naming it *vertices* or something relatively long would be inefficient and time-consuming as we will need to constantly write out the name of this array.  As such, we shall simply name our array `v`."
   ]
  },
  {
   "cell_type": "code",
   "execution_count": null,
   "id": "121908f4",
   "metadata": {},
   "outputs": [],
   "source": [
    "import numpy as np\n",
    "\n",
    "v=np.array([x1, y1, x2, y2, x3, y3])"
   ]
  },
  {
   "cell_type": "markdown",
   "id": "08099e61",
   "metadata": {},
   "source": [
    "Now we shall write our UDF.  It will directly give us our result, so we should include a `print` function and text in string form so we don't just get an unmarked value as the output.  We also need to call it at the end."
   ]
  },
  {
   "cell_type": "code",
   "execution_count": null,
   "id": "d763b8a3",
   "metadata": {},
   "outputs": [],
   "source": [
    "def area(v):\n",
    "    print(f\"Area of triangle = {((v[2]*v[5])-(v[4]*v[3])-(v[0]*v[5])+(v[4]*v[1])+(v[0]*v[3])-(v[2]*v[1]))/2} units\")\n",
    "area(v)"
   ]
  },
  {
   "cell_type": "markdown",
   "id": "9b23d74c",
   "metadata": {},
   "source": [
    "Putting it all together:"
   ]
  },
  {
   "cell_type": "code",
   "execution_count": null,
   "id": "6fd49451",
   "metadata": {},
   "outputs": [],
   "source": [
    "import numpy as np\n",
    "\n",
    "x1=float(input(\"x1: \"))\n",
    "y1=float(input(\"y1: \"))\n",
    "x2=float(input(\"x2: \"))\n",
    "y2=float(input(\"y2: \"))\n",
    "x3=float(input(\"x3: \"))\n",
    "y3=float(input(\"y3: \"))\n",
    "\n",
    "v=np.array([x1,y1,x2,y2,x3,y3])\n",
    "\n",
    "def area(v):\n",
    "    print(f\"Area of triangle is {((v[2]*v[5])-(v[4]*v[3])-(v[0]*v[5])+(v[4]*v[1])+(v[0]*v[3])-(v[2]*v[1]))/2} units\")\n",
    "area(v)"
   ]
  },
  {
   "cell_type": "markdown",
   "id": "f082f2d3",
   "metadata": {},
   "source": [
    "### 1.1.2 E1 solution - Part 2 <a name=\"1.1.2\"></a>"
   ]
  },
  {
   "cell_type": "markdown",
   "id": "915778a7",
   "metadata": {},
   "source": [
    "The example triangle with coordinates $(0, 0), (1, 0), (0, 2)$ is actually a very good test case, as it will be a right-angled triangle.  This means its area will be given by $A = \\frac{1}{2} l_1 l_2$ where $l_1$ and $l_2$ are the two sides adjacent to the hypoteneuse.  In this case, the area will be 1 unit - which matches what we get from running our function with these values used for the vertices!"
   ]
  },
  {
   "cell_type": "markdown",
   "id": "c70c2613",
   "metadata": {},
   "source": [
    "### 1.1.3 E1 solution - Part 3 <a name=\"1.1.3\"></a>"
   ]
  },
  {
   "cell_type": "markdown",
   "id": "5cf327d2",
   "metadata": {},
   "source": [
    "Our function - with an example docstring included - is below.  A docstring should at least include the arguments accepted by a UDF and a brief overview of its purpose."
   ]
  },
  {
   "cell_type": "code",
   "execution_count": null,
   "id": "ccc9d6b5",
   "metadata": {},
   "outputs": [],
   "source": [
    "def area(v):\n",
    "    '''\n",
    "    The arguments of the function are the vertices, given by (x1,y1), (x2,y2) and (x3,y3).\n",
    "    The function will return the area of a triangle defined by these vertices\n",
    "    '''\n",
    "    print(f\"Area of triangle = {((v[2]*v[5])-(v[4]*v[3])-(v[0]*v[5])+(v[4]*v[1])+(v[0]*v[3])-(v[2]*v[1]))/2} units\")"
   ]
  },
  {
   "cell_type": "markdown",
   "id": "66cab27b",
   "metadata": {},
   "source": [
    "## 1.2 E2 solution <a name=\"2.1\"></a>"
   ]
  },
  {
   "cell_type": "markdown",
   "id": "62749b71",
   "metadata": {},
   "source": [
    "The first step is to generate data for our parametric variable $t$.  `linspace` would be the best option as it generates evenly spaced datapoints."
   ]
  },
  {
   "cell_type": "code",
   "execution_count": null,
   "id": "eedf2a52",
   "metadata": {},
   "outputs": [],
   "source": [
    "t = np.linspace(-5,5,1000)"
   ]
  },
  {
   "cell_type": "markdown",
   "id": "3dd062cc",
   "metadata": {},
   "source": [
    "Now we write these parametric equations in a form that Python will recognise."
   ]
  },
  {
   "cell_type": "code",
   "execution_count": null,
   "id": "6b32c379",
   "metadata": {},
   "outputs": [],
   "source": [
    "x1 = np.sin(t)*(math.e**(np.cos(t)) - 2*np.cos(4*t) + np.sin(t/12)**5)\n",
    "y1 = np.cos(t)*(math.e**(np.cos(t)) - 2*np.cos(4*t) + np.sin(t/12)**5)\n",
    "\n",
    "x2 = (t/2)*np.cos(t)\n",
    "y2 = -(t/2)*np.sin(t)"
   ]
  },
  {
   "cell_type": "markdown",
   "id": "dd5ef125",
   "metadata": {},
   "source": [
    "Let's generate basic plots for both of these and see what we get."
   ]
  },
  {
   "cell_type": "code",
   "execution_count": null,
   "id": "56b38293",
   "metadata": {},
   "outputs": [],
   "source": [
    "plt.plot(x1,y1)\n",
    "plt.show()\n",
    "\n",
    "plt.plot(x2,y2)\n",
    "plt.show()"
   ]
  },
  {
   "cell_type": "markdown",
   "id": "148ef0a0",
   "metadata": {},
   "source": [
    "There's definitely a problem using these values of $t$ for the Fermat spiral - it isn't actually making a spiral!  We can identify two problems:\n",
    "- The numerical difference between the upper and lower bounds is not enough for an obvious curve\n",
    "- We have two curves that curl in different directions\n",
    "\n",
    "Therefore, we must set the lower bound of our $t$ data to $0$ and increase the upper bound - perhaps $50$ will do?"
   ]
  },
  {
   "cell_type": "code",
   "execution_count": null,
   "id": "5b015fce",
   "metadata": {},
   "outputs": [],
   "source": [
    "t = np.linspace(0,50,1000)\n",
    "\n",
    "x1 = np.sin(t)*(math.e**(np.cos(t)) - 2*np.cos(4*t) + np.sin(t/12)**5)\n",
    "y1 = np.cos(t)*(math.e**(np.cos(t)) - 2*np.cos(4*t) + np.sin(t/12)**5)\n",
    "\n",
    "x2 = (t/2)*np.cos(t)\n",
    "y2 = -(t/2)*np.sin(t)\n",
    "\n",
    "plt.plot(x1,y1)\n",
    "plt.show()\n",
    "\n",
    "plt.plot(x2,y2)\n",
    "plt.show()"
   ]
  },
  {
   "cell_type": "markdown",
   "id": "c755ca72",
   "metadata": {},
   "source": [
    "The Fermat Spiral is looking good, but now the Butterfly is all messed up!  The best approach would be to use two different $t$ datasets for each plot."
   ]
  },
  {
   "cell_type": "code",
   "execution_count": null,
   "id": "60afd455",
   "metadata": {},
   "outputs": [],
   "source": [
    "t1 = np.linspace(-5,5,1000)\n",
    "t2 = np.linspace(0,50,1000)\n",
    "\n",
    "x1 = np.sin(t1)*(math.e**(np.cos(t1)) - 2*np.cos(4*t1) + np.sin(t1/12)**5)\n",
    "y1 = np.cos(t1)*(math.e**(np.cos(t1)) - 2*np.cos(4*t1) + np.sin(t1/12)**5)\n",
    "\n",
    "x2 = (t2/2)*np.cos(t2)\n",
    "y2 = -(t2/2)*np.sin(t2)\n",
    "\n",
    "plt.plot(x1,y1)\n",
    "plt.show()\n",
    "\n",
    "plt.plot(x2,y2)\n",
    "plt.show()"
   ]
  },
  {
   "cell_type": "markdown",
   "id": "9fdf3309",
   "metadata": {},
   "source": [
    "Much better!  However, these plots would be meaningless to a random observer.  We'll need to label and title both of them."
   ]
  },
  {
   "cell_type": "code",
   "execution_count": null,
   "id": "176b87cf",
   "metadata": {},
   "outputs": [],
   "source": [
    "plt.plot(x1,y1, 'g')\n",
    "plt.title('Plot of a Butterfly Curve')\n",
    "plt.xlabel('x')\n",
    "plt.ylabel('y')\n",
    "plt.show()\n",
    "\n",
    "plt.plot(x2,y2, 'b')\n",
    "plt.title('Plot of a Fermat Spiral')\n",
    "plt.xlabel('x')\n",
    "plt.ylabel('y')\n",
    "plt.show()"
   ]
  },
  {
   "cell_type": "markdown",
   "id": "81d1a293",
   "metadata": {},
   "source": [
    "Putting it all together:"
   ]
  },
  {
   "cell_type": "code",
   "execution_count": null,
   "id": "130e8ffb",
   "metadata": {},
   "outputs": [],
   "source": [
    "import numpy as np\n",
    "import matplotlib.pyplot as plt\n",
    "import math\n",
    "\n",
    "t1 = np.linspace(-5,5,1000)\n",
    "t2 = np.linspace(0,50,1000)\n",
    "\n",
    "x1 = np.sin(t1)*(math.e**(np.cos(t1)) - 2*np.cos(4*t1) + np.sin(t1/12)**5)\n",
    "y1 = np.cos(t1)*(math.e**(np.cos(t1)) - 2*np.cos(4*t1) + np.sin(t1/12)**5)\n",
    "\n",
    "x2 = (t2/2)*np.cos(t2)\n",
    "y2 = -(t2/2)*np.sin(t2)\n",
    "\n",
    "plt.plot(x1,y1, 'g')\n",
    "plt.title('Plot of a Butterfly Curve')\n",
    "plt.xlabel('x')\n",
    "plt.ylabel('y')\n",
    "plt.show()\n",
    "\n",
    "plt.plot(x2,y2, 'b')\n",
    "plt.title('Plot of a Fermat Spiral')\n",
    "plt.xlabel('x')\n",
    "plt.ylabel('y')\n",
    "plt.show()"
   ]
  },
  {
   "cell_type": "markdown",
   "id": "d1d5e810",
   "metadata": {},
   "source": [
    "# 2. Solutions - Medium <a name=\"2.\"></a>"
   ]
  },
  {
   "cell_type": "markdown",
   "id": "f774bd78",
   "metadata": {},
   "source": [
    "## 2.1 M1 solution <a name=\"2.1\"></a>"
   ]
  },
  {
   "cell_type": "markdown",
   "id": "9c977ed7",
   "metadata": {},
   "source": [
    "As both plots use the same limits for *x*, we can use `linspace()` to generate the x-data for both plots."
   ]
  },
  {
   "cell_type": "code",
   "execution_count": null,
   "id": "3956ee71",
   "metadata": {},
   "outputs": [],
   "source": [
    "x1=np.linspace(-np.pi, np.pi, 100)"
   ]
  },
  {
   "cell_type": "markdown",
   "id": "d6086162",
   "metadata": {},
   "source": [
    "As the first graph has more required features, we’ll be focusing on just the top graph from now on.  We’ll start by generating the cosine subplot, as it’s displayed first on the plot’s label.  The first step is actually generating the subplot.  We’ll use a $2 \\times 1$ figure, with 2 subplots, hence (2,1,2).  Our x-data is `x1`, our y-data is `np.cos(x1)`, the colour of our line is blue and our we shall label our subplot `cosine`.  Our label will be located in the upper left-hand corner of the plot."
   ]
  },
  {
   "cell_type": "code",
   "execution_count": null,
   "id": "f9791238",
   "metadata": {},
   "outputs": [],
   "source": [
    "ax1=plt.subplot(2,1,1)\n",
    "ax1.plot(x1, np.cos(x1), 'b',label=r'$cosine$')\n",
    "ax1.legend(loc='upper left')"
   ]
  },
  {
   "cell_type": "markdown",
   "id": "4e4ba323",
   "metadata": {},
   "source": [
    "Now we can add our title:"
   ]
  },
  {
   "cell_type": "markdown",
   "id": "166f2856",
   "metadata": {},
   "source": [
    "ax1.set_title('Figure showing two subplots, with points labelled using LaTeX text')"
   ]
  },
  {
   "cell_type": "markdown",
   "id": "0f877ba3",
   "metadata": {},
   "source": [
    "The next step is to set the position of the x and y axes, which are called *spines* in `matplotlib`.  We want them to be central, so we set them to be central:"
   ]
  },
  {
   "cell_type": "code",
   "execution_count": null,
   "id": "b198bba7",
   "metadata": {},
   "outputs": [],
   "source": [
    "ax1.spines['left'].set_position('center')\n",
    "ax1.spines['right'].set_color('none')\n",
    "ax1.spines['bottom'].set_position('center')\n",
    "ax1.spines['top'].set_color('none')"
   ]
  },
  {
   "cell_type": "markdown",
   "id": "b04d5bf5",
   "metadata": {},
   "source": [
    "We repeat these steps for the sine graph.  Now we set the `x` and `y` ticks.  These are values used to show specific\n",
    "points on the coordinate axis.  They will be labelled, which we shall do after setting their position:"
   ]
  },
  {
   "cell_type": "code",
   "execution_count": null,
   "id": "231e742b",
   "metadata": {},
   "outputs": [],
   "source": [
    "ax1.set_xticks([-np.pi,-np.pi/2,0,np.pi/2,np.pi])\n",
    "ax1.set_yticks([-1,0,1])"
   ]
  },
  {
   "cell_type": "markdown",
   "id": "e900c15b",
   "metadata": {},
   "source": [
    "Now to label the ticks:"
   ]
  },
  {
   "cell_type": "code",
   "execution_count": null,
   "id": "ab89cc77",
   "metadata": {},
   "outputs": [],
   "source": [
    "ax1.set_xticklabels([r'$-\\pi$',r'$-\\pi/2$','0',r'$\\pi/2$',r'$\\pi$'])\n",
    "ax1.set_yticklabels([r'-1',r'0',r'1'])"
   ]
  },
  {
   "cell_type": "markdown",
   "id": "a60f8ec5",
   "metadata": {},
   "source": [
    "We’ll describe how to do the annotation for the cosine subplot:"
   ]
  },
  {
   "cell_type": "code",
   "execution_count": null,
   "id": "62fbae7c",
   "metadata": {},
   "outputs": [],
   "source": [
    "ax1.annotate('$cos(2\\pi/3)=-1/2$', xy=(2*np.pi/3,-1/2),\n",
    "arrowprops=dict(arrowstyle='-',connectionstyle='angle3'), xytext=(1.5, 0.8))"
   ]
  },
  {
   "cell_type": "markdown",
   "id": "5c89d0c5",
   "metadata": {},
   "source": [
    "Putting it all together:"
   ]
  },
  {
   "cell_type": "code",
   "execution_count": null,
   "id": "d21313e5",
   "metadata": {},
   "outputs": [],
   "source": [
    "import numpy as np\n",
    "import matplotlib.pyplot as plt\n",
    "import math\n",
    "\n",
    "\n",
    "x1=np.linspace(-np.pi, np.pi, 100)\n",
    "\n",
    "ax1=plt.subplot(2,1,1)\n",
    "ax1.plot(x1, np.cos(x1), 'b',label=r'$cosine$')\n",
    "ax1.legend(loc='upper left')\n",
    "\n",
    "ax1.set_title('Figure showing a subplot, with a point on the line labelled using LaTeX text')\n",
    "\n",
    "ax1.spines['left'].set_position('center')\n",
    "ax1.spines['right'].set_color('none')\n",
    "ax1.spines['bottom'].set_position('center')\n",
    "ax1.spines['top'].set_color('none')\n",
    "\n",
    "ax1.set_xticks([-np.pi,-np.pi/2,0,np.pi/2,np.pi])\n",
    "ax1.set_yticks([-1,0,1])\n",
    "\n",
    "ax1.set_xticklabels([r'$-\\pi$',r'$-\\pi/2$','0',r'$\\pi/2$',r'$\\pi$'])\n",
    "ax1.set_yticklabels([r'-1',r'0',r'1'])\n",
    "\n",
    "ax1.annotate(r'$cos(\\frac{2\\pi}{3})=-\\frac{1}{2}$', xy=(2*np.pi/3,-1/2),\n",
    "arrowprops=dict(arrowstyle='-',connectionstyle='angle3'), xytext=(1.5, 0.8))\n",
    "\n",
    "plt.show()"
   ]
  },
  {
   "cell_type": "markdown",
   "id": "8f79b5b6",
   "metadata": {},
   "source": [
    "## 2.2 M2 solution <a name=\"2.2\"></a>"
   ]
  },
  {
   "cell_type": "markdown",
   "id": "7c184392",
   "metadata": {},
   "source": [
    "We'll need to use arrays; a clear giveaway is that we're given our data in a component-style layout.  So, let's start by writing our data in array form."
   ]
  },
  {
   "cell_type": "code",
   "execution_count": null,
   "id": "9023ed7a",
   "metadata": {},
   "outputs": [],
   "source": [
    "p1 = np.array([8.705,1.114,1.092,-3.410])\n",
    "p2 = np.array([6.808,-5.209,-14.834,7.561])\n",
    "p3 = np.array([4.282,1.750,3.788,6.835])"
   ]
  },
  {
   "cell_type": "markdown",
   "id": "163943a6",
   "metadata": {},
   "source": [
    "A good next step would be to write the formula for invariant mass in Python mathematical syntax."
   ]
  },
  {
   "cell_type": "code",
   "execution_count": null,
   "id": "4e6a27ac",
   "metadata": {},
   "outputs": [],
   "source": [
    "M = (x[0] + y[0])**2 - (x[1] + y[1])**2 - (x[2] + y[2])**2 - (x[3] + y[3])**2"
   ]
  },
  {
   "cell_type": "markdown",
   "id": "9524d557",
   "metadata": {},
   "source": [
    "Now to start comparing.  The best way forward would be a simple accept/reject rule, so this will involve a single `if` statement.  The criterion for our `if` statement will be whether a pair of photons has an invariant mass similar to that of the Higgs boson; that is, 125 GeV.\n",
    "\n",
    "However, it's unlikely that a pair of photons will have an invariant mass of *exactly* 125 GeV, so the *equal to* operator `==` will not work.  This is where the `isclose` function comes in - our check will instead be gauging how close the invariant mass of a photon pair is to 125 GeV.\n",
    "\n",
    "It would be a real pain to rewrite our `if` loop for each possible photon pair, so a UDF is best used here.  Generally, multiple instances of similar-looking input data is a signal to use UDFs.  We'll incorporate our formula for invariant mass into the `if` loop within our UDF."
   ]
  },
  {
   "cell_type": "code",
   "execution_count": null,
   "id": "034eb2be",
   "metadata": {},
   "outputs": [],
   "source": [
    "def Minv(x,y):\n",
    "    M = (x[0] + y[0])**2 - (x[1] + y[1])**2 - (x[2] + y[2])**2 - (x[3] + y[3])**2\n",
    "    if math.isclose(M, 125, abs_tol = 5.0):\n",
    "        print(\"The photons\",x,\"and\",y, \"have an invariant mass of\", M, \"GeV and therefore came from a Higgs decay\")"
   ]
  },
  {
   "cell_type": "markdown",
   "id": "fde21e6b",
   "metadata": {},
   "source": [
    "The full code is below, with the relevant modules imported and all possible combinations called.  Note that there is only an output for the correct (1,3) photon pair as we have not included an *else* condition."
   ]
  },
  {
   "cell_type": "code",
   "execution_count": null,
   "id": "8d5e07bf",
   "metadata": {},
   "outputs": [],
   "source": [
    "import math\n",
    "\n",
    "p1 = np.array([8.705,1.114,1.092,-3.410])\n",
    "p2 = np.array([6.808,-5.209,-14.834,7.561])\n",
    "p3 = np.array([4.282,1.750,3.788,6.835])\n",
    "\n",
    "def Minv(x,y):\n",
    "    M = (x[0] + y[0])**2 - (x[1] + y[1])**2 - (x[2] + y[2])**2 - (x[3] + y[3])**2\n",
    "    if math.isclose(M, 125, abs_tol = 5.0):\n",
    "        print(\"The photons\",x,\"and\",y, \"have an invariant mass of\", M, \"GeV and therefore came from a Higgs decay\")\n",
    "   \n",
    "Minv(p1,p2)\n",
    "Minv(p2,p3)\n",
    "Minv(p1,p3)"
   ]
  },
  {
   "cell_type": "markdown",
   "id": "a64108fa",
   "metadata": {},
   "source": [
    "### 2.3.1 M3 solution - Part 1 <a name=\"2.1.1\"></a>"
   ]
  },
  {
   "cell_type": "markdown",
   "id": "dc51878e",
   "metadata": {},
   "source": [
    "Our first step is to import `pandas` in order to read our *.csv* file, as well as `matplotlib` in order to generate plots from the dataset *company_sales_data.csv*.  We  can also assign the variable `dat` to the `read_csv` function of `pandas` in order to save time."
   ]
  },
  {
   "cell_type": "code",
   "execution_count": null,
   "id": "61d32419",
   "metadata": {},
   "outputs": [],
   "source": [
    "import pandas as pd\n",
    "import matplotlib.pyplot as plt  \n",
    "\n",
    "dat = pd.read_csv(\"company_sales_data.csv\")"
   ]
  },
  {
   "cell_type": "markdown",
   "id": "9cd0bb9b",
   "metadata": {},
   "source": [
    "Now to assign names to the various data columns so we can quickly and easily refer to them in their entirety, or by their element.  Though we won't yet be needing data for the total units of product sold or the total profit for the year, including them now will save time later."
   ]
  },
  {
   "cell_type": "code",
   "execution_count": null,
   "id": "8ca9186f",
   "metadata": {},
   "outputs": [],
   "source": [
    "mon = dat['month_number']\n",
    "cream = dat['facecream']\n",
    "wash = dat['facewash']\n",
    "paste = dat['toothpaste']\n",
    "soap = dat['bathingsoap']\n",
    "shampoo = dat['shampoo']\n",
    "moist = dat['moisturizer']\n",
    "units = dat['total_units']\n",
    "profit = dat['total_profit']"
   ]
  },
  {
   "cell_type": "markdown",
   "id": "24639a53",
   "metadata": {},
   "source": [
    "Since a single plot was specified, we won't need to muck around with any subplots.  Let's add a line for each product and label it so we can later render a legend."
   ]
  },
  {
   "cell_type": "code",
   "execution_count": null,
   "id": "b2487969",
   "metadata": {},
   "outputs": [],
   "source": [
    "plt.plot(mon, cream, label = 'Facecream sales')\n",
    "plt.plot(mon, wash, label = 'Facewash sales')\n",
    "plt.plot(mon, paste, label = 'Toothpaste sales')\n",
    "plt.plot(mon, soap, label = 'Soap sales')\n",
    "plt.plot(mon, shampoo, label = 'Shampoo sales')\n",
    "plt.plot(mon, moist, label = 'Moisturizer sales')"
   ]
  },
  {
   "cell_type": "markdown",
   "id": "1a1ecd8c",
   "metadata": {},
   "source": [
    "It doesn't look the best, does it?  We can resolve this by adding markers - perhaps dot markers?  Simply add `marker = 'o'` to each `plt.plot` command and observe."
   ]
  },
  {
   "cell_type": "code",
   "execution_count": null,
   "id": "71073d41",
   "metadata": {},
   "outputs": [],
   "source": [
    "plt.plot(mon, cream, label = 'Facecream sales', marker='o')\n",
    "plt.plot(mon, wash, label = 'Facewash sales',  marker='o')\n",
    "plt.plot(mon, paste, label = 'Toothpaste sales', marker='o')\n",
    "plt.plot(mon, soap, label = 'Soap sales', marker='o')\n",
    "plt.plot(mon, shampoo, label = 'Shampoo sales', marker='o')\n",
    "plt.plot(mon, moist, label = 'Moisturizer sales', marker='o')"
   ]
  },
  {
   "cell_type": "markdown",
   "id": "f244296f",
   "metadata": {},
   "source": [
    "We label our plot and generate the legend like so.  Since the progression of the year doesn't exactly depend on product sales, the `month_number` column will be our independent variable and we thus use the months as our *x*-axis and our product sales as the various *y* axes.  Another giveaway would be that the months are present for each product dataset, making it a common axis - the *x*-axis. "
   ]
  },
  {
   "cell_type": "code",
   "execution_count": null,
   "id": "f642caf9",
   "metadata": {},
   "outputs": [],
   "source": [
    "plt.xlabel('Month Number')\n",
    "plt.ylabel('Number of units')\n",
    "plt.legend(loc='upper left')\n",
    "plt.title('Sales data')\n",
    "plt.xticks(mon)"
   ]
  },
  {
   "cell_type": "markdown",
   "id": "40534a6f",
   "metadata": {},
   "source": [
    "Let's give it a trial run to see how the legend interacts with our various lines:"
   ]
  },
  {
   "cell_type": "code",
   "execution_count": null,
   "id": "2439dd98",
   "metadata": {},
   "outputs": [],
   "source": [
    "import pandas as pd\n",
    "import matplotlib.pyplot as plt  \n",
    "\n",
    "dat = pd.read_csv(\"company_sales_data.csv\")\n",
    "\n",
    "mon = dat['month_number']\n",
    "cream = dat['facecream']\n",
    "wash = dat['facewash']\n",
    "paste = dat['toothpaste']\n",
    "soap = dat['bathingsoap']\n",
    "shampoo = dat['shampoo']\n",
    "moist = dat['moisturizer']\n",
    "units = dat['total_units']\n",
    "profit = dat['total_profit']\n",
    "\n",
    "plt.plot(mon, cream, label = 'Facecream sales', marker='o')\n",
    "plt.plot(mon, wash, label = 'Facewash sales',  marker='o')\n",
    "plt.plot(mon, paste, label = 'Toothpaste sales', marker='o')\n",
    "plt.plot(mon, soap, label = 'Soap sales', marker='o')\n",
    "plt.plot(mon, shampoo, label = 'Shampoo sales', marker='o')\n",
    "plt.plot(mon, moist, label = 'Moisturizer sales', marker='o')\n",
    "\n",
    "plt.xlabel('Month Number')\n",
    "plt.ylabel('Number of units')\n",
    "plt.legend(loc='upper left')\n",
    "plt.title('Sales data')\n",
    "plt.show()"
   ]
  },
  {
   "cell_type": "markdown",
   "id": "d66b9f6d",
   "metadata": {},
   "source": [
    "Hmm, not the best.  We'll need to resolve this by adjusting our *x* and *y* ticks.  Though having labels for every 2 months works, we may as well use `month_number` for our *x* ticks.  The *y* ticks are a little trickier, as we need to find a way of generating 'dead space' for our legend without 'squishing' our lines together too much.  A good approach would be to have several of the *y* ticks take values above the highest monthly sales value for a single product - in this case, the `14000` (some monetary units) for soap in December.\n",
    "\n",
    "This is right at the end, however, so we should look more towards the highest values earlier in the year.  Soap sales take the highest value here again at `9550` monetary units in March, so we can use this as a base.  The *x* and *y* ticks below should work:"
   ]
  },
  {
   "cell_type": "code",
   "execution_count": null,
   "id": "a5824251",
   "metadata": {},
   "outputs": [],
   "source": [
    "plt.xticks(mon)\n",
    "plt.yticks([1000, 2000, 4000, 6000, 8000, 10000, 12000, 15000, 18000])\n",
    "plt.show()"
   ]
  },
  {
   "cell_type": "markdown",
   "id": "41b31086",
   "metadata": {},
   "source": [
    "Putting it all together:"
   ]
  },
  {
   "cell_type": "code",
   "execution_count": null,
   "id": "f52924a7",
   "metadata": {},
   "outputs": [],
   "source": [
    "import pandas as pd\n",
    "import matplotlib.pyplot as plt  \n",
    "\n",
    "dat = pd.read_csv(\"company_sales_data.csv\")\n",
    "\n",
    "mon = dat['month_number']\n",
    "cream = dat['facecream']\n",
    "wash = dat['facewash']\n",
    "paste = dat['toothpaste']\n",
    "soap = dat['bathingsoap']\n",
    "shampoo = dat['shampoo']\n",
    "moist = dat['moisturizer']\n",
    "units = dat['total_units']\n",
    "profit = dat['total_profit']\n",
    "\n",
    "plt.plot(mon, cream, label = 'Facecream sales', marker='o')\n",
    "plt.plot(mon, wash, label = 'Facewash sales',  marker='o')\n",
    "plt.plot(mon, paste, label = 'Toothpaste sales', marker='o')\n",
    "plt.plot(mon, soap, label = 'Soap sales', marker='o')\n",
    "plt.plot(mon, shampoo, label = 'Shampoo sales', marker='o')\n",
    "plt.plot(mon, moist, label = 'Moisturizer sales', marker='o')\n",
    "\n",
    "plt.xlabel('Month number')\n",
    "plt.ylabel('Number of units')\n",
    "plt.legend(loc='upper left')\n",
    "plt.title('Sales data')\n",
    "plt.xticks(mon)\n",
    "plt.yticks([1000, 2000, 4000, 6000, 8000, 10000, 12000, 15000, 18000])\n",
    "plt.show()"
   ]
  },
  {
   "cell_type": "markdown",
   "id": "ddb6f129",
   "metadata": {},
   "source": [
    "### 2.3.2 M3 solution - Part 2 <a name=\"2.1.2\"></a>"
   ]
  },
  {
   "cell_type": "markdown",
   "id": "879d3f74",
   "metadata": {},
   "source": [
    "Let's generate a really basic bar graph for facecream data and facewash data to see what we get."
   ]
  },
  {
   "cell_type": "code",
   "execution_count": null,
   "id": "01f358f0",
   "metadata": {},
   "outputs": [],
   "source": [
    "plt.bar(month, cream)\n",
    "plt.bar(month, wash)\n",
    "\n",
    "plt.show()"
   ]
  },
  {
   "cell_type": "markdown",
   "id": "16ed445c",
   "metadata": {},
   "source": [
    "This doesn't look the best - it may be better to try and generate the bars side-by-side for each product.  Let's start by reducing the bar width so side-by-side bars can actually fit next to each other:"
   ]
  },
  {
   "cell_type": "code",
   "execution_count": null,
   "id": "210cd8dd",
   "metadata": {},
   "outputs": [],
   "source": [
    "plt.bar(month, cream, width = 0.25)\n",
    "plt.bar(month, wash, width = 0.25)\n",
    "\n",
    "plt.show()"
   ]
  },
  {
   "cell_type": "markdown",
   "id": "f29c2181",
   "metadata": {},
   "source": [
    "Now let's adjust the *x* ticks so every month is showing.  Again, this isn't necessary, but it looks good."
   ]
  },
  {
   "cell_type": "code",
   "execution_count": null,
   "id": "c7bd289b",
   "metadata": {},
   "outputs": [],
   "source": [
    "plt.bar(month, cream, width = 0.25)\n",
    "plt.bar(month, wash, width = 0.25)\n",
    "\n",
    "plt.xticks(month)\n",
    "plt.show()"
   ]
  },
  {
   "cell_type": "markdown",
   "id": "23122228",
   "metadata": {},
   "source": [
    "Now to separate the bars for each product - we do this by shifting them in different directions.  Though we wish to preserve the *y* data, the *x* data is more of a reference frame than anything, so shifting our *x* data doesn't actually matter.\n",
    "\n",
    "How to go about this?  We can use a compact `for` loop to shift every data point in `month_number` - 'left' for the facecream data and 'right' for the facewash data."
   ]
  },
  {
   "cell_type": "code",
   "execution_count": null,
   "id": "c3d63c8b",
   "metadata": {},
   "outputs": [],
   "source": [
    "plt.bar([a-0.25 for a in month], cream, width= 0.25)\n",
    "plt.bar([a+0.25 for a in month], wash, width= -0.25)\n",
    "\n",
    "plt.xticks(month)\n",
    "plt.show()"
   ]
  },
  {
   "cell_type": "markdown",
   "id": "875e1e78",
   "metadata": {},
   "source": [
    "Add labels, a title and a legend, and we're good to go."
   ]
  },
  {
   "cell_type": "code",
   "execution_count": null,
   "id": "42c65628",
   "metadata": {},
   "outputs": [],
   "source": [
    "plt.xlabel('Month number')\n",
    "plt.ylabel('Number of units')\n",
    "plt.legend(loc='upper left')\n",
    "plt.title('Facewash and facecream sales data')"
   ]
  },
  {
   "cell_type": "markdown",
   "id": "a165376b",
   "metadata": {},
   "source": [
    "Putting it all together:"
   ]
  },
  {
   "cell_type": "code",
   "execution_count": null,
   "id": "e3e0787e",
   "metadata": {},
   "outputs": [],
   "source": [
    "plt.bar([a-0.25 for a in month], cream, width= 0.25, label = 'Facecream sales')\n",
    "plt.bar([a+0.25 for a in month], wash, width= -0.25, label = 'Facewash sales')\n",
    "\n",
    "plt.xlabel('Month number')\n",
    "plt.ylabel('Number of units')\n",
    "plt.legend(loc='upper left')\n",
    "plt.title('Facewash and facecream sales data')\n",
    "\n",
    "plt.xticks(month)\n",
    "plt.show()"
   ]
  },
  {
   "cell_type": "markdown",
   "id": "a039657b",
   "metadata": {},
   "source": [
    "### 2.3.3 M3 solution - Part 3 <a name=\"2.1.3\"></a>"
   ]
  },
  {
   "cell_type": "markdown",
   "id": "c43f88ea",
   "metadata": {},
   "source": [
    "Since this is for the final year, we'll need to total up the monthly sales for each product.  We do this using the `sum` function that is built into Python.  Another complication with pie charts is that you can't make 'bare' segments like you can with line graphs - you need to collect all segment data into a single list.  Implementing this isn't actually too bad:"
   ]
  },
  {
   "cell_type": "code",
   "execution_count": null,
   "id": "9b39dbe4",
   "metadata": {},
   "outputs": [],
   "source": [
    "sales = [cream.sum(), wash.sum(), paste.sum(), soap.sum(), shampoo.sum(), moist.sum()]"
   ]
  },
  {
   "cell_type": "markdown",
   "id": "2fd01a2d",
   "metadata": {},
   "source": [
    "We also need to collect our labels into a list:"
   ]
  },
  {
   "cell_type": "code",
   "execution_count": null,
   "id": "f68fc666",
   "metadata": {},
   "outputs": [],
   "source": [
    "lab = ['Facecream', 'Facewash', 'Toothpaste', 'Bathing soap', 'Shampoo', 'Moisturizer']"
   ]
  },
  {
   "cell_type": "markdown",
   "id": "bb6bf997",
   "metadata": {},
   "source": [
    "Let's generate a 'prototpye' pie chart."
   ]
  },
  {
   "cell_type": "code",
   "execution_count": null,
   "id": "bf649c4b",
   "metadata": {},
   "outputs": [],
   "source": [
    "sales = [cream.sum(), wash.sum(), paste.sum(), soap.sum(), shampoo.sum(), moist.sum()]\n",
    "lab = ['Facecream', 'Facewash', 'Toothpaste', 'Bathing soap', 'Shampoo', 'Moisturizer']\n",
    "\n",
    "plt.pie(sales, labels=lab)\n",
    "plt.show()"
   ]
  },
  {
   "cell_type": "markdown",
   "id": "7012c52b",
   "metadata": {},
   "source": [
    "This already looks like what we're after, but we can do better.  Let's make a title and a legend."
   ]
  },
  {
   "cell_type": "code",
   "execution_count": null,
   "id": "a89bb73c",
   "metadata": {},
   "outputs": [],
   "source": [
    "sales = [cream.sum(), wash.sum(), paste.sum(), soap.sum(), shampoo.sum(), moist.sum()]\n",
    "lab = ['Facecream', 'Facewash', 'Toothpaste', 'Bathing soap', 'Shampoo', 'Moisturizer']\n",
    "\n",
    "plt.pie(sales, labels=lab)\n",
    "\n",
    "plt.title('Sales data')\n",
    "plt.legend(loc='lower right')\n",
    "plt.show()"
   ]
  },
  {
   "cell_type": "markdown",
   "id": "de2df01b",
   "metadata": {},
   "source": [
    "On second thoughts, let's not use a legend... our segments are already labelled anyway.\n",
    "\n",
    "As suggested, we use the `autopct` option for `plt.pie` to render percentages on our plot:"
   ]
  },
  {
   "cell_type": "code",
   "execution_count": null,
   "id": "0cb22cfe",
   "metadata": {},
   "outputs": [],
   "source": [
    "plt.pie(sales, labels=lab, autopct='%1.1f%%')"
   ]
  },
  {
   "cell_type": "markdown",
   "id": "127dcd9d",
   "metadata": {},
   "source": [
    "Now to show which product generated the most sales income - this would be bathing soap.  The best way to go about this would be the `explode` option."
   ]
  },
  {
   "cell_type": "code",
   "execution_count": null,
   "id": "b1e4f6ec",
   "metadata": {},
   "outputs": [],
   "source": [
    "boom = [0,0,0,0.2,0,0]\n",
    "plt.pie(sales, labels = lab, autopct='%1.1f%%', explode = boom)"
   ]
  },
  {
   "cell_type": "markdown",
   "id": "50d31804",
   "metadata": {},
   "source": [
    "Putting it all together:"
   ]
  },
  {
   "cell_type": "code",
   "execution_count": null,
   "id": "0c0d154c",
   "metadata": {},
   "outputs": [],
   "source": [
    "sales = [cream.sum(), wash.sum(), paste.sum(), soap.sum(), shampoo.sum(), moist.sum()]\n",
    "lab = ['Facecream', 'Facewash', 'Toothpaste', 'Bathing soap', 'Shampoo', 'Moisturizer']\n",
    "\n",
    "boom = [0,0,0,0.2,0,0]\n",
    "\n",
    "plt.pie(sales, labels = lab, autopct='%1.1f%%', explode = boom)\n",
    "\n",
    "plt.title('Sales data')\n",
    "\n",
    "plt.show()"
   ]
  },
  {
   "cell_type": "markdown",
   "id": "578e80f5",
   "metadata": {},
   "source": [
    "# 3. Solutions - Hard <a name=\"3.\"></a>"
   ]
  },
  {
   "cell_type": "markdown",
   "id": "744a7c25",
   "metadata": {},
   "source": [
    "### 3.1.1 H1 solution - Part 1 <a name=\"3.1.1\"></a>"
   ]
  },
  {
   "cell_type": "code",
   "execution_count": null,
   "id": "6e94c059",
   "metadata": {},
   "outputs": [],
   "source": []
  },
  {
   "cell_type": "markdown",
   "id": "76005a82",
   "metadata": {},
   "source": [
    "### 3.1.2 H1 solution - Part 2 <a name=\"3.1.2\"></a>"
   ]
  },
  {
   "cell_type": "code",
   "execution_count": null,
   "id": "0567ed5e",
   "metadata": {},
   "outputs": [],
   "source": []
  },
  {
   "cell_type": "markdown",
   "id": "f6a68c26",
   "metadata": {},
   "source": [
    "### 3.1.1 H1 solution - Part 3 <a name=\"3.1.3\"></a>"
   ]
  },
  {
   "cell_type": "code",
   "execution_count": null,
   "id": "f94e2ebe",
   "metadata": {},
   "outputs": [],
   "source": []
  }
 ],
 "metadata": {
  "kernelspec": {
   "display_name": "Python 3 (ipykernel)",
   "language": "python",
   "name": "python3"
  },
  "language_info": {
   "codemirror_mode": {
    "name": "ipython",
    "version": 3
   },
   "file_extension": ".py",
   "mimetype": "text/x-python",
   "name": "python",
   "nbconvert_exporter": "python",
   "pygments_lexer": "ipython3",
   "version": "3.7.6"
  }
 },
 "nbformat": 4,
 "nbformat_minor": 5
}
