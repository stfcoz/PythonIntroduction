{
 "cells": [
  {
   "cell_type": "markdown",
   "id": "0b72986f",
   "metadata": {},
   "source": [
    "# Introduction to Python"
   ]
  },
  {
   "cell_type": "markdown",
   "id": "b166045e",
   "metadata": {},
   "source": [
    "Welcome to RAL's introductory course on Python, a coding language used by amateurs and experts alike across all fields of physics.  We'll guide you through the fundamentals of Python and some of its basic functions with some simple exercises.  If you're feeling confident, several challenges can be found throughout this notebook."
   ]
  },
  {
   "cell_type": "markdown",
   "id": "7a825f31",
   "metadata": {},
   "source": [
    "## 1. Getting started"
   ]
  },
  {
   "cell_type": "markdown",
   "id": "0803e346",
   "metadata": {},
   "source": [
    "### 1.1 Code cells"
   ]
  },
  {
   "cell_type": "markdown",
   "id": "925e05e6",
   "metadata": {},
   "source": [
    "We can't do much coding if we can't type anywhere!  Below this paragraph is a *code cell*, where Python code can be entered.  It's currently occupied by a small line of code, but you can see the result of running this code by holding the *shift* key on your keyboard and pressing *enter*."
   ]
  },
  {
   "cell_type": "code",
   "execution_count": 42,
   "id": "86209404",
   "metadata": {},
   "outputs": [
    {
     "name": "stdout",
     "output_type": "stream",
     "text": [
      "Welcome to Python!\n"
     ]
    }
   ],
   "source": [
    "print(\"Welcome to Python!\")"
   ]
  },
  {
   "cell_type": "markdown",
   "id": "adf86b5a",
   "metadata": {},
   "source": [
    "Congratulations - you've just executed your first Python instruction!  Now run the below code cells."
   ]
  },
  {
   "cell_type": "code",
   "execution_count": 43,
   "id": "7cf8f8b1",
   "metadata": {},
   "outputs": [],
   "source": [
    "a = 3"
   ]
  },
  {
   "cell_type": "code",
   "execution_count": null,
   "id": "3aec6209",
   "metadata": {},
   "outputs": [],
   "source": [
    "b = 2*a"
   ]
  },
  {
   "cell_type": "code",
   "execution_count": 44,
   "id": "58e8646d",
   "metadata": {},
   "outputs": [
    {
     "name": "stdout",
     "output_type": "stream",
     "text": [
      "2.1\n"
     ]
    }
   ],
   "source": [
    "print(b)"
   ]
  },
  {
   "cell_type": "code",
   "execution_count": 45,
   "id": "7422949f",
   "metadata": {},
   "outputs": [
    {
     "data": {
      "text/plain": [
       "float"
      ]
     },
     "execution_count": 45,
     "metadata": {},
     "output_type": "execute_result"
    }
   ],
   "source": [
    "type(b)"
   ]
  },
  {
   "cell_type": "code",
   "execution_count": null,
   "id": "f59d73d4",
   "metadata": {},
   "outputs": [],
   "source": [
    "a*b"
   ]
  },
  {
   "cell_type": "code",
   "execution_count": null,
   "id": "5c3142f2",
   "metadata": {},
   "outputs": [],
   "source": [
    "b = 'beep'"
   ]
  },
  {
   "cell_type": "code",
   "execution_count": 46,
   "id": "4bb1186a",
   "metadata": {},
   "outputs": [
    {
     "data": {
      "text/plain": [
       "float"
      ]
     },
     "execution_count": 46,
     "metadata": {},
     "output_type": "execute_result"
    }
   ],
   "source": [
    "type(b)"
   ]
  },
  {
   "cell_type": "markdown",
   "id": "e442a956",
   "metadata": {},
   "source": [
    "What we have done is define two variables *a* and *b* and determined what data type they both are.  Let's discuss data types further."
   ]
  },
  {
   "cell_type": "markdown",
   "id": "d05aceee",
   "metadata": {},
   "source": [
    "### 1.2 Data types & operators"
   ]
  },
  {
   "cell_type": "markdown",
   "id": "9846509f",
   "metadata": {},
   "source": [
    "### 1.2.1 Numerical data types"
   ]
  },
  {
   "cell_type": "markdown",
   "id": "ab60b652",
   "metadata": {},
   "source": [
    "There are several different data types used in Python, each with their own properties and affiliations.  Let's start with *integer variables*, otherwise known as *integers* or *ints*.  Like the integers in mathematics, they are positive or negative whole numbers. Below are some integer variables."
   ]
  },
  {
   "cell_type": "code",
   "execution_count": null,
   "id": "47a3c3e0",
   "metadata": {},
   "outputs": [],
   "source": [
    "1 + 1\n",
    "a = 4"
   ]
  },
  {
   "cell_type": "markdown",
   "id": "0b2f60ab",
   "metadata": {},
   "source": [
    "*Floating-point numbers* or *floats* are real numbers with floating point representation; that is, decimal points.  You may see the character *e* or *E* appear within a float to designate orders of magnitude.  Below are some floats."
   ]
  },
  {
   "cell_type": "code",
   "execution_count": null,
   "id": "454506b5",
   "metadata": {},
   "outputs": [],
   "source": [
    "b = 2.1\n",
    "c = 4E-7"
   ]
  },
  {
   "cell_type": "markdown",
   "id": "9580ea3e",
   "metadata": {},
   "source": [
    "*Complex numbers* are numbers that contain a real component and an imaginary component - in mathematics, an imaginary number is a multiple of the number *i*, which is the square root of -1 and is not seen in the macroscopic world you're used to.  Below are some complex numbers, with their real and imaginary values obtained separately.  Note that *j* rather than *i* is used to represent the imaginary number *i*."
   ]
  },
  {
   "cell_type": "code",
   "execution_count": 47,
   "id": "1fc8e6bc",
   "metadata": {},
   "outputs": [
    {
     "name": "stdout",
     "output_type": "stream",
     "text": [
      "1.5\n",
      "0.5\n"
     ]
    }
   ],
   "source": [
    "d = 1.5 + 0.5j\n",
    "print(d.real)\n",
    "print(d.imag)"
   ]
  },
  {
   "cell_type": "markdown",
   "id": "143530be",
   "metadata": {},
   "source": [
    "*Booleans* are not really numbers or groups of numbers at all.  They can either be *True* or *False* and are denoted by the class *bool* when we determine their type.  An example of a boolean is below."
   ]
  },
  {
   "cell_type": "code",
   "execution_count": 48,
   "id": "12aa420d",
   "metadata": {},
   "outputs": [
    {
     "name": "stdout",
     "output_type": "stream",
     "text": [
      "True\n"
     ]
    },
    {
     "data": {
      "text/plain": [
       "bool"
      ]
     },
     "execution_count": 48,
     "metadata": {},
     "output_type": "execute_result"
    }
   ],
   "source": [
    "test = (4 < 7)\n",
    "print(test)\n",
    "type(test)"
   ]
  },
  {
   "cell_type": "markdown",
   "id": "02e996be",
   "metadata": {},
   "source": [
    "### 1.2.2 Sequenced data types"
   ]
  },
  {
   "cell_type": "markdown",
   "id": "85dda6d2",
   "metadata": {},
   "source": [
    "A *string* is a collection of one or more unicode characters between two ' or \" marks, or even '''.  In fact, there is no character data type in Python; a character would simply be a string of length 1.  Examples of strings are below."
   ]
  },
  {
   "cell_type": "code",
   "execution_count": null,
   "id": "2c0d5d35",
   "metadata": {},
   "outputs": [],
   "source": [
    "'Beep'\n",
    "\"Welcome to Python!\""
   ]
  },
  {
   "cell_type": "markdown",
   "id": "b7630fb3",
   "metadata": {},
   "source": [
    "*Lists* are similar to strings, except the items in a list do not need to be of the same type. They are created by placing the sequence of characters between two square brackets.  Examples of lists are below."
   ]
  },
  {
   "cell_type": "code",
   "execution_count": null,
   "id": "f152a4dc",
   "metadata": {},
   "outputs": [],
   "source": [
    "[] # This is an empty list\n",
    "L = [1,2,3,4,5]"
   ]
  },
  {
   "cell_type": "markdown",
   "id": "d682f212",
   "metadata": {},
   "source": [
    "You may have noticed that the words after the dash didn't interfere with our code.  This is because writing anything after a dash means it is essentially ignored by Python.  This is very useful for annotating your code."
   ]
  },
  {
   "cell_type": "markdown",
   "id": "9fe18152",
   "metadata": {},
   "source": [
    "A useful skill is to be able to access elements of a list, as well as 'slicing' the list between two elements.  See how this is done below."
   ]
  },
  {
   "cell_type": "code",
   "execution_count": 49,
   "id": "8b334d44",
   "metadata": {},
   "outputs": [
    {
     "name": "stdout",
     "output_type": "stream",
     "text": [
      "1\n",
      "2\n",
      "[3, 4]\n",
      "[4, 5]\n"
     ]
    }
   ],
   "source": [
    "print(L[0])\n",
    "print(L[1])\n",
    "print(L[2:4])\n",
    "print(L[3:])"
   ]
  },
  {
   "cell_type": "markdown",
   "id": "78bb5b1c",
   "metadata": {},
   "source": [
    "It's important to remember that the *0th* element of our list is the first item rather than the *1st*.  It may seem a little confusing, but you'll get used to it."
   ]
  },
  {
   "cell_type": "markdown",
   "id": "1b8df76b",
   "metadata": {},
   "source": [
    "*Tuples* are similar to lists, though the only difference is that they are immutable, meaning they cannot be changed after they are created.  An example of a tuple is below."
   ]
  },
  {
   "cell_type": "code",
   "execution_count": 50,
   "id": "b323343f",
   "metadata": {},
   "outputs": [
    {
     "name": "stdout",
     "output_type": "stream",
     "text": [
      "1\n",
      "Surprise!\n"
     ]
    }
   ],
   "source": [
    "t = 1, 2, 3, 'Surprise!'\n",
    "print(t[0])\n",
    "print(t[3])"
   ]
  },
  {
   "cell_type": "markdown",
   "id": "284ca0ff",
   "metadata": {},
   "source": [
    "### 1.2.3 Arithmetic operators"
   ]
  },
  {
   "cell_type": "markdown",
   "id": "6e98ff4d",
   "metadata": {},
   "source": [
    "In the expression *a + b*, *a* and *b* are called *operands* and *+* is called an operator.  In short, it changes the operands in some way.  There are many types of operators in Python but some of them can be a little confusing.  Because of this, we'll just cover the arithmetic and comparison operators as you'll be using them all the time.  See the table below."
   ]
  },
  {
   "cell_type": "markdown",
   "id": "46346b24",
   "metadata": {},
   "source": [
    "|Operator|Description                                                                   |Example       |\n",
    "|-       |-                                                                             |-             |\n",
    "|$+$     |Addition - adds operands on either side of the operator                       |$2 + 2 = 4$   |\n",
    "|$-$     |Subtraction - subtracts right-hand operand from-left hand operand             |$5 - 2 = 3$   |\n",
    "|$*$     |Multiplication - multiplies values on either side of operator                 |$3*3 = 9$     |\n",
    "|$/$     |Division - divides left-hand operand by right-hand operand                    |$22/8 = 22.75$|\n",
    "|$**$    |Exponent - raises left-hand operand to the power of right-hand operand        |$2**3 = 8$    |\n",
    "|%       |Modulo - divides left-hand operand by right-hand operand and returns remainder|13%3 = 1      |\n",
    "|$//$    |Floor division - same as with the division operator, but with decimals removed|$22/8 = 2$    |\n",
    "\n",
    "<table>\n",
    "<thead>\n",
    "<tr><th>Operator</th><th>Description</th><th>Example</th></tr>\n",
    "</thead>\n",
    "<tbody>\n",
    "<tr><td>$+$</td><td>B</td><td>$2 + 2 = 4$</td></tr>\n",
    "<tr><td>$-$</td><td>B</td><td>$5 - 2 = 3$</td></tr>\n",
    "<tr><td>$*$</td><td>B</td><td>$3*3 = 9$</td></tr>\n",
    "<tr><td>$/$</td><td>B</td><td>$22/8 = 22.75$</td></tr>\n",
    "<tr><td>$**$</td><td>B</td><td>$2**3 = 8$</td></tr>\n",
    "<tr><td>%</td><td>B</td><td>$13%3 = 1$</td></tr>\n",
    "<tr><td>$//$</td><td>B</td><td>$22/8 = 2$</td></tr>\n",
    "</tbody>\n",
    "</table>"
   ]
  },
  {
   "cell_type": "markdown",
   "id": "76837899",
   "metadata": {},
   "source": [
    "### 1.2.4 Comparison operators"
   ]
  },
  {
   "cell_type": "markdown",
   "id": "430d591f",
   "metadata": {},
   "source": [
    "Comparison operators are more case-specific than arithmetic operators, but they are still handy to know.  We'll likely encounter them later in this course. See the table below."
   ]
  },
  {
   "cell_type": "markdown",
   "id": "72d8351c",
   "metadata": {},
   "source": [
    "|Operator|Description                                                                          |Example       |\n",
    "|-       |-                                                                                    |-             |\n",
    "|$==$    |Equal to - compares both operands, returns *True* if they are equal                  |$2 + 2 = 4$   |\n",
    "|$!=$    |Not equal to - compares both operands, returns *True* if they are not equal          |$5 - 2 = 3$   |\n",
    "|$<>$    |Alternative form of the *not equal to* operator                                      |$3*3 = 9$     |\n",
    "|$>$     |Greater than - returns *True* if left-hand operand is greater than right-hand operand|$22/8 = 22.75$|\n",
    "|$<$     |Less than - returns *True* if left-hand operand is less than right-hand operand      |$2**3 = 8$    |\n",
    "|$>=$    |Greater than or equal to - returns *True* if left-hand operand is greater than or equal to right-hand operand       |13%3 = 1      |\n",
    "|$<=$    |Less than or equal to - returns *True* if left-hand operand is less than or equal to right-hand operand       |$22/8 = 2$    |"
   ]
  },
  {
   "cell_type": "markdown",
   "id": "3722253d",
   "metadata": {},
   "source": [
    "There is one *assignment* operator that we really ought to cover - the equality operator, *=*.  In short, it assigns a value from a right-hand operad to a left-hand operand.  For instance, in the expression $a = 4$, we have assigned a value of 4 to the left-hand operand *a*."
   ]
  },
  {
   "cell_type": "markdown",
   "id": "c4bcc439",
   "metadata": {},
   "source": [
    "### 1.3 Basic expressions"
   ]
  },
  {
   "cell_type": "markdown",
   "id": "7766741d",
   "metadata": {},
   "source": [
    "Before we get into writing any expressions, we should address how we can get the bits and pieces we need.  A *function* is a block of code that only *runs* (does things) when it is called *written down*.  They are basically machines - you put in *variables* and it gives an *output* that may itself be a variable.  You can write a function, but this may be tedious, so programmers will often import *modules* which are *libraries* containing multiple functions."
   ]
  },
  {
   "cell_type": "markdown",
   "id": "adf23c72",
   "metadata": {},
   "source": [
    "Let's look at a simple example.  The *math* module contains a simple function *sqrt* that gives the square root of an *input* variable.  We can thus write a basic *expression* to determine the square root of an input variable."
   ]
  },
  {
   "cell_type": "code",
   "execution_count": 51,
   "id": "b10d18d8",
   "metadata": {},
   "outputs": [
    {
     "name": "stdout",
     "output_type": "stream",
     "text": [
      "4.358898943540674\n"
     ]
    }
   ],
   "source": [
    "import math       # This imports the math module\n",
    "q = math.sqrt(19) # We use the equality assignment operator to assign the resulting value of math.sqrt(19) to the operand q\n",
    "print(q)          # Just writing 'q' won't actually give a result; we must instead print it"
   ]
  },
  {
   "cell_type": "markdown",
   "id": "1dd966ae",
   "metadata": {},
   "source": [
    "**Example:** A ball is dropped from a tower of height *h* which is built on level ground. The ball has zero initial velocity and accelerates downwards under gravity. Write a program that asks the user to enter the height of the tower in metres and the time interval *t* in seconds, then prints on the screen the height of the ball from the ground at time *t* after it is dropped. Ignore air resistance."
   ]
  },
  {
   "cell_type": "markdown",
   "id": "93bcfc49",
   "metadata": {},
   "source": [
    "As we know, the *print()* function displays an output. We can provide an input location using the *input()* function; this way, we don't have to keep editing our code itself to simply change a variable.  However, this will require the *float()* function, which is used to return a *float* from an *integer* or a *string*.  Using a number would simply remove all decimal values, giving an incorrect result, whilst a string is a sequenced variable type and simply could not be processed by the various functions we shall be using."
   ]
  },
  {
   "cell_type": "markdown",
   "id": "282483ce",
   "metadata": {},
   "source": [
    "The distance from the ground is *h − gt* where $g = 9.81 m s^{-2}$ is the acceleration due to gravity. We can express this using the *round()* function, rounded to two decimal places within the bracket. As for how the answer is displayed, we can combine the actual calculation with the *round()* function within the *print()* function.  As you can see, the actual mathematical operation here is simple - it's the inputs and outputs that are somewhat complicated.  The full code is below."
   ]
  },
  {
   "cell_type": "code",
   "execution_count": 62,
   "id": "68b132fb",
   "metadata": {},
   "outputs": [
    {
     "name": "stdout",
     "output_type": "stream",
     "text": [
      "Enter height50\n",
      "Enter time interval2.5\n",
      "Height after time interval 2.5s = 25.475 m\n"
     ]
    }
   ],
   "source": [
    "import math\n",
    "h=float(input(\"Enter height\"))\n",
    "t=float(input(\"Enter time interval\"))\n",
    "print(f\"Height after time interval {t}s = {round(h-(9.81*t), 3)} m\")"
   ]
  },
  {
   "cell_type": "markdown",
   "id": "7fa5a627",
   "metadata": {},
   "source": [
    "This is a great example of why you should keep track of any brackets used in your expression.  Here, the () bracket indicates where you should put input variables; functions can be 'nested', meaning they can be put inside other functions - just see the *float(input())* part.  As for the {} brackets, they are used within the *print()* function to indicate that *h* and *t* are variables rather than just letters.  Finally, the comma used within the *round* function is because the *round()* function takes two input variables or *arguments* - the value we intend to round, and the number of decimal places which we intend to round to.  For instance, *round(5.76543, 2) = 5.77*."
   ]
  },
  {
   "cell_type": "markdown",
   "id": "fb2d2e14",
   "metadata": {},
   "source": [
    "The below challenge - the first available for you to try - is a great example of how code can be used in many fields aside from particle physics."
   ]
  },
  {
   "cell_type": "markdown",
   "id": "91813a87",
   "metadata": {},
   "source": [
    "**Challenge 1:** A satellite is launched into a circular orbit around Earth such that it orbits once every *T* seconds.\n",
    "- Show that the altitude h above the Earth’s surface of the satellite is $h = \\left( \\frac{GMT^2}{4\\pi^2} \\right)^{1/3} - R$ where $G = 6. 67 × 10^{-11} m^3 kg^{-1} s^{-2}$ is Newton’s gravitational constant, $M = 5. 97 × 10^{24} kg$ is the mass of the Earth and $R = 6371 km$ is the radius of Earth\n",
    "- Write a program that asks the user to enter a desired value of *T* and then calculates and prints out the correct altitude in metres\n",
    "- Use your program to calculate the altitudes of satellites that orbit Earth once a day (period of 1,440 minutes), once every 90 minutes and once every 45 minutes. What do you conclude from the last of these calculations?\n",
    "\n",
    "Hint: Kepler's third law of planetary motion is given by $T^2 = \\frac{4\\pi^2}{GM}a^3$ where *a* is the distance from the centre of gravity.  Input your units in minutes but convert them to seconds by multiplying by 60.  You will only need the functions *float()*, *input()* and *print()*; the rest is just mathematical operators.  You may also find it easier to express the term $\\frac{GMT^2}{4\\pi^2}$ as a single variable - perhaps you could call it *x*?"
   ]
  },
  {
   "cell_type": "code",
   "execution_count": null,
   "id": "8143c216",
   "metadata": {},
   "outputs": [],
   "source": []
  },
  {
   "cell_type": "code",
   "execution_count": null,
   "id": "aa6c9cb3",
   "metadata": {},
   "outputs": [],
   "source": []
  },
  {
   "cell_type": "code",
   "execution_count": null,
   "id": "a70bf6af",
   "metadata": {},
   "outputs": [],
   "source": []
  },
  {
   "cell_type": "code",
   "execution_count": null,
   "id": "de6a049c",
   "metadata": {},
   "outputs": [],
   "source": []
  },
  {
   "cell_type": "markdown",
   "id": "c79959d9",
   "metadata": {},
   "source": [
    "## Challenge solutions"
   ]
  },
  {
   "cell_type": "markdown",
   "id": "b2430840",
   "metadata": {},
   "source": [
    "### Challenge 1, part 1"
   ]
  },
  {
   "cell_type": "markdown",
   "id": "320bb1ed",
   "metadata": {},
   "source": [
    "$T^2 = \\frac{4\\pi^2}{GM}a^3$ $\\Longrightarrow$ $a^3 = \\frac{GMT^2}{4\\pi^2}$ $\\Longrightarrow$ $a = \\left( \\frac{GMT^2}{4\\pi^2} \\right)^{1/3}$ $\\Longrightarrow$ $h + R = \\left( \\frac{GMT^2}{4\\pi^2} \\right)^{1/3}$ $\\Longrightarrow$ $h = \\left( \\frac{GMT^2}{4\\pi^2} \\right)^{1/3} - R$"
   ]
  },
  {
   "cell_type": "markdown",
   "id": "e8b5b54c",
   "metadata": {},
   "source": [
    "### Challenge 1, part 2"
   ]
  },
  {
   "cell_type": "markdown",
   "id": "93afab8d",
   "metadata": {},
   "source": [
    "The first step is to define our constants using strings:"
   ]
  },
  {
   "cell_type": "code",
   "execution_count": 2,
   "id": "4c0e2767",
   "metadata": {},
   "outputs": [],
   "source": [
    "G = 6.67 * 10**-11\n",
    "M = 5.97 * 10**24\n",
    "R = 6.371 * 10**6"
   ]
  },
  {
   "cell_type": "markdown",
   "id": "dfb48135",
   "metadata": {},
   "source": [
    "We can define the time in minutes using the *input()* and *float()* functions and multiplying by 60:"
   ]
  },
  {
   "cell_type": "code",
   "execution_count": 9,
   "id": "f6bd29f2",
   "metadata": {},
   "outputs": [
    {
     "name": "stdout",
     "output_type": "stream",
     "text": [
      "time period: 1440\n"
     ]
    }
   ],
   "source": [
    "T = float(input(\"time period: \"))*60"
   ]
  },
  {
   "cell_type": "markdown",
   "id": "d55fa8a3",
   "metadata": {},
   "source": [
    "Now we write our law:"
   ]
  },
  {
   "cell_type": "code",
   "execution_count": 10,
   "id": "93eec3bf",
   "metadata": {},
   "outputs": [],
   "source": [
    "import math\n",
    "\n",
    "x = (G * M * (T**2))/(4 * (math.pi**2))\n",
    "h = x**(1/3) - R"
   ]
  },
  {
   "cell_type": "markdown",
   "id": "2d3663ee",
   "metadata": {},
   "source": [
    "Finally, we convert *h* to kilometres and print the result with units:"
   ]
  },
  {
   "cell_type": "code",
   "execution_count": 11,
   "id": "59960e1f",
   "metadata": {},
   "outputs": [
    {
     "name": "stdout",
     "output_type": "stream",
     "text": [
      "35855.91  km\n"
     ]
    }
   ],
   "source": [
    "alt = round((h/1000),3)\n",
    "print(alt, \" km\")"
   ]
  },
  {
   "cell_type": "markdown",
   "id": "b5180a57",
   "metadata": {},
   "source": [
    "As you can see, each code cell actually remembers the above contents, to an extent.  However, it would be best to simply compile our code and run it in a single cell:"
   ]
  },
  {
   "cell_type": "code",
   "execution_count": 14,
   "id": "b20cd1c5",
   "metadata": {},
   "outputs": [
    {
     "name": "stdout",
     "output_type": "stream",
     "text": [
      "time period: 45\n",
      "-2181.56  km\n"
     ]
    }
   ],
   "source": [
    "import math\n",
    "\n",
    "G = 6.67 * 10**-11\n",
    "M = 5.97 * 10**24\n",
    "R = 6.371 * 10**6\n",
    "\n",
    "T = float(input(\"time period: \"))*60\n",
    "x = (G * M * (T**2))/(4 * (math.pi**2))\n",
    "h = x**(1/3) - R\n",
    "alt = round((h/1000),3)\n",
    "print(alt, \" km\")"
   ]
  },
  {
   "cell_type": "markdown",
   "id": "bde36df0",
   "metadata": {},
   "source": [
    "It's good habit to separate multiple lines of code into their respective purposes.  Here, the first section of code is to import the relevant modules (in this case, the *math* module), the second section is to define the necessary constants, and the third section is to give the process carried out by the code itself."
   ]
  },
  {
   "cell_type": "markdown",
   "id": "e42a9c1b",
   "metadata": {},
   "source": [
    "### Challenge 1, part 3"
   ]
  },
  {
   "cell_type": "markdown",
   "id": "823edbd9",
   "metadata": {},
   "source": [
    "A time period of 1 day or 1,440 minutes gives an altitude of 35,855.91 km; this is the altitude of *geostationary orbit* around Earth, where an orbiting body is above the same point continually.  A period of 90 minutes gives an altitude of 279.322 km, which is a Low Earth Orbit or LEO.  Finally, a period of 45 minutes gives an altitude of -2,181.56 km - this means our satellite would actually be orbiting below the Earth's surface!"
   ]
  },
  {
   "cell_type": "code",
   "execution_count": null,
   "id": "c55a59af",
   "metadata": {},
   "outputs": [],
   "source": []
  }
 ],
 "metadata": {
  "kernelspec": {
   "display_name": "Python 3 (ipykernel)",
   "language": "python",
   "name": "python3"
  },
  "language_info": {
   "codemirror_mode": {
    "name": "ipython",
    "version": 3
   },
   "file_extension": ".py",
   "mimetype": "text/x-python",
   "name": "python",
   "nbconvert_exporter": "python",
   "pygments_lexer": "ipython3",
   "version": "3.7.6"
  }
 },
 "nbformat": 4,
 "nbformat_minor": 5
}
