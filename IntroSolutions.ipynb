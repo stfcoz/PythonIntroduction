{
 "cells": [
  {
   "cell_type": "markdown",
   "id": "a1f6ce77",
   "metadata": {},
   "source": [
    "# Solutions to the introductory challenges <a name=\"0.\"></a>"
   ]
  },
  {
   "cell_type": "markdown",
   "id": "37f6a7fa",
   "metadata": {},
   "source": [
    "Want to see how you did?  Find out here!  If you haven't attempted any of the challenges, then you'll still find this notebook useful - it will give you some guidance on how you can perform more complex tasks using Python."
   ]
  },
  {
   "cell_type": "markdown",
   "id": "79ecfd82",
   "metadata": {},
   "source": [
    "Contents:\n",
    "- [Solutions - Easy](#1.)\n",
    "  - [E1 solution - Part 1](#1.1.1)\n",
    "  - [E1 solution - Part 2](#1.1.2)\n",
    "  - [E2 solution](#1.2)\n",
    "  - [E3 solution](#1.3)\n",
    "  - [E4 solution](#1.4)\n",
    "- [Solutions - Medium](#2.)\n",
    "  - [M1 solution](#2.1)\n",
    "  - [M2 solution](#2.2)\n",
    "  - [M3 solution](#2.3)\n",
    "  - [M4 solution](#2.4)\n",
    "- [Solutions - Hard](#3.)\n",
    "  - [H1 solution](#3.1)\n",
    "  - [H2 solution](#3.2)\n",
    "  - [H3 solution](#3.3)"
   ]
  },
  {
   "cell_type": "markdown",
   "id": "cc7bc76b",
   "metadata": {},
   "source": [
    "You can see the challenges [here](IntroChallenges.ipynb)."
   ]
  },
  {
   "cell_type": "markdown",
   "id": "0b34ebc5",
   "metadata": {},
   "source": [
    "# 1. Solutions - Easy <a name=\"1.\"></a>"
   ]
  },
  {
   "cell_type": "markdown",
   "id": "68ceaae1",
   "metadata": {},
   "source": [
    "### 1.1.1 E1 solution - Part 1 <a name=\"1.1.1\"></a>\n",
    "\n",
    "<hr style=\"border:2px solid gray\">"
   ]
  },
  {
   "cell_type": "markdown",
   "id": "ac37cd2b",
   "metadata": {},
   "source": [
    "The first step is to define our constants using strings:"
   ]
  },
  {
   "cell_type": "code",
   "execution_count": null,
   "id": "386553b3",
   "metadata": {},
   "outputs": [],
   "source": [
    "G = 6.67 * 10**-11\n",
    "M = 5.97 * 10**24\n",
    "R = 6.371 * 10**6"
   ]
  },
  {
   "cell_type": "markdown",
   "id": "014edbe5",
   "metadata": {},
   "source": [
    "We can define the time in minutes using the `input` and `float` functions and multiplying by $60$:"
   ]
  },
  {
   "cell_type": "code",
   "execution_count": null,
   "id": "dc783cee",
   "metadata": {},
   "outputs": [],
   "source": [
    "T = float(input(\"Time period (min): \"))*60"
   ]
  },
  {
   "cell_type": "markdown",
   "id": "5d6d1d80",
   "metadata": {},
   "source": [
    "Now we write our law:"
   ]
  },
  {
   "cell_type": "code",
   "execution_count": null,
   "id": "73a476bb",
   "metadata": {},
   "outputs": [],
   "source": [
    "import math\n",
    "\n",
    "x = (G * M * (T**2))/(4 * (math.pi**2))\n",
    "h = x**(1/3) - R"
   ]
  },
  {
   "cell_type": "markdown",
   "id": "1b2f5a92",
   "metadata": {},
   "source": [
    "Finally, we convert $h$ to kilometres and print the result with units:"
   ]
  },
  {
   "cell_type": "code",
   "execution_count": null,
   "id": "2a9a282f",
   "metadata": {},
   "outputs": [],
   "source": [
    "alt = round((h/1000),3)\n",
    "print(alt, \"km\")"
   ]
  },
  {
   "cell_type": "markdown",
   "id": "b2c7312c",
   "metadata": {},
   "source": [
    "As you can see, each code cell actually remembers the above contents, to an extent.  However, it would be best to simply compile our code and run it in a single cell:"
   ]
  },
  {
   "cell_type": "code",
   "execution_count": null,
   "id": "a46485dc",
   "metadata": {},
   "outputs": [],
   "source": [
    "import math\n",
    "\n",
    "G = 6.67 * 10**-11\n",
    "M = 5.97 * 10**24\n",
    "R = 6.371 * 10**6\n",
    "\n",
    "T = float(input(\"Time period (min): \"))*60\n",
    "x = (G * M * (T**2))/(4 * (math.pi**2))\n",
    "h = x**(1/3) - R\n",
    "alt = round((h/1000),3)\n",
    "print(alt, \"km\")"
   ]
  },
  {
   "cell_type": "markdown",
   "id": "22882b22",
   "metadata": {},
   "source": [
    "It's good habit to separate multiple lines of code into their respective purposes.  Here, the first section of code is to import the relevant modules (in this case, the `math` module), the second section is to define the necessary constants, and the third section is to give the process carried out by the code itself.\n",
    "\n",
    "<hr style=\"border:2px solid gray\">"
   ]
  },
  {
   "cell_type": "markdown",
   "id": "e23069c6",
   "metadata": {},
   "source": [
    "### 1.1.2 E1 solution - Part 2 <a name=\"1.1.2\"></a>\n",
    "\n",
    "<hr style=\"border:2px solid gray\">"
   ]
  },
  {
   "cell_type": "markdown",
   "id": "6c3e8cb8",
   "metadata": {},
   "source": [
    "A time period of one day or $1,440$ minutes gives an altitude of $35,855.91 \\; km$; this is the altitude of *geostationary orbit* around Earth, where an orbiting body is above the same point continually.  A period of $90$ minutes gives an altitude of $279.322 \\; km$, which is a Low Earth Orbit or LEO.  Finally, a period of $45$ minutes gives an altitude of $-2,181.56 \\; km$ - this means our satellite would actually be orbiting below the Earth's surface!\n",
    "\n",
    "[Return to contents](#0.)\n",
    "\n",
    "<hr style=\"border:2px solid gray\">"
   ]
  },
  {
   "cell_type": "markdown",
   "id": "56100e18",
   "metadata": {},
   "source": [
    "## 1.2 E2 solution <a name=\"1.2\"></a>\n",
    "\n",
    "<hr style=\"border:2px solid gray\">"
   ]
  },
  {
   "cell_type": "markdown",
   "id": "9a368bf5",
   "metadata": {},
   "source": [
    "The first step is to import the various modules we’ll need."
   ]
  },
  {
   "cell_type": "code",
   "execution_count": null,
   "id": "108601ea",
   "metadata": {},
   "outputs": [],
   "source": [
    "from scipy import random\n",
    "import numpy as np\n",
    "import math"
   ]
  },
  {
   "cell_type": "markdown",
   "id": "651cdfa3",
   "metadata": {},
   "source": [
    "Now we define our limits and the number of random numbers.  One million random numbers should give a fairly accurate result with minimal processing time."
   ]
  },
  {
   "cell_type": "code",
   "execution_count": null,
   "id": "acd9840b",
   "metadata": {},
   "outputs": [],
   "source": [
    "l1=-5\n",
    "l2=5\n",
    "n=1000000"
   ]
  },
  {
   "cell_type": "markdown",
   "id": "b5cce8c9",
   "metadata": {},
   "source": [
    "Now we create an array of length $n$ filled within random numbers between the limits of integration and define a function that returns the integrand."
   ]
  },
  {
   "cell_type": "code",
   "execution_count": null,
   "id": "fbfaeedd",
   "metadata": {},
   "outputs": [],
   "source": [
    "randx=random.uniform(l1,l2,n)\n",
    "\n",
    "def func(x):\n",
    "    return ((1/np.sqrt(2*np.pi))*np.exp(-(x**2)/2))"
   ]
  },
  {
   "cell_type": "markdown",
   "id": "b22da392",
   "metadata": {},
   "source": [
    "We set the initial value of our Monte Carlo integral to zero and apply the integrand to one of the random numbers, then append the result to our integral's value."
   ]
  },
  {
   "cell_type": "code",
   "execution_count": null,
   "id": "183dd95d",
   "metadata": {},
   "outputs": [],
   "source": [
    "int=0.0\n",
    "\n",
    "for i in range(n):\n",
    "    int+=func(randx[i])"
   ]
  },
  {
   "cell_type": "markdown",
   "id": "4aad2a66",
   "metadata": {},
   "source": [
    "We multiply the resulting integral by the appropriate coefficient then print the result."
   ]
  },
  {
   "cell_type": "code",
   "execution_count": null,
   "id": "cd136992",
   "metadata": {},
   "outputs": [],
   "source": [
    "res=((l2-l1)/float(n))*int\n",
    "print(\"The integral from x = -5 to x = 5: \", res)"
   ]
  },
  {
   "cell_type": "markdown",
   "id": "640d6cce",
   "metadata": {},
   "source": [
    "Putting it all together:"
   ]
  },
  {
   "cell_type": "code",
   "execution_count": null,
   "id": "55ef4a7a",
   "metadata": {},
   "outputs": [],
   "source": [
    "from scipy import random\n",
    "import numpy as np\n",
    "import math\n",
    "\n",
    "l1=-5\n",
    "l2=5\n",
    "n=100000 # The highest value that runs at a reasonable speed\n",
    "\n",
    "randx=random.uniform(l1,l2,n)\n",
    "\n",
    "def func(x):\n",
    "    return ((1/np.sqrt(2*np.pi))*np.exp(-(x**2)/2))\n",
    "\n",
    "int=0.0\n",
    "\n",
    "for i in range(n):\n",
    "    int+=func(randx[i])\n",
    "\n",
    "res=((l2-l1)/float(n))*int\n",
    "print(\"The integral from x = -5 to x = 5 has a value of\", round(res,7))"
   ]
  },
  {
   "cell_type": "markdown",
   "id": "516a0f21",
   "metadata": {},
   "source": [
    "[Return to contents](#0.)\n",
    "\n",
    "<hr style=\"border:2px solid gray\">"
   ]
  },
  {
   "cell_type": "markdown",
   "id": "219c01ce",
   "metadata": {},
   "source": [
    "## 1.2 E3 solution <a name=\"1.3\"></a>\n",
    "\n",
    "<hr style=\"border:2px solid gray\">"
   ]
  },
  {
   "cell_type": "markdown",
   "id": "b3533818",
   "metadata": {},
   "source": [
    "To make life easier, we can group our various alphabetical characters (`ascii_letters`), numbers (`digits`) and special characters (`punctuation`).  This would best be done within a UDF.\n",
    "\n",
    "With $2$ uppercase characters, $1$ number and $1$ special character removed, the bulk of our password will be $6$ characters long.  It is here that the grouping mentioned prior can be used - simply use the `sample` function to return any 6 items from the group."
   ]
  },
  {
   "cell_type": "code",
   "execution_count": null,
   "id": "ec4b53e2",
   "metadata": {},
   "outputs": [],
   "source": [
    "source = string.ascii_letters + string.digits + string.punctuation\n",
    "pwd = random.sample(source, 6)"
   ]
  },
  {
   "cell_type": "markdown",
   "id": "d3dbfd59",
   "metadata": {},
   "source": [
    "Now for the uppercase characters, which are generated using `ascii_uppercase` from `string` - this must be done separately because.  We again use `sample` to return $2$ items from the list of uppercase alphabetical characters and append them to our password."
   ]
  },
  {
   "cell_type": "code",
   "execution_count": null,
   "id": "d8b518a4",
   "metadata": {},
   "outputs": [],
   "source": [
    "pwd += random.sample(string.ascii_uppercase, 2)"
   ]
  },
  {
   "cell_type": "markdown",
   "id": "f19726ea",
   "metadata": {},
   "source": [
    "Now, there is no guarantee that sampling our group of lowercase letters, numbers and special characters will return anything other than lowercase letters.  This means we must sample from numbers and special characters independently, then append the results to our password.  If our lowercase sample does actually include numbers and special characters, this won't be an issue.  Notice the specification 'at least' when referring to uppercase letters, numbers and special characters - this means we can always use more than the given amounts."
   ]
  },
  {
   "cell_type": "code",
   "execution_count": null,
   "id": "24be8874",
   "metadata": {},
   "outputs": [],
   "source": [
    "pwd += random.sample(string.digits, 1)\n",
    "pwd += random.sample(string.punctuation, 1)"
   ]
  },
  {
   "cell_type": "markdown",
   "id": "c801cb78",
   "metadata": {},
   "source": [
    "Though our password will meet all the given requirements, it's not quite finished.  It willll have a constant order, making it significantly easier to guess.  We must therefore `shuffle` it, which requires a list."
   ]
  },
  {
   "cell_type": "code",
   "execution_count": null,
   "id": "4c84c06b",
   "metadata": {},
   "outputs": [],
   "source": [
    "pwdList = list(pwd)\n",
    "random.shuffle(pwdList)"
   ]
  },
  {
   "cell_type": "markdown",
   "id": "3ab15f0b",
   "metadata": {},
   "source": [
    "We now technically have a password.  Let's see what happens if we print it in the current form:"
   ]
  },
  {
   "cell_type": "code",
   "execution_count": null,
   "id": "da328bf7",
   "metadata": {},
   "outputs": [],
   "source": [
    "import random\n",
    "import string\n",
    "\n",
    "def Password():\n",
    "    source = string.ascii_letters + string.digits + string.punctuation\n",
    "    pwd = random.sample(source, 6)\n",
    "    pwd += random.sample(string.ascii_uppercase, 2)\n",
    "    pwd += random.sample(string.digits, 1)\n",
    "    pwd += random.sample(string.punctuation, 1)\n",
    "\n",
    "    pwdList = list(pwd)\n",
    "    random.shuffle(pwdList)\n",
    "    return pwd\n",
    "\n",
    "print(\"Password is \", Password())"
   ]
  },
  {
   "cell_type": "markdown",
   "id": "5758d8b5",
   "metadata": {},
   "source": [
    "You may notice that we have a tuple, which doesn't make for the easiest reading.  What we're after is a line of characters, such as `bHpkH7C;g/`.  We must therefore convert our tuple into a string.  This is best done by defining an empty string, then using the `join` function from `string` to append each element in our tuple into a list.  As we do not want delimiting characters, we specify `''` in front of our `.join` function."
   ]
  },
  {
   "cell_type": "code",
   "execution_count": null,
   "id": "518bee37",
   "metadata": {},
   "outputs": [],
   "source": [
    "pwd = ''.join(pwdList)"
   ]
  },
  {
   "cell_type": "markdown",
   "id": "622b43af",
   "metadata": {},
   "source": [
    "The full code is below."
   ]
  },
  {
   "cell_type": "code",
   "execution_count": null,
   "id": "efe2682c",
   "metadata": {},
   "outputs": [],
   "source": [
    "import random\n",
    "import string\n",
    "\n",
    "def Password():\n",
    "    source = string.ascii_letters + string.digits + string.punctuation\n",
    "    pwd = random.sample(source, 6)\n",
    "    pwd += random.sample(string.ascii_uppercase, 2)\n",
    "    pwd += random.sample(string.digits, 1)\n",
    "    pwd += random.sample(string.punctuation, 1)\n",
    "\n",
    "    pwdList = list(pwd)\n",
    "    random.shuffle(pwdList)\n",
    "    pwd = ''.join(pwdList)\n",
    "    return pwd\n",
    "\n",
    "print(\"Password is \", Password())"
   ]
  },
  {
   "cell_type": "markdown",
   "id": "576c9bae",
   "metadata": {},
   "source": [
    "[Return to contents](#0.)\n",
    "\n",
    "<hr style=\"border:2px solid gray\">"
   ]
  },
  {
   "cell_type": "markdown",
   "id": "5341a4a8",
   "metadata": {},
   "source": [
    "## 1.4 E4 solution <a name=\"1.4\"></a>\n",
    "\n",
    "<hr style=\"border:2px solid gray\">"
   ]
  },
  {
   "cell_type": "markdown",
   "id": "3e1849af",
   "metadata": {},
   "source": [
    "First we write the necessary input boxes."
   ]
  },
  {
   "cell_type": "code",
   "execution_count": null,
   "id": "149532b4",
   "metadata": {},
   "outputs": [],
   "source": [
    "n1 = int(input(\"Enter first number: \"))\n",
    "n2 = int(input(\"Enter second number: \"))\n",
    "op = input(\"Enter operation: \")"
   ]
  },
  {
   "cell_type": "markdown",
   "id": "14b2dfcb",
   "metadata": {},
   "source": [
    "Now we print the available operations.  To make them obvious, let's go for a bullet point setup."
   ]
  },
  {
   "cell_type": "code",
   "execution_count": null,
   "id": "2e46fdcb",
   "metadata": {},
   "outputs": [],
   "source": [
    " print('''Available operations:\n",
    "         - Addition (+)\n",
    "         - Subtraction (-)\n",
    "         - Multiplication (*)\n",
    "         - Division (/)\n",
    "         - Exponential (**)\n",
    "         - Modulo (%)\n",
    "         - Floor division (//)''')"
   ]
  },
  {
   "cell_type": "markdown",
   "id": "735410e8",
   "metadata": {},
   "source": [
    "Now we define a simple UDF for each operation."
   ]
  },
  {
   "cell_type": "code",
   "execution_count": null,
   "id": "9ca258c6",
   "metadata": {},
   "outputs": [],
   "source": [
    "def add(n1,n2):\n",
    "    return n1 + n2\n",
    "    \n",
    "def sub(n1,n2):\n",
    "    return n1 - n2\n",
    "    \n",
    "def mul(n1,n2):\n",
    "    return n1 * n2\n",
    "    \n",
    "def div(n1,n2):\n",
    "    return n1 / n2\n",
    "    \n",
    "def exp(n1,n2):\n",
    "    return n1**n2\n",
    "    \n",
    "def mod(n1,n2):\n",
    "    return n1 % n2\n",
    "    \n",
    "def flr(n1,n2):\n",
    "    return n1 // n2"
   ]
  },
  {
   "cell_type": "markdown",
   "id": "23bee284",
   "metadata": {},
   "source": [
    "We use an `elif` loop to distinguish between operator inputs and call the necessary functions."
   ]
  },
  {
   "cell_type": "code",
   "execution_count": null,
   "id": "55ae7a47",
   "metadata": {},
   "outputs": [],
   "source": [
    "res = 0\n",
    "if op == '+':\n",
    "    res = add(n1,n2)\n",
    "elif op == '-':\n",
    "    res = sub(n1,n2)\n",
    "elif op == '*':\n",
    "    res = mult(n1,n2)\n",
    "elif op == '/':\n",
    "    res = div(n1,n2)\n",
    "elif op == '**':\n",
    "    res = exp(n1,n2)\n",
    "elif op == '%':\n",
    "    res = mod(n1,n2)\n",
    "elif op == '//':\n",
    "    res= flr(n1,n2)"
   ]
  },
  {
   "cell_type": "markdown",
   "id": "209a727f",
   "metadata": {},
   "source": [
    "Finally, we print our results in a neat manner."
   ]
  },
  {
   "cell_type": "code",
   "execution_count": null,
   "id": "c9ca5bf6",
   "metadata": {},
   "outputs": [],
   "source": [
    "print(n1, op, n2, '=', res)"
   ]
  },
  {
   "cell_type": "markdown",
   "id": "79ea7ec9",
   "metadata": {},
   "source": [
    "In the demonstration of classes in the introductory notebook, we called particular functions within the class.  However, since we are using the entire class, there's no need to call anything!\n",
    "\n",
    "Putting it all together:"
   ]
  },
  {
   "cell_type": "code",
   "execution_count": null,
   "id": "9f4090c9",
   "metadata": {},
   "outputs": [],
   "source": [
    "class Calculator:\n",
    "    \n",
    "    def add(n1,n2):\n",
    "        return n1 + n2\n",
    "    \n",
    "    def sub(n1,n2):\n",
    "        return n1 - n2\n",
    "    \n",
    "    def mul(n1,n2):\n",
    "        return n1 * n2\n",
    "    \n",
    "    def div(n1,n2):\n",
    "        return n1 / n2\n",
    "    \n",
    "    def exp(n1,n2):\n",
    "        return n1**n2\n",
    "    \n",
    "    def mod(n1,n2):\n",
    "        return n1 % n2\n",
    "    \n",
    "    def flr(n1,n2):\n",
    "        return n1 // n2\n",
    "    \n",
    "    print('''Available operations:\n",
    "            - Addition (+)\n",
    "            - Subtraction (-)\n",
    "            - Multiplication (*)\n",
    "            - Division (/)\n",
    "            - Exponential (**)\n",
    "            - Modulo (%)\n",
    "            - Floor division (//)''')\n",
    "    \n",
    "    n1 = int(input(\"Enter first number: \"))\n",
    "    n2 = int(input(\"Enter second number: \"))\n",
    "    op = input(\"Enter operation: \")\n",
    "    \n",
    "    res = 0\n",
    "    if op == '+':\n",
    "        res = add(n1,n2)\n",
    "    elif op == '-':\n",
    "        res = sub(n1,n2)\n",
    "    elif op == '*':\n",
    "        res = mult(n1,n2)\n",
    "    elif op == '/':\n",
    "        res = div(n1,n2)\n",
    "    elif op == '**':\n",
    "        res = exp(n1,n2)\n",
    "    elif op == '%':\n",
    "        res = mod(n1,n2)\n",
    "    elif op == '//':\n",
    "        res= flr(n1,n2)\n",
    "    \n",
    "    print(n1, op, n2, '=', res)"
   ]
  },
  {
   "cell_type": "markdown",
   "id": "576f18c6",
   "metadata": {},
   "source": [
    "[Return to contents](#0.)\n",
    "\n",
    "<hr style=\"border:2px solid gray\">"
   ]
  },
  {
   "cell_type": "markdown",
   "id": "675d11c2",
   "metadata": {},
   "source": [
    "# 2. Solutions - Medium <a name=\"2.\"></a>"
   ]
  },
  {
   "cell_type": "markdown",
   "id": "c105c77e",
   "metadata": {},
   "source": [
    "## 2.1 M1 solution <a name=\"2.1\"></a>\n",
    "\n",
    "<hr style=\"border:2px solid gray\">"
   ]
  },
  {
   "cell_type": "markdown",
   "id": "75ca8181",
   "metadata": {},
   "source": [
    "Our code is in three segments. We’ll explain each segment in order."
   ]
  },
  {
   "cell_type": "code",
   "execution_count": null,
   "id": "5e52a73f",
   "metadata": {},
   "outputs": [],
   "source": [
    "def circle(N):\n",
    "    '''\n",
    "    Returns the equation of a cirlce from x and y coordinates.\n",
    "    Arguments are the number of sides N of the polygon used to approximate the circle.\n",
    "    '''\n",
    "    x = [0.5 * math.cos(2*math.pi*i/N) for i in range(N+1)]\n",
    "    y = [0.5 * math.sin(2*math.pi*i/N) for i in range(N+1)]\n",
    "    return x,y"
   ]
  },
  {
   "cell_type": "markdown",
   "id": "7fcfeb45",
   "metadata": {},
   "source": [
    "Here, we write the formulas for $x$ and $y$ in Python's mathematical form.  The `range` function only has one entry, so it will assume a starting value of $1$ and a step of $1$."
   ]
  },
  {
   "cell_type": "code",
   "execution_count": null,
   "id": "b790df93",
   "metadata": {},
   "outputs": [],
   "source": [
    "def pathlength(x,y):\n",
    "    '''\n",
    "    Returns the pathlength L between adjacent points on the polygon generated by the circle(N) function.\n",
    "    No arguments are required to be input beforehand.\n",
    "    '''\n",
    "    z = 0\n",
    "    for i in range(1,len(x)):\n",
    "        z+=math.sqrt((x[i]-x[i-1])**2+(y[i]-y[i-1])**2)\n",
    "    return(z)"
   ]
  },
  {
   "cell_type": "markdown",
   "id": "4a1f058e",
   "metadata": {},
   "source": [
    "Here we utilize the `len` function.  This reads out the number of items in a list and gives it in numerical form when printed. We use it to define the upper limit of our range."
   ]
  },
  {
   "cell_type": "code",
   "execution_count": null,
   "id": "a4825805",
   "metadata": {},
   "outputs": [],
   "source": [
    "import math\n",
    "\n",
    "for i in range(2,11):\n",
    "    x,y=circle(2**i)\n",
    "    z=pathlength(x,y)\n",
    "    print('For N =', 2**i,', approximation of pi is',z , 'and percentage accuracy is', z/math.pi)\n",
    "# Returns an approximation of pi and the percentage error for each value of N"
   ]
  },
  {
   "cell_type": "markdown",
   "id": "9ad1c83b",
   "metadata": {},
   "source": [
    "This is where we approximate $\\pi$ with our circle and pathlength functions and the approximation formula provided.  As you might expect, the accuracy in our estimation of $\\pi$ increases with the number of points $N$."
   ]
  },
  {
   "cell_type": "markdown",
   "id": "294d1581",
   "metadata": {},
   "source": [
    "Putting it all together:"
   ]
  },
  {
   "cell_type": "code",
   "execution_count": null,
   "id": "27094756",
   "metadata": {},
   "outputs": [],
   "source": [
    "import math\n",
    "\n",
    "def circle(N):\n",
    "    '''\n",
    "    Returns the equation of a cirlce from x and y coordinates.\n",
    "    Arguments are the number of sides N of the polygon used to approximate the circle.\n",
    "    '''\n",
    "    x = [0.5 * math.cos(2*math.pi*i/N) for i in range(N+1)]\n",
    "    y = [0.5 * math.sin(2*math.pi*i/N) for i in range(N+1)]\n",
    "    return x,y\n",
    "\n",
    "def pathlength(x,y):\n",
    "    '''\n",
    "    Returns the pathlength L between adjacent points on the polygon generated by the circle(N) function.\n",
    "    No arguments are required to be input beforehand.\n",
    "    '''\n",
    "    z = 0\n",
    "    for i in range(1,len(x)):\n",
    "        z+=math.sqrt((x[i]-x[i-1])**2+(y[i]-y[i-1])**2)\n",
    "    return(z)\n",
    "\n",
    "for i in range(2,11):\n",
    "    x,y=circle(2**i)\n",
    "    z=pathlength(x,y)\n",
    "    print('For N =', 2**i,', approximation of pi is',z , 'and percentage accuracy is', z/math.pi)"
   ]
  },
  {
   "cell_type": "markdown",
   "id": "0b0546a8",
   "metadata": {},
   "source": [
    "[Return to contents](#0.)\n",
    "\n",
    "<hr style=\"border:2px solid gray\">"
   ]
  },
  {
   "cell_type": "markdown",
   "id": "8e99ba3f",
   "metadata": {},
   "source": [
    "## 2.2 M2 solution <a name=\"2.2\"></a>\n",
    "\n",
    "<hr style=\"border:2px solid gray\">"
   ]
  },
  {
   "cell_type": "markdown",
   "id": "1144803b",
   "metadata": {},
   "source": [
    "We’ll need to utilize a function that generates random numbers - the best choice would be `random` from `numpy`.\n",
    "\n",
    "We define an empty list `inside` that lists the number of points that lie within the circle, alongside the number of datapoints $n$.  $n = 1,000,000$ gives a very high accuracy without needing too much computing power.  We also do the same for specific $x$ and $y$ coordinates - you’ll see why we need to do this later."
   ]
  },
  {
   "cell_type": "code",
   "execution_count": null,
   "id": "d579a2b5",
   "metadata": {},
   "outputs": [],
   "source": [
    "inside = 0\n",
    "n = 100000\n",
    "x_inside=[]\n",
    "y_inside=[]"
   ]
  },
  {
   "cell_type": "markdown",
   "id": "d20de995",
   "metadata": {},
   "source": [
    "A `for` loop can be used to generate random points within the square.  An `if` loop within the for loop will append to the inside list if a point lies within the circle.  Otherwise, it is ignored.  Pythagorean trigonometry using $x$ and $y$ will determine whether or not a point lies within the circle."
   ]
  },
  {
   "cell_type": "code",
   "execution_count": null,
   "id": "2dc142c7",
   "metadata": {},
   "outputs": [],
   "source": [
    "for _ in range(n):\n",
    "    x=random.uniform(-1.0,1.0)\n",
    "    y=random.uniform(-1.0,1.0)\n",
    "    if x**2+y**2 <=1:\n",
    "        inside +=1\n",
    "        x_inside.append(x)\n",
    "        y_inside.append(y)"
   ]
  },
  {
   "cell_type": "markdown",
   "id": "9f352e0a",
   "metadata": {},
   "source": [
    "We use a rearranged form of $\\pi R^2 = 4 R^2$ to approximate $\\pi$:"
   ]
  },
  {
   "cell_type": "code",
   "execution_count": null,
   "id": "7ec1b8ea",
   "metadata": {},
   "outputs": [],
   "source": [
    "pi=4*inside/n\n",
    "print(pi)"
   ]
  },
  {
   "cell_type": "markdown",
   "id": "edfd6bfc",
   "metadata": {},
   "source": [
    "We then calculate the error, which ranges between $0.001$ and $0.00001$."
   ]
  },
  {
   "cell_type": "code",
   "execution_count": null,
   "id": "44950c01",
   "metadata": {},
   "outputs": [],
   "source": [
    "err=abs((pi-np.pi)/np.pi)\n",
    "print(err)"
   ]
  },
  {
   "cell_type": "markdown",
   "id": "377ad106",
   "metadata": {},
   "source": [
    "Putting it all together:"
   ]
  },
  {
   "cell_type": "code",
   "execution_count": null,
   "id": "83a29b15",
   "metadata": {},
   "outputs": [],
   "source": [
    "import numpy as np\n",
    "\n",
    "inside = 0\n",
    "n = 100000\n",
    "x_inside=[]\n",
    "y_inside=[]\n",
    "\n",
    "for _ in range(n):\n",
    "    x=np.random.uniform(-1.0,1.0)\n",
    "    y=np.random.uniform(-1.0,1.0)\n",
    "    if x**2+y**2 <=1:\n",
    "        inside +=1\n",
    "        x_inside.append(x)\n",
    "        y_inside.append(y)\n",
    "\n",
    "pi=4*inside/n\n",
    "print(r'Computed value of pi:', pi)\n",
    "\n",
    "err=abs((pi-np.pi)/np.pi)\n",
    "print(r'Error compared to known value of pi:', round(err,5))"
   ]
  },
  {
   "cell_type": "markdown",
   "id": "47a79af3",
   "metadata": {},
   "source": [
    "[Return to contents](#0.)\n",
    "\n",
    "<hr style=\"border:2px solid gray\">"
   ]
  },
  {
   "cell_type": "markdown",
   "id": "933dcd96",
   "metadata": {},
   "source": [
    "## 2.3 M3 solution <a name=\"2.3\"></a>\n",
    "\n",
    "<hr style=\"border:2px solid gray\">"
   ]
  },
  {
   "cell_type": "markdown",
   "id": "898fa122",
   "metadata": {},
   "source": [
    "You won't need any modules for this one, so there's no need to import them.  To avoid having to change our code itself when setting new limits, we shall use inputs.  Instead of `float` inputs, however, we shall use `int` inputs.  Also, we can make our input look nice."
   ]
  },
  {
   "cell_type": "code",
   "execution_count": null,
   "id": "7a58c805",
   "metadata": {},
   "outputs": [],
   "source": [
    "start = int(input(\"Lower limit of range: \"))\n",
    "end = int(input(\"Uper limit of range: \"))\n",
    "\n",
    "print(\"Prime numbers between\", start, \"and\", end, \"are:\")"
   ]
  },
  {
   "cell_type": "markdown",
   "id": "d21ea522",
   "metadata": {},
   "source": [
    "Now for our `for` loop.  The first step is to omit $1$ as a possible factor by stating that, for our factor variable `num`, that `num > 1` as an `if` condition.  We follow this with a `for` loop acting over a range between $2$ (because $1$ is omitted) and `num`.\n",
    "\n",
    "This is where the modulo operator `%` comes in - it returns the remainder of dividing two operators.  Since a prime number is only divisible by $1$ and itself, dividing it by any other number will give a non-integer result, so the remainder and therefore the modulo will be non-zero.  We can incorporate this into our `for` loop.\n",
    "\n",
    "As each 'run' of the loop through `start` and `end + 1` will be for each number, we can simply `break` the loop if the modulo is found to be zero for a particular number in `range(start, end + 1)`.  As for our `else` condition, if a number is found to have a non-zero modulo for all values in `range(2, num)`, then it will be a prime number and we can add it to our list by printing it."
   ]
  },
  {
   "cell_type": "markdown",
   "id": "afca914e",
   "metadata": {},
   "source": [
    "Putting it all together:"
   ]
  },
  {
   "cell_type": "code",
   "execution_count": null,
   "id": "6de94482",
   "metadata": {},
   "outputs": [],
   "source": [
    "start = int(input(\"Lower limit of range: \"))\n",
    "end = int(input(\"Uper limit of range: \"))\n",
    "\n",
    "print(\"Prime numbers between\", start, \"and\", end, \"are:\")\n",
    "\n",
    "for num in range(start, end + 1):\n",
    "    # All prime numbers are greater than 1\n",
    "    # If a number is less than or equal to 1, it is not prime\n",
    "    if num > 1:\n",
    "        for i in range(2, num):\n",
    "            # Checking for factors\n",
    "            if (num % i) == 0:\n",
    "                # Not a prime number, so break inner loop and look for next number\n",
    "                break\n",
    "        else:\n",
    "            print(num)"
   ]
  },
  {
   "cell_type": "markdown",
   "id": "93c95986",
   "metadata": {},
   "source": [
    "[Return to contents](#0.)\n",
    "\n",
    "<hr style=\"border:2px solid gray\">"
   ]
  },
  {
   "cell_type": "markdown",
   "id": "1e561975",
   "metadata": {},
   "source": [
    "## 2.4 M4 solution <a name=\"2.4\"></a>\n",
    "\n",
    "<hr style=\"border:2px solid gray\">"
   ]
  },
  {
   "cell_type": "markdown",
   "id": "10174197",
   "metadata": {},
   "source": [
    "Though it's somewhat unlikely, we must assume that our players do not know which options they can pick.  Therefore, we must display them."
   ]
  },
  {
   "cell_type": "code",
   "execution_count": null,
   "id": "3a038723",
   "metadata": {},
   "outputs": [],
   "source": [
    "print('''Please pick one:\n",
    "            - rock\n",
    "            - paper\n",
    "            - scissors''')"
   ]
  },
  {
   "cell_type": "markdown",
   "id": "b065697b",
   "metadata": {},
   "source": [
    "These options can be stored in a dictionary and given a numerical value."
   ]
  },
  {
   "cell_type": "code",
   "execution_count": null,
   "id": "c8750e9f",
   "metadata": {},
   "outputs": [],
   "source": [
    "game_dict = {'rock': 1, 'scissors': 2, 'paper': 3}"
   ]
  },
  {
   "cell_type": "markdown",
   "id": "6954e092",
   "metadata": {},
   "source": [
    "Next, both players should be able to select their chosen option.  We can then store these options."
   ]
  },
  {
   "cell_type": "code",
   "execution_count": null,
   "id": "15cf0bfb",
   "metadata": {},
   "outputs": [],
   "source": [
    "player_1 = str(input(\"Player 1: \"))\n",
    "player_2 = str(input(\"Player 2: \"))\n",
    "a = game_dict.get(player_1)\n",
    "b = game_dict.get(player_2)"
   ]
  },
  {
   "cell_type": "markdown",
   "id": "e0286bde",
   "metadata": {},
   "source": [
    "This is where the numbers come in - we can use them to find the numerical difference between the players' choices."
   ]
  },
  {
   "cell_type": "code",
   "execution_count": null,
   "id": "749d6e9b",
   "metadata": {},
   "outputs": [],
   "source": [
    "dif = a - b"
   ]
  },
  {
   "cell_type": "markdown",
   "id": "3a254a51",
   "metadata": {},
   "source": [
    "Let's tabulate all possible combinations and the resulting value of `dif`."
   ]
  },
  {
   "cell_type": "markdown",
   "id": "dc5b0b3e",
   "metadata": {},
   "source": [
    "| Player 1 | Player 2 | Dif | Winner   |\n",
    "|:--------:|:--------:|:---:|:--------:|\n",
    "| Rock     | Paper    | -2  | Player 2 |\n",
    "| Rock     | Scissors | -1  | Player 1 |\n",
    "| Paper    | Rock     | 2   | Player 1 |\n",
    "| Paper    | Scissors | 1   | Player 2 |\n",
    "| Scissors | Rock     | 1   | Player 2 |\n",
    "| Scissors | Paper    | -1  | Player 1 |"
   ]
  },
  {
   "cell_type": "markdown",
   "id": "231ec11d",
   "metadata": {},
   "source": [
    "Player 1 wins for `dif = -1, 2` whilst Player 2 wins for `dif = 1, -2`.  Every other value results in a draw.  Now we can construct our various `if`, `elif` and `else` statements that employ the `in` condition."
   ]
  },
  {
   "cell_type": "code",
   "execution_count": null,
   "id": "369464ce",
   "metadata": {},
   "outputs": [],
   "source": [
    "if dif in [-1, 2]:\n",
    "    print('Player 1 wins!')\n",
    "\n",
    "elif dif in [-2, 1]:\n",
    "    print('player 2 wins!')\n",
    "\n",
    "else:\n",
    "    print('Draw!  Please continue.')"
   ]
  },
  {
   "cell_type": "markdown",
   "id": "26ff3eb2",
   "metadata": {},
   "source": [
    "We can identify the winner - now to run over multiple games until requested otherwise.  If is here that the `break` and `continue` statements are employed.  If a 'continuation condition' is met, we write `continue`, and if one is not met or rejected, we write `break`.\n",
    "\n",
    "We must also give the option to continue after a player wins - `if` conditions are best used here.  If a player responds with an affirmative to an offer to continue playing, the game must continue.  If they decline, the game must stop - all with appropriate responses."
   ]
  },
  {
   "cell_type": "code",
   "execution_count": null,
   "id": "01195734",
   "metadata": {},
   "outputs": [],
   "source": [
    "if dif in [-1, 2]:\n",
    "        print('Player 1 wins!')\n",
    "        if str(input('Do you want to play another game?  Select yes or no.\\n')) == 'yes':\n",
    "            continue\n",
    "        else:\n",
    "            print('Thank you for playing!')\n",
    "            break"
   ]
  },
  {
   "cell_type": "markdown",
   "id": "83d9a361",
   "metadata": {},
   "source": [
    "It helps to put `print('')` in the `else` loop for a draw result; this helps separate parts of a game.\n",
    "\n",
    "Putting it all together:"
   ]
  },
  {
   "cell_type": "code",
   "execution_count": null,
   "id": "fd0599f9",
   "metadata": {},
   "outputs": [],
   "source": [
    "print('''Please pick one:\n",
    "            - rock\n",
    "            - paper\n",
    "            - scissors''')\n",
    "\n",
    "while True:\n",
    "    game_dict = {'rock': 1, 'scissors': 2, 'paper': 3}\n",
    "    player_1 = str(input(\"Player 1: \"))\n",
    "    player_2 = str(input(\"Player 2: \"))\n",
    "    a = game_dict.get(player_1)\n",
    "    b = game_dict.get(player_2)\n",
    "    dif = a - b\n",
    "\n",
    "    if dif in [-1, 2]:\n",
    "        print('Player 1 wins!')\n",
    "        if str(input('Do you want to play another game?  Select yes or no.\\n')) == 'yes':\n",
    "            continue\n",
    "        else:\n",
    "            print('Thank you for playing!')\n",
    "            break\n",
    "    elif dif in [-2, 1]:\n",
    "        print('player 2 wins!')\n",
    "        if str(input('Do you want to play another game?  Select yes or no.\\n')) == 'yes':\n",
    "            continue\n",
    "        else:\n",
    "            print('Thank you for playing!')\n",
    "            break\n",
    "    else:\n",
    "        print('Draw!  Please continue.')\n",
    "        print('')"
   ]
  },
  {
   "cell_type": "markdown",
   "id": "8146e98f",
   "metadata": {},
   "source": [
    "[Return to contents](#0.)\n",
    "\n",
    "<hr style=\"border:2px solid gray\">"
   ]
  },
  {
   "cell_type": "markdown",
   "id": "a96c94a7",
   "metadata": {},
   "source": [
    "#### 3. Solutions - Hard <a name=\"3.\"></a>"
   ]
  },
  {
   "cell_type": "markdown",
   "id": "6c245081",
   "metadata": {},
   "source": [
    "## 3.1 H1 solution <a name=\"3.1\"></a>\n",
    "\n",
    "<hr style=\"border:2px solid gray\">"
   ]
  },
  {
   "cell_type": "markdown",
   "id": "c692fcf1",
   "metadata": {},
   "source": [
    "The first step is to import the modules we'll need.  It'd be far too difficult if we could guess any *number*, so we must instead use *integers*."
   ]
  },
  {
   "cell_type": "code",
   "execution_count": null,
   "id": "f2fc115a",
   "metadata": {},
   "outputs": [],
   "source": [
    "import random\n",
    "import math\n",
    "\n",
    "lower = int(input(\"Enter Lower bound: \"))\n",
    "upper = int(input(\"Enter Upper bound: \"))"
   ]
  },
  {
   "cell_type": "markdown",
   "id": "e6d77a7b",
   "metadata": {},
   "source": [
    "We'll use these bounds to calibrate the number of guesses a player can have.  We'll also need to state this after the player enters the bounds.  As for how we calibrate this, we'll use the `log` function from `math` - we can find the base of the difference between the two numbers.  A base of 2 should be good."
   ]
  },
  {
   "cell_type": "code",
   "execution_count": null,
   "id": "edc1b997",
   "metadata": {},
   "outputs": [],
   "source": [
    "x = random.randint(lower, upper)\n",
    "\n",
    "print(\"You've only \", round(math.log(upper - lower, 2)),\" chances to guess the number!\")"
   ]
  },
  {
   "cell_type": "markdown",
   "id": "156f124d",
   "metadata": {},
   "source": [
    "We need a way to log guesses somehow; the best way would be with a count of sorts."
   ]
  },
  {
   "cell_type": "code",
   "execution_count": null,
   "id": "a1969b96",
   "metadata": {},
   "outputs": [],
   "source": [
    "count = 0"
   ]
  },
  {
   "cell_type": "markdown",
   "id": "3bc7ee1b",
   "metadata": {},
   "source": [
    "Our game will run whilst the number of guesses is below the computed number of chances.  The keyworld here is *whilst* - a `while` loop!  The first thing we can embed is that our value for `count` must increase with each guess, and the ability to make a guess via an `input` function that gives an integer once entered."
   ]
  },
  {
   "cell_type": "code",
   "execution_count": null,
   "id": "b914ca19",
   "metadata": {},
   "outputs": [],
   "source": [
    "while count < math.log(upper - lower, 2):\n",
    "    count += 1\n",
    "\n",
    "    guess = int(input(\"Guess a number: \"))"
   ]
  },
  {
   "cell_type": "markdown",
   "id": "734ab8ac",
   "metadata": {},
   "source": [
    "Generally, there would be two options in a guessing game like this: `Yes` and `No`. Let's be fair to the player: if their number is too high or too low, we can inform them of this.  Now we have three options: `Yes` (final), `Too low` (intermediate) and `Too high` (intermediate).  This is starting to look like an *elif ladder* to me...\n",
    "\n",
    "The `Yes` option will be our `if` statement.  If the guess is equal to the determined answer, we can simply `break` the loop.  It would be nice to print a congratulations message instead of just ending the game, plus we could also inform the player how many times it took in order to motivate them to improve. We embed the following into our `while` loop."
   ]
  },
  {
   "cell_type": "code",
   "execution_count": null,
   "id": "7e2f52e7",
   "metadata": {},
   "outputs": [],
   "source": [
    "if x == guess:\n",
    "    print(\"Congratulations, you did it in \", count, \" tries\")\n",
    "    break"
   ]
  },
  {
   "cell_type": "markdown",
   "id": "26c0614d",
   "metadata": {},
   "source": [
    "Now for our other two options; these will both be `elif` statements.  As you might have guessed, we can use the `>` operator to gauge whether the guess is too low and `<` to gauge whether it is too high."
   ]
  },
  {
   "cell_type": "code",
   "execution_count": null,
   "id": "d69b91cc",
   "metadata": {},
   "outputs": [],
   "source": [
    "elif x > guess:\n",
    "    print(\"You guessed too small!\")\n",
    "elif x < guess:\n",
    "    print(\"You Guessed too high!\")"
   ]
  },
  {
   "cell_type": "markdown",
   "id": "ca7ce458",
   "metadata": {},
   "source": [
    "We must now end the game when the number of guesses exceeds the computed limit.  This part can be taken out of the `while` loop as the `why` status will no longer apply; the number of guesses will be too great.  We can use the `>=` operator to gauge whether the number of guesses has matched or exceeded the limit, and we can print a 'game over' message as well."
   ]
  },
  {
   "cell_type": "code",
   "execution_count": null,
   "id": "0257952e",
   "metadata": {},
   "outputs": [],
   "source": [
    "if count >= math.log(upper - lower, 2):\n",
    "    print(\"The number is\", x)\n",
    "    print(\"\\tBetter Luck Next time!\")"
   ]
  },
  {
   "cell_type": "markdown",
   "id": "a89b03e9",
   "metadata": {},
   "source": [
    "Putting it all together:"
   ]
  },
  {
   "cell_type": "code",
   "execution_count": null,
   "id": "a92da531",
   "metadata": {},
   "outputs": [],
   "source": [
    "import random\n",
    "import math\n",
    "\n",
    "lower = int(input(\"Enter Lower bound: \"))\n",
    "upper = int(input(\"Enter Upper bound: \"))\n",
    "x = random.randint(lower, upper)\n",
    "\n",
    "print(\"You've only \", round(math.log(upper - lower, 2)), \" chances to guess the number!\")\n",
    "count = 0\n",
    " \n",
    "while count < math.log(upper - lower, 2):\n",
    "    count += 1\n",
    " \n",
    "    guess = int(input(\"Guess a number:- \"))\n",
    " \n",
    "    if x == guess:\n",
    "        print(\"Congratulations, you did it in \", count, \" tries\")\n",
    "        break\n",
    "    elif x > guess:\n",
    "        print(\"You guessed too small!\")\n",
    "    elif x < guess:\n",
    "        print(\"You Guessed too high!\")\n",
    "\n",
    "if count >= math.log(upper - lower, 2):\n",
    "    print(\"The number is\", x)\n",
    "    print(\"Better Luck Next time!\")"
   ]
  },
  {
   "cell_type": "markdown",
   "id": "a66fb81a",
   "metadata": {},
   "source": [
    "[Return to contents](#0.)\n",
    "\n",
    "<hr style=\"border:2px solid gray\">"
   ]
  },
  {
   "cell_type": "markdown",
   "id": "078213e2",
   "metadata": {},
   "source": [
    "## 3.2 H2 solution <a name=\"3.2\"></a>\n",
    "\n",
    "<hr style=\"border:2px solid gray\">"
   ]
  },
  {
   "cell_type": "markdown",
   "id": "ba66677a",
   "metadata": {},
   "source": [
    "First we need the `ascii_lowercase` function to act as a 'background' that can be shifted accordingly.  When we shift every letter in this alphabet by a desired amount, it will act as a converter.  We shall refer to the degree of shift as 's'.  In order to avoid the character 's' being ignored, we must split our resulting 'substitution alphabet' into two halves centred around the character."
   ]
  },
  {
   "cell_type": "code",
   "execution_count": null,
   "id": "efdd5512",
   "metadata": {},
   "outputs": [],
   "source": [
    "alpha = string.ascii_lowercase\n",
    "s = 2\n",
    "subst = alpha[s:] + alpha[:s]\n",
    "print(alpha, subst)"
   ]
  },
  {
   "cell_type": "markdown",
   "id": "9ce7186f",
   "metadata": {},
   "source": [
    "Now we write our message - in this case, \"followthewhiterabbit\" - and create an empty list that will later become our cipher."
   ]
  },
  {
   "cell_type": "code",
   "execution_count": null,
   "id": "048b7cb9",
   "metadata": {},
   "outputs": [],
   "source": [
    "msg = \"followthewhiterabbit\"\n",
    "cipher = []"
   ]
  },
  {
   "cell_type": "markdown",
   "id": "30a65575",
   "metadata": {},
   "source": [
    "We loop through each letter in the plain text, find its position in the plain text alphabet and then output the letter at that position in the substitution alphabet. Lastly, we merge the elements in the cipher list into a single string."
   ]
  },
  {
   "cell_type": "code",
   "execution_count": null,
   "id": "c7930c94",
   "metadata": {},
   "outputs": [],
   "source": [
    "for i in msg:\n",
    "  letter = subst[alpha.find(i)]\n",
    "  cipher.append(letter)\n",
    "print(''.join(cipher))"
   ]
  },
  {
   "cell_type": "markdown",
   "id": "da24daee",
   "metadata": {},
   "source": [
    "To decipher a given message, we essentially reverse the above `for` loop by switching `alpha` and `subst`."
   ]
  },
  {
   "cell_type": "code",
   "execution_count": null,
   "id": "5083df1e",
   "metadata": {},
   "outputs": [],
   "source": [
    "cipher = \"hqnnqyvjgyjkvgtcddkv\"\n",
    "msg = []\n",
    "for i in cipher:\n",
    "  letter = alpha[subst.find(i)]\n",
    "  msg.append(letter)\n",
    "print(''.join(msg))"
   ]
  },
  {
   "cell_type": "markdown",
   "id": "54340734",
   "metadata": {},
   "source": [
    "Now to bundle this up in a class.  We shall name our class `Caesar` after the cipher and embed two UDFs: one for encryption and theother for decryption."
   ]
  },
  {
   "cell_type": "code",
   "execution_count": null,
   "id": "9cffa32b",
   "metadata": {},
   "outputs": [],
   "source": [
    "class Caesar:\n",
    "\n",
    "    def encipher(msg, s):\n",
    "        alpha = string.ascii_lowercase\n",
    "        subst = alpha[s:] + alpha[:s]\n",
    "        cipher = []\n",
    "        for i in msg:\n",
    "            letter = subst[alpha.find(i)]\n",
    "            cipher.append(letter)\n",
    "        return ''.join(cipher)\n",
    "\n",
    "    def decipher(cipher, s):\n",
    "        msg = Caesar.encipher(cipher,-s)\n",
    "        return msg"
   ]
  },
  {
   "cell_type": "markdown",
   "id": "7923af44",
   "metadata": {},
   "source": [
    "Let's test our our `encipher` function on a different message with a different degree of shift."
   ]
  },
  {
   "cell_type": "code",
   "execution_count": null,
   "id": "4347deef",
   "metadata": {},
   "outputs": [],
   "source": [
    "print(Caesar.encipher(\"saucyjack\",5))"
   ]
  },
  {
   "cell_type": "markdown",
   "id": "1bffc6d4",
   "metadata": {},
   "source": [
    "Nice and illegible.  Now, let's see what happens if we run the `decipher` function on this encrypted message."
   ]
  },
  {
   "cell_type": "code",
   "execution_count": null,
   "id": "11841446",
   "metadata": {},
   "outputs": [],
   "source": [
    "print(Caesar.decipher(\"xfzhdofhp\",5))"
   ]
  },
  {
   "cell_type": "markdown",
   "id": "48bd5901",
   "metadata": {},
   "source": [
    "We've recovered the original message, so our functions work!"
   ]
  },
  {
   "cell_type": "markdown",
   "id": "42090ff9",
   "metadata": {},
   "source": [
    "Putting it all together:"
   ]
  },
  {
   "cell_type": "code",
   "execution_count": null,
   "id": "d361b881",
   "metadata": {},
   "outputs": [],
   "source": [
    "import string\n",
    "\n",
    "alpha = string.ascii_lowercase\n",
    "s = 2\n",
    "subst = alpha[s:] + alpha[:s]\n",
    "print(alpha, subst)\n",
    "\n",
    "msg = \"followthewhiterabbit\"\n",
    "cipher = []\n",
    "\n",
    "for i in msg:\n",
    "  letter = subst[alpha.find(i)]\n",
    "  cipher.append(letter)\n",
    "print(''.join(cipher))\n",
    "\n",
    "cipher = \"hqnnqyvjgyjkvgtcddkv\"\n",
    "msg = []\n",
    "for i in cipher:\n",
    "  letter = alpha[subst.find(i)]\n",
    "  msg.append(letter)\n",
    "print(''.join(msg))\n",
    "\n",
    "class Caesar:\n",
    "\n",
    "    def encipher(msg, s):\n",
    "        alpha = string.ascii_lowercase\n",
    "        subst = alpha[s:] + alpha[:s]\n",
    "        cipher = []\n",
    "        for i in msg:\n",
    "            letter = subst[alpha.find(i)]\n",
    "            cipher.append(letter)\n",
    "        return ''.join(cipher)\n",
    "\n",
    "    def decipher(cipher, s):\n",
    "        msg = Caesar.encipher(cipher,-s)\n",
    "        return msg\n",
    "\n",
    "print(Caesar.encipher(\"saucyjack\",5))\n",
    "\n",
    "print(Caesar.decipher(\"xfzhdofhp\",5))"
   ]
  },
  {
   "cell_type": "markdown",
   "id": "83b96e65",
   "metadata": {},
   "source": [
    "[Return to contents](#0.)\n",
    "\n",
    "<hr style=\"border:2px solid gray\">"
   ]
  },
  {
   "cell_type": "markdown",
   "id": "1024582b",
   "metadata": {},
   "source": [
    "## 3.3 H3 solution <a name=\"3.3\"></a>\n",
    "\n",
    "<hr style=\"border:2px solid gray\">"
   ]
  },
  {
   "cell_type": "markdown",
   "id": "a0ad34d5",
   "metadata": {},
   "source": [
    "The first step is to create the Polybius square.  We start by defining an empty list and then writing our keyword - in this case, 'cipher'."
   ]
  },
  {
   "cell_type": "code",
   "execution_count": null,
   "id": "35ef7379",
   "metadata": {},
   "outputs": [],
   "source": [
    "keyword = \"cipher\"\n",
    "square = []"
   ]
  },
  {
   "cell_type": "markdown",
   "id": "2831ea3f",
   "metadata": {},
   "source": [
    "We can effectively visualise our Polybius square as a 'trail' of letters beginning with 'cipher' and ending with ' Z '.  Using a `for` loop to append letters to our empty list `squares` should be easy.  We can generate letters using `ascii_lowercase` from `string`, which we effectively stick on to `keyword`.  However, we must ensure that the letters in 'cipher' are not counted, as well as ensuring that ' j ' is dropped.  These can both be achieved with `if` conditions, or an `if and` condition to save space."
   ]
  },
  {
   "cell_type": "code",
   "execution_count": null,
   "id": "a320092f",
   "metadata": {},
   "outputs": [],
   "source": [
    "for i in keyword + string.ascii_lowercase:\n",
    "    if i not in square and i != \"j\":\n",
    "        square.append(i)"
   ]
  },
  {
   "cell_type": "markdown",
   "id": "9dffd00e",
   "metadata": {},
   "source": [
    "Now we append this to our empty list `square`.  We can print it to ensure that we get the correct layout for our Polybius square."
   ]
  },
  {
   "cell_type": "code",
   "execution_count": null,
   "id": "020e9652",
   "metadata": {},
   "outputs": [],
   "source": [
    "square = ''.join(square)\n",
    "print(square)"
   ]
  },
  {
   "cell_type": "markdown",
   "id": "0fb5aa9c",
   "metadata": {},
   "source": [
    "Now to generate our cipher; that is, to assign a numerical value to each letter in our Polybius square.  We can test this by writing a secret message:"
   ]
  },
  {
   "cell_type": "code",
   "execution_count": null,
   "id": "c6a03e1f",
   "metadata": {},
   "outputs": [],
   "source": [
    "msg = \"secretmessage\""
   ]
  },
  {
   "cell_type": "markdown",
   "id": "1fca0dcd",
   "metadata": {},
   "source": [
    "We again make an empty list, this time for our cipher."
   ]
  },
  {
   "cell_type": "code",
   "execution_count": null,
   "id": "cebb461f",
   "metadata": {},
   "outputs": [],
   "source": [
    "cipher = []"
   ]
  },
  {
   "cell_type": "markdown",
   "id": "82479488",
   "metadata": {},
   "source": [
    "Now we must find a method of obtaining a row and column value for each letter in our message.  In our Polybius square, the letter 'E' has a row value of $1$ and a column value of $5$; it effectively has coordinates $(1,5)$ and thus a 'Polybius value' of $15$.  In our list `square`, it has index 4, which we obtain using the `find` function.  We must therefore perform an operation on its index such that it transforms into $`$ and $5$.\n",
    "\n",
    "This is where the `divmod` function comes in.  As our rows and columns are $5$ numbers long, our second input shall be $5$.  `divmod(4,5)` gives $(0,4)$, so this isn't quite right.  We'll need to add a value of $1$ to the row and column value in order to get $(1,5)$.  We do this for every letter in our message using a `for` loop and append the results to our empty list `cipher`."
   ]
  },
  {
   "cell_type": "code",
   "execution_count": null,
   "id": "35522fa4",
   "metadata": {},
   "outputs": [],
   "source": [
    "msg = \"secretmessage\"\n",
    "cipher = []\n",
    "for i in msg:\n",
    "  n = square.find(i)\n",
    "  row,col = divmod(n,5)\n",
    "  cipher.append(str(row+1)+str(col + 1))"
   ]
  },
  {
   "cell_type": "markdown",
   "id": "0be0c6c8",
   "metadata": {},
   "source": [
    "Let's print it to see what we get."
   ]
  },
  {
   "cell_type": "code",
   "execution_count": null,
   "id": "996ac8e8",
   "metadata": {},
   "outputs": [],
   "source": [
    "print(cipher)"
   ]
  },
  {
   "cell_type": "markdown",
   "id": "d3b1ce25",
   "metadata": {},
   "source": [
    "Now we decipher it, by essentially doing the reverse.  `divmod` gives a $42$-element tuple, so we can refer to the row and column values individually by specifying elements $0$ and $1$, respectively.  Since our second argument in `divmod` was $5$, we must multiply the row values (with the 'boost' value of $1$ removed) by $5$."
   ]
  },
  {
   "cell_type": "code",
   "execution_count": null,
   "id": "c4b7c583",
   "metadata": {},
   "outputs": [],
   "source": [
    "plain = []\n",
    "for i in range(len(cipher)):\n",
    "    row = int(cipher[i][0])\n",
    "    col = int(cipher[i][1])\n",
    "    letter = square[(row-1)*5 + col-1]\n",
    "    plain.append(letter)\n",
    "print(''.join(plain))"
   ]
  },
  {
   "cell_type": "markdown",
   "id": "91f196da",
   "metadata": {},
   "source": [
    "Combining them in a class is fairly simple - we just need to create our Polybius square a second time for our deciphering function as it will be working from scratch this time."
   ]
  },
  {
   "cell_type": "code",
   "execution_count": null,
   "id": "9cfd9b1c",
   "metadata": {},
   "outputs": [],
   "source": [
    "class Polybius:\n",
    "\n",
    "    def encipher(plain, keyword):\n",
    "\n",
    "        # create Polybius square\n",
    "        square = []\n",
    "        for i in keyword + string.ascii_lowercase:\n",
    "            if i not in square and i != \"j\":\n",
    "                square.append(i)\n",
    "        square = ''.join(square)\n",
    "\n",
    "        # encipher by looping through message text\n",
    "        cipher = []\n",
    "        for i in plain:\n",
    "            n = square.find(i)# + 1\n",
    "            row,col = divmod(n,5)\n",
    "            cipher.append(str(row+1)+str(col + 1))\n",
    "\n",
    "        return cipher\n",
    "\n",
    "    def decipher(cipher, keyword):\n",
    "\n",
    "        square = []\n",
    "        for c in keyword + string.ascii_lowercase:\n",
    "            if c not in square and c != \"j\":\n",
    "                square.append(c)\n",
    "        square = ''.join(square)\n",
    "\n",
    "        plain = []\n",
    "        for i in range(len(cipher)):\n",
    "            row = int(cipher[i][0])\n",
    "            col = int(cipher[i][1])\n",
    "            letter = square[(row-1)*5 + col-1]\n",
    "            plain.append(letter)\n",
    "\n",
    "        return \"\".join(plain)"
   ]
  },
  {
   "cell_type": "markdown",
   "id": "62c514e2",
   "metadata": {},
   "source": [
    "Let's give it a spin and see if it works."
   ]
  },
  {
   "cell_type": "code",
   "execution_count": null,
   "id": "cbf50865",
   "metadata": {},
   "outputs": [],
   "source": [
    "print(Polybius.encipher(\"anothersecretmessage\",\"cipher\"))"
   ]
  },
  {
   "cell_type": "markdown",
   "id": "3c0de25f",
   "metadata": {},
   "source": [
    "The numbers match what we're after on the grid - let's decipher it and see if we can reconstruct our message."
   ]
  },
  {
   "cell_type": "code",
   "execution_count": null,
   "id": "1723a405",
   "metadata": {},
   "outputs": [],
   "source": [
    "print(Polybius.decipher(['22', '40', '41', '44', '14', '20', '21', '43', '20', '11', '21', '20', '44', '34', '20', '43', '43', '22', '31', '20'],\"cipher\"))"
   ]
  },
  {
   "cell_type": "markdown",
   "id": "03629c92",
   "metadata": {},
   "source": [
    "Putting it all together:"
   ]
  },
  {
   "cell_type": "code",
   "execution_count": null,
   "id": "8c952d97",
   "metadata": {},
   "outputs": [],
   "source": [
    "import string\n",
    "\n",
    "keyword = \"cipher\"\n",
    "square = []\n",
    "for i in keyword + string.ascii_lowercase:\n",
    "    if i not in square and i != \"j\":\n",
    "        square.append(i)\n",
    "square = ''.join(square)\n",
    "print(square)\n",
    "\n",
    "msg = \"secretmessage\"\n",
    "cipher = []\n",
    "for i in msg:\n",
    "  n = square.find(i)\n",
    "  row,col = divmod(n,5)\n",
    "  cipher.append(str(row+1)+str(col + 1))\n",
    "print(cipher)\n",
    "\n",
    "msg = []\n",
    "for i in range(len(cipher)):\n",
    "    row = int(cipher[i][0])\n",
    "    col = int(cipher[i][1])\n",
    "    letter = square[(row-1)*5 + col-1]\n",
    "    plain.append(letter)\n",
    "print(''.join(msg))\n",
    "\n",
    "class Polybius:\n",
    "\n",
    "    def encipher(msg, keyword):\n",
    "        '''\n",
    "        Encodes a message into a Polybius square that starts with a given keyword\n",
    "        Arguments: message, keyword\n",
    "        '''\n",
    "        square = []\n",
    "        for i in keyword + string.ascii_lowercase:\n",
    "            if i not in square and i != \"j\":\n",
    "                square.append(i)\n",
    "        square = ''.join(square)\n",
    "\n",
    "        cipher = []\n",
    "        for i in msg:\n",
    "            n = square.find(i)# + 1\n",
    "            row,col = divmod(n,5)\n",
    "            cipher.append(str(row+1)+str(col + 1))\n",
    "\n",
    "        return cipher\n",
    "\n",
    "    def decipher(cipher, keyword):\n",
    "        '''\n",
    "        Deciphers numerical cipher from generated Polybius square and given keyword\n",
    "        Arguments: cipher, keyword\n",
    "        '''\n",
    "\n",
    "        square = []\n",
    "        for c in keyword + string.ascii_lowercase:\n",
    "            if c not in square and c != \"j\":\n",
    "                square.append(c)\n",
    "        square = ''.join(square)\n",
    "\n",
    "        plain = []\n",
    "        for i in range(len(cipher)):\n",
    "            row = int(cipher[i][0])\n",
    "            col = int(cipher[i][1])\n",
    "            letter = square[(row-1)*5 + col-1]\n",
    "            plain.append(letter)\n",
    "\n",
    "        return \"\".join(msg)\n",
    "\n",
    "print(Polybius.encipher(\"anothersecretmessage\",\"cipher\"))\n",
    "\n",
    "print(Polybius.decipher(['22', '40', '41', '44', '14', '20', '21', '43', '20', '11', '21', '20', '44', '34', '20', '43', '43', '22', '31', '20'],\"cipher\"))"
   ]
  },
  {
   "cell_type": "markdown",
   "id": "8b8a495b",
   "metadata": {},
   "source": [
    "[Return to contents](#0.)\n",
    "\n",
    "<hr style=\"border:2px solid gray\">"
   ]
  }
 ],
 "metadata": {
  "kernelspec": {
   "display_name": "Python 3 (ipykernel)",
   "language": "python",
   "name": "python3"
  },
  "language_info": {
   "codemirror_mode": {
    "name": "ipython",
    "version": 3
   },
   "file_extension": ".py",
   "mimetype": "text/x-python",
   "name": "python",
   "nbconvert_exporter": "python",
   "pygments_lexer": "ipython3",
   "version": "3.7.6"
  }
 },
 "nbformat": 4,
 "nbformat_minor": 5
}
