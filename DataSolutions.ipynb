{
 "cells": [
  {
   "cell_type": "markdown",
   "id": "a4db7706",
   "metadata": {},
   "source": [
    "# Solutions to the data manipulation challenges <a name=\"0.\"></a>"
   ]
  },
  {
   "cell_type": "markdown",
   "id": "6b6f40a9",
   "metadata": {},
   "source": [
    "Contents:\n",
    "- [Solutions - Easy](#1.)\n",
    "  - [E1 solution - Part 1](#1.1.1)\n",
    "  - [E1 solution - Part 2](#1.1.2)\n",
    "  - [E1 solution - Part 3](#1.1.3)\n",
    "  - [E2 solution](#1.2)\n",
    "- [Solutions - Medium](#2.)\n",
    "  - [M1 solution](#2.1)\n",
    "  - [M2 solution](#2.2)\n",
    "  - [M3 solution - Part 1](#2.3.1)\n",
    "  - [M3 solution - Part 2](#2.3.2)\n",
    "  - [M3 solution - Part 3](#2.3.3)\n",
    "  - [M4 solution](#2.4)\n",
    "  - [M5 solution](#2.5)\n",
    "- [Solutions - Hard](#3.)\n",
    "  - [H1 solution - Part 1](#3.1.1)\n",
    "  - [H1 solution - Part 2](#3.1.2)\n",
    "  - [H1 solution - Part 3](#3.1.3)\n",
    "  - [H2 solution](#3.2)"
   ]
  },
  {
   "cell_type": "markdown",
   "id": "f8a0d869",
   "metadata": {},
   "source": [
    "# 1. Solutions - Easy <a name=\"1.\"></a>"
   ]
  },
  {
   "cell_type": "markdown",
   "id": "27809798",
   "metadata": {},
   "source": [
    "### 1.1.1 E1 solution - Part 1 <a name=\"1.1.1\"></a>\n",
    "\n",
    "<hr style=\"border:2px solid gray\">"
   ]
  },
  {
   "cell_type": "markdown",
   "id": "819c4c04",
   "metadata": {},
   "source": [
    "As we want this to work with multiple inputs for the vertices, we need to use floats and inputs. We can do this by assigning each vertex with the *float(input())* command then inputting each vertex into an array. We shall call this array vertices. Next we make a UDF to give the area of the triangle using these vertices with the formula provided. Finally, we call the UDF at the end to run it.\n",
    "\n",
    "First of all, the float inputs:"
   ]
  },
  {
   "cell_type": "code",
   "execution_count": null,
   "id": "064fcb3b",
   "metadata": {},
   "outputs": [],
   "source": [
    "x1=float(input(\"x1:\"))\n",
    "y1=float(input(\"y1:\"))\n",
    "x2=float(input(\"x2:\"))\n",
    "y2=float(input(\"y2:\"))\n",
    "x3=float(input(\"x3:\"))\n",
    "y3=float(input(\"y3:\"))"
   ]
  },
  {
   "cell_type": "markdown",
   "id": "a9dad621",
   "metadata": {},
   "source": [
    "Now we can build our array of the vertices above.  However, naming it *vertices* or something relatively long would be inefficient and time-consuming as we will need to constantly write out the name of this array.  As such, we shall simply name our array `v`."
   ]
  },
  {
   "cell_type": "code",
   "execution_count": null,
   "id": "f26fc98f",
   "metadata": {},
   "outputs": [],
   "source": [
    "import numpy as np\n",
    "\n",
    "v=np.array([x1, y1, x2, y2, x3, y3])"
   ]
  },
  {
   "cell_type": "markdown",
   "id": "4637932c",
   "metadata": {},
   "source": [
    "Now we shall write our UDF.  It will directly give us our result, so we should include a `print` function and text in string form so we don't just get an unmarked value as the output.  We also need to call it at the end."
   ]
  },
  {
   "cell_type": "code",
   "execution_count": null,
   "id": "a9a2bf5b",
   "metadata": {},
   "outputs": [],
   "source": [
    "def area(v):\n",
    "    print(f\"Area of triangle = {((v[2]*v[5])-(v[4]*v[3])-(v[0]*v[5])+(v[4]*v[1])+(v[0]*v[3])-(v[2]*v[1]))/2} units\")\n",
    "area(v)"
   ]
  },
  {
   "cell_type": "markdown",
   "id": "90f40ab6",
   "metadata": {},
   "source": [
    "Putting it all together:"
   ]
  },
  {
   "cell_type": "code",
   "execution_count": null,
   "id": "8f9a3c85",
   "metadata": {},
   "outputs": [],
   "source": [
    "import numpy as np\n",
    "\n",
    "x1=float(input(\"x1: \"))\n",
    "y1=float(input(\"y1: \"))\n",
    "x2=float(input(\"x2: \"))\n",
    "y2=float(input(\"y2: \"))\n",
    "x3=float(input(\"x3: \"))\n",
    "y3=float(input(\"y3: \"))\n",
    "\n",
    "v=np.array([x1,y1,x2,y2,x3,y3])\n",
    "\n",
    "def area(v):\n",
    "    print(f\"Area of triangle is {((v[2]*v[5])-(v[4]*v[3])-(v[0]*v[5])+(v[4]*v[1])+(v[0]*v[3])-(v[2]*v[1]))/2} units\")\n",
    "area(v)"
   ]
  },
  {
   "cell_type": "markdown",
   "id": "f77dab6f",
   "metadata": {},
   "source": [
    "[Return to contents](#0.)\n",
    "\n",
    "<hr style=\"border:2px solid gray\">"
   ]
  },
  {
   "cell_type": "markdown",
   "id": "475caa32",
   "metadata": {},
   "source": [
    "### 1.1.2 E1 solution - Part 2 <a name=\"1.1.2\"></a>\n",
    "\n",
    "<hr style=\"border:2px solid gray\">"
   ]
  },
  {
   "cell_type": "markdown",
   "id": "910c0c4b",
   "metadata": {},
   "source": [
    "The example triangle with coordinates $(0, 0), (1, 0), (0, 2)$ is actually a very good test case, as it will be a right-angled triangle.  This means its area will be given by $A = \\frac{1}{2} l_1 l_2$ where $l_1$ and $l_2$ are the two sides adjacent to the hypoteneuse.  In this case, the area will be 1 unit - which matches what we get from running our function with these values used for the vertices!\n",
    "\n",
    "<hr style=\"border:2px solid gray\">"
   ]
  },
  {
   "cell_type": "markdown",
   "id": "1d991cb6",
   "metadata": {},
   "source": [
    "### 1.1.3 E1 solution - Part 3 <a name=\"1.1.3\"></a>\n",
    "\n",
    "<hr style=\"border:2px solid gray\">"
   ]
  },
  {
   "cell_type": "markdown",
   "id": "a043d53e",
   "metadata": {},
   "source": [
    "Our function - with an example docstring included - is below.  A docstring should at least include the arguments accepted by a UDF and a brief overview of its purpose."
   ]
  },
  {
   "cell_type": "code",
   "execution_count": null,
   "id": "ad648d7f",
   "metadata": {},
   "outputs": [],
   "source": [
    "def area(v):\n",
    "    '''\n",
    "    The arguments of the function are the vertices, given by (x1,y1), (x2,y2) and (x3,y3).\n",
    "    The function will return the area of a triangle defined by these vertices\n",
    "    '''\n",
    "    print(f\"Area of triangle = {((v[2]*v[5])-(v[4]*v[3])-(v[0]*v[5])+(v[4]*v[1])+(v[0]*v[3])-(v[2]*v[1]))/2} units\")"
   ]
  },
  {
   "cell_type": "markdown",
   "id": "8277ade6",
   "metadata": {},
   "source": [
    "[Return to contents](#0.)\n",
    "\n",
    "<hr style=\"border:2px solid gray\">"
   ]
  },
  {
   "cell_type": "markdown",
   "id": "722b0a1f",
   "metadata": {},
   "source": [
    "## 1.2 E2 solution <a name=\"1.2\"></a>\n",
    "\n",
    "<hr style=\"border:2px solid gray\">"
   ]
  },
  {
   "cell_type": "markdown",
   "id": "7d05ecfe",
   "metadata": {},
   "source": [
    "The first step is to generate data for our parametric variable $t$.  `linspace` would be the best option as it generates evenly spaced datapoints."
   ]
  },
  {
   "cell_type": "code",
   "execution_count": null,
   "id": "d4b55479",
   "metadata": {},
   "outputs": [],
   "source": [
    "t = np.linspace(-5,5,1000)"
   ]
  },
  {
   "cell_type": "markdown",
   "id": "1aa414ee",
   "metadata": {},
   "source": [
    "Now we write these parametric equations in a form that Python will recognise."
   ]
  },
  {
   "cell_type": "code",
   "execution_count": null,
   "id": "1c720eed",
   "metadata": {},
   "outputs": [],
   "source": [
    "x1 = np.sin(t)*(math.e**(np.cos(t)) - 2*np.cos(4*t) + np.sin(t/12)**5)\n",
    "y1 = np.cos(t)*(math.e**(np.cos(t)) - 2*np.cos(4*t) + np.sin(t/12)**5)\n",
    "\n",
    "x2 = (t/2)*np.cos(t)\n",
    "y2 = -(t/2)*np.sin(t)"
   ]
  },
  {
   "cell_type": "markdown",
   "id": "493daa70",
   "metadata": {},
   "source": [
    "Let's generate basic plots for both of these and see what we get."
   ]
  },
  {
   "cell_type": "code",
   "execution_count": null,
   "id": "d8b341d7",
   "metadata": {},
   "outputs": [],
   "source": [
    "plt.plot(x1,y1)\n",
    "plt.show()\n",
    "\n",
    "plt.plot(x2,y2)\n",
    "plt.show()"
   ]
  },
  {
   "cell_type": "markdown",
   "id": "92471cda",
   "metadata": {},
   "source": [
    "There's definitely a problem using these values of $t$ for the Fermat spiral - it isn't actually making a spiral!  We can identify two problems:\n",
    "- The numerical difference between the upper and lower bounds is not enough for an obvious curve\n",
    "- We have two curves that curl in different directions\n",
    "\n",
    "Therefore, we must set the lower bound of our $t$ data to $0$ and increase the upper bound - perhaps $50$ will do?"
   ]
  },
  {
   "cell_type": "code",
   "execution_count": null,
   "id": "3be84f3b",
   "metadata": {},
   "outputs": [],
   "source": [
    "t = np.linspace(0,50,1000)\n",
    "\n",
    "x1 = np.sin(t)*(math.e**(np.cos(t)) - 2*np.cos(4*t) + np.sin(t/12)**5)\n",
    "y1 = np.cos(t)*(math.e**(np.cos(t)) - 2*np.cos(4*t) + np.sin(t/12)**5)\n",
    "\n",
    "x2 = (t/2)*np.cos(t)\n",
    "y2 = -(t/2)*np.sin(t)\n",
    "\n",
    "plt.plot(x1,y1)\n",
    "plt.show()\n",
    "\n",
    "plt.plot(x2,y2)\n",
    "plt.show()"
   ]
  },
  {
   "cell_type": "markdown",
   "id": "19b155f4",
   "metadata": {},
   "source": [
    "The Fermat Spiral is looking good, but now the Butterfly is all messed up!  The best approach would be to use two different $t$ datasets for each plot."
   ]
  },
  {
   "cell_type": "code",
   "execution_count": null,
   "id": "2b8eff0a",
   "metadata": {},
   "outputs": [],
   "source": [
    "t1 = np.linspace(-5,5,1000)\n",
    "t2 = np.linspace(0,50,1000)\n",
    "\n",
    "x1 = np.sin(t1)*(math.e**(np.cos(t1)) - 2*np.cos(4*t1) + np.sin(t1/12)**5)\n",
    "y1 = np.cos(t1)*(math.e**(np.cos(t1)) - 2*np.cos(4*t1) + np.sin(t1/12)**5)\n",
    "\n",
    "x2 = (t2/2)*np.cos(t2)\n",
    "y2 = -(t2/2)*np.sin(t2)\n",
    "\n",
    "plt.plot(x1,y1)\n",
    "plt.show()\n",
    "\n",
    "plt.plot(x2,y2)\n",
    "plt.show()"
   ]
  },
  {
   "cell_type": "markdown",
   "id": "9e00000d",
   "metadata": {},
   "source": [
    "Much better!  However, these plots would be meaningless to a random observer.  We'll need to label and title both of them."
   ]
  },
  {
   "cell_type": "code",
   "execution_count": null,
   "id": "8b5094b2",
   "metadata": {},
   "outputs": [],
   "source": [
    "plt.plot(x1,y1, 'g')\n",
    "plt.title('Plot of a Butterfly Curve')\n",
    "plt.xlabel('x')\n",
    "plt.ylabel('y')\n",
    "plt.show()\n",
    "\n",
    "plt.plot(x2,y2, 'b')\n",
    "plt.title('Plot of a Fermat Spiral')\n",
    "plt.xlabel('x')\n",
    "plt.ylabel('y')\n",
    "plt.show()"
   ]
  },
  {
   "cell_type": "markdown",
   "id": "ce0d6282",
   "metadata": {},
   "source": [
    "Putting it all together:"
   ]
  },
  {
   "cell_type": "code",
   "execution_count": null,
   "id": "52ed6cbc",
   "metadata": {},
   "outputs": [],
   "source": [
    "import numpy as np\n",
    "import matplotlib.pyplot as plt\n",
    "import math\n",
    "\n",
    "t1 = np.linspace(-5,5,1000)\n",
    "t2 = np.linspace(0,50,1000)\n",
    "\n",
    "x1 = np.sin(t1)*(math.e**(np.cos(t1)) - 2*np.cos(4*t1) + np.sin(t1/12)**5)\n",
    "y1 = np.cos(t1)*(math.e**(np.cos(t1)) - 2*np.cos(4*t1) + np.sin(t1/12)**5)\n",
    "\n",
    "x2 = (t2/2)*np.cos(t2)\n",
    "y2 = -(t2/2)*np.sin(t2)\n",
    "\n",
    "plt.plot(x1,y1, 'g')\n",
    "plt.title('Plot of a Butterfly Curve')\n",
    "plt.xlabel('x')\n",
    "plt.ylabel('y')\n",
    "plt.show()\n",
    "\n",
    "plt.plot(x2,y2, 'b')\n",
    "plt.title('Plot of a Fermat Spiral')\n",
    "plt.xlabel('x')\n",
    "plt.ylabel('y')\n",
    "plt.show()"
   ]
  },
  {
   "cell_type": "markdown",
   "id": "fe8db861",
   "metadata": {},
   "source": [
    "[Return to contents](#0.)\n",
    "\n",
    "<hr style=\"border:2px solid gray\">"
   ]
  },
  {
   "cell_type": "markdown",
   "id": "221fd090",
   "metadata": {},
   "source": [
    "# 2. Solutions - Medium <a name=\"2.\"></a>"
   ]
  },
  {
   "cell_type": "markdown",
   "id": "ea9f4bae",
   "metadata": {},
   "source": [
    "## 2.1 M1 solution <a name=\"2.1\"></a>\n",
    "\n",
    "<hr style=\"border:2px solid gray\">"
   ]
  },
  {
   "cell_type": "markdown",
   "id": "69e8a9e8",
   "metadata": {},
   "source": [
    "As both plots use the same limits for $x$\n",
    ", we can use `linspace()` to generate the x-data for both plots."
   ]
  },
  {
   "cell_type": "code",
   "execution_count": null,
   "id": "10e28bd2",
   "metadata": {},
   "outputs": [],
   "source": [
    "x1=np.linspace(-np.pi, np.pi, 100)"
   ]
  },
  {
   "cell_type": "markdown",
   "id": "0e6f156c",
   "metadata": {},
   "source": [
    "As the first graph has more required features, we’ll be focusing on just the top graph from now on.  We’ll start by generating the cosine subplot, as it’s displayed first on the plot’s label.  The first step is actually generating the subplot.  We’ll use a $2 \\times 1$ figure, with 2 subplots, hence $(2,1,2)$.  Our x-data is `x1`, our y-data is `np.cos(x1)`, the colour of our line is blue and our we shall label our subplot `cosine`.  Our label will be located in the upper left-hand corner of the plot."
   ]
  },
  {
   "cell_type": "code",
   "execution_count": null,
   "id": "51e70bc4",
   "metadata": {},
   "outputs": [],
   "source": [
    "ax1=plt.subplot(2,1,1)\n",
    "ax1.plot(x1, np.cos(x1), 'b',label=r'$cosine$')\n",
    "ax1.legend(loc='upper left')"
   ]
  },
  {
   "cell_type": "markdown",
   "id": "0d02f41d",
   "metadata": {},
   "source": [
    "Now we can add our title:"
   ]
  },
  {
   "cell_type": "code",
   "execution_count": null,
   "id": "5f5e2472",
   "metadata": {},
   "outputs": [],
   "source": [
    "ax1.set_title('Figure showing two subplots, with points labelled using LaTeX text')"
   ]
  },
  {
   "cell_type": "markdown",
   "id": "3b3f8a56",
   "metadata": {},
   "source": [
    "The next step is to set the position of the $x$ and $y$ axes, which are called *spines* in `matplotlib`.  We want them to be central, so we set them to be central:"
   ]
  },
  {
   "cell_type": "code",
   "execution_count": null,
   "id": "d8dbf8ff",
   "metadata": {},
   "outputs": [],
   "source": [
    "ax1.spines['left'].set_position('center')\n",
    "ax1.spines['right'].set_color('none')\n",
    "ax1.spines['bottom'].set_position('center')\n",
    "ax1.spines['top'].set_color('none')"
   ]
  },
  {
   "cell_type": "markdown",
   "id": "77533342",
   "metadata": {},
   "source": [
    "We repeat these steps for the sine graph.  Now we set the $x$ and $y$ ticks.  These are values used to show specific\n",
    "points on the coordinate axis.  They will be labelled, which we shall do after setting their position:"
   ]
  },
  {
   "cell_type": "code",
   "execution_count": null,
   "id": "8769278e",
   "metadata": {},
   "outputs": [],
   "source": [
    "ax1.set_xticks([-np.pi,-np.pi/2,0,np.pi/2,np.pi])\n",
    "ax1.set_yticks([-1,0,1])"
   ]
  },
  {
   "cell_type": "markdown",
   "id": "514cbdbf",
   "metadata": {},
   "source": [
    "Now to label the ticks:"
   ]
  },
  {
   "cell_type": "code",
   "execution_count": null,
   "id": "b84a31f4",
   "metadata": {},
   "outputs": [],
   "source": [
    "ax1.set_xticklabels([r'$-\\pi$',r'$-\\pi/2$','0',r'$\\pi/2$',r'$\\pi$'])\n",
    "ax1.set_yticklabels([r'-1',r'0',r'1'])"
   ]
  },
  {
   "cell_type": "markdown",
   "id": "e053c293",
   "metadata": {},
   "source": [
    "We’ll describe how to do the annotation for the cosine subplot:"
   ]
  },
  {
   "cell_type": "code",
   "execution_count": null,
   "id": "cf4c0714",
   "metadata": {},
   "outputs": [],
   "source": [
    "ax1.annotate('$cos(2\\pi/3)=-1/2$', xy=(2*np.pi/3,-1/2),\n",
    "arrowprops=dict(arrowstyle='-',connectionstyle='angle3'), xytext=(1.5, 0.8))"
   ]
  },
  {
   "cell_type": "markdown",
   "id": "c4baf5a8",
   "metadata": {},
   "source": [
    "Putting it all together:"
   ]
  },
  {
   "cell_type": "code",
   "execution_count": null,
   "id": "f936afa1",
   "metadata": {},
   "outputs": [],
   "source": [
    "import numpy as np\n",
    "import matplotlib.pyplot as plt\n",
    "import math\n",
    "\n",
    "\n",
    "x1=np.linspace(-np.pi, np.pi, 100)\n",
    "\n",
    "ax1=plt.subplot(2,1,1)\n",
    "ax1.plot(x1, np.cos(x1), 'b',label=r'$cosine$')\n",
    "ax1.legend(loc='upper left')\n",
    "\n",
    "ax1.set_title('Figure showing a subplot, with a point on the line labelled using LaTeX text')\n",
    "\n",
    "ax1.spines['left'].set_position('center')\n",
    "ax1.spines['right'].set_color('none')\n",
    "ax1.spines['bottom'].set_position('center')\n",
    "ax1.spines['top'].set_color('none')\n",
    "\n",
    "ax1.set_xticks([-np.pi,-np.pi/2,0,np.pi/2,np.pi])\n",
    "ax1.set_yticks([-1,0,1])\n",
    "\n",
    "ax1.set_xticklabels([r'$-\\pi$',r'$-\\pi/2$','0',r'$\\pi/2$',r'$\\pi$'])\n",
    "ax1.set_yticklabels([r'-1',r'0',r'1'])\n",
    "\n",
    "ax1.annotate(r'$cos(\\frac{2\\pi}{3})=-\\frac{1}{2}$', xy=(2*np.pi/3,-1/2),\n",
    "arrowprops=dict(arrowstyle='-',connectionstyle='angle3'), xytext=(1.5, 0.8))\n",
    "\n",
    "plt.show()"
   ]
  },
  {
   "cell_type": "markdown",
   "id": "36f617c1",
   "metadata": {},
   "source": [
    "[Return to contents](#0.)\n",
    "\n",
    "<hr style=\"border:2px solid gray\">"
   ]
  },
  {
   "cell_type": "markdown",
   "id": "1ba2b57b",
   "metadata": {},
   "source": [
    "## 2.2 M2 solution <a name=\"2.2\"></a>\n",
    "\n",
    "<hr style=\"border:2px solid gray\">"
   ]
  },
  {
   "cell_type": "markdown",
   "id": "9a64d233",
   "metadata": {},
   "source": [
    "We'll need to use arrays; a clear giveaway is that we're given our data in a component-style layout.  So, let's start by writing our data in array form."
   ]
  },
  {
   "cell_type": "code",
   "execution_count": null,
   "id": "9f28102f",
   "metadata": {},
   "outputs": [],
   "source": [
    "p1 = np.array([8.705,1.114,1.092,-3.410])\n",
    "p2 = np.array([6.808,-5.209,-14.834,7.561])\n",
    "p3 = np.array([4.282,1.750,3.788,6.835])"
   ]
  },
  {
   "cell_type": "markdown",
   "id": "a9ae4d9c",
   "metadata": {},
   "source": [
    "A good next step would be to write the formula for invariant mass in Python mathematical syntax."
   ]
  },
  {
   "cell_type": "code",
   "execution_count": null,
   "id": "4fbbb04a",
   "metadata": {},
   "outputs": [],
   "source": [
    "M = (x[0] + y[0])**2 - (x[1] + y[1])**2 - (x[2] + y[2])**2 - (x[3] + y[3])**2"
   ]
  },
  {
   "cell_type": "markdown",
   "id": "8fab19e7",
   "metadata": {},
   "source": [
    "Now to start comparing.  The best way forward would be a simple accept/reject rule, so this will involve a single `if` statement.  The criterion for our `if` statement will be whether a pair of photons has an invariant mass similar to that of the Higgs boson; that is, $125 \\; GeV$.\n",
    "\n",
    "However, it's unlikely that a pair of photons will have an invariant mass of *exactly* $125 \\; GeV$, so the *equal to* operator `==` will not work.  This is where the `isclose` function comes in - our check will instead be gauging how close the invariant mass of a photon pair is to $125 \\; GeV$.\n",
    "\n",
    "It would be a real pain to rewrite our `if` loop for each possible photon pair, so a UDF is best used here.  Generally, multiple instances of similar-looking input data is a signal to use UDFs.  We'll incorporate our formula for invariant mass into the `if` loop within our UDF."
   ]
  },
  {
   "cell_type": "code",
   "execution_count": null,
   "id": "cd9924e2",
   "metadata": {},
   "outputs": [],
   "source": [
    "def Minv(x,y):\n",
    "    M = (x[0] + y[0])**2 - (x[1] + y[1])**2 - (x[2] + y[2])**2 - (x[3] + y[3])**2\n",
    "    if math.isclose(M, 125, abs_tol = 5.0):\n",
    "        print(\"The photons\",x,\"and\",y, \"have an invariant mass of\", M, \"GeV and therefore came from a Higgs decay\")"
   ]
  },
  {
   "cell_type": "markdown",
   "id": "45b5298a",
   "metadata": {},
   "source": [
    "The full code is below, with the relevant modules imported and all possible combinations called.  Note that there is only an output for the correct $(1,3)$ photon pair as we have not included an `else` condition."
   ]
  },
  {
   "cell_type": "code",
   "execution_count": null,
   "id": "1a34fd35",
   "metadata": {},
   "outputs": [],
   "source": [
    "import math\n",
    "\n",
    "p1 = np.array([8.705,1.114,1.092,-3.410])\n",
    "p2 = np.array([6.808,-5.209,-14.834,7.561])\n",
    "p3 = np.array([4.282,1.750,3.788,6.835])\n",
    "\n",
    "def Minv(x,y):\n",
    "    M = (x[0] + y[0])**2 - (x[1] + y[1])**2 - (x[2] + y[2])**2 - (x[3] + y[3])**2\n",
    "    if math.isclose(M, 125, abs_tol = 5.0):\n",
    "        print(\"The photons\",x,\"and\",y, \"have an invariant mass of\", M, \"GeV and therefore came from a Higgs decay\")\n",
    "   \n",
    "Minv(p1,p2)\n",
    "Minv(p2,p3)\n",
    "Minv(p1,p3)"
   ]
  },
  {
   "cell_type": "markdown",
   "id": "c8d50977",
   "metadata": {},
   "source": [
    "[Return to contents](#0.)\n",
    "\n",
    "<hr style=\"border:2px solid gray\">"
   ]
  },
  {
   "cell_type": "markdown",
   "id": "51faee69",
   "metadata": {},
   "source": [
    "### 2.3.1 M3 solution - Part 1 <a name=\"2.3.1\"></a>\n",
    "\n",
    "<hr style=\"border:2px solid gray\">"
   ]
  },
  {
   "cell_type": "markdown",
   "id": "d7852c1d",
   "metadata": {},
   "source": [
    "Our first step is to import `pandas` in order to read our *.csv* file, as well as `matplotlib` in order to generate plots from the dataset `company_sales_data.csv`.  We  can also assign the variable `dat` to the `read_csv` function of `pandas` in order to save time."
   ]
  },
  {
   "cell_type": "code",
   "execution_count": null,
   "id": "d368b3f7",
   "metadata": {},
   "outputs": [],
   "source": [
    "import pandas as pd\n",
    "import matplotlib.pyplot as plt  \n",
    "\n",
    "dat = pd.read_csv(\"company_sales_data.csv\")"
   ]
  },
  {
   "cell_type": "markdown",
   "id": "78e295a4",
   "metadata": {},
   "source": [
    "Now to assign names to the various data columns so we can quickly and easily refer to them in their entirety, or by their element.  Though we won't yet be needing data for the total units of product sold or the total profit for the year, including them now will save time later."
   ]
  },
  {
   "cell_type": "code",
   "execution_count": null,
   "id": "1f3d95af",
   "metadata": {},
   "outputs": [],
   "source": [
    "mon = dat['month_number']\n",
    "cream = dat['facecream']\n",
    "wash = dat['facewash']\n",
    "paste = dat['toothpaste']\n",
    "soap = dat['bathingsoap']\n",
    "shampoo = dat['shampoo']\n",
    "moist = dat['moisturizer']\n",
    "units = dat['total_units']\n",
    "profit = dat['total_profit']"
   ]
  },
  {
   "cell_type": "markdown",
   "id": "cd8bc0ec",
   "metadata": {},
   "source": [
    "Since a single plot was specified, we won't need to muck around with any subplots.  Let's add a line for each product and label it so we can later render a legend."
   ]
  },
  {
   "cell_type": "code",
   "execution_count": null,
   "id": "8ef499c8",
   "metadata": {},
   "outputs": [],
   "source": [
    "plt.plot(mon, cream, label = 'Facecream sales')\n",
    "plt.plot(mon, wash, label = 'Facewash sales')\n",
    "plt.plot(mon, paste, label = 'Toothpaste sales')\n",
    "plt.plot(mon, soap, label = 'Soap sales')\n",
    "plt.plot(mon, shampoo, label = 'Shampoo sales')\n",
    "plt.plot(mon, moist, label = 'Moisturizer sales')"
   ]
  },
  {
   "cell_type": "markdown",
   "id": "839c3822",
   "metadata": {},
   "source": [
    "It doesn't look the best, does it?  We can resolve this by adding markers - perhaps dot markers?  Simply add `marker = 'o'` to each `plt.plot` command and observe."
   ]
  },
  {
   "cell_type": "code",
   "execution_count": null,
   "id": "cb675eae",
   "metadata": {},
   "outputs": [],
   "source": [
    "plt.plot(mon, cream, label = 'Facecream sales', marker='o')\n",
    "plt.plot(mon, wash, label = 'Facewash sales',  marker='o')\n",
    "plt.plot(mon, paste, label = 'Toothpaste sales', marker='o')\n",
    "plt.plot(mon, soap, label = 'Soap sales', marker='o')\n",
    "plt.plot(mon, shampoo, label = 'Shampoo sales', marker='o')\n",
    "plt.plot(mon, moist, label = 'Moisturizer sales', marker='o')"
   ]
  },
  {
   "cell_type": "markdown",
   "id": "78f4e258",
   "metadata": {},
   "source": [
    "We label our plot and generate the legend like so.  Since the progression of the year doesn't exactly depend on product sales, the `month_number` column will be our independent variable and we thus use the months as our *x*-axis and our product sales as the various *y* axes.  Another giveaway would be that the months are present for each product dataset, making it a common axis - the *x*-axis. "
   ]
  },
  {
   "cell_type": "code",
   "execution_count": null,
   "id": "db256025",
   "metadata": {},
   "outputs": [],
   "source": [
    "plt.xlabel('Month Number')\n",
    "plt.ylabel('Number of units')\n",
    "plt.legend(loc='upper left')\n",
    "plt.title('Sales data')\n",
    "plt.xticks(mon)"
   ]
  },
  {
   "cell_type": "markdown",
   "id": "a877abe0",
   "metadata": {},
   "source": [
    "Let's give it a trial run to see how the legend interacts with our various lines:"
   ]
  },
  {
   "cell_type": "code",
   "execution_count": null,
   "id": "b84476b0",
   "metadata": {},
   "outputs": [],
   "source": [
    "import pandas as pd\n",
    "import matplotlib.pyplot as plt  \n",
    "\n",
    "dat = pd.read_csv(\"company_sales_data.csv\")\n",
    "\n",
    "mon = dat['month_number']\n",
    "cream = dat['facecream']\n",
    "wash = dat['facewash']\n",
    "paste = dat['toothpaste']\n",
    "soap = dat['bathingsoap']\n",
    "shampoo = dat['shampoo']\n",
    "moist = dat['moisturizer']\n",
    "units = dat['total_units']\n",
    "profit = dat['total_profit']\n",
    "\n",
    "plt.plot(mon, cream, label = 'Facecream sales', marker='o')\n",
    "plt.plot(mon, wash, label = 'Facewash sales',  marker='o')\n",
    "plt.plot(mon, paste, label = 'Toothpaste sales', marker='o')\n",
    "plt.plot(mon, soap, label = 'Soap sales', marker='o')\n",
    "plt.plot(mon, shampoo, label = 'Shampoo sales', marker='o')\n",
    "plt.plot(mon, moist, label = 'Moisturizer sales', marker='o')\n",
    "\n",
    "plt.xlabel('Month Number')\n",
    "plt.ylabel('Number of units')\n",
    "plt.legend(loc='upper left')\n",
    "plt.title('Sales data')\n",
    "plt.show()"
   ]
  },
  {
   "cell_type": "markdown",
   "id": "ed249ec5",
   "metadata": {},
   "source": [
    "Hmm, not the best.  We'll need to resolve this by adjusting our *x* and *y* ticks.  Though having labels for every 2 months works, we may as well use `month_number` for our *x* ticks.  The *y* ticks are a little trickier, as we need to find a way of generating 'dead space' for our legend without 'squishing' our lines together too much.  A good approach would be to have several of the *y* ticks take values above the highest monthly sales value for a single product - in this case, the 14000 (some monetary units) for soap in December.\n",
    "\n",
    "This is right at the end, however, so we should look more towards the highest values earlier in the year.  Soap sales take the highest value here again at 9550 monetary units in March, so we can use this as a base.  The *x* and *y* ticks below should work:"
   ]
  },
  {
   "cell_type": "code",
   "execution_count": null,
   "id": "8ec7b3de",
   "metadata": {},
   "outputs": [],
   "source": [
    "plt.xticks(mon)\n",
    "plt.yticks([1000, 2000, 4000, 6000, 8000, 10000, 12000, 15000, 18000])\n",
    "plt.show()"
   ]
  },
  {
   "cell_type": "markdown",
   "id": "a9c4b647",
   "metadata": {},
   "source": [
    "Putting it all together:"
   ]
  },
  {
   "cell_type": "code",
   "execution_count": null,
   "id": "cfea0315",
   "metadata": {},
   "outputs": [],
   "source": [
    "import pandas as pd\n",
    "import matplotlib.pyplot as plt  \n",
    "\n",
    "dat = pd.read_csv(\"company_sales_data.csv\")\n",
    "\n",
    "mon = dat['month_number']\n",
    "cream = dat['facecream']\n",
    "wash = dat['facewash']\n",
    "paste = dat['toothpaste']\n",
    "soap = dat['bathingsoap']\n",
    "shampoo = dat['shampoo']\n",
    "moist = dat['moisturizer']\n",
    "units = dat['total_units']\n",
    "profit = dat['total_profit']\n",
    "\n",
    "plt.plot(mon, cream, label = 'Facecream sales', marker='o')\n",
    "plt.plot(mon, wash, label = 'Facewash sales',  marker='o')\n",
    "plt.plot(mon, paste, label = 'Toothpaste sales', marker='o')\n",
    "plt.plot(mon, soap, label = 'Soap sales', marker='o')\n",
    "plt.plot(mon, shampoo, label = 'Shampoo sales', marker='o')\n",
    "plt.plot(mon, moist, label = 'Moisturizer sales', marker='o')\n",
    "\n",
    "plt.xlabel('Month number')\n",
    "plt.ylabel('Number of units')\n",
    "plt.legend(loc='upper left')\n",
    "plt.title('Sales data')\n",
    "plt.xticks(mon)\n",
    "plt.yticks([1000, 2000, 4000, 6000, 8000, 10000, 12000, 15000, 18000])\n",
    "plt.show()"
   ]
  },
  {
   "cell_type": "markdown",
   "id": "2c04c80d",
   "metadata": {},
   "source": [
    "[Return to contents](#0.)\n",
    "\n",
    "<hr style=\"border:2px solid gray\">"
   ]
  },
  {
   "cell_type": "markdown",
   "id": "3811dc18",
   "metadata": {},
   "source": [
    "### 2.3.2 M3 solution - Part 2 <a name=\"2.3.2\"></a>\n",
    "\n",
    "<hr style=\"border:2px solid gray\">"
   ]
  },
  {
   "cell_type": "markdown",
   "id": "958fee7c",
   "metadata": {},
   "source": [
    "Let's generate a really basic bar graph for facecream data and facewash data to see what we get."
   ]
  },
  {
   "cell_type": "code",
   "execution_count": null,
   "id": "cae885f6",
   "metadata": {},
   "outputs": [],
   "source": [
    "plt.bar(month, cream)\n",
    "plt.bar(month, wash)\n",
    "\n",
    "plt.show()"
   ]
  },
  {
   "cell_type": "markdown",
   "id": "d8418dbb",
   "metadata": {},
   "source": [
    "This doesn't look the best - it may be better to try and generate the bars side-by-side for each product.  Let's start by reducing the bar width so side-by-side bars can actually fit next to each other:"
   ]
  },
  {
   "cell_type": "code",
   "execution_count": null,
   "id": "50f6eb95",
   "metadata": {},
   "outputs": [],
   "source": [
    "plt.bar(month, cream, width = 0.25)\n",
    "plt.bar(month, wash, width = 0.25)\n",
    "\n",
    "plt.show()"
   ]
  },
  {
   "cell_type": "markdown",
   "id": "ef57ab4f",
   "metadata": {},
   "source": [
    "Now let's adjust the *x* ticks so every month is showing.  Again, this isn't necessary, but it looks good."
   ]
  },
  {
   "cell_type": "code",
   "execution_count": null,
   "id": "02a978fc",
   "metadata": {},
   "outputs": [],
   "source": [
    "plt.bar(month, cream, width = 0.25)\n",
    "plt.bar(month, wash, width = 0.25)\n",
    "\n",
    "plt.xticks(month)\n",
    "plt.show()"
   ]
  },
  {
   "cell_type": "markdown",
   "id": "018c798e",
   "metadata": {},
   "source": [
    "Now to separate the bars for each product - we do this by shifting them in different directions.  Though we wish to preserve the *y* data, the *x* data is more of a reference frame than anything, so shifting our *x* data doesn't actually matter.\n",
    "\n",
    "How to go about this?  We can use a compact `for` loop to shift every data point in `month_number` - 'left' for the facecream data and 'right' for the facewash data."
   ]
  },
  {
   "cell_type": "code",
   "execution_count": null,
   "id": "9c492b83",
   "metadata": {},
   "outputs": [],
   "source": [
    "plt.bar([a-0.25 for a in month], cream, width= 0.25)\n",
    "plt.bar([a+0.25 for a in month], wash, width= -0.25)\n",
    "\n",
    "plt.xticks(month)\n",
    "plt.show()"
   ]
  },
  {
   "cell_type": "markdown",
   "id": "4d58f5c6",
   "metadata": {},
   "source": [
    "Add labels, a title and a legend, and we're good to go."
   ]
  },
  {
   "cell_type": "code",
   "execution_count": null,
   "id": "b2766ce5",
   "metadata": {},
   "outputs": [],
   "source": [
    "plt.xlabel('Month number')\n",
    "plt.ylabel('Number of units')\n",
    "plt.legend(loc='upper left')\n",
    "plt.title('Facewash and facecream sales data')"
   ]
  },
  {
   "cell_type": "markdown",
   "id": "df454ea9",
   "metadata": {},
   "source": [
    "Putting it all together:"
   ]
  },
  {
   "cell_type": "code",
   "execution_count": null,
   "id": "23e57767",
   "metadata": {},
   "outputs": [],
   "source": [
    "plt.bar([a-0.25 for a in month], cream, width= 0.25, label = 'Facecream sales')\n",
    "plt.bar([a+0.25 for a in month], wash, width= -0.25, label = 'Facewash sales')\n",
    "\n",
    "plt.xlabel('Month number')\n",
    "plt.ylabel('Number of units')\n",
    "plt.legend(loc='upper left')\n",
    "plt.title('Facewash and facecream sales data')\n",
    "\n",
    "plt.xticks(month)\n",
    "plt.show()"
   ]
  },
  {
   "cell_type": "markdown",
   "id": "597ede0e",
   "metadata": {},
   "source": [
    "[Return to contents](#0.)\n",
    "\n",
    "<hr style=\"border:2px solid gray\">"
   ]
  },
  {
   "cell_type": "markdown",
   "id": "0361b6ba",
   "metadata": {},
   "source": [
    "### 2.3.3 M3 solution - Part 3 <a name=\"2.3.3\"></a>\n",
    "\n",
    "<hr style=\"border:2px solid gray\">"
   ]
  },
  {
   "cell_type": "markdown",
   "id": "91575259",
   "metadata": {},
   "source": [
    "Since this is for the final year, we'll need to total up the monthly sales for each product.  We do this using the `sum` function that is built into Python.  Another complication with pie charts is that you can't make 'bare' segments like you can with line graphs - you need to collect all segment data into a single list.  Implementing this isn't actually too bad:"
   ]
  },
  {
   "cell_type": "code",
   "execution_count": null,
   "id": "558aa8bb",
   "metadata": {},
   "outputs": [],
   "source": [
    "sales = [cream.sum(), wash.sum(), paste.sum(), soap.sum(), shampoo.sum(), moist.sum()]"
   ]
  },
  {
   "cell_type": "markdown",
   "id": "2828af02",
   "metadata": {},
   "source": [
    "We also need to collect our labels into a list:"
   ]
  },
  {
   "cell_type": "code",
   "execution_count": null,
   "id": "a1609d51",
   "metadata": {},
   "outputs": [],
   "source": [
    "lab = ['Facecream', 'Facewash', 'Toothpaste', 'Bathing soap', 'Shampoo', 'Moisturizer']"
   ]
  },
  {
   "cell_type": "markdown",
   "id": "a65e8f03",
   "metadata": {},
   "source": [
    "Let's generate a 'prototype' pie chart."
   ]
  },
  {
   "cell_type": "code",
   "execution_count": null,
   "id": "cc8833a6",
   "metadata": {},
   "outputs": [],
   "source": [
    "sales = [cream.sum(), wash.sum(), paste.sum(), soap.sum(), shampoo.sum(), moist.sum()]\n",
    "lab = ['Facecream', 'Facewash', 'Toothpaste', 'Bathing soap', 'Shampoo', 'Moisturizer']\n",
    "\n",
    "plt.pie(sales, labels=lab)\n",
    "plt.show()"
   ]
  },
  {
   "cell_type": "markdown",
   "id": "80334079",
   "metadata": {},
   "source": [
    "This already looks like what we're after, but we can do better.  Let's make a title and a legend."
   ]
  },
  {
   "cell_type": "code",
   "execution_count": null,
   "id": "70c876da",
   "metadata": {},
   "outputs": [],
   "source": [
    "sales = [cream.sum(), wash.sum(), paste.sum(), soap.sum(), shampoo.sum(), moist.sum()]\n",
    "lab = ['Facecream', 'Facewash', 'Toothpaste', 'Bathing soap', 'Shampoo', 'Moisturizer']\n",
    "\n",
    "plt.pie(sales, labels=lab)\n",
    "\n",
    "plt.title('Sales data')\n",
    "plt.legend(loc='lower right')\n",
    "plt.show()"
   ]
  },
  {
   "cell_type": "markdown",
   "id": "6224d85c",
   "metadata": {},
   "source": [
    "On second thoughts, let's not use a legend... our segments are already labelled anyway.\n",
    "\n",
    "As suggested, we use the `autopct` option for `plt.pie` to render percentages on our plot:"
   ]
  },
  {
   "cell_type": "code",
   "execution_count": null,
   "id": "7163638e",
   "metadata": {},
   "outputs": [],
   "source": [
    "plt.pie(sales, labels=lab, autopct='%1.1f%%')"
   ]
  },
  {
   "cell_type": "markdown",
   "id": "303b1b71",
   "metadata": {},
   "source": [
    "Now to show which product generated the most sales income - this would be bathing soap.  The best way to go about this would be the `explode` option."
   ]
  },
  {
   "cell_type": "code",
   "execution_count": null,
   "id": "024612a7",
   "metadata": {},
   "outputs": [],
   "source": [
    "boom = [0,0,0,0.2,0,0]\n",
    "plt.pie(sales, labels = lab, autopct='%1.1f%%', explode = boom)"
   ]
  },
  {
   "cell_type": "markdown",
   "id": "d8639b05",
   "metadata": {},
   "source": [
    "Putting it all together:"
   ]
  },
  {
   "cell_type": "code",
   "execution_count": null,
   "id": "4a30383e",
   "metadata": {},
   "outputs": [],
   "source": [
    "sales = [cream.sum(), wash.sum(), paste.sum(), soap.sum(), shampoo.sum(), moist.sum()]\n",
    "lab = ['Facecream', 'Facewash', 'Toothpaste', 'Bathing soap', 'Shampoo', 'Moisturizer']\n",
    "\n",
    "boom = [0,0,0,0.2,0,0]\n",
    "\n",
    "plt.pie(sales, labels = lab, autopct='%1.1f%%', explode = boom)\n",
    "\n",
    "plt.title('Sales data')\n",
    "\n",
    "plt.show()"
   ]
  },
  {
   "cell_type": "markdown",
   "id": "fb71ea1f",
   "metadata": {},
   "source": [
    "[Return to contents](#0.)\n",
    "\n",
    "<hr style=\"border:2px solid gray\">"
   ]
  },
  {
   "cell_type": "markdown",
   "id": "bbc48911",
   "metadata": {},
   "source": [
    "## 2.4 M4 solution <a name=\"2.4\"></a>\n",
    "\n",
    "<hr style=\"border:2px solid gray\">"
   ]
  },
  {
   "cell_type": "markdown",
   "id": "cbf2946e",
   "metadata": {},
   "source": [
    "Our first step is to import the necessary modules and our data."
   ]
  },
  {
   "cell_type": "code",
   "execution_count": null,
   "id": "3777708e",
   "metadata": {},
   "outputs": [],
   "source": [
    "import matplotlib.pyplot as plt\n",
    "from scipy.optimize import curve_fit\n",
    "\n",
    "distances = [2.875, 3.0, 3.125, 3.25, 3.375, 3.5, 3.75, 4.0, 4.5, 5.0, 6.0]\n",
    "energies = [0.35334378061169025, -2.7260131253801405, -4.102738968283382, -4.557042640311599, -4.537519193684069, -4.296388508321034, -3.6304745046204117, -3.0205368595885536, -2.1929538006724814, -1.7245616790238782, -1.2500789753171557]"
   ]
  },
  {
   "cell_type": "markdown",
   "id": "1b47c487",
   "metadata": {},
   "source": [
    "Our fit function will be the Lennard-Jones potential - let's write a simple function that simply returns this formula."
   ]
  },
  {
   "cell_type": "code",
   "execution_count": null,
   "id": "557e1b83",
   "metadata": {},
   "outputs": [],
   "source": [
    "def LJ_func(r, epsilon, sigma):\n",
    "    pot = 4*epsilon*((sigma/r)**12-(sigma/r)**6)\n",
    "    return pot"
   ]
  },
  {
   "cell_type": "markdown",
   "id": "4a394899",
   "metadata": {},
   "source": [
    "Now we fit our curve.  Since the first constant in the Lennard-Jones potential formula is $\\varepsilon$, this will be the first element in our array of fit parameters.  With the same logic, $\\sigma$ will be the second."
   ]
  },
  {
   "cell_type": "code",
   "execution_count": null,
   "id": "29ee080f",
   "metadata": {},
   "outputs": [],
   "source": [
    "param, cov = curve_fit(LJ_func, distances, energies)\n",
    "\n",
    "fit_epsilon = param[0]\n",
    "fit_sigma = param[1]\n",
    "\n",
    "print(f'The value of epsilon is {round(fit_epsilon, 3)} wavenumbers.')\n",
    "print(f'The value of sigma is {round(fit_sigma, 3)} angstroms.')\n",
    "print(\"\")"
   ]
  },
  {
   "cell_type": "markdown",
   "id": "22cab9df",
   "metadata": {},
   "source": [
    "Now we generate our fitted curve using the values for $\\varepsilon$ and $\\sigma$ we have obtained."
   ]
  },
  {
   "cell_type": "code",
   "execution_count": null,
   "id": "f5e4dde2",
   "metadata": {},
   "outputs": [],
   "source": [
    "fit_energies = LJ_func(distances, fit_epsilon, fit_sigma)"
   ]
  },
  {
   "cell_type": "markdown",
   "id": "d5d477e7",
   "metadata": {},
   "source": [
    "Finally, we can plot them."
   ]
  },
  {
   "cell_type": "code",
   "execution_count": null,
   "id": "4f2cd698",
   "metadata": {},
   "outputs": [],
   "source": [
    "plt.plot(distances, energies, 'o', label = \"Data\")\n",
    "plt.plot(distances, fit_energies, '-', label = \"Lennard-Jones fit\")\n",
    "plt.xlabel(\"Internuclear distance (Angstrom)\")\n",
    "plt.ylabel(\"Potential energy\")\n",
    "plt.legend()\n",
    "plt.show()"
   ]
  },
  {
   "cell_type": "markdown",
   "id": "55a57bc4",
   "metadata": {},
   "source": [
    "Putting it all together:"
   ]
  },
  {
   "cell_type": "code",
   "execution_count": null,
   "id": "1fb3982c",
   "metadata": {},
   "outputs": [],
   "source": [
    "import matplotlib.pyplot as plt\n",
    "from scipy.optimize import curve_fit\n",
    "\n",
    "distances = [2.875, 3.0, 3.125, 3.25, 3.375, 3.5, 3.75, 4.0, 4.5, 5.0, 6.0]\n",
    "energies = [0.35334378061169025, -2.7260131253801405, -4.102738968283382, -4.557042640311599, -4.537519193684069, -4.296388508321034, -3.6304745046204117, -3.0205368595885536, -2.1929538006724814, -1.7245616790238782, -1.2500789753171557]\n",
    "\n",
    "def LJ_func(r, epsilon, sigma):\n",
    "    pot = 4*epsilon*((sigma/r)**12-(sigma/r)**6)\n",
    "    return pot\n",
    "\n",
    "param, cov = curve_fit(LJ_func, distances, energies)\n",
    "\n",
    "fit_epsilon = param[0]\n",
    "fit_sigma = param[1]\n",
    "\n",
    "print(f'The value of epsilon is {round(fit_epsilon, 3)} wavenumbers.')\n",
    "print(f'The value of sigma is {round(fit_sigma, 3)} angstroms.')\n",
    "print(\"\")\n",
    "\n",
    "fit_energies = LJ_func(distances, fit_epsilon, fit_sigma)\n",
    "\n",
    "plt.plot(distances, energies, 'o', label = \"Data\")\n",
    "plt.plot(distances, fit_energies, '-', label = \"Lennard-Jones fit\")\n",
    "plt.xlabel(\"Internuclear distance (Angstrom)\")\n",
    "plt.ylabel(\"Potential energy\")\n",
    "plt.legend()\n",
    "plt.show()"
   ]
  },
  {
   "cell_type": "markdown",
   "id": "879e47b0",
   "metadata": {},
   "source": [
    "[Return to contents](#0.)\n",
    "\n",
    "<hr style=\"border:2px solid gray\">"
   ]
  },
  {
   "cell_type": "markdown",
   "id": "b873e0cb",
   "metadata": {},
   "source": [
    "## 2.5 M5 solution <a name=\"2.5\"></a>\n",
    "\n",
    "<hr style=\"border:2px solid gray\">"
   ]
  },
  {
   "cell_type": "markdown",
   "id": "54edb84b",
   "metadata": {},
   "source": [
    "The first step is to import the various modules we'll need and generate a figure of suitable size."
   ]
  },
  {
   "cell_type": "code",
   "execution_count": null,
   "id": "1f82bf05",
   "metadata": {},
   "outputs": [],
   "source": [
    "import numpy as np\n",
    "import matplotlib.pyplot as plt\n",
    "from mpl_toolkits.mplot3d import Axes3D\n",
    "import matplotlib.patheffects as path_effects\n",
    "\n",
    "fig = plt.figure(figsize=(8,8))\n",
    "ax = plt.axes(projection='3d')"
   ]
  },
  {
   "cell_type": "markdown",
   "id": "53ae0782",
   "metadata": {},
   "source": [
    "Now we write equations for $s$ and $t$ in Python syntax, mesh them and flatten them."
   ]
  },
  {
   "cell_type": "code",
   "execution_count": null,
   "id": "83d2db61",
   "metadata": {},
   "outputs": [],
   "source": [
    "w = 0.1\n",
    "t = np.linspace(0, 2*np.pi, 100)\n",
    "s = np.linspace(-w,w, 100)"
   ]
  },
  {
   "cell_type": "code",
   "execution_count": null,
   "id": "b3307568",
   "metadata": {},
   "outputs": [],
   "source": [
    "t,s = np.meshgrid(t,s)\n",
    "t = t.flatten()\n",
    "s = s.flatten()"
   ]
  },
  {
   "cell_type": "markdown",
   "id": "07736ec7",
   "metadata": {},
   "source": [
    "Now we write equations for $x$, $y$ and $z$, including a trial value for $R$."
   ]
  },
  {
   "cell_type": "code",
   "execution_count": null,
   "id": "4baebf52",
   "metadata": {},
   "outputs": [],
   "source": [
    "R = 1.0\n",
    "x = (R + s*np.cos(t/2))*np.cos(t)\n",
    "y = (R + s*np.cos(t/2))*np.sin(t)\n",
    "z = s*np.sin(t/2)"
   ]
  },
  {
   "cell_type": "markdown",
   "id": "b586c1f7",
   "metadata": {},
   "source": [
    "Let's generate the plot with line effects included."
   ]
  },
  {
   "cell_type": "code",
   "execution_count": null,
   "id": "824cf777",
   "metadata": {},
   "outputs": [],
   "source": [
    "plt.plot(x,y,z, alpha = 0.5,\n",
    "         path_effects=[path_effects.SimpleLineShadow(),\n",
    "                       path_effects.Normal()])\n",
    "\n",
    "plt.show()"
   ]
  },
  {
   "cell_type": "markdown",
   "id": "87fe9a34",
   "metadata": {},
   "source": [
    "What's going on here?  Well, the data is correct - you can see the 'kink' in the Möbius strip.  The issue is that we haven't specified the limits for $x$, $y$ and $z$.  $x$ and $y$ have a constant non-zero factor $R$ added to them, so they will take at least some value for $s = 0$; this is not the case for $z$.  Additionally, the Möbius strip is predominantly in the $x$-$y$ plane, so our plot assumes that $z$ simply doesn't matter and has ignored it."
   ]
  },
  {
   "cell_type": "markdown",
   "id": "7fe66954",
   "metadata": {},
   "source": [
    "We set limits for $x$, $y$ and $z$ as follows."
   ]
  },
  {
   "cell_type": "code",
   "execution_count": null,
   "id": "4006f324",
   "metadata": {},
   "outputs": [],
   "source": [
    "ax.set_xlim(-1, 1)\n",
    "ax.set_ylim(-1, 1)\n",
    "ax.set_zlim(-1, 1)"
   ]
  },
  {
   "cell_type": "markdown",
   "id": "482fa57b",
   "metadata": {},
   "source": [
    "Putting it all together:"
   ]
  },
  {
   "cell_type": "code",
   "execution_count": null,
   "id": "7056ea49",
   "metadata": {},
   "outputs": [],
   "source": [
    "import numpy as np\n",
    "import matplotlib.pyplot as plt\n",
    "from mpl_toolkits.mplot3d import Axes3D\n",
    "import matplotlib.patheffects as path_effects\n",
    "\n",
    "fig = plt.figure(figsize=(8,8))\n",
    "ax = plt.axes(projection='3d')\n",
    "\n",
    "w = 0.1\n",
    "t = np.linspace(0, 2*np.pi, 100)\n",
    "s = np.linspace(-w,w, 100)\n",
    "\n",
    "t,s = np.meshgrid(t,s)\n",
    "t = t.flatten()\n",
    "s = s.flatten()\n",
    "\n",
    "R = 1.0\n",
    "x = (R + s*np.cos(t/2))*np.cos(t)\n",
    "y = (R + s*np.cos(t/2))*np.sin(t)\n",
    "z = s*np.sin(t/2)\n",
    "\n",
    "plt.plot(x,y,z, alpha = 0.5,\n",
    "         path_effects=[path_effects.SimpleLineShadow(),\n",
    "                       path_effects.Normal()])\n",
    "\n",
    "ax.set_xlim(-1, 1)\n",
    "ax.set_ylim(-1, 1)\n",
    "ax.set_zlim(-1, 1)\n",
    "\n",
    "plt.show()"
   ]
  },
  {
   "cell_type": "markdown",
   "id": "53fbe5d7",
   "metadata": {},
   "source": [
    "[Return to contents](#0.)\n",
    "\n",
    "<hr style=\"border:2px solid gray\">"
   ]
  },
  {
   "cell_type": "markdown",
   "id": "42927e74",
   "metadata": {},
   "source": [
    "# 3. Solutions - Hard <a name=\"3.\"></a>"
   ]
  },
  {
   "cell_type": "markdown",
   "id": "e079f985",
   "metadata": {},
   "source": [
    "### 3.1.1 H1 solution - Part 1 <a name=\"3.1.1\"></a>\n",
    "\n",
    "<hr style=\"border:2px solid gray\">"
   ]
  },
  {
   "cell_type": "markdown",
   "id": "9b233ae8",
   "metadata": {},
   "source": [
    "The first step is to import the relevant modules:"
   ]
  },
  {
   "cell_type": "code",
   "execution_count": null,
   "id": "76e59857",
   "metadata": {},
   "outputs": [],
   "source": [
    "import numpy as np\n",
    "import matplotlib.pyplot as plt\n",
    "import math"
   ]
  },
  {
   "cell_type": "markdown",
   "id": "60389b39",
   "metadata": {},
   "source": [
    "A function for determining the value of $b_n$ with a user input of $n$ is below."
   ]
  },
  {
   "cell_type": "code",
   "execution_count": null,
   "id": "61dd0efe",
   "metadata": {},
   "outputs": [],
   "source": [
    "def bn1(n):\n",
    "    '''\n",
    "    This function creates the coefficient bn for the square wave Fourier series.\n",
    "    It requires a user input of the values of n.\n",
    "    '''\n",
    "    L = np.pi\n",
    "    bn1 = -(2/n*L)*(((-1)**n)-1)\n",
    "    return bn1"
   ]
  },
  {
   "cell_type": "markdown",
   "id": "ee4ac894",
   "metadata": {},
   "source": [
    "Our square wave function is below.  It continually builds upon a square wave using multiple sine waves up to a value of $n$, hence the appending to `sq`."
   ]
  },
  {
   "cell_type": "code",
   "execution_count": null,
   "id": "dffc65a6",
   "metadata": {},
   "outputs": [],
   "source": [
    "def square(x,p):\n",
    "    '''\n",
    "    This function uses the sine and a 'for' loop to create the Fourier series for the square wave.\n",
    "    n has to be an integer whilst p can be any integer with a value greater than 1.\n",
    "    x is a list of values between a given range generated using linspace.\n",
    "    '''\n",
    "    sq = bn1(1)*np.sin(x)\n",
    "    for i in range(3,p+1,2):\n",
    "        sq = bn1(i)*np.sin(x*i) + sq\n",
    "    sq=sq/10\n",
    "    return sq"
   ]
  },
  {
   "cell_type": "markdown",
   "id": "cef2330c",
   "metadata": {},
   "source": [
    "Putting it all together:"
   ]
  },
  {
   "cell_type": "code",
   "execution_count": null,
   "id": "ebbbfbf6",
   "metadata": {},
   "outputs": [],
   "source": [
    "import numpy as np\n",
    "import matplotlib.pyplot as plt\n",
    "import math\n",
    "\n",
    "def bn1(n):\n",
    "    '''\n",
    "    This function creates the coefficient bn for the square wave Fourier series.\n",
    "    It requires a user input of the values of n.\n",
    "    '''\n",
    "    L = np.pi\n",
    "    bn1 = -(2/n*L)*(((-1)**n)-1)\n",
    "    return bn1\n",
    "\n",
    "def square(x,p):\n",
    "    '''\n",
    "    This function uses the sine and a 'for' loop to create the Fourier series for the square wave.\n",
    "    n has to be an integer whilst p can be any integer with a value greater than 1.\n",
    "    x is a list of values between a given range generated using linspace.\n",
    "    '''\n",
    "    sq = bn1(1)*np.sin(x)\n",
    "    for i in range(3,p+1,2):\n",
    "        sq = bn1(i)*np.sin(x*i) + sq\n",
    "    sq=sq/10\n",
    "    return sq"
   ]
  },
  {
   "cell_type": "markdown",
   "id": "7b98af24",
   "metadata": {},
   "source": [
    "[Return to contents](#0.)\n",
    "\n",
    "<hr style=\"border:2px solid gray\">"
   ]
  },
  {
   "cell_type": "markdown",
   "id": "f67275f4",
   "metadata": {},
   "source": [
    "### 3.1.2 H1 solution - Part 2 <a name=\"3.1.2\"></a>\n",
    "\n",
    "<hr style=\"border:2px solid gray\">"
   ]
  },
  {
   "cell_type": "markdown",
   "id": "fe3a1b6a",
   "metadata": {},
   "source": [
    "Now we define a new value for $b_n$ using a new function."
   ]
  },
  {
   "cell_type": "code",
   "execution_count": null,
   "id": "fb195e73",
   "metadata": {},
   "outputs": [],
   "source": [
    "def bn2(n):\n",
    "    '''\n",
    "    This function creates the coefficient bn for the sawtooth wave Fourier series.\n",
    "    It requires a user input of the values of n.\n",
    "    '''\n",
    "    L = np.pi\n",
    "    bn2 = -(1/n)\n",
    "    return bn2"
   ]
  },
  {
   "cell_type": "markdown",
   "id": "9da58569",
   "metadata": {},
   "source": [
    "We also define the sawtooth wave using another function."
   ]
  },
  {
   "cell_type": "code",
   "execution_count": null,
   "id": "86314726",
   "metadata": {},
   "outputs": [],
   "source": [
    "def sawtooth(x,p):\n",
    "    '''\n",
    "    This function uses the sine and a 'for' loop to create the Fourier series for the sawtooth wave.\n",
    "    n has to be an integer whilst p can be any integer with a value greater than 1.\n",
    "    x is a list of values between a given range generated using linspace.\n",
    "    '''\n",
    "    st = np.pi/2 # Value of a0\n",
    "    for i in range(1,p+1):\n",
    "        st = bn2(i)*np.sin(2*x*i) + st\n",
    "    st=st\n",
    "    return st"
   ]
  },
  {
   "cell_type": "markdown",
   "id": "cdcb599e",
   "metadata": {},
   "source": [
    "Putting it all together:"
   ]
  },
  {
   "cell_type": "code",
   "execution_count": null,
   "id": "57cd8697",
   "metadata": {},
   "outputs": [],
   "source": [
    "def bn2(n):\n",
    "    '''\n",
    "    This function creates the coefficient bn for the sawtooth wave Fourier series.\n",
    "    It requires a user input of the values of n.\n",
    "    '''\n",
    "    L = np.pi\n",
    "    bn2 = -(1/n)\n",
    "    return bn2\n",
    "\n",
    "def sawtooth(x,p):\n",
    "    '''\n",
    "    This function uses the sine and a 'for' loop to create the Fourier series for the sawtooth wave.\n",
    "    n has to be an integer whilst p can be any integer with a value greater than 1.\n",
    "    x is a list of values between a given range generated using linspace.\n",
    "    '''\n",
    "    st = np.pi/2\n",
    "    for i in range(1,p+1):\n",
    "        st = bn2(i)*np.sin(2*x*i) + st\n",
    "    st=st\n",
    "    return st"
   ]
  },
  {
   "cell_type": "markdown",
   "id": "a321a6f9",
   "metadata": {},
   "source": [
    "[Return to contents](#0.)\n",
    "\n",
    "<hr style=\"border:2px solid gray\">"
   ]
  },
  {
   "cell_type": "markdown",
   "id": "704cddd4",
   "metadata": {},
   "source": [
    "### 3.1.1 H1 solution - Part 3 <a name=\"3.1.3\"></a>\n",
    "\n",
    "<hr style=\"border:2px solid gray\">"
   ]
  },
  {
   "cell_type": "markdown",
   "id": "b70703e4",
   "metadata": {},
   "source": [
    "The first step is to generate our *x*-data using `linspace`.  Using $10,000$ datapoints should give high enough resolution."
   ]
  },
  {
   "cell_type": "code",
   "execution_count": null,
   "id": "02860ad5",
   "metadata": {},
   "outputs": [],
   "source": [
    "x=np.linspace(0,2*np.pi,10000)"
   ]
  },
  {
   "cell_type": "markdown",
   "id": "82b789d0",
   "metadata": {},
   "source": [
    "We generate two subplots, one for the square wave and the other for the sawtooth wave."
   ]
  },
  {
   "cell_type": "code",
   "execution_count": null,
   "id": "10106882",
   "metadata": {},
   "outputs": [],
   "source": [
    "plt.figure(figsize=(10,10))\n",
    "ax1 = plt.subplot(2,1,1)\n",
    "ax2 = plt.subplot(2,1,2)\n",
    "\n",
    "#Square Wave\n",
    "ax1.plot(x,square(x,9),'b',label='n=9')\n",
    "ax1.plot(x,square(x,99),'g',label='n=99')\n",
    "ax1.plot(x,square(x,999),'r',label='n=999')\n",
    "\n",
    "ax1.set_xticks([0,np.pi/2,np.pi,3*np.pi/2,2*np.pi])\n",
    "ax1.set_xticklabels(['0','$\\pi/2$','$\\pi$','$3\\pi/2$','$2\\pi$'])\n",
    "ax1.legend(loc='upper right')\n",
    "                     \n",
    "#Sawtooth Wave\n",
    "ax2.plot(x,sawtooth(x,9),'b',label='n=9')\n",
    "ax2.plot(x,sawtooth(x,99),'g',label='n=99')\n",
    "ax2.plot(x,sawtooth(x,999),'r',label='n=999')\n",
    "\n",
    "ax2.set_xticks([0,np.pi/2,np.pi,3*np.pi/2,2*np.pi])\n",
    "ax2.set_xticklabels(['0','$\\pi/2$','$\\pi$','$3\\pi/2$','$2\\pi$'])\n",
    "\n",
    "ax2.set_yticks([-np.pi/4,0,np.pi/2,np.pi])\n",
    "ax2.set_yticklabels(['$-\\pi/4$','0','$\\pi/2$','$\\pi$'])\n",
    "\n",
    "ax2.legend(loc='upper right')\n",
    "\n",
    "plt.show()"
   ]
  },
  {
   "cell_type": "markdown",
   "id": "dbd6f243",
   "metadata": {},
   "source": [
    "[Return to contents](#0.)\n",
    "\n",
    "<hr style=\"border:2px solid gray\">"
   ]
  },
  {
   "cell_type": "markdown",
   "id": "d0528681",
   "metadata": {},
   "source": [
    "## H2 solution <a name=\"3.2\"></a>\n",
    "\n",
    "<hr style=\"border:2px solid gray\">"
   ]
  },
  {
   "cell_type": "markdown",
   "id": "e8267366",
   "metadata": {},
   "source": [
    "The first step is to manage the user input.  It would be best to have each value be entered row-by-row; that is, going *left* $\\rightarrow$ *right* across the $1^{st}$ row, then *left* $\\rightarrow$ *right* across the $2^{nd}$ and so on.  Let's just start with the necessary instructional prompts, as well as creating two empty lists to represent each matrix.  It would be best to specify the number of rows and columns - which are the same, as specified."
   ]
  },
  {
   "cell_type": "code",
   "execution_count": null,
   "id": "96738892",
   "metadata": {},
   "outputs": [],
   "source": [
    "import numpy as np\n",
    "\n",
    "L = int(input(\"Enter the number of rows and columns for both matrices: \"))\n",
    "\n",
    "mat1 = []\n",
    "mat2 = []\n",
    "\n",
    "print(\"\")\n",
    "print(\"Values should be entered row-wise in a single line separated by spaces.\")\n",
    "print(\"\")\n",
    "\n",
    "print(\"Enter the elements of the first matrix:\")"
   ]
  },
  {
   "cell_type": "markdown",
   "id": "7e0749f7",
   "metadata": {},
   "source": [
    "We can use a `for` loop to append to each matrix.  It will be split into two sections, one indented within the other; the first (`i`) will be for row entries whilst the second (`j`) will be for column entries.  The row-by-row element values can be entered using this `for` loop."
   ]
  },
  {
   "cell_type": "code",
   "execution_count": null,
   "id": "78b24b59",
   "metadata": {},
   "outputs": [],
   "source": [
    "for i in range(L):          # row entries\n",
    "    a = []\n",
    "    for j in range(L):      # column entries\n",
    "         a.append(int(input()))\n",
    "    mat1.append(a)"
   ]
  },
  {
   "cell_type": "markdown",
   "id": "df072e84",
   "metadata": {},
   "source": [
    "We do the same for our second matrix:"
   ]
  },
  {
   "cell_type": "code",
   "execution_count": null,
   "id": "483bbc85",
   "metadata": {},
   "outputs": [],
   "source": [
    "print(\"\")\n",
    "print(\"Enter the elements of the second matrix:\")\n",
    "\n",
    "for i in range(L):\n",
    "    b = []\n",
    "    for j in range(L):\n",
    "         b.append(int(input()))\n",
    "    mat2.append(b)"
   ]
  },
  {
   "cell_type": "markdown",
   "id": "9c796e3f",
   "metadata": {},
   "source": [
    "We need to put our results somewhere - let's make a blank matrix of the same dimension using a one-line singly nested `for` loop."
   ]
  },
  {
   "cell_type": "code",
   "execution_count": null,
   "id": "0dfac5dc",
   "metadata": {},
   "outputs": [],
   "source": [
    "result = [[0 for x in range(L)] for y in range(L)]"
   ]
  },
  {
   "cell_type": "markdown",
   "id": "3ddccc65",
   "metadata": {},
   "source": [
    "We'll put the element multiplication `for` loop here and explain beneath."
   ]
  },
  {
   "cell_type": "code",
   "execution_count": null,
   "id": "9f41f0be",
   "metadata": {},
   "outputs": [],
   "source": [
    "for i in range(len(mat1)):\n",
    "    for j in range(len(mat2[0])): # iterate through columns of matrix 2\n",
    "        for k in range(len(mat2)): # iterate through rows of matrix 2\n",
    "            result[i][j] += mat1[i][k] * mat2[k][j]"
   ]
  },
  {
   "cell_type": "markdown",
   "id": "00495da5",
   "metadata": {},
   "source": [
    "The $1^{st}$ `for` loop sets the index bounds of the whole assembly - if the index strays outside of the row and/or column size of either matrix, the loop simply won't carry out.  The $2^{nd}$ `for` loop iterates through the column length of the $2^{nd}$ matrix whilst the $3^{rd}$ `for` loop iterates through the row length."
   ]
  },
  {
   "cell_type": "markdown",
   "id": "08264df4",
   "metadata": {},
   "source": [
    "The magic happens beneath the $3^{rd}$ `for` loop.  What do you notice about each element in the example matrices we gave?"
   ]
  },
  {
   "cell_type": "markdown",
   "id": "eec20b93",
   "metadata": {},
   "source": [
    "That's right - the *second character* of the subscript of the *first element* must match the *first character* of the subscript of the *second element*.  What this command line does is simply ensure this is the case; it's why we have a third index `k`!"
   ]
  },
  {
   "cell_type": "markdown",
   "id": "b51d88d0",
   "metadata": {},
   "source": [
    "Let's print our result and see what we get:"
   ]
  },
  {
   "cell_type": "code",
   "execution_count": null,
   "id": "3c9d9c60",
   "metadata": {},
   "outputs": [],
   "source": [
    "print(\"\")\n",
    "print(\"Result of multiplication:\")\n",
    "print(\"\")\n",
    "print(result)"
   ]
  },
  {
   "cell_type": "markdown",
   "id": "4ed3db5c",
   "metadata": {},
   "source": [
    "Oh - not so pretty.  This is because we actually have a list!  To make it into an array, simply write the following:"
   ]
  },
  {
   "cell_type": "code",
   "execution_count": null,
   "id": "0df28f5b",
   "metadata": {},
   "outputs": [],
   "source": [
    "import numpy as np\n",
    "\n",
    "res = np.array(result)\n",
    "print(res)"
   ]
  },
  {
   "cell_type": "markdown",
   "id": "65b8814d",
   "metadata": {},
   "source": [
    "Putting it all together:"
   ]
  },
  {
   "cell_type": "code",
   "execution_count": null,
   "id": "20445053",
   "metadata": {},
   "outputs": [],
   "source": [
    "import numpy as np\n",
    "\n",
    "L = int(input(\"Enter the number of rows and columns for both matrices: \"))\n",
    "\n",
    "mat1 = []\n",
    "mat2 = []\n",
    "\n",
    "print(\"\")\n",
    "print(\"Values should be entered row-wise in a single line separated by spaces.\")\n",
    "print(\"\")\n",
    "\n",
    "print(\"Enter the elements of the first matrix:\")\n",
    "\n",
    "for i in range(L):\n",
    "    a = []\n",
    "    for j in range(L):\n",
    "         a.append(int(input()))\n",
    "    mat1.append(a)\n",
    "\n",
    "print(\"\")\n",
    "print(\"Enter the elements of the second matrix:\")\n",
    "\n",
    "for i in range(L):\n",
    "    b = []\n",
    "    for j in range(L):\n",
    "         b.append(int(input()))\n",
    "    mat2.append(b)\n",
    "\n",
    "result = [[0 for x in range(L)] for y in range(L)]\n",
    "\n",
    "for i in range(len(mat1)):\n",
    "    for j in range(len(mat2[0])):\n",
    "        for k in range(len(mat2)):\n",
    "            result[i][j] += mat1[i][k] * mat2[k][j]\n",
    "\n",
    "print(\"\")\n",
    "print(\"Result of multiplication:\")\n",
    "print(\"\")\n",
    "res = np.array(result)\n",
    "print(res)"
   ]
  },
  {
   "cell_type": "markdown",
   "id": "91ba88b0",
   "metadata": {},
   "source": [
    "[Return to contents](#0.)\n",
    "\n",
    "<hr style=\"border:2px solid gray\">"
   ]
  }
 ],
 "metadata": {
  "kernelspec": {
   "display_name": "Python 3 (ipykernel)",
   "language": "python",
   "name": "python3"
  },
  "language_info": {
   "codemirror_mode": {
    "name": "ipython",
    "version": 3
   },
   "file_extension": ".py",
   "mimetype": "text/x-python",
   "name": "python",
   "nbconvert_exporter": "python",
   "pygments_lexer": "ipython3",
   "version": "3.7.6"
  }
 },
 "nbformat": 4,
 "nbformat_minor": 5
}
