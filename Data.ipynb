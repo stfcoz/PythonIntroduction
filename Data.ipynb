{
 "cells": [
  {
   "cell_type": "markdown",
   "id": "17a4f290",
   "metadata": {},
   "source": [
    "# Data manipulation with Python <a name=\"0.\"></a>"
   ]
  },
  {
   "cell_type": "markdown",
   "id": "0890100a",
   "metadata": {},
   "source": [
    "Welcome to our second course on Python, this time on the use of arrays to manipulate data and the use of `matplotlib` to generate complex plots of data."
   ]
  },
  {
   "cell_type": "markdown",
   "id": "e5f131a1",
   "metadata": {},
   "source": [
    "Contents:\n",
    "- [Refresher](#1.)\n",
    "  - [Data types, operators and expressions](#1.1)\n",
    "  - [Control structures and statements](#1.2)\n",
    "  - [User-defined functions](#1.3)\n",
    "  - [Error types](#1.4)\n",
    "- [Arrays](#2.)\n",
    "  - [What are arrays?](#2.1)\n",
    "  - [Manipulating arrays](#2.2)\n",
    "- [Plotting with matplotlib](#3.)\n",
    "  - [Generating a basic plot](#3.1)\n",
    "  - [Customising your plot](#3.2)\n",
    "  - [Subplots](#3.3)\n",
    "  - [Other graph types](#3.4)\n",
    "  - [Importing data](#3.5)\n",
    "  - [Curve fitting](#3.6)\n",
    "  - [3D plots](#3.7)\n",
    "- [What now?](#4.)"
   ]
  },
  {
   "cell_type": "markdown",
   "id": "3f1c90a9",
   "metadata": {},
   "source": [
    "# 1. Refresher <a name=\"1.\"></a>"
   ]
  },
  {
   "cell_type": "markdown",
   "id": "292ab4b1",
   "metadata": {},
   "source": [
    "## 1.1 Data types, operators and expressions refresher <a name=\"1.1\"></a>\n",
    "\n",
    "<hr style=\"border:2px solid gray\">"
   ]
  },
  {
   "cell_type": "markdown",
   "id": "c268c308",
   "metadata": {},
   "source": [
    "***Variables*** are assigned using `=`.  There are two broad categories: ***numerical data types*** and ***sequenced data types***."
   ]
  },
  {
   "cell_type": "markdown",
   "id": "8c04f499",
   "metadata": {},
   "source": [
    "Numerical data types include:\n",
    "- ***Ints*** (integers) - positive or negative whole numbers.  Example: `a = 4`\n",
    "- ***Floats*** (floating-point numbers) - numbers with decimal points.  Example: `b = 1.1`, `c = 4E-7`\n",
    "- ***Booleans*** - conditions that are `True` or `False`.  Example: `d = (4 < 7)` gives `True`"
   ]
  },
  {
   "cell_type": "markdown",
   "id": "a2fc869c",
   "metadata": {},
   "source": [
    "Sequenced data types include:\n",
    "- ***Strings*** - collection of characters between two `'`, `\"` or `'''` marks.  Examples: `'beep'`, `\"Welcome to Python!\"`.  Can be ***concatenated*** (added)\n",
    "- ***Lists*** - similar to strings, though items do not need to be of the same type.  Examples: `L = [1, '2', 3, 'Four', 5]`, `L = []` (empty list).  Can access ***elements*** of a list by 'slicing' list by ***index***; notation is `list[start:stop:step]`.  Can concatenate lists, as well as ***append*** to them with `listName.append(addition)`\n",
    "- ***Tuples*** - similar to lists, though ***immutable*** (cannot be changed once created).  Must instead convert to a list using `list(tupleName)`, make changes, then convert back to tuple using `tuple(listName)`"
   ]
  },
  {
   "cell_type": "markdown",
   "id": "12a796f2",
   "metadata": {},
   "source": [
    "In the ***expression*** `a + b`, `a` and `b` are the ***operands*** whilst `+` is the ***operator***.  There are two broad categories: ***arithmetic operators*** and ***comparison operators***."
   ]
  },
  {
   "cell_type": "markdown",
   "id": "9cda7e03",
   "metadata": {},
   "source": [
    "Arithmetic operators include:\n",
    "- ***Addition***, `+` - adds operands on either side of the operator.  Example: `2 + 2 = 4`\n",
    "- ***Subtraction***, `-` - subtracts right-hand operand from left-hand operand.  Example: `5 - 2 = 3`\n",
    "- ***Multiplication***, `*` - multiplies values on either side of operator.  Example: `3*3 = 9`\n",
    "- ***Division***, `/` - divides left-hand operand by right-hand operand.  Example: `22/8 = 2.75`\n",
    "- ***Exponent***, `**` - raises left-hand operand to power of right-hand operand.  Example: `2**3 = 8`\n",
    "- ***Modulo***, `%` - divides left-hand operand by right-hand operand and returns remainder.  Example: `13 % 3 = 1`\n",
    "- ***Floor division***, `//` - same as with division operator, but with decimals removed.  Example: `22//8 = 2`"
   ]
  },
  {
   "cell_type": "markdown",
   "id": "df500947",
   "metadata": {},
   "source": [
    "Comparison operators include:\n",
    "- Equal to, `==` - compares both operands, returns `True` if equal\n",
    "- Not equal to, `!=` - compares both operands, returns `True` if not equal.  Also represented by `<>`\n",
    "- Greater than, `>` - returns `True` if left-hand operand is greater than right-hand operand\n",
    "- Less than, `<` - returns `True` if left-hand operand is less than right-hand operand\n",
    "- Greater than or equal to, `>=` - returns `True` if left-hand operand is greater than or equal to right-hand operand\n",
    "- Less than or equal to, `<=` - returns `True` if left-hand operand is less than or equal to right-hand operand"
   ]
  },
  {
   "cell_type": "markdown",
   "id": "b812a087",
   "metadata": {},
   "source": [
    "There is also an example of an ***assignment operator*** - the equality operator, `=`.  It assigns a value from a right-hand operand to a lft-hand operand.  Example: in `a = 4`, we have assigned a value of 4 to the left-hand operand `a`."
   ]
  },
  {
   "cell_type": "markdown",
   "id": "701fe0db",
   "metadata": {},
   "source": [
    "A ***function*** is a block of code that ***runs*** (does things) when it is ***called*** (written down).  You put in (***input***) *variables* and the function gives an ***output*** that may itself be a variable.  Programmers will often import ***modules*** which are ***libraries*** containing multiple functions."
   ]
  },
  {
   "cell_type": "markdown",
   "id": "b98695af",
   "metadata": {},
   "source": [
    "Functions can be ***nested*** - put inside other functions.\n",
    "\n",
    "[Return to contents](#0.)\n",
    "\n",
    "<hr style=\"border:2px solid gray\">"
   ]
  },
  {
   "cell_type": "markdown",
   "id": "40287177",
   "metadata": {},
   "source": [
    "## 1.2 Control structures and statements refresher <a name=\"1.2\"></a>\n",
    "\n",
    "<hr style=\"border:2px solid gray\">"
   ]
  },
  {
   "cell_type": "markdown",
   "id": "10c4d5e0",
   "metadata": {},
   "source": [
    "A ***while*** loop will execute a block of code repeatedly until a given condition is satisfied.  When this condition becomes false, the line immediately after the loop in the program will be executed."
   ]
  },
  {
   "cell_type": "markdown",
   "id": "8dc28609",
   "metadata": {},
   "source": [
    "We can combine `while` loops with an ***else*** statement that will come into effect.  For the above case, what our `while` loop did after `count` reached a value of three was execute the code immediately after itself.  However, there was no code following the `while` loop, so there was no further output.  Inserting an `else` statement will change this."
   ]
  },
  {
   "cell_type": "markdown",
   "id": "db381406",
   "metadata": {},
   "source": [
    "An example of of `while` loop is below."
   ]
  },
  {
   "cell_type": "code",
   "execution_count": null,
   "id": "4864f996",
   "metadata": {},
   "outputs": [],
   "source": [
    "count = 0\n",
    "while (count < 3):    \n",
    "    count = count + 1\n",
    "    print(\"As expected\")\n",
    "else:\n",
    "    print(\"I'm sorry, Dave\")"
   ]
  },
  {
   "cell_type": "markdown",
   "id": "ce565768",
   "metadata": {},
   "source": [
    "A ***for*** loop will run through a sequenced data type and perform an action that is repeated across the entire sequence.  We can also place control structures within other control structures - these are known as ***nested*** loops."
   ]
  },
  {
   "cell_type": "markdown",
   "id": "c96724a2",
   "metadata": {},
   "source": [
    "A useful statement to include in `for` loops is the ***break*** statement, which terminates the loop containing it if a condition for breaking is met.  There's no further iteration, the loop just ends."
   ]
  },
  {
   "cell_type": "markdown",
   "id": "cf931c9f",
   "metadata": {},
   "source": [
    "An example of a nested `for` loop is below."
   ]
  },
  {
   "cell_type": "code",
   "execution_count": null,
   "id": "2e77a12e",
   "metadata": {},
   "outputs": [],
   "source": [
    "for i in range(1, 6):\n",
    "    for j in range(i):\n",
    "         print(i, end=' ')\n",
    "    print()"
   ]
  },
  {
   "cell_type": "markdown",
   "id": "34f64abf",
   "metadata": {},
   "source": [
    "An example of a `for` look with a `break` statement is below."
   ]
  },
  {
   "cell_type": "code",
   "execution_count": null,
   "id": "c0d165ba",
   "metadata": {},
   "outputs": [],
   "source": [
    "for val in \"hitchhiker\":\n",
    "    if val == \"k\":\n",
    "        break\n",
    "    print(val)\n",
    "\n",
    "print(\"DON'T PANIC\")"
   ]
  },
  {
   "cell_type": "markdown",
   "id": "9722ca8e",
   "metadata": {},
   "source": [
    "A `continue` statement will skip the rest of the code inside a loop for the current iteration only.  See below."
   ]
  },
  {
   "cell_type": "code",
   "execution_count": null,
   "id": "b2905ec6",
   "metadata": {},
   "outputs": [],
   "source": [
    "for val in \"hitchhiker\":\n",
    "    if val == \"i\":\n",
    "        continue\n",
    "    if val == \"e\":\n",
    "        continue\n",
    "    print(val)\n",
    "\n",
    "print(\"DON'T PANIC\")"
   ]
  },
  {
   "cell_type": "markdown",
   "id": "987825c0",
   "metadata": {},
   "source": [
    "An ***if*** statement is a simple decision-making statement; it decides whether or not a certain statement or block of statements will be executed.  Indentation (empty space before the beginning of a line) is important here, as only indented statements will be identified as being within a control structure."
   ]
  },
  {
   "cell_type": "markdown",
   "id": "85f3a5c7",
   "metadata": {},
   "source": [
    "An example of an `if` statement is below."
   ]
  },
  {
   "cell_type": "code",
   "execution_count": null,
   "id": "cc6f441a",
   "metadata": {},
   "outputs": [],
   "source": [
    "i = 10\n",
    " \n",
    "if (i > 15):\n",
    "    print(\"10 is less than 15\")\n",
    "print(\"This is an if statement\")"
   ]
  },
  {
   "cell_type": "markdown",
   "id": "1eb92fb5",
   "metadata": {},
   "source": [
    "If we want to do something else when the condition in our `if` statement is `False` for a certain input, we can use an `else` statement; the use of an `else` statement after an `if` statement is known as an ***if else*** statement."
   ]
  },
  {
   "cell_type": "markdown",
   "id": "4d8a4bb1",
   "metadata": {},
   "source": [
    "An example of an `if else` statement is below."
   ]
  },
  {
   "cell_type": "code",
   "execution_count": null,
   "id": "e5d27608",
   "metadata": {},
   "outputs": [],
   "source": [
    "a = float(input(\"Enter a value for a: \", ))\n",
    "b = 200\n",
    "if b > a:\n",
    "  print(\"b is greater than a\")\n",
    "else:\n",
    "    print(\"a is greater than b\")"
   ]
  },
  {
   "cell_type": "markdown",
   "id": "f4d5e272",
   "metadata": {},
   "source": [
    "`elif` ('else if') statements can be used to make so-called 'elif ladders'.  If the condition for the `if` statement is false, the conditions for the next `elif` statement are checked and so on.  If every condition is false, the `else` statement is activated.  In effect, `elif` automatically 'passes on' the sequence to the next statement."
   ]
  },
  {
   "cell_type": "markdown",
   "id": "7ba612a2",
   "metadata": {},
   "source": [
    "An example of an `elif` ladder is below."
   ]
  },
  {
   "cell_type": "code",
   "execution_count": null,
   "id": "67deaef3",
   "metadata": {},
   "outputs": [],
   "source": [
    "i = 20\n",
    "if (i == 10):\n",
    "    print(\"i is 10\")\n",
    "elif (i == 15):\n",
    "    print(\"i is 15\")\n",
    "elif (i == 20):\n",
    "    print(\"i is 20\")\n",
    "else:\n",
    "    print(\"i is not present\")"
   ]
  },
  {
   "cell_type": "markdown",
   "id": "40fdf4df",
   "metadata": {},
   "source": [
    "[Return to contents](#0.)\n",
    "\n",
    "<hr style=\"border:2px solid gray\">"
   ]
  },
  {
   "cell_type": "markdown",
   "id": "8bb6f98c",
   "metadata": {},
   "source": [
    "## 1.3 User-defined functions refresher <a name=\"1.3\"></a>\n",
    "\n",
    "<hr style=\"border:2px solid gray\">"
   ]
  },
  {
   "cell_type": "markdown",
   "id": "20c01d04",
   "metadata": {},
   "source": [
    "***User-defined functions*** or ***UDFs*** are best used when a block of statements must be run through multiple times - this way, there is no need to repeatedly rewrite the same statement.  The layout of a UDF is as follows:"
   ]
  },
  {
   "cell_type": "code",
   "execution_count": null,
   "id": "5013495a",
   "metadata": {},
   "outputs": [],
   "source": [
    "# def function_name(argument1, argument2, ...):\n",
    "      # statement_1\n",
    "      # statement_2\n",
    "      # ..."
   ]
  },
  {
   "cell_type": "markdown",
   "id": "ba037159",
   "metadata": {},
   "source": [
    "To run a UDF with a particular set of arguments, we must call it with these arguments.  We can also call a UDF when nested within a different line of code, as well as nesting control structures and statements within one."
   ]
  },
  {
   "cell_type": "markdown",
   "id": "3dae63ea",
   "metadata": {},
   "source": [
    "A ***docstring*** can be included in order to explain how a UDF works.  A docstring should give a basic overview of how a UDF works alongside the arguments it accepts."
   ]
  },
  {
   "cell_type": "markdown",
   "id": "2269467a",
   "metadata": {},
   "source": [
    "An example of a UDF with all the above features is below."
   ]
  },
  {
   "cell_type": "code",
   "execution_count": null,
   "id": "2a99c588",
   "metadata": {},
   "outputs": [],
   "source": [
    "def Sum(*numbers):\n",
    "        '''\n",
    "        Calculate and Print Average of two Numbers.\n",
    "        Created on 25/05/2022\n",
    "        '''\n",
    "        s = 0\n",
    "        for n in numbers:\n",
    "            s += n\n",
    "        return s\n",
    "\n",
    "print(Sum.__doc__)\n",
    "print(\"The sum of all numbers between 1 and 4 is\", Sum(1,2,3,4))"
   ]
  },
  {
   "cell_type": "markdown",
   "id": "6cf20e27",
   "metadata": {},
   "source": [
    "[Return to contents](#0.)\n",
    "\n",
    "<hr style=\"border:2px solid gray\">"
   ]
  },
  {
   "cell_type": "markdown",
   "id": "2165a26a",
   "metadata": {},
   "source": [
    "## 1.4 Error types refresher <a name=\"1.4\"></a>\n",
    "\n",
    "<hr style=\"border:2px solid gray\">"
   ]
  },
  {
   "cell_type": "markdown",
   "id": "09c09b61",
   "metadata": {},
   "source": [
    "***Syntax error :*** something has been entered incorrectly. Often the result of missing or extra brackets or quotation marks.\n",
    "\n",
    "Below is an example of a syntax error."
   ]
  },
  {
   "cell_type": "code",
   "execution_count": null,
   "id": "c5475005",
   "metadata": {},
   "outputs": [],
   "source": [
    "i = 10\n",
    "\n",
    "if (i > 15) print(\"10 is less than 15\")\n",
    "print(\"This is an if statement\")"
   ]
  },
  {
   "cell_type": "markdown",
   "id": "c5da6fc6",
   "metadata": {},
   "source": [
    "***Name error :*** a referenced name has not been defined.  Often caused by mispells of a named object, or by only defining an object in a condition, loop or function then using it elsewhere.\n",
    "\n",
    "Below is an example of a name error."
   ]
  },
  {
   "cell_type": "code",
   "execution_count": null,
   "id": "5b4213b7",
   "metadata": {},
   "outputs": [],
   "source": [
    "def sum(*numbers):\n",
    "     s = 0\n",
    "     for n in numbers:\n",
    "           s += n\n",
    "     return s\n",
    "\n",
    "print(sun(1,2,3,4))"
   ]
  },
  {
   "cell_type": "markdown",
   "id": "3baf6e01",
   "metadata": {},
   "source": [
    "***Type error :*** used the wrong data type.  An example of a type error is below."
   ]
  },
  {
   "cell_type": "code",
   "execution_count": null,
   "id": "ee43ca65",
   "metadata": {},
   "outputs": [],
   "source": [
    "'1' + 2"
   ]
  },
  {
   "cell_type": "markdown",
   "id": "6f8cad50",
   "metadata": {},
   "source": [
    "***Indentation error :*** an indentation (made by pressing *tab* on your keyboard) is expected but not present.  Often occurs when building control structures or UDFs.\n",
    "\n",
    "Below is an example of an indentation error."
   ]
  },
  {
   "cell_type": "code",
   "execution_count": null,
   "id": "c8d30333",
   "metadata": {},
   "outputs": [],
   "source": [
    "for i in range(1,24):\n",
    "print(i)\n",
    "if i == 8:\n",
    "break"
   ]
  },
  {
   "cell_type": "markdown",
   "id": "976f84c0",
   "metadata": {},
   "source": [
    "***Zero division error :*** divided by zero, which gives an undefined result.  Below is an example of a dividing by zero error."
   ]
  },
  {
   "cell_type": "code",
   "execution_count": null,
   "id": "4ce1bdcf",
   "metadata": {},
   "outputs": [],
   "source": [
    "1/0"
   ]
  },
  {
   "cell_type": "markdown",
   "id": "682855d2",
   "metadata": {},
   "source": [
    "***Logical errors*** are distinct from the rest as they do not result in error messages and are not technically incorrect in terms of syntax.  Due to a misunderstanding of mathematical or systemic process by the programmer, a logical error in coding is due to the code giving a 'true' result but not the desired or expected one.\n",
    "\n",
    "An example of a logical error is below."
   ]
  },
  {
   "cell_type": "code",
   "execution_count": null,
   "id": "b83bb32f",
   "metadata": {},
   "outputs": [],
   "source": [
    "x = 4\n",
    "y = 5\n",
    "\n",
    "z = x+y/2\n",
    "print('The average of the two numbers you have entered is:',z)"
   ]
  },
  {
   "cell_type": "markdown",
   "id": "19417843",
   "metadata": {},
   "source": [
    "[Return to contents](#0.)\n",
    "\n",
    "<hr style=\"border:2px solid gray\">"
   ]
  },
  {
   "cell_type": "markdown",
   "id": "e875df3f",
   "metadata": {},
   "source": [
    "# 2. Arrays <a name=\"2.\"></a>"
   ]
  },
  {
   "cell_type": "markdown",
   "id": "938ff141",
   "metadata": {},
   "source": [
    "### 2.1 What are arrays? <a name=\"2.1\"></a>\n",
    "\n",
    "<hr style=\"border:2px solid gray\">"
   ]
  },
  {
   "cell_type": "markdown",
   "id": "87d8fda8",
   "metadata": {},
   "source": [
    "As we have seen, a list in Python is an ordered set of values, such as a set of integers or a set of floats.  ***Arrays*** are also similar in that they are also ordered sets of values, but there are some important differences between lists and arrays:\n",
    "- The number of elements in an array is fixed\n",
    "- The elements of an array must all be of the same type, and cannot be changed once the array is created\n",
    "\n",
    "Lists have none of these limitations, so it may seem like a better idea to use them.  However, arrays have some considerable advantages over lists:\n",
    "- Arrays can be two-dimensional like matrices in algebra, which allows us to have 'grids' of arrays.  Indeed, arrays can be n-dimensional, whilst lists can only have 1 dimension\n",
    "- Arrays behave roughly like vectors or matrices: you can do arithmetic with them, such as adding them together, and you will get the result you expect\n",
    "- Arrays work faster than lists, particularly for large arrays and lists"
   ]
  },
  {
   "cell_type": "markdown",
   "id": "1325fbe6",
   "metadata": {},
   "source": [
    "In fact, let's see what happens if we add two lists together:"
   ]
  },
  {
   "cell_type": "code",
   "execution_count": null,
   "id": "1ba38a65",
   "metadata": {},
   "outputs": [],
   "source": [
    "L1 = [1,2,3,4,5]\n",
    "L2 = [6,7,8, 9, 10]\n",
    "L = L1 + L2\n",
    "print(L)"
   ]
  },
  {
   "cell_type": "markdown",
   "id": "2abfc2c9",
   "metadata": {},
   "source": [
    "As you can see, we've just created a longer list by 'sticking' list L2 to the end of list L1.  This is known as ***concatenation***."
   ]
  },
  {
   "cell_type": "markdown",
   "id": "0e8bf5e4",
   "metadata": {},
   "source": [
    "Let's do the same for arrays.  Note that we must import the `numpy` module to create arrays."
   ]
  },
  {
   "cell_type": "code",
   "execution_count": null,
   "id": "9e97c671",
   "metadata": {},
   "outputs": [],
   "source": [
    "import numpy as np\n",
    "\n",
    "A1 = np.array([1,2,3,4,5])\n",
    "A2 = np.array([6,7,8,9,10])\n",
    "A = A1 + A2\n",
    "print(A)"
   ]
  },
  {
   "cell_type": "markdown",
   "id": "216828d2",
   "metadata": {},
   "source": [
    "Each element of array `A2` is added to the element of array `A1`, provided they have the same ***index***."
   ]
  },
  {
   "cell_type": "markdown",
   "id": "fdbd00c9",
   "metadata": {},
   "source": [
    "Now that we've gone through general numpy arrays, there is an additional type of array that you may encounter: ***dictionaries***.  These are groups of ***key-value pairs*** or ***keys* known as ***associative arrays***.  Each key will map a key to its associated value.  This is best shown through demonstration."
   ]
  },
  {
   "cell_type": "code",
   "execution_count": null,
   "id": "375e3884",
   "metadata": {},
   "outputs": [],
   "source": [
    "thisdict = {\n",
    "  \"Brand\": \"Fiat\",\n",
    "  \"Model\": \"Cinquecento Hawaii\",\n",
    "  \"Year\": 1998\n",
    "   }\n",
    "print(thisdict)"
   ]
  },
  {
   "cell_type": "markdown",
   "id": "72957929",
   "metadata": {},
   "source": [
    "In effect, a key assigns the right-hand variables to the left-hand variables.  A dictionary is essentially just an array of values and keys: it's like a bag full of bricks and cement that assembles itself into a wall when called."
   ]
  },
  {
   "cell_type": "markdown",
   "id": "0bf589f1",
   "metadata": {},
   "source": [
    "A handy feature of dictionaries is that you can ***filter*** them by key to obtain particular values.  In the case below, the ***in*** operator returns a Boolean result evaluating into either `True` or `False`. When the specified value is found inside the sequence, the `in` statement returns `True`, whereas when it is not found, it returns `False`."
   ]
  },
  {
   "cell_type": "code",
   "execution_count": null,
   "id": "e36e9919",
   "metadata": {},
   "outputs": [],
   "source": [
    "d1 = {'Grade A':'65%', 'Grade B':'66%', 'Grade C':'67%', 'Grade D':'68%', 'Grade E':'69%', 'Grade F':'70%'}\n",
    "l1 = ['Grade A','Grade C','Grade F']\n",
    "\n",
    "requested_grades = {key: d1[key] for key in l1}\n",
    "# A simple for loop that iterates through dictionary d1 based on the list l1\n",
    "print(requested_grades)"
   ]
  },
  {
   "cell_type": "markdown",
   "id": "b153c538",
   "metadata": {},
   "source": [
    "You can add to a dictionary like so:"
   ]
  },
  {
   "cell_type": "code",
   "execution_count": null,
   "id": "acb70a9c",
   "metadata": {},
   "outputs": [],
   "source": [
    "thisdict['Owner'] = 'Will McKenzie'"
   ]
  },
  {
   "cell_type": "markdown",
   "id": "d83dac22",
   "metadata": {},
   "source": [
    "The keys and values of a dictionary can be accessed individually using `dict.keys`, `dict.values` and `dict.items`."
   ]
  },
  {
   "cell_type": "code",
   "execution_count": null,
   "id": "6c086cd0",
   "metadata": {},
   "outputs": [],
   "source": [
    "for key in thisdict.keys():\n",
    "    print(key)\n",
    "\n",
    "for val in thisdict.values():\n",
    "    print(val)\n",
    "\n",
    "for item in thisdict.items():\n",
    "    print(item)"
   ]
  },
  {
   "cell_type": "markdown",
   "id": "ff4a9320",
   "metadata": {},
   "source": [
    "You can also access values with variables."
   ]
  },
  {
   "cell_type": "code",
   "execution_count": null,
   "id": "791958c2",
   "metadata": {},
   "outputs": [],
   "source": [
    "accessor = \"Owner\"\n",
    "print(thisdict[accessor])"
   ]
  },
  {
   "cell_type": "markdown",
   "id": "c60b0c51",
   "metadata": {},
   "source": [
    "[Return to contents](#0.)\n",
    "\n",
    "<hr style=\"border:2px solid gray\">"
   ]
  },
  {
   "cell_type": "markdown",
   "id": "c4650fb2",
   "metadata": {},
   "source": [
    "### 2.2 Manipulating arrays <a name=\"2.2\"></a>\n",
    "\n",
    "<hr style=\"border:2px solid gray\">"
   ]
  },
  {
   "cell_type": "markdown",
   "id": "9d24b519",
   "metadata": {},
   "source": [
    "As was the case with lists, we can also select elements from an array:"
   ]
  },
  {
   "cell_type": "code",
   "execution_count": null,
   "id": "97ff6f88",
   "metadata": {},
   "outputs": [],
   "source": [
    "A = np.array([1,2,3,4,5])\n",
    "print(A[0])\n",
    "print(A[3])"
   ]
  },
  {
   "cell_type": "markdown",
   "id": "f0f74803",
   "metadata": {},
   "source": [
    "We can also make 2D arrays by hand, as well as determine the size and shape of a given array:"
   ]
  },
  {
   "cell_type": "code",
   "execution_count": null,
   "id": "07cf4bdf",
   "metadata": {},
   "outputs": [],
   "source": [
    "import numpy as np\n",
    "x = np.array([[1,2,3,4],[5,6,7,8]])\n",
    "print(\"Size of array:\", np.size(x))\n",
    "print(\"Shape of array:\", np.shape(x))"
   ]
  },
  {
   "cell_type": "markdown",
   "id": "0b1aa8e2",
   "metadata": {},
   "source": [
    "Creating arrays of higher dimensions than 2 or 3 is difficult; here, it's best to use `numpy` methods.  The below code creates a 5-dimensional array where the innermost dimension (5th dim) has 4 elements, the 4th dim has 1 element that is the vector, the 3rd dim has 1 element that is the matrix with the vector, the 2nd dim has 1 element that is 3D array and 1st dim has 1 element that is a 4D array."
   ]
  },
  {
   "cell_type": "code",
   "execution_count": null,
   "id": "21e9882a",
   "metadata": {},
   "outputs": [],
   "source": [
    "import numpy as np\n",
    "\n",
    "arr = np.array([1, 2, 3, 4], ndmin=5)\n",
    "\n",
    "print(arr)\n",
    "print('number of dimensions:', arr.ndim)"
   ]
  },
  {
   "cell_type": "markdown",
   "id": "e018ef56",
   "metadata": {},
   "source": [
    "Several `numpy` functions can generate arrays of a certain type very quickly.  For instance, the below array ranges from 0 to 20 in evenly spaced steps."
   ]
  },
  {
   "cell_type": "code",
   "execution_count": null,
   "id": "aab14d39",
   "metadata": {},
   "outputs": [],
   "source": [
    "import numpy as np\n",
    "y = np.linspace(0,1,20)\n",
    "print(y)"
   ]
  },
  {
   "cell_type": "markdown",
   "id": "dc0dd50f",
   "metadata": {},
   "source": [
    "The below array's elements go from 0 to 10 in steps of 0.1:"
   ]
  },
  {
   "cell_type": "code",
   "execution_count": null,
   "id": "71df9e08",
   "metadata": {},
   "outputs": [],
   "source": [
    "z = np.arange(1,10,0.1)\n",
    "print(z)"
   ]
  },
  {
   "cell_type": "markdown",
   "id": "595b2b8a",
   "metadata": {},
   "source": [
    "Finally, the below array is simply the above (1,90) array *z* reshaped into a (30,3) array."
   ]
  },
  {
   "cell_type": "code",
   "execution_count": null,
   "id": "8447bc38",
   "metadata": {},
   "outputs": [],
   "source": [
    "Q = z.reshape(30,3)\n",
    "print(Q)"
   ]
  },
  {
   "cell_type": "markdown",
   "id": "e62993e9",
   "metadata": {},
   "source": [
    "**Figure 1** should make it easier to understand the shapes of 1D, 2D and 3D arrays."
   ]
  },
  {
   "attachments": {},
   "cell_type": "markdown",
   "id": "b69ffe50",
   "metadata": {},
   "source": [
    "<CENTER><img src=\"NWTQH.png\" style=\"width:60%\"></CENTER>\n",
    "\n",
    "**Figure 1:** (left to right) 1D, 2D and 3D arrays.  For the 1D array, element `[0]` would be $7$ and element `[2]` would be $9$.  For the 2D array, element `[0][0]` would be $5.2$ and element `[2][3]` would be $0.3$.  For the 3D array, element `[2][2][0]` would be $0$."
   ]
  },
  {
   "cell_type": "markdown",
   "id": "e93fc377",
   "metadata": {},
   "source": [
    "Looking at the 1D and 2D arrays begs a question: can we 'stack' two 1D arrays together to make a 2D array?  We can, by using the `stack` function from `numpy`.  `stack` takes arguments `arrays` and `axis`; the axes of stacking can be a little confusing, so pictograms of the stacking process are below."
   ]
  },
  {
   "cell_type": "code",
   "execution_count": null,
   "id": "75940290",
   "metadata": {
    "scrolled": true
   },
   "outputs": [],
   "source": [
    "arr1 = np.array([1,2,3])\n",
    "arr2 = np.array([4,5,6])\n",
    "\n",
    "print(arr1)\n",
    "print(arr2)\n",
    "\n",
    "horizontal = np.stack((arr1,arr2), axis = 0)\n",
    "print(horizontal)"
   ]
  },
  {
   "attachments": {},
   "cell_type": "markdown",
   "id": "4bf38ce1",
   "metadata": {},
   "source": [
    "<CENTER><img src=\"stack1.png\" style=\"width:20%\"></CENTER>\n",
    "\n",
    "**Figure 2:** Stacking arrays horizontally ($0^{th}$ axis)."
   ]
  },
  {
   "cell_type": "markdown",
   "id": "dfdde230",
   "metadata": {},
   "source": [
    "For stacking along the $0^{th}$ (horizontal) axis, there was actually no need to include an axis argument as the horizontal axis is the default axis.  This is not the case for stacking along the $1^{st}$ (vertical) axis."
   ]
  },
  {
   "cell_type": "code",
   "execution_count": null,
   "id": "89c1483d",
   "metadata": {},
   "outputs": [],
   "source": [
    "arr1 = np.array([1,2,3])\n",
    "arr2 = np.array([4,5,6])\n",
    "\n",
    "print(arr1)\n",
    "print(arr2)\n",
    "\n",
    "vertical = np.stack((arr1,arr2), axis = -1)\n",
    "print(vertical)"
   ]
  },
  {
   "attachments": {},
   "cell_type": "markdown",
   "id": "7f5ed981",
   "metadata": {},
   "source": [
    "<CENTER><img src=\"stack2.png\" style=\"width:20%\"></CENTER>\n",
    "\n",
    "**Figure 3:** Stacking arrays vertically ($1^{st}$ axis)."
   ]
  },
  {
   "cell_type": "markdown",
   "id": "7d4b6cfa",
   "metadata": {},
   "source": [
    "Creating a 3D array is somewhat finicky, so it's best to use a function to generate one rather than create it manually by typing.  We'll use two functions from `numpy`.  The first is `arange`, which returns an array of evenly spaced elements as given by the arguments `start`, `stop` and `step`.  The second is `reshape`, which changes the shape of an array without affecting its data."
   ]
  },
  {
   "cell_type": "code",
   "execution_count": null,
   "id": "2f51cf61",
   "metadata": {
    "scrolled": true
   },
   "outputs": [],
   "source": [
    "arr = np.arange(24).reshape(4,3,2)\n",
    "print(arr)"
   ]
  },
  {
   "cell_type": "markdown",
   "id": "fd9bbd9c",
   "metadata": {},
   "source": [
    "Let's see how the shape of an array changes in output form rather than the earlier diagram."
   ]
  },
  {
   "cell_type": "code",
   "execution_count": null,
   "id": "ac32dd61",
   "metadata": {},
   "outputs": [],
   "source": [
    "dim_1 = np.arange(1,4)\n",
    "dim_2 = np.arange(1,10).reshape(3,3)\n",
    "dim_3 = np.arange(1,28).reshape(3,3,3)\n",
    "\n",
    "print(dim_1)\n",
    "\n",
    "print(dim_2)\n",
    "\n",
    "print(dim_3)"
   ]
  },
  {
   "cell_type": "markdown",
   "id": "72cc4740",
   "metadata": {},
   "source": [
    "It's best to visualise a 2D array as a series of 1D 'strips', and a 3D array as a series of 2D 'slices'."
   ]
  },
  {
   "cell_type": "markdown",
   "id": "59c45d3e",
   "metadata": {},
   "source": [
    "We've seen that accessing elements of a 1D array is a very useful skill - let's extend this to higher-dimensional arrays."
   ]
  },
  {
   "cell_type": "code",
   "execution_count": null,
   "id": "c5f94437",
   "metadata": {},
   "outputs": [],
   "source": [
    "dim_1 = np.arange(1,4)\n",
    "dim_2 = np.arange(1,10).reshape(3,3)\n",
    "dim_3 = np.arange(1,28).reshape(3,3,3)\n",
    "\n",
    "print(dim_1[1])\n",
    "print(dim_2[1][1])\n",
    "print(dim_3[1][1][1])"
   ]
  },
  {
   "cell_type": "markdown",
   "id": "5155ecc7",
   "metadata": {},
   "source": [
    "This is very much like how we access elements from lists and 1D arrays, we just add on another 'position marker' for each *degree of dimensionality*; that is, the number of dimensions that an array has.\n",
    "\n",
    "[Return to contents](#0.)\n",
    "\n",
    "<hr style=\"border:2px solid gray\">"
   ]
  },
  {
   "cell_type": "markdown",
   "id": "bd3afd52",
   "metadata": {},
   "source": [
    "# 3. Plotting with matplotlib <a name=\"3.\"></a>"
   ]
  },
  {
   "cell_type": "markdown",
   "id": "113e05cd",
   "metadata": {},
   "source": [
    "Plots appear everywhere in physics and beyond.  Some of you may have experience with generating plots yourself, perhaps on Excel.  However, this becomes quite painful if you have a very large dataset or if you wish to manipulate your data in a complicated manner.  Luckily, Python - which is very adept at handling and manipulating complex datasets - can also generate plots using the `matplotlib` library."
   ]
  },
  {
   "cell_type": "markdown",
   "id": "b8a97ba6",
   "metadata": {},
   "source": [
    "### 3.1 Generating a basic plot <a name=\"3.1\"></a>\n",
    "\n",
    "<hr style=\"border:2px solid gray\">"
   ]
  },
  {
   "cell_type": "markdown",
   "id": "f26e86be",
   "metadata": {},
   "source": [
    "Generally, making a plot will follow the same sort of procedure:\n",
    "- Obtain and specify data sets (as in the `x` and `y` values)\n",
    "- Manipulate data sets if necessary; this is often much harder than generating the plot\n",
    "- Import the module `matplotlib.pyplot`, the Python module dedicated to generating plots\n",
    "- Tailor the details of your plot\n",
    "- Generate your plot!"
   ]
  },
  {
   "cell_type": "markdown",
   "id": "687dc2ca",
   "metadata": {},
   "source": [
    "**Example:** Generate a simple quadratic plot.\n",
    "\n",
    "A good approach would be to manually create a data set for our *x* values and write a function in *y* that is our quadratic.  Let's do just that."
   ]
  },
  {
   "cell_type": "code",
   "execution_count": null,
   "id": "73338ab1",
   "metadata": {},
   "outputs": [],
   "source": [
    "import numpy as np\n",
    "\n",
    "x = np.arange(-5,8,1)\n",
    "y = (x-1)**2\n",
    "print(x)\n",
    "print(y)"
   ]
  },
  {
   "cell_type": "markdown",
   "id": "2f7bcbc3",
   "metadata": {},
   "source": [
    "Now let's get a-plotting:"
   ]
  },
  {
   "cell_type": "code",
   "execution_count": null,
   "id": "cfd51319",
   "metadata": {},
   "outputs": [],
   "source": [
    "import matplotlib.pyplot as plt\n",
    "\n",
    "plt.plot(x,y)\n",
    "plt.show()"
   ]
  },
  {
   "cell_type": "markdown",
   "id": "429bce57",
   "metadata": {},
   "source": [
    "There we go - a nice quadratic!\n",
    "\n",
    "[Return to contents](#0.)\n",
    "\n",
    "<hr style=\"border:2px solid gray\">"
   ]
  },
  {
   "cell_type": "markdown",
   "id": "e1b07b24",
   "metadata": {},
   "source": [
    "### 3.2 Customising your plot <a name=\"3.2\"></a>\n",
    "\n",
    "<hr style=\"border:2px solid gray\">"
   ]
  },
  {
   "cell_type": "markdown",
   "id": "c7572568",
   "metadata": {},
   "source": [
    "Who wants a boring old line?  We can do much better.  The reason why we have a line is because we haven't specified the plot type - a line plot is the automatic option.  The change we need is simple:"
   ]
  },
  {
   "cell_type": "code",
   "execution_count": null,
   "id": "edb627bd",
   "metadata": {},
   "outputs": [],
   "source": [
    "plt.plot(x,y,'o') # Specifying 'o' after the dataset inputs tells matplotlib that we want a scatter plot\n",
    "plt.show()"
   ]
  },
  {
   "cell_type": "markdown",
   "id": "f3a9f003",
   "metadata": {},
   "source": [
    "Or, we can combine the two using the `markers` option:"
   ]
  },
  {
   "cell_type": "code",
   "execution_count": null,
   "id": "8ed625bb",
   "metadata": {},
   "outputs": [],
   "source": [
    "plt.plot(x,y,marker='o')\n",
    "plt.show()"
   ]
  },
  {
   "cell_type": "markdown",
   "id": "b4d6b338",
   "metadata": {},
   "source": [
    "We can also change the appearance of the line:"
   ]
  },
  {
   "cell_type": "code",
   "execution_count": null,
   "id": "1dade99d",
   "metadata": {},
   "outputs": [],
   "source": [
    "plt.plot(x,y,linestyle='--')\n",
    "plt.show()"
   ]
  },
  {
   "cell_type": "markdown",
   "id": "fbfac0a5",
   "metadata": {},
   "source": [
    "We can also change the colour of our line - this will be handy later on."
   ]
  },
  {
   "cell_type": "code",
   "execution_count": null,
   "id": "0303bbc5",
   "metadata": {},
   "outputs": [],
   "source": [
    "plt.plot(x,y,c='r')\n",
    "plt.show()"
   ]
  },
  {
   "cell_type": "markdown",
   "id": "7d6e39a3",
   "metadata": {},
   "source": [
    "Adjusting the width of our line is an option."
   ]
  },
  {
   "cell_type": "code",
   "execution_count": null,
   "id": "fbaeb7bd",
   "metadata": {},
   "outputs": [],
   "source": [
    "plt.plot(x,y,linewidth='5.5')\n",
    "plt.show()"
   ]
  },
  {
   "cell_type": "markdown",
   "id": "5daabf66",
   "metadata": {},
   "source": [
    "We can plot two lines on the same plot by specifying a `plt.plot` function for each line."
   ]
  },
  {
   "cell_type": "code",
   "execution_count": null,
   "id": "3bd06582",
   "metadata": {},
   "outputs": [],
   "source": [
    "plt.plot(x)\n",
    "plt.plot(y)\n",
    "\n",
    "plt.show()"
   ]
  },
  {
   "cell_type": "markdown",
   "id": "d79d1a8b",
   "metadata": {},
   "source": [
    "Alternatively, we can group multiple lines in the same plot, though we must ensure that they are positioned correctly.  If we intend to make two lines *1* and *2*, we should group them as $(x_1,y_1 \\: \\: x_2,y_2)$.  See below."
   ]
  },
  {
   "cell_type": "code",
   "execution_count": null,
   "id": "b523744c",
   "metadata": {},
   "outputs": [],
   "source": [
    "x1=np.array([0,1,2,3])\n",
    "y1=np.array([3,8,1,10])\n",
    "x2=np.array([0,1,2,3])\n",
    "y2=np.array([6,2,7,11])\n",
    "\n",
    "plt.plot(x1,y1,x2,y2)\n",
    "plt.show()"
   ]
  },
  {
   "cell_type": "markdown",
   "id": "0a0c9311",
   "metadata": {},
   "source": [
    "If you were given this plot without context, you'd have no idea what was going on.  Labelling is key, so let's start with labelling axes with the `xlabel` and `ylabel` functions:"
   ]
  },
  {
   "cell_type": "code",
   "execution_count": null,
   "id": "a583cd29",
   "metadata": {
    "scrolled": true
   },
   "outputs": [],
   "source": [
    "x = np.arange(-5,8,1)\n",
    "y = (x-1)**2\n",
    "\n",
    "plt.plot(x, y)\n",
    "\n",
    "plt.xlabel(\"x values\")\n",
    "plt.ylabel(\"y values\")\n",
    "\n",
    "plt.show()"
   ]
  },
  {
   "cell_type": "markdown",
   "id": "849685d2",
   "metadata": {},
   "source": [
    "A title would also be helpful:"
   ]
  },
  {
   "cell_type": "code",
   "execution_count": null,
   "id": "b044fea6",
   "metadata": {},
   "outputs": [],
   "source": [
    "x = np.arange(-5,8,1)\n",
    "y = (x-1)**2\n",
    "\n",
    "plt.plot(x, y)\n",
    "\n",
    "plt.xlabel(\"x values\")\n",
    "plt.ylabel(\"y values\")\n",
    "plt.title(\"Second-order quadratic\")\n",
    "\n",
    "plt.show()"
   ]
  },
  {
   "cell_type": "markdown",
   "id": "86094506",
   "metadata": {},
   "source": [
    "Using a grid can be handy as it allows a reader to identify points of intersection.  The `plt.grid` function not only does this, but it aligns the grid to shown axis values."
   ]
  },
  {
   "cell_type": "code",
   "execution_count": null,
   "id": "889953ea",
   "metadata": {},
   "outputs": [],
   "source": [
    "x = np.arange(-5,8,1)\n",
    "y = (x-1)**2\n",
    "\n",
    "plt.plot(x, y)\n",
    "\n",
    "plt.xlabel(\"x values\")\n",
    "plt.ylabel(\"y values\")\n",
    "plt.title(\"Second-order quadratic\")\n",
    "plt.grid()\n",
    "\n",
    "plt.show()"
   ]
  },
  {
   "cell_type": "markdown",
   "id": "71608bc3",
   "metadata": {},
   "source": [
    "A line plot isn't always what you're after.  *Scatter plots* are quite common in physics, particularly in particle physics and astrophysics.  As for generating a scatter plot, there's an app for that."
   ]
  },
  {
   "cell_type": "code",
   "execution_count": null,
   "id": "febbcddd",
   "metadata": {},
   "outputs": [],
   "source": [
    "x = np.random.randint(1,10, size = 10)\n",
    "y = np.random.randint(1,15,size = 10)\n",
    "\n",
    "# The random.randint function takes arguments (lowest value, highest value, size)\n",
    "# and generates an array of the specified filled with random numbers between the lowest and highest values\n",
    "\n",
    "plt.scatter(x, y)\n",
    "plt.show()"
   ]
  },
  {
   "cell_type": "markdown",
   "id": "0e7c1ea6",
   "metadata": {},
   "source": [
    "*Colour maps* may be used with a plot.  In short, a colour map is a list of colours where each colour has a value that ranges from 1 to 100.  See below."
   ]
  },
  {
   "cell_type": "code",
   "execution_count": null,
   "id": "1d9141bc",
   "metadata": {},
   "outputs": [],
   "source": [
    "a = np.array([5,7,8,7,2,17,2,9,4,11,12,9,6])\n",
    "b = np.array([99,86,87,88,111,86,103,87,94,78,77,85,86])\n",
    "col = np.array([0,10,20,30,40,45,50,55,60,70,80,90,100])\n",
    "\n",
    "plt.scatter(a, b, c=col, cmap='Spectral')\n",
    "plt.colorbar()\n",
    "\n",
    "plt.show()"
   ]
  },
  {
   "cell_type": "markdown",
   "id": "54356cee",
   "metadata": {},
   "source": [
    "Colour maps are particularly useful when used with a 2D array.  Without a colourmap, the below image would just be monochrome and effectively invisible."
   ]
  },
  {
   "attachments": {
    "colourmap.png": {
     "image/png": "[encoded data removed]"
    }
   },
   "cell_type": "markdown",
   "id": "159d4199",
   "metadata": {},
   "source": [
    "![colourmap.png](attachment:colourmap.png)\n",
    "\n",
    "**Figure 4:** A colour map of the surface of a silicon crystal, obtained using a scanning tunnelling microscope (STM)."
   ]
  },
  {
   "cell_type": "markdown",
   "id": "c671d8fe",
   "metadata": {},
   "source": [
    "If you're collecting data for scientific purposes, you'll almost never get definite results - there will always be some form of (potentially) quantifiable uncertainty.  Whilst your graphs will certainly look good, they won't indicate any degree of uncertainty.  Luckily, `matplotlib` allows you to generate *error bars*."
   ]
  },
  {
   "cell_type": "code",
   "execution_count": null,
   "id": "0ea68c8a",
   "metadata": {},
   "outputs": [],
   "source": [
    "import numpy as np\n",
    "import matplotlib.pyplot as plt\n",
    "   \n",
    "x = np.arange(10)\n",
    "y = 3*np.sin((x/20)*np.pi)\n",
    "\n",
    "x_error = np.linspace(0.2, 0.5, 10)\n",
    "y_error = np.linspace(0.2, 0.5, 10)\n",
    "\n",
    "plt.plot(x,y, color = 'b')\n",
    "plt.errorbar(x, y, xerr = x_error, yerr = y_error, ecolor = 'g')\n",
    "plt.show()"
   ]
  },
  {
   "cell_type": "markdown",
   "id": "c7dc02fa",
   "metadata": {},
   "source": [
    "It can also be handy to change the scale of one or both of your axes.  Take a look at the plot below."
   ]
  },
  {
   "cell_type": "code",
   "execution_count": null,
   "id": "93687738",
   "metadata": {},
   "outputs": [],
   "source": [
    "x = 10.0**np.linspace(0.0, 5.0, 15) \n",
    "y = x**2.0\n",
    "\n",
    "plt.plot(x,y)\n",
    "plt.show()"
   ]
  },
  {
   "cell_type": "markdown",
   "id": "fbd26504",
   "metadata": {},
   "source": [
    "An observer may not be aware that this plot scales by a factor of 10.  In this case, it would be handy to change the scale of *both* our datasets to a logarithmic scale?  However, doing this to our data could get annoying.  What if we instead made both our axes logarithmic instead?"
   ]
  },
  {
   "cell_type": "markdown",
   "id": "b2853646",
   "metadata": {},
   "source": [
    "This is where `xscale` and `yscale` come in.  See below."
   ]
  },
  {
   "cell_type": "code",
   "execution_count": null,
   "id": "3232a574",
   "metadata": {
    "scrolled": true
   },
   "outputs": [],
   "source": [
    "x = 10.0**np.linspace(0.0, 5.0, 15) \n",
    "y = x**2.0\n",
    "\n",
    "plt.plot(x,y)\n",
    "\n",
    "plt.xscale('log') \n",
    "plt.yscale('log')\n",
    "\n",
    "plt.show()"
   ]
  },
  {
   "cell_type": "markdown",
   "id": "c57a2f60",
   "metadata": {},
   "source": [
    "[Return to contents](#0.)\n",
    "\n",
    "<hr style=\"border:2px solid gray\">"
   ]
  },
  {
   "cell_type": "markdown",
   "id": "04f74cb0",
   "metadata": {},
   "source": [
    "### 3.3 Subplots <a name=\"3.3\"></a>\n",
    "\n",
    "<hr style=\"border:2px solid gray\">"
   ]
  },
  {
   "cell_type": "markdown",
   "id": "8365d818",
   "metadata": {},
   "source": [
    "The `subplot` function allows us to draw multiple plots in one figure.  It takes 3 arguments: the 1st describes the number of rows, the 2nd the number of columns and the 3rd the index of the current plot.  This is best shown with an example:"
   ]
  },
  {
   "cell_type": "code",
   "execution_count": null,
   "id": "e0af4fcb",
   "metadata": {},
   "outputs": [],
   "source": [
    "import matplotlib.pyplot as plt\n",
    "import numpy as np\n",
    "\n",
    "# Plot 1:\n",
    "x = np.array([0,1,2,3])\n",
    "y = np.array([3,8,1,10])\n",
    "\n",
    "plt.subplot(2,1,1) # 2 rows, 1 column, index 1\n",
    "plt.plot(x,y)\n",
    "\n",
    "# Plot 2:\n",
    "x = np.array([0,1,2,3])\n",
    "y = np.array([10,20,30,40])\n",
    "\n",
    "plt.subplot(2,1,2) # 2 rows, 1 column, index 2\n",
    "plt.plot(x,y)\n",
    "\n",
    "plt.show()"
   ]
  },
  {
   "cell_type": "markdown",
   "id": "7bd40265",
   "metadata": {},
   "source": [
    "You can add titles and axes to each plot as you would normally, as well as change the colour and property of each line."
   ]
  },
  {
   "cell_type": "code",
   "execution_count": null,
   "id": "8d9edc13",
   "metadata": {},
   "outputs": [],
   "source": [
    "import matplotlib.pyplot as plt\n",
    "import numpy as np\n",
    "\n",
    "# Plot 1:\n",
    "x = np.array([0,1,2,3])\n",
    "y = np.array([3,8,1,10])\n",
    "\n",
    "plt.subplot(2,1,1)\n",
    "plt.plot(x,y,linestyle='--')\n",
    "\n",
    "plt.xlabel(\"x values\")\n",
    "plt.ylabel(\"y values\")\n",
    "plt.title(\"Plot 1\")\n",
    "\n",
    "# Plot 2:\n",
    "x = np.array([0,1,2,3])\n",
    "y = np.array([10,20,30,40])\n",
    "\n",
    "plt.subplot(2,1,2)\n",
    "plt.plot(x,y,c='r')\n",
    "\n",
    "plt.xlabel(\"x values\")\n",
    "plt.ylabel(\"y values\")\n",
    "plt.title(\"Plot 2\")\n",
    "\n",
    "plt.tight_layout() # This stops the title of Plot 2 overlapping with the x-axis label of Plot 1\n",
    "\n",
    "plt.show()"
   ]
  },
  {
   "cell_type": "markdown",
   "id": "7950bace",
   "metadata": {},
   "source": [
    "We can also add a title to an entire block of plots using the `suptitle` function:"
   ]
  },
  {
   "cell_type": "code",
   "execution_count": null,
   "id": "e564906a",
   "metadata": {},
   "outputs": [],
   "source": [
    "import matplotlib.pyplot as plt\n",
    "import numpy as np\n",
    "\n",
    "# Plot 1:\n",
    "x = np.array([0,1,2,3])\n",
    "y = np.array([3,8,1,10])\n",
    "\n",
    "plt.subplot(2,1,1)\n",
    "plt.plot(x,y)\n",
    "\n",
    "plt.xlabel(\"x values\")\n",
    "plt.ylabel(\"y values\")\n",
    "plt.title(\"Plot 1\")\n",
    "\n",
    "# Plot 2:\n",
    "x = np.array([0,1,2,3])\n",
    "y = np.array([10,20,30,40])\n",
    "\n",
    "plt.subplot(2,1,2)\n",
    "plt.plot(x,y)\n",
    "\n",
    "plt.xlabel(\"x values\")\n",
    "plt.ylabel(\"y values\")\n",
    "plt.title(\"Plot 2\")\n",
    "\n",
    "plt.suptitle(\"Subplot demonstration\")\n",
    "plt.tight_layout()\n",
    "\n",
    "plt.show()"
   ]
  },
  {
   "cell_type": "markdown",
   "id": "cb2cafec",
   "metadata": {},
   "source": [
    "Finally, we can include multiple lines on the same plot, as well as adding a legend to more easily identify each line.  Calling the legend just uses the `legend` function, but we must label each plot individually for the legend to render with correctly labeled lines."
   ]
  },
  {
   "cell_type": "code",
   "execution_count": null,
   "id": "5f2d4702",
   "metadata": {},
   "outputs": [],
   "source": [
    "# Plot 1:\n",
    "x1 = np.array([0,1,2,3])\n",
    "y1 = np.array([3,8,1,10])\n",
    "x2 = np.array([0,1,2,3])\n",
    "y2 = np.array([6,16,2,20])\n",
    "\n",
    "plt.subplot(2,1,1)\n",
    "plt.plot(x1,y1, label=r'Line 1')\n",
    "plt.plot(x2,y2,c='r', label=r'Line 2')\n",
    "\n",
    "plt.xlabel(\"x values\")\n",
    "plt.ylabel(\"y values\")\n",
    "plt.title(\"Plot 1\")\n",
    "\n",
    "plt.legend()\n",
    "\n",
    "# Plot 2:\n",
    "x1 = np.array([0,1,2,3])\n",
    "y1 = np.array([10,20,30,40])\n",
    "x2 = np.array([0,1,2,3])\n",
    "y2 = np.array([30,6,24,9])\n",
    "\n",
    "plt.subplot(2,1,2)\n",
    "plt.plot(x1,y1,c='g', label=r'Line 3')\n",
    "plt.plot(x2,y2,c='y', label=r'Line 4')\n",
    "\n",
    "plt.xlabel(\"x values\")\n",
    "plt.ylabel(\"y values\")\n",
    "plt.title(\"Plot 2\")\n",
    "\n",
    "plt.suptitle(\"Subplot demonstration\")\n",
    "plt.tight_layout()\n",
    "\n",
    "plt.legend()\n",
    "\n",
    "plt.show()"
   ]
  },
  {
   "cell_type": "markdown",
   "id": "3856a8ef",
   "metadata": {},
   "source": [
    "[Return to contents](#0.)\n",
    "\n",
    "<hr style=\"border:2px solid gray\">"
   ]
  },
  {
   "cell_type": "markdown",
   "id": "5c98ce3e",
   "metadata": {},
   "source": [
    "### 3.4 Other graph types <a name=\"3.4\"></a>\n",
    "\n",
    "<hr style=\"border:2px solid gray\">"
   ]
  },
  {
   "cell_type": "markdown",
   "id": "930ba11c",
   "metadata": {},
   "source": [
    "We can use the `bar` function to draw bar graphs:"
   ]
  },
  {
   "cell_type": "code",
   "execution_count": null,
   "id": "e16a7f07",
   "metadata": {},
   "outputs": [],
   "source": [
    "x = np.array([\"A\",\"B\",\"C\",\"D\"])\n",
    "y = np.array([1,3,8,10])\n",
    "\n",
    "plt.bar(x,y)\n",
    "plt.show()"
   ]
  },
  {
   "cell_type": "markdown",
   "id": "7c8d16ac",
   "metadata": {},
   "source": [
    "It's possible to instead use horizontal bars using `barh` (not a typo!), as well as adjust their width, height and colour."
   ]
  },
  {
   "cell_type": "code",
   "execution_count": null,
   "id": "59fe6baa",
   "metadata": {},
   "outputs": [],
   "source": [
    "x = np.array([\"A\", \"B\", \"C\", \"D\"])\n",
    "y = np.array([3, 8, 1, 10])\n",
    "\n",
    "plt.barh(x,y,0.1,0.1, color='r')\n",
    "plt.show()"
   ]
  },
  {
   "cell_type": "markdown",
   "id": "32cd736e",
   "metadata": {},
   "source": [
    "Producing a histogram is relatively easy: simply use the `hist` function to convert data into a histogram.  Here, we've used the `normal` function from the `random` library, which takes values from a normal (Gaussian) distribution.  Its arguments are `loc` (centre/mean of distribution), `scale` (spread/standard deviation) and `size`."
   ]
  },
  {
   "cell_type": "code",
   "execution_count": null,
   "id": "bb03c69a",
   "metadata": {},
   "outputs": [],
   "source": [
    "x = np.random.normal(170, 10, 250)\n",
    "\n",
    "plt.hist(x)\n",
    "plt.show()"
   ]
  },
  {
   "cell_type": "markdown",
   "id": "6b293085",
   "metadata": {},
   "source": [
    "We can also adjust the number of *bins*, which are the bars of the histogram."
   ]
  },
  {
   "cell_type": "code",
   "execution_count": null,
   "id": "60b27d4b",
   "metadata": {},
   "outputs": [],
   "source": [
    "x = np.random.normal(170, 10, 250)\n",
    "\n",
    "plt.hist(x, bins = 20)\n",
    "plt.show()"
   ]
  },
  {
   "cell_type": "markdown",
   "id": "3d7a29d0",
   "metadata": {},
   "source": [
    "This looks rather messy and undefined, so it would be best to highlight the borders of each bar."
   ]
  },
  {
   "cell_type": "code",
   "execution_count": null,
   "id": "0326c78d",
   "metadata": {
    "scrolled": true
   },
   "outputs": [],
   "source": [
    "x = np.random.normal(170, 10, 250)\n",
    "\n",
    "plt.hist(x, bins = 20, edgecolor = \"black\")\n",
    "plt.show()"
   ]
  },
  {
   "cell_type": "markdown",
   "id": "f937ae27",
   "metadata": {},
   "source": [
    "We can also choose the positions of our bins by specifying the positions of their edges, like so."
   ]
  },
  {
   "cell_type": "code",
   "execution_count": null,
   "id": "3da3afc9",
   "metadata": {},
   "outputs": [],
   "source": [
    "x = np.random.normal(170, 10, 250)\n",
    "\n",
    "# binpos = np.linspace(130, 200, 15)\n",
    "\n",
    "binpos = [130, 135, 140, 145, 150, 155, 160, 165, 170, 175, 180, 185, 190, 195, 200]\n",
    "\n",
    "plt.hist(x, bins = binpos, edgecolor = \"black\")\n",
    "plt.show()"
   ]
  },
  {
   "cell_type": "markdown",
   "id": "fe54ad24",
   "metadata": {},
   "source": [
    "Alternatively, we can use `linspace` to generate evenly spaced bin edges for us.  The below example gives the same bins as above, though the actual data will be different - it's random, after all."
   ]
  },
  {
   "cell_type": "code",
   "execution_count": null,
   "id": "13384e10",
   "metadata": {},
   "outputs": [],
   "source": [
    "x = np.random.normal(170, 10, 250)\n",
    "\n",
    "binpos = np.linspace(130, 200, 15)\n",
    "\n",
    "plt.hist(x, bins = binpos, edgecolor = \"black\")\n",
    "plt.show()"
   ]
  },
  {
   "cell_type": "markdown",
   "id": "d4c69968",
   "metadata": {},
   "source": [
    "Producing a pie chart follows a similar process to producing a histogram, though we use the `pie` function this time.  By default, the plotting of the first wedge starts from the x-axis and moves counterclockwise."
   ]
  },
  {
   "cell_type": "code",
   "execution_count": null,
   "id": "7c8a1432",
   "metadata": {},
   "outputs": [],
   "source": [
    "x = np.array([35,25,25,15])\n",
    "\n",
    "plt.pie(x)\n",
    "plt.show()"
   ]
  },
  {
   "cell_type": "markdown",
   "id": "dbd2c699",
   "metadata": {},
   "source": [
    "We can also label each segment of the pie chart, as well as adjusting the starting angle.  Choosing an angle of 0 degrees would start from the default x-axis or 'East' whilst selecting 90 degrees, 180 degrees and 270 degrees would start from 'North', 'West' and 'South', respectively."
   ]
  },
  {
   "cell_type": "code",
   "execution_count": null,
   "id": "264814c2",
   "metadata": {},
   "outputs": [],
   "source": [
    "x = np.array([35,25,25,15])\n",
    "labl = [\"A\",\"B\",\"C\",\"D\"]\n",
    "\n",
    "plt.pie(x,labels=labl, startangle = 90)\n",
    "plt.show()"
   ]
  },
  {
   "cell_type": "markdown",
   "id": "f87b62d0",
   "metadata": {},
   "source": [
    "If we want a particular section of our chart to stand out, we can use the `explode` function."
   ]
  },
  {
   "cell_type": "code",
   "execution_count": null,
   "id": "a7b216bf",
   "metadata": {},
   "outputs": [],
   "source": [
    "x = np.array([35,25,25,15])\n",
    "\n",
    "sep = [0.2,0,0,0]\n",
    "\n",
    "plt.pie(x, explode=sep)\n",
    "plt.show()"
   ]
  },
  {
   "cell_type": "markdown",
   "id": "91f7b6bc",
   "metadata": {},
   "source": [
    "Finally, we can adjust the colours used in the chart.  Whilst we could add a legend, this generally gets in the way of both the chart and its labels, so it's better to stick to just using labels."
   ]
  },
  {
   "cell_type": "code",
   "execution_count": null,
   "id": "8ead0591",
   "metadata": {},
   "outputs": [],
   "source": [
    "y = np.array([35, 25, 25, 15])\n",
    "labl = [\"A\",\"B\",\"C\",\"D\"]\n",
    "cols = [\"black\", \"hotpink\", \"b\", \"#4CAF50\"]\n",
    "\n",
    "plt.pie(y, labels = labl, colors = cols)\n",
    "plt.show()"
   ]
  },
  {
   "cell_type": "markdown",
   "id": "718846c8",
   "metadata": {},
   "source": [
    "[Return to contents](#0.)\n",
    "\n",
    "<hr style=\"border:2px solid gray\">"
   ]
  },
  {
   "cell_type": "markdown",
   "id": "bf3f5e13",
   "metadata": {},
   "source": [
    "### 3.5 Importing data <a name=\"3.5\"></a>\n",
    "\n",
    "<hr style=\"border:2px solid gray\">"
   ]
  },
  {
   "cell_type": "markdown",
   "id": "f452d8fb",
   "metadata": {},
   "source": [
    "Making large datasets in Python is a pain, particularly if you're collecting it rather than generating it.  You may instead use *Excel* or *Notepad* as an faster alternative to collecting and organising data.  The question is, how to get this data back into Python without taking even more time and manually entering it?"
   ]
  },
  {
   "cell_type": "markdown",
   "id": "af9b574f",
   "metadata": {},
   "source": [
    "A common file type is the *.csv* file, which stands for *comma-separated variables*.  Data in a *.csv* file is separated by commas - here, the commas play the role of ***delimiters***."
   ]
  },
  {
   "cell_type": "markdown",
   "id": "3fc3882e",
   "metadata": {},
   "source": [
    "The `pandas` module has a handy function called `read_csv` that does exactly what it says on the tin.  Let's practice by first importing a file using `read_csv` then printing it."
   ]
  },
  {
   "cell_type": "code",
   "execution_count": null,
   "id": "bee9e90b",
   "metadata": {
    "scrolled": false
   },
   "outputs": [],
   "source": [
    "import pandas as pd\n",
    "\n",
    "df = pd.read_csv(\"company_sales_data.csv\")\n",
    "print(df)"
   ]
  },
  {
   "cell_type": "markdown",
   "id": "06dbe3b0",
   "metadata": {},
   "source": [
    "The `head` function allows you to read off a particular number of rows, starting from the first.  It also renders as a table, making it a little nicer to look at than the direct print."
   ]
  },
  {
   "cell_type": "code",
   "execution_count": null,
   "id": "d17c7e40",
   "metadata": {},
   "outputs": [],
   "source": [
    "df.head(5)"
   ]
  },
  {
   "cell_type": "markdown",
   "id": "dfabd835",
   "metadata": {},
   "source": [
    "It's actually a rather nice-looking display layout.  Selecting a data column and an element from the column is easy - see below."
   ]
  },
  {
   "cell_type": "code",
   "execution_count": null,
   "id": "3d425607",
   "metadata": {},
   "outputs": [],
   "source": [
    "month = df ['month_number']\n",
    "print(month)\n",
    "print(\"First month:\", month[0])"
   ]
  },
  {
   "cell_type": "markdown",
   "id": "80331fb0",
   "metadata": {},
   "source": [
    "[Return to contents](#0.)\n",
    "\n",
    "<hr style=\"border:2px solid gray\">"
   ]
  },
  {
   "cell_type": "markdown",
   "id": "58311e5b",
   "metadata": {},
   "source": [
    "### 3.6 Curve fitting <a name=\"3.6\"></a>\n",
    "\n",
    "<hr style=\"border:2px solid gray\">"
   ]
  },
  {
   "cell_type": "markdown",
   "id": "dd4a11c4",
   "metadata": {},
   "source": [
    "So far, we have been plotting with data that we entirely understand.  However, when you actually collect data, it may well appear random.  It may indeed be random, or follow a relationship that is too complex to identify by hand.  **Curve fitting** will allow you to 'trial' several predicted relations between your data and variables; for instance, you could fit a quadratic curve against your data and see if you get a decent match.  The `scipy` library's `optimize` module has a very handy *routine* - `curve_fit` - that is very competent at doing this."
   ]
  },
  {
   "cell_type": "markdown",
   "id": "629b7eab",
   "metadata": {},
   "source": [
    "Let's start by creating a dataset with random 'noise'.  Our $x$-data is a random distribution that ranges from $0$ to $100$ whilst our $y$-data is $3 \\times$ this with an offset of $2$ plus a different random distribution from $0$ to $10$ - this makes it 'narrower' and more like a linear plot.  See where this is going?"
   ]
  },
  {
   "cell_type": "code",
   "execution_count": null,
   "id": "4ab38746",
   "metadata": {},
   "outputs": [],
   "source": [
    "import numpy as np\n",
    "import matplotlib.pyplot as plt\n",
    "\n",
    "x = np.random.uniform(0, 100, 100)\n",
    "y = 3*x + 2 + np.random.normal(0, 10, 100)\n",
    "\n",
    "plt.plot(x, y, '.')\n",
    "plt.show()"
   ]
  },
  {
   "cell_type": "markdown",
   "id": "272fa5d2",
   "metadata": {},
   "source": [
    "Now we define a function that returns a straight line with formula $y = m x +  c$."
   ]
  },
  {
   "cell_type": "code",
   "execution_count": null,
   "id": "7b565fef",
   "metadata": {},
   "outputs": [],
   "source": [
    "def linear(x, m, c):\n",
    "    return m*x + c"
   ]
  },
  {
   "cell_type": "markdown",
   "id": "b74dada9",
   "metadata": {},
   "source": [
    "Now we use `curve_fit` to perform a *least-squares fit*, which minimises the squares of the *offset* (distance) of every point from a fitted line."
   ]
  },
  {
   "cell_type": "code",
   "execution_count": null,
   "id": "73c193b9",
   "metadata": {},
   "outputs": [],
   "source": [
    "from scipy.optimize import curve_fit\n",
    "\n",
    "popt, pcov = curve_fit(linear, x, y)"
   ]
  },
  {
   "cell_type": "markdown",
   "id": "5574f0e4",
   "metadata": {},
   "source": [
    "`curve_fit` returns two items, `popt` and `pcov`; we are interested in `popt`, which are the best-fit parameters for the *gradient* $m$ and the $y$*-intercept* $b$."
   ]
  },
  {
   "cell_type": "code",
   "execution_count": null,
   "id": "0893c0b1",
   "metadata": {},
   "outputs": [],
   "source": [
    "popt"
   ]
  },
  {
   "cell_type": "markdown",
   "id": "f6aedcaa",
   "metadata": {},
   "source": [
    "Note that these are close to the values $3$ and $2$ we chose for our data."
   ]
  },
  {
   "cell_type": "markdown",
   "id": "01c67dad",
   "metadata": {},
   "source": [
    "However, we have not accounted for any error in our data.  We shall now implement this, assuming that each point has a vertical error of $\\pm 10$.  Here, the `repeat` function is used to repeat elements of an array by a given number."
   ]
  },
  {
   "cell_type": "code",
   "execution_count": null,
   "id": "a75c7325",
   "metadata": {},
   "outputs": [],
   "source": [
    "err = np.repeat(10, 100)\n",
    "\n",
    "plt.plot(x,y,'.')\n",
    "plt.errorbar(x, y, yerr = err, fmt = 'none')\n",
    "plt.show()"
   ]
  },
  {
   "cell_type": "markdown",
   "id": "3a699e19",
   "metadata": {},
   "source": [
    "Let's see what we get for our best-fit parameters now:"
   ]
  },
  {
   "cell_type": "code",
   "execution_count": null,
   "id": "5f948c76",
   "metadata": {},
   "outputs": [],
   "source": [
    "popt"
   ]
  },
  {
   "cell_type": "markdown",
   "id": "78133ac6",
   "metadata": {},
   "source": [
    "The same, which makes sense - these are the absolute values and are unaffected by error.  We're more interested in the results of `pcov` - the *variance* (spread of data arounds its mean value) and *covariance* (relationship between two random variables) of the parameters."
   ]
  },
  {
   "cell_type": "code",
   "execution_count": null,
   "id": "658ab33d",
   "metadata": {},
   "outputs": [],
   "source": [
    "print(\"a =\", popt[0], \"+/-\", pcov[0,0]**0.5)\n",
    "print(\"b =\", popt[1], \"+/-\", pcov[1,1]**0.5)"
   ]
  },
  {
   "cell_type": "markdown",
   "id": "c72ef625",
   "metadata": {},
   "source": [
    "Now we can plot a best-fit line from our `curve_fit` results:"
   ]
  },
  {
   "cell_type": "code",
   "execution_count": null,
   "id": "efb57671",
   "metadata": {},
   "outputs": [],
   "source": [
    "xfine = np.linspace(0, 100, 100)  # Define values to plot the function for\n",
    "\n",
    "plt.errorbar(x, y, yerr = err, fmt=\"none\")\n",
    "plt.plot(xfine, linear(xfine, *popt), 'r-')\n",
    "plt.show()"
   ]
  },
  {
   "cell_type": "markdown",
   "id": "1e961a46",
   "metadata": {},
   "source": [
    "A straight line - as predicted!"
   ]
  },
  {
   "cell_type": "markdown",
   "id": "9f4fc8e7",
   "metadata": {},
   "source": [
    "Let's put it all together:"
   ]
  },
  {
   "cell_type": "code",
   "execution_count": null,
   "id": "67ed4006",
   "metadata": {},
   "outputs": [],
   "source": [
    "import numpy as np\n",
    "import matplotlib.pyplot as plt\n",
    "from scipy.optimize import curve_fit\n",
    "\n",
    "x = np.random.uniform(0, 100, 100)\n",
    "y = 3*x + 2 + np.random.normal(0, 10, 100)\n",
    "err = np.repeat(10, 100)\n",
    "\n",
    "def linear(x, m, c):\n",
    "    return m*x + c\n",
    "\n",
    "popt, pcov = curve_fit(linear, x, y)\n",
    "\n",
    "print(\"a =\", popt[0], \"+/-\", pcov[0,0]**0.5)\n",
    "print(\"b =\", popt[1], \"+/-\", pcov[1,1]**0.5)\n",
    "\n",
    "xfine = np.linspace(0, 100, 100)\n",
    "\n",
    "plt.errorbar(x, y, yerr = err, fmt=\"none\")\n",
    "plt.plot(xfine, linear(xfine, *popt), 'r-')\n",
    "plt.show()"
   ]
  },
  {
   "cell_type": "markdown",
   "id": "1ff7cb0a",
   "metadata": {},
   "source": [
    "[Return to contents](#0.)\n",
    "\n",
    "<hr style=\"border:2px solid gray\">"
   ]
  },
  {
   "cell_type": "markdown",
   "id": "f60c364c",
   "metadata": {},
   "source": [
    "### 3.7 3D plots <a name=\"3.7\"></a>\n",
    "\n",
    "<hr style=\"border:2px solid gray\">"
   ]
  },
  {
   "cell_type": "markdown",
   "id": "163dd881",
   "metadata": {},
   "source": [
    "We've spent quite a while dealing with 2D plots - how about we enter the third dimension?  We can use the `axes3d` module from the `mpl_toolkits` library to do just that.  It's needed because we need a different kind of axis to plot in 3 dimensions."
   ]
  },
  {
   "cell_type": "code",
   "execution_count": null,
   "id": "b0bf221e",
   "metadata": {},
   "outputs": [],
   "source": [
    "import numpy as np\n",
    "import matplotlib.pyplot as plt\n",
    "from mpl_toolkits.mplot3d import axes3d"
   ]
  },
  {
   "cell_type": "markdown",
   "id": "8292c1a6",
   "metadata": {},
   "source": [
    "To plot in 3D, we must specify the *projection* used - in this case, `3d`."
   ]
  },
  {
   "cell_type": "code",
   "execution_count": null,
   "id": "2b5c5479",
   "metadata": {},
   "outputs": [],
   "source": [
    "fig = plt.figure(figsize=(10,6))\n",
    "ax1 = plt.axes(projection='3d')"
   ]
  },
  {
   "cell_type": "markdown",
   "id": "f0f142b9",
   "metadata": {},
   "source": [
    "This produces a pretty boring empty cube.  Let's generate an interesting line - this time using functions and data for 3 axes!"
   ]
  },
  {
   "cell_type": "code",
   "execution_count": null,
   "id": "0a79073c",
   "metadata": {},
   "outputs": [],
   "source": [
    "x = np.linspace(0,15,1000)\n",
    "y = np.sin(x)\n",
    "z = np.cos(x)"
   ]
  },
  {
   "cell_type": "markdown",
   "id": "9511c1d0",
   "metadata": {},
   "source": [
    "Now we plot as normal, this time with three data arguments."
   ]
  },
  {
   "cell_type": "code",
   "execution_count": null,
   "id": "bc632e04",
   "metadata": {},
   "outputs": [],
   "source": [
    "ax1.plot(x,y,z)\n",
    "\n",
    "ax1.set_xlabel('x axis')\n",
    "ax1.set_ylabel('y axis')\n",
    "ax1.set_zlabel('z axis')\n",
    "\n",
    "plt.show()"
   ]
  },
  {
   "cell_type": "markdown",
   "id": "ca9b4300",
   "metadata": {},
   "source": [
    "Putting it all together:"
   ]
  },
  {
   "cell_type": "code",
   "execution_count": null,
   "id": "9683959e",
   "metadata": {},
   "outputs": [],
   "source": [
    "import numpy as np\n",
    "import matplotlib.pyplot as plt\n",
    "from mpl_toolkits.mplot3d import axes3d\n",
    "\n",
    "fig = plt.figure(figsize=(10,6))\n",
    "ax1 = plt.axes(projection='3d')\n",
    "\n",
    "x = np.linspace(0,15,1000)\n",
    "y = np.sin(x)\n",
    "z = np.cos(x)\n",
    "\n",
    "ax1.plot(x,y,z)\n",
    "\n",
    "ax1.set_xlabel('x axis')\n",
    "ax1.set_ylabel('y axis')\n",
    "ax1.set_zlabel('z axis')\n",
    "\n",
    "plt.show()"
   ]
  },
  {
   "cell_type": "markdown",
   "id": "d2def74d",
   "metadata": {},
   "source": [
    "[Return to contents](#0.)\n",
    "\n",
    "<hr style=\"border:2px solid gray\">"
   ]
  },
  {
   "cell_type": "markdown",
   "id": "7e0c4ae3",
   "metadata": {},
   "source": [
    "# What now? <a name=\"4.\"></a>"
   ]
  },
  {
   "cell_type": "markdown",
   "id": "cfc86fa2",
   "metadata": {},
   "source": [
    "If you want to crunch some numbers, check out the [challenges](DataChallenges.ipynb) that we've prepared for you.  We've also provided [solutions](DataSolutions.ipynb) for when you're ready to check your answers."
   ]
  },
  {
   "cell_type": "markdown",
   "id": "8ada8ab1",
   "metadata": {},
   "source": [
    "<hr style=\"border:2px solid gray\">"
   ]
  }
 ],
 "metadata": {
  "kernelspec": {
   "display_name": "Python 3 (ipykernel)",
   "language": "python",
   "name": "python3"
  },
  "language_info": {
   "codemirror_mode": {
    "name": "ipython",
    "version": 3
   },
   "file_extension": ".py",
   "mimetype": "text/x-python",
   "name": "python",
   "nbconvert_exporter": "python",
   "pygments_lexer": "ipython3",
   "version": "3.7.6"
  }
 },
 "nbformat": 4,
 "nbformat_minor": 5
}
