{
 "cells": [
  {
   "cell_type": "markdown",
   "id": "6f07e2ae",
   "metadata": {},
   "source": [
    "# Introduction to Python"
   ]
  },
  {
   "cell_type": "markdown",
   "id": "f5b70d3a",
   "metadata": {},
   "source": [
    "Welcome to RAL's introductory course on Python, a coding language used by amateurs and experts alike across all fields of physics.  We'll guide you through the fundamentals of Python and some of its basic functions with some simple exercises.  If you're feeling confident, several challenges can be found at the end of this notebook."
   ]
  }
 ],
 "metadata": {
  "kernelspec": {
   "display_name": "Python 3 (ipykernel)",
   "language": "python",
   "name": "python3"
  },
  "language_info": {
   "codemirror_mode": {
    "name": "ipython",
    "version": 3
   },
   "file_extension": ".py",
   "mimetype": "text/x-python",
   "name": "python",
   "nbconvert_exporter": "python",
   "pygments_lexer": "ipython3",
   "version": "3.7.6"
  }
 },
 "nbformat": 4,
 "nbformat_minor": 5
}
