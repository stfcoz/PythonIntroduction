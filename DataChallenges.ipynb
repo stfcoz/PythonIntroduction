{
 "cells": [
  {
   "cell_type": "markdown",
   "id": "1ec0a9c3",
   "metadata": {},
   "source": [
    "# Data manipulation challenges <a name=\"0.\"></a>"
   ]
  },
  {
   "cell_type": "markdown",
   "id": "2922b416",
   "metadata": {},
   "source": []
  },
  {
   "cell_type": "markdown",
   "id": "5bb6cd44",
   "metadata": {},
   "source": [
    "Contents:\n",
    "- [Challenges - Easy](#1.)\n",
    "  - [Challenge E1 - Area of a triangle](#1.1)\n",
    "  - [Challenge E2 - Parametric plots](#1.2)\n",
    "- [Challenges - Medium](#2.)\n",
    "  - [Challenge M1 - Double plot](#2.1)\n",
    "  - [Challenge M2 - Basic Higgs decay data](#2.2)\n",
    "  - [Challenge M3 - Profit margin](#2.3)\n",
    "  - [Challenge M4 - Fitting a potential](#2.4)\n",
    "  - [Challenge M5 - Möbius strip](#2.5)\n",
    "- [Challenges - Hard](#3.)\n",
    "  - [Challenge H1 - Fourier function](#3.1)\n",
    "  - [Challenge H2 - Matrix multiplication](#3.2)"
   ]
  },
  {
   "cell_type": "markdown",
   "id": "7b7154f2",
   "metadata": {},
   "source": [
    "If you need a refresher, a link to the notebook is [here](Data.ipynb)."
   ]
  },
  {
   "cell_type": "markdown",
   "id": "54637748",
   "metadata": {},
   "source": [
    "# 1. Challenges - Easy <a name=\"1.\"></a>"
   ]
  },
  {
   "cell_type": "markdown",
   "id": "23ba731b",
   "metadata": {},
   "source": [
    "## 1.1 Challenge E1 - Area of a triangle <a name=\"1.1\"></a>\n",
    "\n",
    "<hr style=\"border:2px solid gray\">"
   ]
  },
  {
   "cell_type": "markdown",
   "id": "140bb296",
   "metadata": {},
   "source": [
    "An arbitrary triangle can be described by the coordinates of its three vertices $(x_1,y_1), (x_2,y_2), (x_3,y_3)$.  The area of the triangle is given by $A = \\frac{1}{2} \\sqrt{x_2y_3 -x_3y_2 - x_1y_3 + x_3y_1 + x_1y_2 - x_2y_1}$\n",
    "- Write a function that returns the area of a triangle whose vertices are specified by the argument `vertices`, which is a nested list of vertex coordinates. For example, vertices can be $[[0,0],[1,0],[0,2]]$ if the three corners of the triangle have coordinates $(0, 0), (1, 0), (0, 2)$\n",
    "- Test the area function on a triangle with known area\n",
    "- Add a docstring to your function to explain to the user what the arguments of the function need to be and what it is going to return"
   ]
  },
  {
   "cell_type": "markdown",
   "id": "95584383",
   "metadata": {},
   "source": [
    "<details>\n",
    "    <summary>Hint: </summary>\n",
    "    You'll need an array for this, where each element of the array is chosen with a float input.  Since the resulting function will be quite long, it would be best to give the array as short a name as possible.\n",
    "</details>"
   ]
  },
  {
   "cell_type": "code",
   "execution_count": null,
   "id": "b1e145b1",
   "metadata": {},
   "outputs": [],
   "source": []
  },
  {
   "cell_type": "markdown",
   "id": "b2742a44",
   "metadata": {},
   "source": [
    "<hr style=\"border:2px solid gray\">"
   ]
  },
  {
   "cell_type": "markdown",
   "id": "ba982161",
   "metadata": {},
   "source": [
    "## 1.2 Challenge E2 - Parametric plots <a name=\"1.2\"></a>\n",
    "\n",
    "<hr style=\"border:2px solid gray\">"
   ]
  },
  {
   "cell_type": "markdown",
   "id": "695b5723",
   "metadata": {},
   "source": [
    "The Butterfly Curve and Fermat Spiral are said to have beautiful graphical representations.  Using their parametric equations, use `matplotlib` to demonstrate this on separate plots.\n",
    "\n",
    "Butterfly curve: $x = sin(t) \\left[ e^{cos(t)} - 2 \\; cos (4t) + sin^5 \\left( \\frac{t}{12} \\right) \\right] \\; , \\;\n",
    "y = cos(t) \\left[ e^{cos(t)} - 2 \\; cos (4t) + sin^5 \\left( \\frac{t}{12} \\right) \\right]$\n",
    "\n",
    "Fermat Spiral: $x = \\frac{t}{2} cos(t) \\; , \\; y = -\\frac{t}{2} sin(t)$"
   ]
  },
  {
   "cell_type": "markdown",
   "id": "39eff824",
   "metadata": {},
   "source": [
    "<details>\n",
    "    <summary>Hint: </summary>\n",
    "    For trigonometric equations, use $np.sin()$ and $np.cos()$.  For exponentials, use $math.e$.\n",
    "</details>"
   ]
  },
  {
   "cell_type": "code",
   "execution_count": null,
   "id": "dc901496",
   "metadata": {},
   "outputs": [],
   "source": []
  },
  {
   "cell_type": "markdown",
   "id": "c4a58263",
   "metadata": {},
   "source": [
    "[Return to contents](#0.)\n",
    "\n",
    "<hr style=\"border:2px solid gray\">"
   ]
  },
  {
   "cell_type": "markdown",
   "id": "8377eb26",
   "metadata": {},
   "source": [
    "# 2. Challenges - Medium <a name=\"2.\"></a>"
   ]
  },
  {
   "cell_type": "markdown",
   "id": "7a9c8851",
   "metadata": {},
   "source": [
    "## 2.1 Challenge M1 - Double plot <a name=\"2.1\"></a>\n",
    "\n",
    "<hr style=\"border:2px solid gray\">"
   ]
  },
  {
   "cell_type": "markdown",
   "id": "592b8a16",
   "metadata": {},
   "source": [
    "Replicate the plots shown in the figure below.  The two plots should be produced within the same figure."
   ]
  },
  {
   "attachments": {},
   "cell_type": "markdown",
   "id": "0f808407",
   "metadata": {},
   "source": [
    "<CENTER><img src=\"twoplot_ex.png\" style=\"width:80%\"></CENTER>"
   ]
  },
  {
   "cell_type": "markdown",
   "id": "bd8714b2",
   "metadata": {},
   "source": [
    "<details>\n",
    "    <summary>Hint 1: </summary>\n",
    "    The *x* data can be generated using linspace().  Arrows can be rendered with the annotate() function.  In the legends, mathematical text can be generated using LaTeX syntax.\n",
    "</details>"
   ]
  },
  {
   "cell_type": "markdown",
   "id": "0340add7",
   "metadata": {},
   "source": [
    "<details>\n",
    "    <summary>Hint 2: </summary>\n",
    "    Axes in matplotlib are referred to as $spines$; these can be adjusted like so:\n",
    "    \n",
    "    ax1.spines['left'].set_position('center')\n",
    "    ax1.spines['right'].set_color('none')\n",
    "</details>"
   ]
  },
  {
   "cell_type": "markdown",
   "id": "aa5d4e9b",
   "metadata": {},
   "source": [
    "<details>\n",
    "    <summary>Hint 3: </summary>\n",
    "    The intervals along an axis are referred to as $ticks$ and they can also be adjusted as well as labelled:\n",
    "    \n",
    "    ax1.set_yticks(['pos1','pos2','pos3'])\n",
    "    ax1.set_yticklabels([r'pos1',r'pos2',r'pos3'])\n",
    "</details>"
   ]
  },
  {
   "cell_type": "markdown",
   "id": "04c18fa3",
   "metadata": {},
   "source": [
    "<details>\n",
    "    <summary>Hint 4: </summary>\n",
    "    An example of the annotate() function is below:\n",
    "    \n",
    "    ax1.annotate('text', xy=('x','y'), arrowprops=dict(arrowstyle='-',connectionstyle='angle3'), xytext=('x','y'))\n",
    "</details>"
   ]
  },
  {
   "cell_type": "code",
   "execution_count": null,
   "id": "7b16adf5",
   "metadata": {},
   "outputs": [],
   "source": []
  },
  {
   "cell_type": "markdown",
   "id": "6adadccb",
   "metadata": {},
   "source": [
    "<hr style=\"border:2px solid gray\">"
   ]
  },
  {
   "cell_type": "markdown",
   "id": "715fee20",
   "metadata": {},
   "source": [
    "## 2.2 Challenge M2 - Basic Higgs decay data <a name=\"2.2\"></a>\n",
    "\n",
    "<hr style=\"border:2px solid gray\">"
   ]
  },
  {
   "cell_type": "markdown",
   "id": "120a99cd",
   "metadata": {},
   "source": [
    "Higgs bosons will decay into two photons.  Given that the mass of the Higgs is $125 \\; GeV$, write a program to determine which pair of photons could have been produced by a Higgs decay."
   ]
  },
  {
   "cell_type": "markdown",
   "id": "b8df92ed",
   "metadata": {},
   "source": [
    "|            | $E$ (GeV) | $p_x$ (GeV) | $p_y$ (GeV) | $p_z$ (GeV) |\n",
    "|:----------:|:---------:|:-----------:|:-----------:|:-----------:|\n",
    "| $\\gamma_1$ | 8.705     | 1.114       | 1.092       | -3.410      |\n",
    "| $\\gamma_2$ | 6.808     | -5.209      | -14.834     | 7.561       |\n",
    "| $\\gamma_3$ | 4.282     | 1.750       | 3.788       | 6.835       |"
   ]
  },
  {
   "cell_type": "markdown",
   "id": "c45a4a44",
   "metadata": {},
   "source": [
    "<details>\n",
    "    <summary>Hint: </summary>\n",
    "    The formula for invariant mass is given by $M^2 = \\sum\\limits_{i}^{} E^2_i - \\sum\\limits_{i}^{} \\mid \\bar{p}_i \\mid = (E_i + E_j)^2 - (p_{x i} + p_{x j})^2 - (p_{y i} + p_{y j})^2 - (p_{z i} + p_{z j})^2$.\n",
    "You'll need to use the math.isclose() function, which checks whether or not two values are close to each other.  Its arguments are the output value and the value you are hoping to get close to.\n",
    "</details>"
   ]
  },
  {
   "cell_type": "code",
   "execution_count": null,
   "id": "85ecaa00",
   "metadata": {},
   "outputs": [],
   "source": []
  },
  {
   "cell_type": "markdown",
   "id": "b6ca7ba7",
   "metadata": {},
   "source": [
    "<hr style=\"border:2px solid gray\">"
   ]
  },
  {
   "cell_type": "markdown",
   "id": "16565bf9",
   "metadata": {},
   "source": [
    "## 2.3 Challenge M3 - Profit margin <a name=\"2.3\"></a>\n",
    "\n",
    "<hr style=\"border:2px solid gray\">"
   ]
  },
  {
   "cell_type": "markdown",
   "id": "a4988d3d",
   "metadata": {},
   "source": [
    "Using the file ***company_sales_data.csv*** we imported earlier, display the following as graphs:\n",
    "- Display sales data for each individual product as a line graph on a single plot\n",
    "- Read the facewash and facecream sales data as a bar chart on a single plot\n",
    "- Calculate the total sales data for the final year for each product and show using a pie chart, indicating which product generated the most sales income"
   ]
  },
  {
   "cell_type": "code",
   "execution_count": null,
   "id": "2758d782",
   "metadata": {},
   "outputs": [],
   "source": [
    "import pandas as pd\n",
    "\n",
    "df = pd.read_csv(\"company_sales_data.csv\")\n",
    "print(df)"
   ]
  },
  {
   "cell_type": "markdown",
   "id": "429ecb51",
   "metadata": {},
   "source": [
    "For this particular `.csv` file, the unnamed (first) column gives the index of each row, the column `month_number` gives the number of the month (presumably starting from January) and the following columns for individual products give the units of each product sold for each month.  The column `total_units` gives the total units of products sold for each month, and the column `total_profit` gives the total profit gained from product sales for each month."
   ]
  },
  {
   "cell_type": "markdown",
   "id": "e6c0f334",
   "metadata": {},
   "source": [
    "<details>\n",
    "    <summary>Hint: </summary>\n",
    "    You may need to adjust the axes for plot 1, and you'll need to 'shift' the data for both products in opposite 'directions' for plot 2.\n",
    "</details>"
   ]
  },
  {
   "cell_type": "code",
   "execution_count": null,
   "id": "6f4c0568",
   "metadata": {},
   "outputs": [],
   "source": []
  },
  {
   "cell_type": "markdown",
   "id": "ebb48ffc",
   "metadata": {},
   "source": [
    "<hr style=\"border:2px solid gray\">"
   ]
  },
  {
   "cell_type": "markdown",
   "id": "b32e3785",
   "metadata": {},
   "source": [
    "## 2.4 Challenge M4 - Fitting a potential <a name=\"2.4\"></a>\n",
    "\n",
    "<hr style=\"border:2px solid gray\">"
   ]
  },
  {
   "cell_type": "markdown",
   "id": "dd0e15b5",
   "metadata": {},
   "source": [
    "The following data is obtained for a helium dimer - it details the interaction energies at several internuclear separations (in angstrom)."
   ]
  },
  {
   "cell_type": "code",
   "execution_count": null,
   "id": "18b76472",
   "metadata": {},
   "outputs": [],
   "source": [
    "distances = [2.875, 3.0, 3.125, 3.25, 3.375, 3.5, 3.75, 4.0, 4.5, 5.0, 6.0]\n",
    "\n",
    "energies = [0.35334378061169025, -2.7260131253801405, -4.102738968283382, -4.557042640311599, -4.537519193684069, -4.296388508321034, -3.6304745046204117, -3.0205368595885536, -2.1929538006724814, -1.7245616790238782, -1.2500789753171557]"
   ]
  },
  {
   "cell_type": "markdown",
   "id": "90c0f4fe",
   "metadata": {},
   "source": [
    "Fit this data to a Lennard-Jones potential, which is given below.\n",
    "\n",
    "$$V = 4 \\varepsilon \\left( \\left( \\frac{\\sigma}{r} \\right)^{12} - \\left( \\frac{\\sigma}{r} \\right)^6 \\right)$$\n",
    "\n",
    "Obtain estimates for the values of $\\varepsilon$ and $\\sigma$ and plot the data against a fitted Lennard-Jones potential plot."
   ]
  },
  {
   "cell_type": "markdown",
   "id": "af1b69cd",
   "metadata": {},
   "source": [
    "<details>\n",
    "    <summary>Hint: </summary>\n",
    "    The fit parameters obtained using curve_fit() will be in order of the fit function.\n",
    "</details>"
   ]
  },
  {
   "cell_type": "code",
   "execution_count": null,
   "id": "77ef34f1",
   "metadata": {},
   "outputs": [],
   "source": []
  },
  {
   "cell_type": "markdown",
   "id": "97dd7158",
   "metadata": {},
   "source": [
    "[Return to contents](#0.)\n",
    "\n",
    "<hr style=\"border:2px solid gray\">"
   ]
  },
  {
   "cell_type": "markdown",
   "id": "76902dd7",
   "metadata": {},
   "source": [
    "## 2.5 Challenge M5 - Möbius strip <a name=\"2.5\"></a>\n",
    "\n",
    "<hr style=\"border:2px solid gray\">"
   ]
  },
  {
   "cell_type": "markdown",
   "id": "d3b4b5b0",
   "metadata": {},
   "source": [
    "Generate a 3D plot of a Möbius strip, the parametric equations of which are below (for a strip of radius $R$ at a height $z = 0$).\n",
    "\n",
    "$$x = \\left[ R \\; + \\; s \\; cos \\left( \\frac{1}{2} \\; t \\right) \\right] \\; cos(t)$$\n",
    "\n",
    "$$y = \\left[ R \\; + \\; s \\; cos \\left( \\frac{1}{2} \\; t \\right) \\right] \\; sin(t)$$\n",
    "\n",
    "$$z = s \\; sin \\left( \\frac{1}{2} \\; t \\right)$$\n",
    "\n",
    "Here, $-w \\leq s \\leq w$ and $0 \\leq t \\leq 2 \\pi$ where $w$ is the half-width of the strip."
   ]
  },
  {
   "cell_type": "markdown",
   "id": "35dffbe3",
   "metadata": {},
   "source": [
    "<details>\n",
    "    <summary>Hint 1: </summary>\n",
    "    You'll want to use the meshgrid() function from numpy on $s$ and $t$, otherwise your Möbius strip will be too thin.  It creates a 2D grid from two 1D arrays and is used like $x,y = np.meshgrid(x,y)$.  However, you'll need to return $s$ and $t$ to a 1D form to be able to give $x$, $y$ and $z$ in the 1D form they require.  This can be done using the flatten() function from numpy; use it like $x = x.flatten()$.\n",
    "</details>"
   ]
  },
  {
   "cell_type": "markdown",
   "id": "154f36fc",
   "metadata": {},
   "source": [
    "<details>\n",
    "    <summary>Hint 2: </summary>\n",
    "    If you want to make the 'kink' in your Möbius strip more visible, use the following:\n",
    "    Opacity - change the opacity of a line using alpha after the x, y, z arguments. Lower values equate to reduced opacity.  Line effects - You can give a line a 'shadow' like so:\n",
    "    \n",
    "    plt.plot(x,y,z, other_arguments,\n",
    "            path_effects=[path_effects.SimpleLineShadow(),\n",
    "                          path_effects.Normal()])\n",
    "</details>"
   ]
  },
  {
   "cell_type": "code",
   "execution_count": null,
   "id": "f3d8f494",
   "metadata": {},
   "outputs": [],
   "source": []
  },
  {
   "cell_type": "markdown",
   "id": "f4015a4e",
   "metadata": {},
   "source": [
    "[Return to contents](#0.)\n",
    "\n",
    "<hr style=\"border:2px solid gray\">"
   ]
  },
  {
   "cell_type": "markdown",
   "id": "63db71e6",
   "metadata": {},
   "source": [
    "# 3. Challenges - Hard <a name=\"3.\"></a>"
   ]
  },
  {
   "cell_type": "markdown",
   "id": "bad51426",
   "metadata": {},
   "source": [
    "## 3.1 Challenge H1 - Fourier function <a name=\"3.1\"></a>\n",
    "\n",
    "<hr style=\"border:2px solid gray\">"
   ]
  },
  {
   "cell_type": "markdown",
   "id": "ab5db586",
   "metadata": {},
   "source": [
    "A Fourier series in sine and cosine form takes the expression $f(x)=\\frac{a_0}{2}+\\sum\\limits_{n=1}^{\\infty}\\left[ a_n cos \\left( \\frac{n \\pi x}{L} \\right) + b_n sin \\left( \\frac{n \\pi x}{L} \\right) \\right]$.\n",
    "\n",
    "For the square wave, $a_0$ and $b_0$ are found to be *0* whilst $b_n$ is found to be $\\frac{2}{n\\pi}(-1)^{n-1}$.\n",
    "\n",
    "For the sawtooth wave, $a_0$ is found to be $\\frac{\\pi}{2}$, $b_0$ and $a_n$ are found to be *0*, and $b_n$ is found to be $-\\frac{1}{n}$.\n",
    "- Write a user defined function to sum the values up to the $n^{th}$ term of a fourier series to approximate a square wave of the form\n",
    "$$\n",
    "f(x)=\\begin{cases}\n",
    "-1, & \\pi \\leq x \\leq 2\\pi \\\\ \n",
    "1, & 0 \\leq x \\leq \\pi\n",
    "\\end{cases}\n",
    "$$\n",
    "- Modify your program to include a function to sum the values up to the $n^{th}$ term of a fourier series to approximate a saw-tooth wave of the form $f(x)=x$ for $0 \\leq x \\leq \\pi$\n",
    "- Plot both functions for the sum of $n$ up to $9$, $99$ and $999$ as two subplots on the same figure."
   ]
  },
  {
   "cell_type": "markdown",
   "id": "60486367",
   "metadata": {},
   "source": [
    "<details>\n",
    "    <summary>Hint: </summary>\n",
    "    In both cases, you will need a function to determine $b_n$ that will need a user input for $n$ and a square wave/sawtooth wave function involving your function for $b_n$.  Plots can be generated using linspace() to obtain $x$-data and the square wave/sawtooth wave functions for $y$-data.\n",
    "</details>"
   ]
  },
  {
   "cell_type": "code",
   "execution_count": null,
   "id": "6c878cac",
   "metadata": {},
   "outputs": [],
   "source": []
  },
  {
   "cell_type": "markdown",
   "id": "89d070f9",
   "metadata": {},
   "source": [
    "<hr style=\"border:2px solid gray\">"
   ]
  },
  {
   "cell_type": "markdown",
   "id": "5461faf4",
   "metadata": {},
   "source": [
    "## 3.2 Challenge H2 - Matrix multiplication <a name=\"3.2\"></a>\n",
    "\n",
    "<hr style=\"border:2px solid gray\">"
   ]
  },
  {
   "cell_type": "markdown",
   "id": "d4d86412",
   "metadata": {},
   "source": [
    "Write a Python program to perform matrix multiplication on two matrices that are created by user input.\n",
    "\n",
    "The multiplication process of two $2 \\times 2$ matrices $A$ and $B$ is below."
   ]
  },
  {
   "cell_type": "markdown",
   "id": "1d583105",
   "metadata": {},
   "source": [
    "$$\\begin{bmatrix} A_{11} & A_{12} \\\\ A_{21} & A_{22} \\end{bmatrix} \\; \\times \\; \\begin{bmatrix} B_{11} & B_{12} \\\\ B_{21} & B_{22} \\end{bmatrix} \\; = \\; \\begin{bmatrix} A_{11}B_{11} + A_{12}B_{21} & A_{11}B_{12} + A_{12}B_{22} \\\\ A_{21}B_{11} + A_{22}B_{21} & A_{21}B_{12} + a_{22}B_{22} \\end{bmatrix}$$"
   ]
  },
  {
   "cell_type": "markdown",
   "id": "8be034b8",
   "metadata": {},
   "source": [
    "The multiplication process of two $3 \\times 3$ matrices $C$ and $D$ is below."
   ]
  },
  {
   "cell_type": "markdown",
   "id": "8ec1b6f0",
   "metadata": {},
   "source": [
    "$$\\begin{bmatrix} C_{11} & C_{12} & C_{13} \\\\ C_{21} & C_{22} & C_{23} \\\\ C_{31} & C_{32} & C_{33} \\end{bmatrix} \\; \\times \\; \\begin{bmatrix} D_{11} & D_{12} & D_{13} \\\\ D_{21} & D_{22} & D_{23} \\\\ D_{31} & D_{32} & D_{33} \\end{bmatrix} \\; = \\; \\begin{bmatrix} C_{11}D_{11} + C_{12}D_{21} + C_{13}D_{31} & C_{11}D_{12} + C_{12}D_{22} + C_{13}D_{32} & C_{11}D_{13} + C_{12}D_{23} + C_{13}D_{33} \\\\ C_{21}D_{11} + C_{22}D_{21} + C_{23}D_{31} & C_{21}D_{12} + C_{22}D_{22} + C_{23}D_{32} & C_{21}D_{13} + C_{22}D_{23} + C_{23}D_{33} \\\\ C_{31}D_{11} + C_{32}D_{21} + C_{33}D_{31} & C_{31}D_{12} + C_{32}D_{22} + C_{33}D_{32} & C_{31}D_{13} + C_{32}D_{23} + C_{33}D_{33} \\end{bmatrix} $$"
   ]
  },
  {
   "cell_type": "markdown",
   "id": "5ace3c72",
   "metadata": {},
   "source": [
    "To make things easier, each matrix will be square - it will have the same number of rows and columns."
   ]
  },
  {
   "cell_type": "markdown",
   "id": "250bb9c3",
   "metadata": {},
   "source": [
    "<details>\n",
    "    <summary>Hint: </summary>\n",
    "    What do you notice about the indices of each element in the multiplication matrices?  This will be vital for any attempts at multiplication.  You are advised to use control structures, particularly $for$ loops, and will likely need to append to an empty sequenced data type.\n",
    "</details>"
   ]
  },
  {
   "cell_type": "code",
   "execution_count": null,
   "id": "e96bab3f",
   "metadata": {},
   "outputs": [],
   "source": []
  },
  {
   "cell_type": "markdown",
   "id": "5d52f302",
   "metadata": {},
   "source": [
    "[Return to contents](#0.)\n",
    "\n",
    "<hr style=\"border:2px solid gray\">"
   ]
  },
  {
   "cell_type": "markdown",
   "id": "b234483e",
   "metadata": {},
   "source": [
    "There we go!  You can see the worked solutions [here](DataSolutions.ipynb), though there are many ways in which each exercise can be completed."
   ]
  },
  {
   "cell_type": "markdown",
   "id": "ca11d18d",
   "metadata": {},
   "source": [
    "<hr style=\"border:2px solid gray\">"
   ]
  }
 ],
 "metadata": {
  "kernelspec": {
   "display_name": "Python 3 (ipykernel)",
   "language": "python",
   "name": "python3"
  },
  "language_info": {
   "codemirror_mode": {
    "name": "ipython",
    "version": 3
   },
   "file_extension": ".py",
   "mimetype": "text/x-python",
   "name": "python",
   "nbconvert_exporter": "python",
   "pygments_lexer": "ipython3",
   "version": "3.7.6"
  }
 },
 "nbformat": 4,
 "nbformat_minor": 5
}
