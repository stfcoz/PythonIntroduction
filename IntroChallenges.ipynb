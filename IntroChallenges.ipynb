{
 "cells": [
  {
   "cell_type": "markdown",
   "id": "63f16834",
   "metadata": {},
   "source": [
    "# Introductory Python challenges"
   ]
  },
  {
   "cell_type": "markdown",
   "id": "350ca0fe",
   "metadata": {},
   "source": [
    "If you're feeling confident, have a go at these challenges.  They're graded based on how difficult they are, but don't beat yourself up if you find them difficult - that's what challenges are for!"
   ]
  },
  {
   "cell_type": "markdown",
   "id": "2114b8d3",
   "metadata": {},
   "source": [
    "Contents:\n",
    "- [How it works](#1.)\n",
    "- [Challenges - Easy](#2.)\n",
    "  - [Challenge E1 - Modelling a basic orbit](#2.1)\n",
    "  - [Challenge E2 - Monte Carlo integral](#2.2)\n",
    "  - [Challenge E3 - Random password generator](#2.3)\n",
    "  - [Challenge E4 - Simple calculator](#2.4)\n",
    "- [Challenges - Medium](#3.)\n",
    "  - [Challenge M1 - Approximating pi with a polygon](#3.1)\n",
    "  - [Challenge M2 - Monte Carlo estimation of pi](#3.2)\n",
    "  - [Challenge M3 - All prime numbers in a range](#3.3)\n",
    "  - [Challenge M4 - Comprehensive rock-paper-scissors](#3.4)\n",
    "- [Challenges - Hard](#4.)\n",
    "  - [Challenge H1 - Number guessing game](#4.1)\n",
    "  - [Challenge H2 - Caesar cipher](#4.2)\n",
    "  - [Challenge H3 - Polybius square](#4.3)"
   ]
  },
  {
   "cell_type": "markdown",
   "id": "eef59a56",
   "metadata": {},
   "source": [
    "If you need a refresher, a link to the introductory notebook is [here](Intro.ipynb)"
   ]
  },
  {
   "cell_type": "markdown",
   "id": "4a14ab34",
   "metadata": {},
   "source": [
    "# 1. How it works <a name=\"1.\"></a>\n",
    "\n",
    "<hr style=\"border:2px solid gray\">"
   ]
  },
  {
   "cell_type": "markdown",
   "id": "3de094f5",
   "metadata": {},
   "source": [
    "Challenges are grouped into levels of difficulty, each with their own chapter which can be navigated to using the contents area above.  You're not expected to complete any or all of the challenges, or even to complete them - this is all for you to give Python more of a go."
   ]
  },
  {
   "cell_type": "markdown",
   "id": "57754190",
   "metadata": {},
   "source": [
    "Each challenge consists of three sections:\n",
    "- Overview\n",
    "- Hint\n",
    "- Code cell"
   ]
  },
  {
   "cell_type": "markdown",
   "id": "0dfb024c",
   "metadata": {},
   "source": [
    "The *overview* section describes what you want to do, as well as giving a little context to the challenge.  The *hint* section gives a few tips on the advised approach and recommended functions - if any unfamiliar functions and modules are advised, a brief description of how they work is included.  Finally, the code cell is where you can enter any code you've used to attempt an answer.\n",
    "\n",
    "<hr style=\"border:2px solid gray\">"
   ]
  },
  {
   "cell_type": "markdown",
   "id": "11ffc89e",
   "metadata": {},
   "source": [
    "# 2. Challenges - Easy <a name=\"2.\"></a>"
   ]
  },
  {
   "cell_type": "markdown",
   "id": "0dad6622",
   "metadata": {},
   "source": [
    "## 2.1 Challenge E1 - Modelling a basic orbit <a name=\"2.1\"></a>\n",
    "\n",
    "<hr style=\"border:2px solid gray\">"
   ]
  },
  {
   "cell_type": "markdown",
   "id": "9094b21e",
   "metadata": {},
   "source": [
    "A satellite is launched into a circular orbit around Earth such that it orbits once every $T$ seconds.  The altitude $h$ above the Earth’s surface of the satellite is $h = \\left( \\frac{GMT^2}{4\\pi^2} \\right)^{1/3} - R$ where  $G = 6.67 \\times 10^{-11} \\; m^3 \\; kg^{-1} \\; s^{-2}$ is Newton’s gravitational constant, $M = 5.97 \\times 10^{24} \\; kg$ is the mass of the Earth and $R = 6,371 \\; km$ is the radius of Earth.\n",
    "- Write a program that asks the user to enter a desired value of $T$ and then calculates and prints out the correct altitude in metres\n",
    "- Use your program to calculate the altitudes of satellites that orbit Earth once a day (period of 1,440 minutes), once every 90 minutes and once every 45 minutes. What do you conclude from the last of these calculations?"
   ]
  },
  {
   "cell_type": "markdown",
   "id": "dd68c696",
   "metadata": {},
   "source": [
    "<details>\n",
    "    <summary>Hint 1: </summary>\n",
    "    Input your units in minutes but convert them to seconds by multiplying by 60. You will only need the functions float(), input() and print(); the rest are just mathematical operators.\n",
    "</details>"
   ]
  },
  {
   "cell_type": "markdown",
   "id": "fa800511",
   "metadata": {},
   "source": [
    "<details>\n",
    "    <summary>Hint 2: </summary>\n",
    "    You may find it easier to express the term $\\frac{GMT^2}{4\\pi^2}$ as a single variable - perhaps you could call it $x$?\n",
    "</details>"
   ]
  },
  {
   "cell_type": "code",
   "execution_count": null,
   "id": "4f26a7f5",
   "metadata": {},
   "outputs": [],
   "source": []
  },
  {
   "cell_type": "markdown",
   "id": "316e3b81",
   "metadata": {},
   "source": [
    "<hr style=\"border:2px solid gray\">"
   ]
  },
  {
   "cell_type": "markdown",
   "id": "456de8a3",
   "metadata": {},
   "source": [
    "## 2.2 Challenge E2 - Monte Carlo integral <a name=\"2.2\"></a>\n",
    "\n",
    "<hr style=\"border:2px solid gray\">"
   ]
  },
  {
   "cell_type": "markdown",
   "id": "2fa26a1b",
   "metadata": {},
   "source": [
    "Write a Monte Carlo-based code to integrate the function $\\frac{1}{\\sqrt{2\\pi}} e^{-x^2/2}$.  This function represents the standard normal distribution with a mean of 0 and standard deviation of 1.  The expectation value of a function is given by $\\langle f(x) \\rangle = \\frac{1}{l_2 - l_1} \\int\\limits_{l_2}^{l_1}f(x)dx$ where $l_1$ and $l_2$ are the limits of integration; this can be rewritten as $\\frac{l_2 - l_1}{n} \\sum\\limits_{i=1}^{n} f(x_i) = \\int\\limits_{l_2}^{l_1}f(x)dx$ where *n* is the number of random numbers in the Monte Carlo simulation.  Expect a value close to 1.\n",
    "\n",
    "A plot of the function is below."
   ]
  },
  {
   "attachments": {},
   "cell_type": "markdown",
   "id": "0b8020f2",
   "metadata": {},
   "source": [
    "<CENTER><img src=\"normdist.png\" style=\"width:100%\"></CENTER>"
   ]
  },
  {
   "cell_type": "markdown",
   "id": "262ce9c3",
   "metadata": {},
   "source": [
    "<details>\n",
    "    <summary>Hint: </summary>\n",
    "    Your array of random numbers will want to have its limits match those of the integral and its size be equivalent to $n$.  You'll need a function that returns the integrand $f(x)$ - in this case, our function - and to append values to the value of the Monte Carlo integral, which should initially be zero.\n",
    "</details>"
   ]
  },
  {
   "cell_type": "code",
   "execution_count": null,
   "id": "8eb404d9",
   "metadata": {},
   "outputs": [],
   "source": []
  },
  {
   "cell_type": "markdown",
   "id": "ef797ecc",
   "metadata": {},
   "source": [
    "<hr style=\"border:2px solid gray\">"
   ]
  },
  {
   "cell_type": "markdown",
   "id": "fcfd162a",
   "metadata": {},
   "source": [
    "## 2.3 Challenge E3 - Random password generator <a name=\"2.3\"></a>\n",
    "\n",
    "<hr style=\"border:2px solid gray\">"
   ]
  },
  {
   "cell_type": "markdown",
   "id": "afd5ac5f",
   "metadata": {},
   "source": [
    "Write a function that generates 10-character passwords containing at least 2 upper-case letters, 1 digit and 1 special character."
   ]
  },
  {
   "cell_type": "markdown",
   "id": "09db68d1",
   "metadata": {},
   "source": [
    "<details>\n",
    "    <summary>Hint 1: </summary>\n",
    "    You will need the ascii_letters(), ascii_uppercase(), digits() and punctuation() functions from $string$ to generate the appropriate characters.\n",
    "</details>"
   ]
  },
  {
   "cell_type": "markdown",
   "id": "103e2b8e",
   "metadata": {},
   "source": [
    "<details>\n",
    "    <summary>Hint 2: </summary>\n",
    "    The sample() (arguments *input, length*) and shuffle() (arguments *input*) functions from $string$, alongside the join() function, will also come in handy\n",
    "</details>"
   ]
  },
  {
   "cell_type": "code",
   "execution_count": null,
   "id": "3e0231f0",
   "metadata": {},
   "outputs": [],
   "source": []
  },
  {
   "cell_type": "markdown",
   "id": "e3f7479f",
   "metadata": {},
   "source": [
    "<hr style=\"border:2px solid gray\">"
   ]
  },
  {
   "cell_type": "markdown",
   "id": "d900b027",
   "metadata": {},
   "source": [
    "## 2.4 Challenge E4 - Simple calculator <a name=\"2.4\"></a>\n",
    "\n",
    "<hr style=\"border:2px solid gray\">"
   ]
  },
  {
   "cell_type": "markdown",
   "id": "0c807498",
   "metadata": {},
   "source": [
    "Write a class containing UDFs that perform the following:\n",
    "- Addition\n",
    "- Subtraction\n",
    "- Multiplication\n",
    "- Division\n",
    "- Exponentiating\n",
    "- Modulo\n",
    "- Floor division"
   ]
  },
  {
   "cell_type": "markdown",
   "id": "b50636ae",
   "metadata": {},
   "source": [
    "<details>\n",
    "    <summary>Hint: </summary>\n",
    "    You'll want to print the operation options before any input boxes are called.  You'll definitely need an $elif$ loop as well.\n",
    "</details>"
   ]
  },
  {
   "cell_type": "code",
   "execution_count": null,
   "id": "eac3e300",
   "metadata": {},
   "outputs": [],
   "source": []
  },
  {
   "cell_type": "markdown",
   "id": "ac15005d",
   "metadata": {},
   "source": [
    "<hr style=\"border:2px solid gray\">"
   ]
  },
  {
   "cell_type": "markdown",
   "id": "4fdb8d2a",
   "metadata": {},
   "source": [
    "# 3. Challenges - Medium <a name=\"3.\"></a>"
   ]
  },
  {
   "cell_type": "markdown",
   "id": "f8a87b66",
   "metadata": {},
   "source": [
    "## 3.1 Challenge M1 - Approximating pi with a polygon <a name=\"3.1\"></a>\n",
    "\n",
    "<hr style=\"border:2px solid gray\">"
   ]
  },
  {
   "cell_type": "markdown",
   "id": "b1587ee0",
   "metadata": {},
   "source": [
    "The value of π equals the circumference of a circle of radius $\\frac{1}{2}$ units.  Suppose we approximate the circumference by a polygon through $N + 1$ points on the circle. The length of this polygon can be found using a function called `pathlength(x,y)`.\n",
    "- Compute $N + 1$ points (x i , y i ) along a circle with radius $\\frac{1}{2}$ according to the formulae $x_i = \\frac{1}{2} cos \\left( \\frac{2\\pi i}{N} \\right)$, $y_i = \\frac{1}{2} sin \\left( \\frac{2\\pi i}{N} \\right)$, $i = 0, ... N$\n",
    "- Call your `pathlength(x,y)` function and write out the error in the approximation of $\\pi$ for $N = 2^k$ ; $k = 2,3, ... 10$"
   ]
  },
  {
   "cell_type": "markdown",
   "id": "53c9a10e",
   "metadata": {},
   "source": [
    "<details>\n",
    "    <summary>Hint: </summary>\n",
    "    You'll need to write two functions, one for constructing the circle with the $N+1$-sided polygon and one for finding the pathlength.  This will involve appending to a list - we've covered a 'structure' that is best used for this...\n",
    "</details>"
   ]
  },
  {
   "cell_type": "code",
   "execution_count": null,
   "id": "f732672e",
   "metadata": {},
   "outputs": [],
   "source": []
  },
  {
   "cell_type": "markdown",
   "id": "da01cf36",
   "metadata": {},
   "source": [
    "<hr style=\"border:2px solid gray\">"
   ]
  },
  {
   "cell_type": "markdown",
   "id": "b64e2d7f",
   "metadata": {},
   "source": [
    "## 3.2 Challenge M2 - Monte Carlo estimation of pi <a name=\"3.2\"></a>\n",
    "\n",
    "<hr style=\"border:2px solid gray\">"
   ]
  },
  {
   "cell_type": "markdown",
   "id": "73e3f38d",
   "metadata": {},
   "source": [
    "Following the stages below, write a program that uses a Monte Carlo simulation to estimate a value for $\\pi$\n",
    "- A simple algorithm to determine the desired value is produced, in this case the ratio between the area of a circle inscribed in a square and the area of the square is evaluated, $\\pi R^2 = 4 R^2$; that is, does the dart land within the board or not?\n",
    "- An event is generated using random numbers to identify a position within the square\n",
    "- A simple accept/reject rule is applied to determine whether the event lies within the circle or not\n",
    "- As the number of events increases, the uncertainty in the value of $\\pi$ decreases, until an acceptable level is reached\n",
    "- Print the relative error $\\frac{\\pi_{approx} - \\pi}{\\pi}$\n",
    "\n",
    "\n",
    "Run your code for different numbers of *n* and see what you get."
   ]
  },
  {
   "cell_type": "markdown",
   "id": "12049e95",
   "metadata": {},
   "source": [
    "<details>\n",
    "    <summary>Hint: </summary>\n",
    "    A Monte Carlo simulation basically involves throwing random numbers at some 'framework' of code and seeing the result.  You'll want a module that generates random numbers for your $x$ and $y$ values.  You'll also need to count the number of points inside the circle and compare this to the number of points outside.  Try appending the results of each count to an empty list.\n",
    "</details>"
   ]
  },
  {
   "cell_type": "code",
   "execution_count": null,
   "id": "0f8c98e9",
   "metadata": {},
   "outputs": [],
   "source": []
  },
  {
   "cell_type": "markdown",
   "id": "980c6ee6",
   "metadata": {},
   "source": [
    "<hr style=\"border:2px solid gray\">"
   ]
  },
  {
   "cell_type": "markdown",
   "id": "50eb23cf",
   "metadata": {},
   "source": [
    "## 3.3 Challenge M3 - All prime numbers in a range <a name=\"3.3\"></a>\n",
    "\n",
    "<hr style=\"border:2px solid gray\">"
   ]
  },
  {
   "cell_type": "markdown",
   "id": "d8b13eb1",
   "metadata": {},
   "source": [
    "Write a program to display all prime numbers within a given range."
   ]
  },
  {
   "cell_type": "markdown",
   "id": "5895ec26",
   "metadata": {},
   "source": [
    "<details>\n",
    "    <summary>Hint: </summary>\n",
    "    Remember - 1 is not a prime number! You can use the modulo operator $%$ to check for remainders when dividing through by potential factors.  Using $for$ loops should make this challenge easier.\n",
    "</details>"
   ]
  },
  {
   "cell_type": "code",
   "execution_count": null,
   "id": "d01a5e34",
   "metadata": {},
   "outputs": [],
   "source": []
  },
  {
   "cell_type": "markdown",
   "id": "2503af3b",
   "metadata": {},
   "source": [
    "<hr style=\"border:2px solid gray\">"
   ]
  },
  {
   "cell_type": "markdown",
   "id": "94268ff1",
   "metadata": {},
   "source": [
    "## 3.4 Challenge M4 - Comprehensive rock-paper-scissors <a name=\"3.4\"></a>\n",
    "\n",
    "<hr style=\"border:2px solid gray\">"
   ]
  },
  {
   "cell_type": "markdown",
   "id": "fe13b1f0",
   "metadata": {},
   "source": [
    "Create a game of rock-paper-scissors that is able to identify which player has won a game and can run for more than 1 game unless commanded otherwise."
   ]
  },
  {
   "cell_type": "markdown",
   "id": "3a44ef89",
   "metadata": {},
   "source": [
    "<details>\n",
    "    <summary>Hint 1: </summary>\n",
    "    It will help to store the inputs as numerical values - dict.get() will help to retrieve these values.\n",
    "</details>"
   ]
  },
  {
   "cell_type": "markdown",
   "id": "82899641",
   "metadata": {},
   "source": [
    "<details>\n",
    "    <summary>Hint 2: </summary>\n",
    "    The $in$ operator will return $True$ if it finds a particular value within a sequence and $False$ otherwise.  See below.\n",
    "    \n",
    "    list1 = [1,2,3,4,5]\n",
    "    string1 = \"A beginning is a delicate time\"\n",
    "    tuple1 =(11,22,33,44)\n",
    " \n",
    "    print(5 in list1)\n",
    "    print(\"is\" in string1)\n",
    "    print(88 in tuple1)\n",
    "</details>"
   ]
  },
  {
   "cell_type": "markdown",
   "id": "eb8eb179",
   "metadata": {},
   "source": [
    "<details>\n",
    "    <summary>Hint 3: </summary>\n",
    "    The $continue$ statement is the opposite of the $break$ statement as it allows a loop to repeat itself after being passed instead of forcing it to halt.\n",
    "</details>"
   ]
  },
  {
   "cell_type": "code",
   "execution_count": null,
   "id": "d0d48d4a",
   "metadata": {},
   "outputs": [],
   "source": []
  },
  {
   "cell_type": "markdown",
   "id": "fa4d8089",
   "metadata": {},
   "source": [
    "<hr style=\"border:2px solid gray\">"
   ]
  },
  {
   "cell_type": "markdown",
   "id": "3e8ab799",
   "metadata": {},
   "source": [
    "# 4. Challenges - Hard <a name=\"4.\"></a>"
   ]
  },
  {
   "cell_type": "markdown",
   "id": "4ebb9a23",
   "metadata": {},
   "source": [
    "## 4.1 Challenge H1 - Number guessing game <a name=\"4.1\"></a>\n",
    "\n",
    "<hr style=\"border:2px solid gray\">"
   ]
  },
  {
   "cell_type": "markdown",
   "id": "358f17a7",
   "metadata": {},
   "source": [
    "Create a number guessing game in which an upper and lower bound is entered and the number of guesses computed from these inputs."
   ]
  },
  {
   "cell_type": "markdown",
   "id": "92024904",
   "metadata": {},
   "source": [
    "<details>\n",
    "    <summary>Hint: </summary>\n",
    "    Any way of computing the number of guesses is fine, though we recommend the log() function from $math$ - it takes arguments number, base and returns the logarithm of the number to the specified base. You'll definitely need the $randint$ module from the $random$ library, which generates a random integer between a given lower and upper bound. Finally, you'll likely be using a $while$ loop - an $elif$ ladder could be handy as well.\n",
    "</details>"
   ]
  },
  {
   "cell_type": "code",
   "execution_count": null,
   "id": "b662b996",
   "metadata": {},
   "outputs": [],
   "source": []
  },
  {
   "cell_type": "markdown",
   "id": "c7849caa",
   "metadata": {},
   "source": [
    "<hr style=\"border:2px solid gray\">"
   ]
  },
  {
   "cell_type": "markdown",
   "id": "2c003eaa",
   "metadata": {},
   "source": [
    "## 4.2 Challenge H2 - Caesar cipher <a name=\"4.2\"></a>\n",
    "\n",
    "<hr style=\"border:2px solid gray\">"
   ]
  },
  {
   "cell_type": "markdown",
   "id": "ff303b36",
   "metadata": {},
   "source": [
    "A Caesar cipher (named after Julius Caesar) is a simple cipher in which every letter in a message is shifted by a certain number of letters; for instance, a shift of 2 implies that the letter \"B\" becomes \"D\" and the letter \"F\" becomes \"H\".  Write a program to encrypt a message using a Caesar cipher with a specified degree of letter shifting.  If you're feeling confident, write a *class* that both encrypts a message (preferably with a specified degree of shift) and decrypts an encrypted message (provided a degree of shift)."
   ]
  },
  {
   "cell_type": "markdown",
   "id": "fdfc78fc",
   "metadata": {},
   "source": [
    "<details>\n",
    "    <summary>Hint 1: </summary>\n",
    "    You'll need to append to an empty list in order to create your encrypted message.\n",
    "</details>"
   ]
  },
  {
   "cell_type": "markdown",
   "id": "872140b8",
   "metadata": {},
   "source": [
    "<details>\n",
    "    <summary>Hint 2: </summary>\n",
    "    The ascii_lowercase() function from the $string$ module will give a string of ordered alphabetical characters.\n",
    "</details>"
   ]
  },
  {
   "cell_type": "markdown",
   "id": "4cefeb7a",
   "metadata": {},
   "source": [
    "<details>\n",
    "    <summary>Hint 3: </summary>\n",
    "    $string$ also contains the find() function, which returns the index of first occurrence of a specified character.  Its arguments are $value, start, end$.\n",
    "</details>"
   ]
  },
  {
   "cell_type": "markdown",
   "id": "7c4b369c",
   "metadata": {},
   "source": [
    "<details>\n",
    "    <summary>Hint 4: </summary>\n",
    "    Finally, the join() function (also from $string$) allows you to join all items in a tuple into a string.  You can also specify the separating character.\n",
    "</details>"
   ]
  },
  {
   "cell_type": "code",
   "execution_count": null,
   "id": "9d27a9da",
   "metadata": {},
   "outputs": [],
   "source": []
  },
  {
   "cell_type": "markdown",
   "id": "f16868a4",
   "metadata": {},
   "source": [
    "<hr style=\"border:2px solid gray\">"
   ]
  },
  {
   "cell_type": "markdown",
   "id": "84179cd6",
   "metadata": {},
   "source": [
    "## 4.3 Challenge H3 - Polybius square <a name=\"4.3\"></a>\n",
    "\n",
    "<hr style=\"border:2px solid gray\">"
   ]
  },
  {
   "cell_type": "markdown",
   "id": "8fdf4bfb",
   "metadata": {},
   "source": [
    "The so-called Polybius square is another ancient cipher, though somewhat more complex than the Caesar cipher in *Challenge 7*.  A 25-letter alphabet (the letter J is typically dropped) is put into a $5 \\times 5$ grid, the rows and columns of which are numbered 1 through 5.  A basic Polybius square is below."
   ]
  },
  {
   "attachments": {},
   "cell_type": "markdown",
   "id": "19296799",
   "metadata": {},
   "source": [
    "<CENTER><img src=\"Polybius.png\" style=\"width:20%\"></CENTER>"
   ]
  },
  {
   "cell_type": "markdown",
   "id": "75cde3c6",
   "metadata": {},
   "source": [
    "In this case, 'A' will correspond to $11$, 'B' will correspond to $12$, 'F' will correspond to $21$ etc."
   ]
  },
  {
   "attachments": {},
   "cell_type": "markdown",
   "id": "d69e586b",
   "metadata": {},
   "source": [
    "<CENTER><img src=\"Polybius2.png\" style=\"width:20%\"></CENTER>"
   ]
  },
  {
   "cell_type": "markdown",
   "id": "e0834842",
   "metadata": {},
   "source": [
    "Write a program to encrypt a message with a Polybius square, and another to decrypt it.  If you're feeling confident, wrap these up into a class."
   ]
  },
  {
   "cell_type": "markdown",
   "id": "b7bf3de8",
   "metadata": {},
   "source": [
    "<details>\n",
    "    <summary>Hint 1: </summary>\n",
    "    You can visualise a Polybius square as a 'trail' of letters, rather like a snake.  You'll find the functions append() and find() very useful here.\n",
    "</details>"
   ]
  },
  {
   "cell_type": "markdown",
   "id": "90cddc17",
   "metadata": {},
   "source": [
    "<details>\n",
    "    <summary>Hint 2: </summary>\n",
    "    The divmod() function takes arguments $input 1, input 2$ and returns the quotient (division) and remainder.  For arguments $x$ and $y$ it returns x // y and x % y.  For instance, divmod(8,3) gives $2,2$ as the result of 8 // 3 is $2$ with remainder (8 % 3) $2$.\n",
    "</details>"
   ]
  },
  {
   "cell_type": "code",
   "execution_count": null,
   "id": "a501b091",
   "metadata": {},
   "outputs": [],
   "source": []
  },
  {
   "cell_type": "markdown",
   "id": "55807cd6",
   "metadata": {},
   "source": [
    "<hr style=\"border:2px solid gray\">"
   ]
  },
  {
   "cell_type": "markdown",
   "id": "30a51b44",
   "metadata": {},
   "source": [
    "Nicely done!  You can see the worked solutions [here](IntroSolutions.ipynb), though there are many ways in which each exercise can be completed."
   ]
  },
  {
   "cell_type": "markdown",
   "id": "47fa1a4b",
   "metadata": {},
   "source": [
    "<hr style=\"border:2px solid gray\">"
   ]
  }
 ],
 "metadata": {
  "kernelspec": {
   "display_name": "Python 3 (ipykernel)",
   "language": "python",
   "name": "python3"
  },
  "language_info": {
   "codemirror_mode": {
    "name": "ipython",
    "version": 3
   },
   "file_extension": ".py",
   "mimetype": "text/x-python",
   "name": "python",
   "nbconvert_exporter": "python",
   "pygments_lexer": "ipython3",
   "version": "3.7.6"
  }
 },
 "nbformat": 4,
 "nbformat_minor": 5
}
