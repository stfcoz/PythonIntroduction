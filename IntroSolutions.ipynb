{
 "cells": [
  {
   "cell_type": "markdown",
   "id": "3ec0e4b8",
   "metadata": {},
   "source": [
    "# Solutions to the introductory challenges"
   ]
  },
  {
   "cell_type": "markdown",
   "id": "1e077a46",
   "metadata": {},
   "source": [
    "Want to see how you did?  Find out here!  If you haven't attempted any of the challenges, then you'll still find this notebook useful - it will give you some guidance on how you can perform more complex tasks using Python."
   ]
  },
  {
   "cell_type": "markdown",
   "id": "98a2d513",
   "metadata": {},
   "source": [
    "Contents:\n",
    "- [Solutions - Easy]\n",
    "  - [E1 solution - Part 1]\n",
    "  - [E1 solution - Part 2]\n",
    "  - [E2 solution]\n",
    "  - [E3 solution]\n",
    "  - [E4 solution]\n",
    "- [Solutions - Medium]\n",
    "  - [M1 solution]\n",
    "  - [M2 solution]\n",
    "  - [M3 solution]\n",
    "  - [M4 solution]\n",
    "- [Solutions - Hard]\n",
    "  - [H1 solution]\n",
    "  - [H2 solution]\n",
    "  - [H3 solution]"
   ]
  },
  {
   "cell_type": "markdown",
   "id": "9869653b",
   "metadata": {},
   "source": [
    "# 1. Solutions - Easy"
   ]
  },
  {
   "cell_type": "markdown",
   "id": "7f943a19",
   "metadata": {},
   "source": [
    "### 1.1.1 E1 solution - Part 1"
   ]
  },
  {
   "cell_type": "markdown",
   "id": "1b950c20",
   "metadata": {},
   "source": [
    "The first step is to define our constants using strings:"
   ]
  },
  {
   "cell_type": "code",
   "execution_count": null,
   "id": "03444aab",
   "metadata": {},
   "outputs": [],
   "source": [
    "G = 6.67 * 10**-11\n",
    "M = 5.97 * 10**24\n",
    "R = 6.371 * 10**6"
   ]
  },
  {
   "cell_type": "markdown",
   "id": "191f5382",
   "metadata": {},
   "source": [
    "We can define the time in minutes using the `input` and `float` functions and multiplying by 60:"
   ]
  },
  {
   "cell_type": "code",
   "execution_count": null,
   "id": "68605ccc",
   "metadata": {},
   "outputs": [],
   "source": [
    "T = float(input(\"Time period (min): \"))*60"
   ]
  },
  {
   "cell_type": "markdown",
   "id": "5e0453ac",
   "metadata": {},
   "source": [
    "Now we write our law:"
   ]
  },
  {
   "cell_type": "code",
   "execution_count": null,
   "id": "24af26a1",
   "metadata": {},
   "outputs": [],
   "source": [
    "import math\n",
    "\n",
    "x = (G * M * (T**2))/(4 * (math.pi**2))\n",
    "h = x**(1/3) - R"
   ]
  },
  {
   "cell_type": "markdown",
   "id": "62ff59ef",
   "metadata": {},
   "source": [
    "Finally, we convert *h* to kilometres and print the result with units:"
   ]
  },
  {
   "cell_type": "code",
   "execution_count": null,
   "id": "9e339e5d",
   "metadata": {},
   "outputs": [],
   "source": [
    "alt = round((h/1000),3)\n",
    "print(alt, \"km\")"
   ]
  },
  {
   "cell_type": "markdown",
   "id": "29a58527",
   "metadata": {},
   "source": [
    "As you can see, each code cell actually remembers the above contents, to an extent.  However, it would be best to simply compile our code and run it in a single cell:"
   ]
  },
  {
   "cell_type": "code",
   "execution_count": null,
   "id": "1834b286",
   "metadata": {},
   "outputs": [],
   "source": [
    "import math\n",
    "\n",
    "G = 6.67 * 10**-11\n",
    "M = 5.97 * 10**24\n",
    "R = 6.371 * 10**6\n",
    "\n",
    "T = float(input(\"Time period (min): \"))*60\n",
    "x = (G * M * (T**2))/(4 * (math.pi**2))\n",
    "h = x**(1/3) - R\n",
    "alt = round((h/1000),3)\n",
    "print(alt, \"km\")"
   ]
  },
  {
   "cell_type": "markdown",
   "id": "b992c0b9",
   "metadata": {},
   "source": [
    "It's good habit to separate multiple lines of code into their respective purposes.  Here, the first section of code is to import the relevant modules (in this case, the `math` module), the second section is to define the necessary constants, and the third section is to give the process carried out by the code itself."
   ]
  },
  {
   "cell_type": "markdown",
   "id": "a68b0e33",
   "metadata": {},
   "source": [
    "### 1.1.2 E1 solution - Part 2"
   ]
  },
  {
   "cell_type": "markdown",
   "id": "558cd493",
   "metadata": {},
   "source": [
    "A time period of 1 day or 1,440 minutes gives an altitude of 35,855.91 km; this is the altitude of *geostationary orbit* around Earth, where an orbiting body is above the same point continually.  A period of 90 minutes gives an altitude of 279.322 km, which is a Low Earth Orbit or LEO.  Finally, a period of 45 minutes gives an altitude of -2,181.56 km - this means our satellite would actually be orbiting below the Earth's surface!"
   ]
  },
  {
   "cell_type": "markdown",
   "id": "1b1e762a",
   "metadata": {},
   "source": [
    "## 1.2 E2 solution"
   ]
  },
  {
   "cell_type": "markdown",
   "id": "1b838073",
   "metadata": {},
   "source": [
    "The first step is to import the various modules we’ll need."
   ]
  },
  {
   "cell_type": "code",
   "execution_count": null,
   "id": "f95450b4",
   "metadata": {},
   "outputs": [],
   "source": [
    "from scipy import random\n",
    "import numpy as np\n",
    "import math"
   ]
  },
  {
   "cell_type": "markdown",
   "id": "b3dbb094",
   "metadata": {},
   "source": [
    "Now we define our limits and the number of random numbers.  One million random numbers should give a fairly accurate result with minimal processing time."
   ]
  },
  {
   "cell_type": "code",
   "execution_count": null,
   "id": "9df5e9fb",
   "metadata": {},
   "outputs": [],
   "source": [
    "l1=-5\n",
    "l2=5\n",
    "n=1000000"
   ]
  },
  {
   "cell_type": "markdown",
   "id": "962b4a1d",
   "metadata": {},
   "source": [
    "Now we create an array of length *n* filled within random numbers between the limits of integration and define a function that returns the integrand."
   ]
  },
  {
   "cell_type": "code",
   "execution_count": null,
   "id": "9aa1a184",
   "metadata": {},
   "outputs": [],
   "source": [
    "randx=random.uniform(l1,l2,n)\n",
    "\n",
    "def func(x):\n",
    "    return ((1/np.sqrt(2*np.pi))*np.exp(-(x**2)/2))"
   ]
  },
  {
   "cell_type": "markdown",
   "id": "dc8acaa0",
   "metadata": {},
   "source": [
    "We set the initial value of our Monte Carlo integral to zero and apply the integrand to one of the random numbers, then append the result to our integral's value."
   ]
  },
  {
   "cell_type": "code",
   "execution_count": null,
   "id": "16959158",
   "metadata": {},
   "outputs": [],
   "source": [
    "int=0.0\n",
    "\n",
    "for i in range(n):\n",
    "    int+=func(randx[i])"
   ]
  },
  {
   "cell_type": "markdown",
   "id": "f57d1c5d",
   "metadata": {},
   "source": [
    "We multiply the resulting integral by the appropriate coefficient then print the result."
   ]
  },
  {
   "cell_type": "code",
   "execution_count": null,
   "id": "d8e38930",
   "metadata": {},
   "outputs": [],
   "source": [
    "res=((l2-l1)/float(n))*int\n",
    "print(\"The integral from x = -5 to x = 5: \", res)"
   ]
  },
  {
   "cell_type": "markdown",
   "id": "56759c07",
   "metadata": {},
   "source": [
    "Putting it all together:"
   ]
  },
  {
   "cell_type": "code",
   "execution_count": null,
   "id": "f2345e45",
   "metadata": {},
   "outputs": [],
   "source": [
    "from scipy import random\n",
    "import numpy as np\n",
    "import math\n",
    "\n",
    "l1=-5\n",
    "l2=5\n",
    "n=100000 # The highest value that runs at a reasonable speed\n",
    "\n",
    "randx=random.uniform(l1,l2,n)\n",
    "\n",
    "def func(x):\n",
    "    return ((1/np.sqrt(2*np.pi))*np.exp(-(x**2)/2))\n",
    "\n",
    "int=0.0\n",
    "\n",
    "for i in range(n):\n",
    "    int+=func(randx[i])\n",
    "\n",
    "res=((l2-l1)/float(n))*int\n",
    "print(\"The integral from x = -5 to x = 5 has a value of\", round(res,7))"
   ]
  },
  {
   "cell_type": "markdown",
   "id": "a366de7e",
   "metadata": {},
   "source": [
    "## 1.2 E3 solution"
   ]
  },
  {
   "cell_type": "markdown",
   "id": "84b1fefa",
   "metadata": {},
   "source": [
    "To make life easier, we can group our various alphabetical characters (`ascii_letters`), numbers (`digits`) and special characters (`punctuation`).  This would best be done within a UDF.\n",
    "\n",
    "With 2 uppercase characters, 1 number and 1 special character removed, the bulk of our password will be 6 characters long.  It is here that the grouping mentioned prior can be used - simply use the `sample` function to return any 6 items from the group."
   ]
  },
  {
   "cell_type": "code",
   "execution_count": null,
   "id": "94ff288e",
   "metadata": {},
   "outputs": [],
   "source": [
    "source = string.ascii_letters + string.digits + string.punctuation\n",
    "pwd = random.sample(source, 6)"
   ]
  },
  {
   "cell_type": "markdown",
   "id": "acb0710f",
   "metadata": {},
   "source": [
    "Now for the uppercase characters, which are generated using `ascii_uppercase` from `string` - this must be done separately because.  We again use `sample` to return 2 items from the list of uppercase alphabetical characters and append them to our password."
   ]
  },
  {
   "cell_type": "code",
   "execution_count": null,
   "id": "82212bc0",
   "metadata": {},
   "outputs": [],
   "source": [
    "pwd += random.sample(string.ascii_uppercase, 2)"
   ]
  },
  {
   "cell_type": "markdown",
   "id": "e7a4ae7d",
   "metadata": {},
   "source": [
    "Now, there is no guarantee that sampling our group of lowercase letters, numbers and special characters will return anything other than lowercase letters.  This means we must sample from numbers and special characters independently, then append the results to our password.  If our lowercase sample does actually include numbers and special characters, this won't be an issue.  Notice the specification 'at least' when referring to uppercase letters, numbers and special characters - this means we can always use more than the given amounts."
   ]
  },
  {
   "cell_type": "code",
   "execution_count": null,
   "id": "1db015d8",
   "metadata": {},
   "outputs": [],
   "source": [
    "pwd += random.sample(string.digits, 1)\n",
    "pwd += random.sample(string.punctuation, 1)"
   ]
  },
  {
   "cell_type": "markdown",
   "id": "6fc39de3",
   "metadata": {},
   "source": [
    "Though our password will meet all the given requirements, it's not quite finished.  It willll have a constant order, making it significantly easier to guess.  We must therefore `shuffle` it, which requires a list."
   ]
  },
  {
   "cell_type": "code",
   "execution_count": null,
   "id": "10d6ccdc",
   "metadata": {},
   "outputs": [],
   "source": [
    "pwdList = list(pwd)\n",
    "random.shuffle(pwdList)"
   ]
  },
  {
   "cell_type": "markdown",
   "id": "028287c7",
   "metadata": {},
   "source": [
    "We now technically have a password.  Let's see what happens if we print it in the current form:"
   ]
  },
  {
   "cell_type": "code",
   "execution_count": null,
   "id": "a3c60ee9",
   "metadata": {},
   "outputs": [],
   "source": [
    "import random\n",
    "import string\n",
    "\n",
    "def Password():\n",
    "    source = string.ascii_letters + string.digits + string.punctuation\n",
    "    pwd = random.sample(source, 6)\n",
    "    pwd += random.sample(string.ascii_uppercase, 2)\n",
    "    pwd += random.sample(string.digits, 1)\n",
    "    pwd += random.sample(string.punctuation, 1)\n",
    "\n",
    "    pwdList = list(pwd)\n",
    "    random.shuffle(pwdList)\n",
    "    return pwd\n",
    "\n",
    "print(\"Password is \", Password())"
   ]
  },
  {
   "cell_type": "markdown",
   "id": "5ec252e6",
   "metadata": {},
   "source": [
    "You may notice that we have a tuple, which doesn't make for the easiest reading.  What we're after is a line of characters, such as `bHpkH7C;g/`.  We must therefore convert our tuple into a string.  This is best done by defining an empty string, then using the `join` function from `string` to append each element in our tuple into a list.  As we do not want delimiting characters, we specify `''` in front of our `.join` function."
   ]
  },
  {
   "cell_type": "code",
   "execution_count": null,
   "id": "4af550d4",
   "metadata": {},
   "outputs": [],
   "source": [
    "pwd = ''.join(pwdList)"
   ]
  },
  {
   "cell_type": "markdown",
   "id": "4e6b7c0c",
   "metadata": {},
   "source": [
    "The full code is below."
   ]
  },
  {
   "cell_type": "code",
   "execution_count": null,
   "id": "958edec2",
   "metadata": {},
   "outputs": [],
   "source": [
    "import random\n",
    "import string\n",
    "\n",
    "def Password():\n",
    "    source = string.ascii_letters + string.digits + string.punctuation\n",
    "    pwd = random.sample(source, 6)\n",
    "    pwd += random.sample(string.ascii_uppercase, 2)\n",
    "    pwd += random.sample(string.digits, 1)\n",
    "    pwd += random.sample(string.punctuation, 1)\n",
    "\n",
    "    pwdList = list(pwd)\n",
    "    random.shuffle(pwdList)\n",
    "    pwd = ''.join(pwdList)\n",
    "    return pwd\n",
    "\n",
    "print(\"Password is \", Password())"
   ]
  },
  {
   "cell_type": "markdown",
   "id": "bf0ce742",
   "metadata": {},
   "source": [
    "## 1.4 E4 solution"
   ]
  },
  {
   "cell_type": "markdown",
   "id": "25f7d841",
   "metadata": {},
   "source": [
    "First we write the necessary input boxes."
   ]
  },
  {
   "cell_type": "code",
   "execution_count": null,
   "id": "0cdee6cb",
   "metadata": {},
   "outputs": [],
   "source": [
    "n1 = int(input(\"Enter first number: \"))\n",
    "n2 = int(input(\"Enter second number: \"))\n",
    "op = input(\"Enter operation: \")"
   ]
  },
  {
   "cell_type": "markdown",
   "id": "3b31e92f",
   "metadata": {},
   "source": [
    "Now we print the available operations.  To make them obvious, let's go for a bullet point setup."
   ]
  },
  {
   "cell_type": "code",
   "execution_count": null,
   "id": "d1fad152",
   "metadata": {},
   "outputs": [],
   "source": [
    " print('''Available operations:\n",
    "         - Addition (+)\n",
    "         - Subtraction (-)\n",
    "         - Multiplication (*)\n",
    "         - Division (/)\n",
    "         - Exponential (**)\n",
    "         - Modulo (%)\n",
    "         - Floor division (//)''')"
   ]
  },
  {
   "cell_type": "markdown",
   "id": "cdb5580a",
   "metadata": {},
   "source": [
    "Now we define a simple UDF for each operation."
   ]
  },
  {
   "cell_type": "code",
   "execution_count": null,
   "id": "918b33f4",
   "metadata": {},
   "outputs": [],
   "source": [
    "def add(n1,n2):\n",
    "    return n1 + n2\n",
    "    \n",
    "def sub(n1,n2):\n",
    "    return n1 - n2\n",
    "    \n",
    "def mul(n1,n2):\n",
    "    return n1 * n2\n",
    "    \n",
    "def div(n1,n2):\n",
    "    return n1 / n2\n",
    "    \n",
    "def exp(n1,n2):\n",
    "    return n1**n2\n",
    "    \n",
    "def mod(n1,n2):\n",
    "    return n1 % n2\n",
    "    \n",
    "def flr(n1,n2):\n",
    "    return n1 // n2"
   ]
  },
  {
   "cell_type": "markdown",
   "id": "2c8cad7d",
   "metadata": {},
   "source": [
    "We use an `elif` loop to distinguish between operator inputs and call the necessary functions."
   ]
  },
  {
   "cell_type": "code",
   "execution_count": null,
   "id": "bf46cb9a",
   "metadata": {},
   "outputs": [],
   "source": [
    "res = 0\n",
    "if op == '+':\n",
    "    res = add(n1,n2)\n",
    "elif op == '-':\n",
    "    res = sub(n1,n2)\n",
    "elif op == '*':\n",
    "    res = mult(n1,n2)\n",
    "elif op == '/':\n",
    "    res = div(n1,n2)\n",
    "elif op == '**':\n",
    "    res = exp(n1,n2)\n",
    "elif op == '%':\n",
    "    res = mod(n1,n2)\n",
    "elif op == '//':\n",
    "    res= flr(n1,n2)"
   ]
  },
  {
   "cell_type": "markdown",
   "id": "19859d1a",
   "metadata": {},
   "source": [
    "Finally, we print our results in a neat manner."
   ]
  },
  {
   "cell_type": "code",
   "execution_count": null,
   "id": "44185e18",
   "metadata": {},
   "outputs": [],
   "source": [
    "print(n1, op, n2, '=', res)"
   ]
  },
  {
   "cell_type": "markdown",
   "id": "bd022bfc",
   "metadata": {},
   "source": [
    "In the demonstration of classes in the introductory notebook, we called particular functions within the class.  However, since we are using the entire class, there's no need to call anything!\n",
    "\n",
    "Putting it all together:"
   ]
  },
  {
   "cell_type": "code",
   "execution_count": null,
   "id": "ba68e45d",
   "metadata": {},
   "outputs": [],
   "source": [
    "class Calculator:\n",
    "    \n",
    "    def add(n1,n2):\n",
    "        return n1 + n2\n",
    "    \n",
    "    def sub(n1,n2):\n",
    "        return n1 - n2\n",
    "    \n",
    "    def mul(n1,n2):\n",
    "        return n1 * n2\n",
    "    \n",
    "    def div(n1,n2):\n",
    "        return n1 / n2\n",
    "    \n",
    "    def exp(n1,n2):\n",
    "        return n1**n2\n",
    "    \n",
    "    def mod(n1,n2):\n",
    "        return n1 % n2\n",
    "    \n",
    "    def flr(n1,n2):\n",
    "        return n1 // n2\n",
    "    \n",
    "    print('''Available operations:\n",
    "            - Addition (+)\n",
    "            - Subtraction (-)\n",
    "            - Multiplication (*)\n",
    "            - Division (/)\n",
    "            - Exponential (**)\n",
    "            - Modulo (%)\n",
    "            - Floor division (//)''')\n",
    "    \n",
    "    n1 = int(input(\"Enter first number: \"))\n",
    "    n2 = int(input(\"Enter second number: \"))\n",
    "    op = input(\"Enter operation: \")\n",
    "    \n",
    "    res = 0\n",
    "    if op == '+':\n",
    "        res = add(n1,n2)\n",
    "    elif op == '-':\n",
    "        res = sub(n1,n2)\n",
    "    elif op == '*':\n",
    "        res = mult(n1,n2)\n",
    "    elif op == '/':\n",
    "        res = div(n1,n2)\n",
    "    elif op == '**':\n",
    "        res = exp(n1,n2)\n",
    "    elif op == '%':\n",
    "        res = mod(n1,n2)\n",
    "    elif op == '//':\n",
    "        res= flr(n1,n2)\n",
    "    \n",
    "    print(n1, op, n2, '=', res)"
   ]
  }
 ],
 "metadata": {
  "kernelspec": {
   "display_name": "Python 3 (ipykernel)",
   "language": "python",
   "name": "python3"
  },
  "language_info": {
   "codemirror_mode": {
    "name": "ipython",
    "version": 3
   },
   "file_extension": ".py",
   "mimetype": "text/x-python",
   "name": "python",
   "nbconvert_exporter": "python",
   "pygments_lexer": "ipython3",
   "version": "3.7.6"
  }
 },
 "nbformat": 4,
 "nbformat_minor": 5
}
